{
 "cells": [
  {
   "cell_type": "markdown",
   "metadata": {
    "colab_type": "text",
    "id": "-4Rm0wjQMUHi"
   },
   "source": [
    "# BUILDING A DEFUALT DETECTION MODEL\n",
    "\n",
    "---\n",
    "\n",
    "\n",
    "\n",
    "## Table of Contents\n",
    "1. Problem Description (Brief Write Up)\n",
    "2. Exploratory Data Analysis (EDA)\n",
    "3. Data Pre-processing\n",
    "4. Model Selection\n",
    "5. Evaluation\n",
    "6. Discussion and Possible Improvements\n",
    "\n",
    "## 1. Problem Description\n",
    "\n",
    "The data set we will be working on contains payment information of 30,000 credit card holders obtained from a bank in Taiwan. \n",
    "\n",
    "Each data sample is described by 23 feature attributes and a binary target feature (default or not) valued 0 (= not default) or 1 (= default). \n",
    "\n",
    "The 23 explanatory attributes and their explanations (from the data provider) are as follows:\n",
    "\n",
    "### X1 - X5: Indivual attributes of customer\n",
    "\n",
    "X1: Amount of the given credit (NT dollar): it includes both the individual consumer credit and his/her family (supplementary) credit. \n",
    "\n",
    "X2: Gender (1 = male; 2 = female). \n",
    "\n",
    "X3: Education (1 = graduate school; 2 = university; 3 = high school; 4 = others). \n",
    "\n",
    "X4: Marital status (1 = married; 2 = single; 3 = others). \n",
    "\n",
    "X5: Age (year). \n",
    "\n",
    "### X6 - X11: Repayment history from April to Septemeber 2005\n",
    "The measurement scale for the repayment status is: -1 = pay duly; 1 = payment delay for one month; 2 = payment delay for two months, . . . 8 = payment delay for eight months; 9 = payment delay for nine months and above.\n",
    "\n",
    "\n",
    "X6 = the repayment status in September, 2005\n",
    "\n",
    "X7 = the repayment status in August, 2005\n",
    "\n",
    "X8 = the repayment status in July, 2005\n",
    "\n",
    "X9 = the repayment status in June, 2005\n",
    "\n",
    "X10 = the repayment status in May, 2005\n",
    "\n",
    "X11 = the repayment status in April, 2005. \n",
    "\n",
    "### X12 - X17: Amount of bill statement (NT dollar) from April to September 2005\n",
    "\n",
    "X12 = amount of bill statement in September, 2005; \n",
    "\n",
    "X13 = amount of bill statement in August, 2005\n",
    "\n",
    ". . .\n",
    "\n",
    "X17 = amount of bill statement in April, 2005. \n",
    "\n",
    "### X18 - X23: Amount of previous payment (NT dollar)\n",
    "X18 = amount paid in September, 2005\n",
    "\n",
    "X19 = amount paid in August, 2005\n",
    "\n",
    ". . .\n",
    "\n",
    "X23 = amount paid in April, 2005. \n"
   ]
  },
  {
   "cell_type": "markdown",
   "metadata": {
    "colab_type": "text",
    "id": "aM_aIU6UPHe4"
   },
   "source": [
    "## EDA\n",
    "\n",
    "In this section we will explore the data set, its shape and its features to get an idea of the data.\n",
    "\n",
    "### Importing packages and the dataset"
   ]
  },
  {
   "cell_type": "code",
   "execution_count": 1,
   "metadata": {
    "colab": {},
    "colab_type": "code",
    "id": "Is0wEkk3LJCt"
   },
   "outputs": [],
   "source": [
    "import pandas as pd"
   ]
  },
  {
   "cell_type": "code",
   "execution_count": 2,
   "metadata": {
    "colab": {},
    "colab_type": "code",
    "id": "x_Z7u_9vRC5m"
   },
   "outputs": [],
   "source": [
    "import matplotlib.pyplot as plt\n",
    "import seaborn as sns"
   ]
  },
  {
   "cell_type": "code",
   "execution_count": 3,
   "metadata": {},
   "outputs": [],
   "source": [
    "import numpy as np"
   ]
  },
  {
   "cell_type": "code",
   "execution_count": 4,
   "metadata": {
    "colab": {},
    "colab_type": "code",
    "id": "KhmX9KWWyrUW"
   },
   "outputs": [],
   "source": [
    "url = 'https://raw.githubusercontent.com/reonho/bt2101disrudy/master/card.csv'\n",
    "df = pd.read_csv(url,  header = 1, index_col = 0)\n",
    "# Dataset is now stored in a Pandas Dataframe"
   ]
  },
  {
   "cell_type": "code",
   "execution_count": 5,
   "metadata": {
    "colab": {
     "base_uri": "https://localhost:8080/",
     "height": 255
    },
    "colab_type": "code",
    "id": "FhJ2eAxVQhBm",
    "outputId": "7f79bb40-f08f-4709-e7d4-1f747bb8af2f"
   },
   "outputs": [
    {
     "data": {
      "text/html": [
       "<div>\n",
       "<style scoped>\n",
       "    .dataframe tbody tr th:only-of-type {\n",
       "        vertical-align: middle;\n",
       "    }\n",
       "\n",
       "    .dataframe tbody tr th {\n",
       "        vertical-align: top;\n",
       "    }\n",
       "\n",
       "    .dataframe thead th {\n",
       "        text-align: right;\n",
       "    }\n",
       "</style>\n",
       "<table border=\"1\" class=\"dataframe\">\n",
       "  <thead>\n",
       "    <tr style=\"text-align: right;\">\n",
       "      <th></th>\n",
       "      <th>LIMIT_BAL</th>\n",
       "      <th>SEX</th>\n",
       "      <th>EDUCATION</th>\n",
       "      <th>MARRIAGE</th>\n",
       "      <th>AGE</th>\n",
       "      <th>PAY_0</th>\n",
       "      <th>PAY_2</th>\n",
       "      <th>PAY_3</th>\n",
       "      <th>PAY_4</th>\n",
       "      <th>PAY_5</th>\n",
       "      <th>...</th>\n",
       "      <th>BILL_AMT4</th>\n",
       "      <th>BILL_AMT5</th>\n",
       "      <th>BILL_AMT6</th>\n",
       "      <th>PAY_AMT1</th>\n",
       "      <th>PAY_AMT2</th>\n",
       "      <th>PAY_AMT3</th>\n",
       "      <th>PAY_AMT4</th>\n",
       "      <th>PAY_AMT5</th>\n",
       "      <th>PAY_AMT6</th>\n",
       "      <th>Y</th>\n",
       "    </tr>\n",
       "    <tr>\n",
       "      <th>ID</th>\n",
       "      <th></th>\n",
       "      <th></th>\n",
       "      <th></th>\n",
       "      <th></th>\n",
       "      <th></th>\n",
       "      <th></th>\n",
       "      <th></th>\n",
       "      <th></th>\n",
       "      <th></th>\n",
       "      <th></th>\n",
       "      <th></th>\n",
       "      <th></th>\n",
       "      <th></th>\n",
       "      <th></th>\n",
       "      <th></th>\n",
       "      <th></th>\n",
       "      <th></th>\n",
       "      <th></th>\n",
       "      <th></th>\n",
       "      <th></th>\n",
       "      <th></th>\n",
       "    </tr>\n",
       "  </thead>\n",
       "  <tbody>\n",
       "    <tr>\n",
       "      <td>1</td>\n",
       "      <td>20000</td>\n",
       "      <td>2</td>\n",
       "      <td>2</td>\n",
       "      <td>1</td>\n",
       "      <td>24</td>\n",
       "      <td>2</td>\n",
       "      <td>2</td>\n",
       "      <td>-1</td>\n",
       "      <td>-1</td>\n",
       "      <td>-2</td>\n",
       "      <td>...</td>\n",
       "      <td>0</td>\n",
       "      <td>0</td>\n",
       "      <td>0</td>\n",
       "      <td>0</td>\n",
       "      <td>689</td>\n",
       "      <td>0</td>\n",
       "      <td>0</td>\n",
       "      <td>0</td>\n",
       "      <td>0</td>\n",
       "      <td>1</td>\n",
       "    </tr>\n",
       "    <tr>\n",
       "      <td>2</td>\n",
       "      <td>120000</td>\n",
       "      <td>2</td>\n",
       "      <td>2</td>\n",
       "      <td>2</td>\n",
       "      <td>26</td>\n",
       "      <td>-1</td>\n",
       "      <td>2</td>\n",
       "      <td>0</td>\n",
       "      <td>0</td>\n",
       "      <td>0</td>\n",
       "      <td>...</td>\n",
       "      <td>3272</td>\n",
       "      <td>3455</td>\n",
       "      <td>3261</td>\n",
       "      <td>0</td>\n",
       "      <td>1000</td>\n",
       "      <td>1000</td>\n",
       "      <td>1000</td>\n",
       "      <td>0</td>\n",
       "      <td>2000</td>\n",
       "      <td>1</td>\n",
       "    </tr>\n",
       "    <tr>\n",
       "      <td>3</td>\n",
       "      <td>90000</td>\n",
       "      <td>2</td>\n",
       "      <td>2</td>\n",
       "      <td>2</td>\n",
       "      <td>34</td>\n",
       "      <td>0</td>\n",
       "      <td>0</td>\n",
       "      <td>0</td>\n",
       "      <td>0</td>\n",
       "      <td>0</td>\n",
       "      <td>...</td>\n",
       "      <td>14331</td>\n",
       "      <td>14948</td>\n",
       "      <td>15549</td>\n",
       "      <td>1518</td>\n",
       "      <td>1500</td>\n",
       "      <td>1000</td>\n",
       "      <td>1000</td>\n",
       "      <td>1000</td>\n",
       "      <td>5000</td>\n",
       "      <td>0</td>\n",
       "    </tr>\n",
       "    <tr>\n",
       "      <td>4</td>\n",
       "      <td>50000</td>\n",
       "      <td>2</td>\n",
       "      <td>2</td>\n",
       "      <td>1</td>\n",
       "      <td>37</td>\n",
       "      <td>0</td>\n",
       "      <td>0</td>\n",
       "      <td>0</td>\n",
       "      <td>0</td>\n",
       "      <td>0</td>\n",
       "      <td>...</td>\n",
       "      <td>28314</td>\n",
       "      <td>28959</td>\n",
       "      <td>29547</td>\n",
       "      <td>2000</td>\n",
       "      <td>2019</td>\n",
       "      <td>1200</td>\n",
       "      <td>1100</td>\n",
       "      <td>1069</td>\n",
       "      <td>1000</td>\n",
       "      <td>0</td>\n",
       "    </tr>\n",
       "    <tr>\n",
       "      <td>5</td>\n",
       "      <td>50000</td>\n",
       "      <td>1</td>\n",
       "      <td>2</td>\n",
       "      <td>1</td>\n",
       "      <td>57</td>\n",
       "      <td>-1</td>\n",
       "      <td>0</td>\n",
       "      <td>-1</td>\n",
       "      <td>0</td>\n",
       "      <td>0</td>\n",
       "      <td>...</td>\n",
       "      <td>20940</td>\n",
       "      <td>19146</td>\n",
       "      <td>19131</td>\n",
       "      <td>2000</td>\n",
       "      <td>36681</td>\n",
       "      <td>10000</td>\n",
       "      <td>9000</td>\n",
       "      <td>689</td>\n",
       "      <td>679</td>\n",
       "      <td>0</td>\n",
       "    </tr>\n",
       "  </tbody>\n",
       "</table>\n",
       "<p>5 rows × 24 columns</p>\n",
       "</div>"
      ],
      "text/plain": [
       "    LIMIT_BAL  SEX  EDUCATION  MARRIAGE  AGE  PAY_0  PAY_2  PAY_3  PAY_4  \\\n",
       "ID                                                                         \n",
       "1       20000    2          2         1   24      2      2     -1     -1   \n",
       "2      120000    2          2         2   26     -1      2      0      0   \n",
       "3       90000    2          2         2   34      0      0      0      0   \n",
       "4       50000    2          2         1   37      0      0      0      0   \n",
       "5       50000    1          2         1   57     -1      0     -1      0   \n",
       "\n",
       "    PAY_5  ...  BILL_AMT4  BILL_AMT5  BILL_AMT6  PAY_AMT1  PAY_AMT2  PAY_AMT3  \\\n",
       "ID         ...                                                                  \n",
       "1      -2  ...          0          0          0         0       689         0   \n",
       "2       0  ...       3272       3455       3261         0      1000      1000   \n",
       "3       0  ...      14331      14948      15549      1518      1500      1000   \n",
       "4       0  ...      28314      28959      29547      2000      2019      1200   \n",
       "5       0  ...      20940      19146      19131      2000     36681     10000   \n",
       "\n",
       "    PAY_AMT4  PAY_AMT5  PAY_AMT6  Y  \n",
       "ID                                   \n",
       "1          0         0         0  1  \n",
       "2       1000         0      2000  1  \n",
       "3       1000      1000      5000  0  \n",
       "4       1100      1069      1000  0  \n",
       "5       9000       689       679  0  \n",
       "\n",
       "[5 rows x 24 columns]"
      ]
     },
     "execution_count": 5,
     "metadata": {},
     "output_type": "execute_result"
    }
   ],
   "source": [
    "#rename the target variable to \"Y\" for convenience\n",
    "df[\"Y\"] = df[\"default payment next month\"] \n",
    "df = df.drop(\"default payment next month\", axis = 1)\n",
    "df0 = df #backup of df\n",
    "df.head()"
   ]
  },
  {
   "cell_type": "code",
   "execution_count": 6,
   "metadata": {
    "colab": {
     "base_uri": "https://localhost:8080/",
     "height": 34
    },
    "colab_type": "code",
    "id": "zcuPyfM86AKj",
    "outputId": "89bb2e37-a3ba-43e5-99a7-6917f24acc3f"
   },
   "outputs": [
    {
     "name": "stdout",
     "output_type": "stream",
     "text": [
      "Data has 24 Columns and 30000 Rows\n"
     ]
    }
   ],
   "source": [
    "size = df.shape\n",
    "print(\"Data has {} Columns and {} Rows\".format(size[1], size[0]))"
   ]
  },
  {
   "cell_type": "code",
   "execution_count": 7,
   "metadata": {
    "colab": {
     "base_uri": "https://localhost:8080/",
     "height": 34
    },
    "colab_type": "code",
    "id": "QVaSnvJP3VbO",
    "outputId": "4bf72e64-2d0c-41c3-85b5-3bd6e70920d3"
   },
   "outputs": [
    {
     "data": {
      "text/plain": [
       "0"
      ]
     },
     "execution_count": 7,
     "metadata": {},
     "output_type": "execute_result"
    }
   ],
   "source": [
    "#check for null values\n",
    "df.isnull().any().sum() "
   ]
  },
  {
   "cell_type": "markdown",
   "metadata": {
    "colab_type": "text",
    "id": "eVYXnIGH9Zq6"
   },
   "source": [
    "There are no null values in the data.\n",
    "\n",
    "We can also calculate some summary statistics for each attribute."
   ]
  },
  {
   "cell_type": "code",
   "execution_count": 8,
   "metadata": {
    "colab": {
     "base_uri": "https://localhost:8080/",
     "height": 317
    },
    "colab_type": "code",
    "id": "HgdgYfpR6hUM",
    "outputId": "0e6655d1-3872-448d-864b-786a54b7cf70"
   },
   "outputs": [
    {
     "data": {
      "text/html": [
       "<div>\n",
       "<style scoped>\n",
       "    .dataframe tbody tr th:only-of-type {\n",
       "        vertical-align: middle;\n",
       "    }\n",
       "\n",
       "    .dataframe tbody tr th {\n",
       "        vertical-align: top;\n",
       "    }\n",
       "\n",
       "    .dataframe thead th {\n",
       "        text-align: right;\n",
       "    }\n",
       "</style>\n",
       "<table border=\"1\" class=\"dataframe\">\n",
       "  <thead>\n",
       "    <tr style=\"text-align: right;\">\n",
       "      <th></th>\n",
       "      <th>LIMIT_BAL</th>\n",
       "      <th>SEX</th>\n",
       "      <th>EDUCATION</th>\n",
       "      <th>MARRIAGE</th>\n",
       "      <th>AGE</th>\n",
       "      <th>PAY_0</th>\n",
       "      <th>PAY_2</th>\n",
       "      <th>PAY_3</th>\n",
       "      <th>PAY_4</th>\n",
       "      <th>PAY_5</th>\n",
       "      <th>...</th>\n",
       "      <th>BILL_AMT4</th>\n",
       "      <th>BILL_AMT5</th>\n",
       "      <th>BILL_AMT6</th>\n",
       "      <th>PAY_AMT1</th>\n",
       "      <th>PAY_AMT2</th>\n",
       "      <th>PAY_AMT3</th>\n",
       "      <th>PAY_AMT4</th>\n",
       "      <th>PAY_AMT5</th>\n",
       "      <th>PAY_AMT6</th>\n",
       "      <th>Y</th>\n",
       "    </tr>\n",
       "  </thead>\n",
       "  <tbody>\n",
       "    <tr>\n",
       "      <td>count</td>\n",
       "      <td>30000.000000</td>\n",
       "      <td>30000.000000</td>\n",
       "      <td>30000.000000</td>\n",
       "      <td>30000.000000</td>\n",
       "      <td>30000.000000</td>\n",
       "      <td>30000.000000</td>\n",
       "      <td>30000.000000</td>\n",
       "      <td>30000.000000</td>\n",
       "      <td>30000.000000</td>\n",
       "      <td>30000.000000</td>\n",
       "      <td>...</td>\n",
       "      <td>30000.000000</td>\n",
       "      <td>30000.000000</td>\n",
       "      <td>30000.000000</td>\n",
       "      <td>30000.000000</td>\n",
       "      <td>3.000000e+04</td>\n",
       "      <td>30000.00000</td>\n",
       "      <td>30000.000000</td>\n",
       "      <td>30000.000000</td>\n",
       "      <td>30000.000000</td>\n",
       "      <td>30000.000000</td>\n",
       "    </tr>\n",
       "    <tr>\n",
       "      <td>mean</td>\n",
       "      <td>167484.322667</td>\n",
       "      <td>1.603733</td>\n",
       "      <td>1.853133</td>\n",
       "      <td>1.551867</td>\n",
       "      <td>35.485500</td>\n",
       "      <td>-0.016700</td>\n",
       "      <td>-0.133767</td>\n",
       "      <td>-0.166200</td>\n",
       "      <td>-0.220667</td>\n",
       "      <td>-0.266200</td>\n",
       "      <td>...</td>\n",
       "      <td>43262.948967</td>\n",
       "      <td>40311.400967</td>\n",
       "      <td>38871.760400</td>\n",
       "      <td>5663.580500</td>\n",
       "      <td>5.921163e+03</td>\n",
       "      <td>5225.68150</td>\n",
       "      <td>4826.076867</td>\n",
       "      <td>4799.387633</td>\n",
       "      <td>5215.502567</td>\n",
       "      <td>0.221200</td>\n",
       "    </tr>\n",
       "    <tr>\n",
       "      <td>std</td>\n",
       "      <td>129747.661567</td>\n",
       "      <td>0.489129</td>\n",
       "      <td>0.790349</td>\n",
       "      <td>0.521970</td>\n",
       "      <td>9.217904</td>\n",
       "      <td>1.123802</td>\n",
       "      <td>1.197186</td>\n",
       "      <td>1.196868</td>\n",
       "      <td>1.169139</td>\n",
       "      <td>1.133187</td>\n",
       "      <td>...</td>\n",
       "      <td>64332.856134</td>\n",
       "      <td>60797.155770</td>\n",
       "      <td>59554.107537</td>\n",
       "      <td>16563.280354</td>\n",
       "      <td>2.304087e+04</td>\n",
       "      <td>17606.96147</td>\n",
       "      <td>15666.159744</td>\n",
       "      <td>15278.305679</td>\n",
       "      <td>17777.465775</td>\n",
       "      <td>0.415062</td>\n",
       "    </tr>\n",
       "    <tr>\n",
       "      <td>min</td>\n",
       "      <td>10000.000000</td>\n",
       "      <td>1.000000</td>\n",
       "      <td>0.000000</td>\n",
       "      <td>0.000000</td>\n",
       "      <td>21.000000</td>\n",
       "      <td>-2.000000</td>\n",
       "      <td>-2.000000</td>\n",
       "      <td>-2.000000</td>\n",
       "      <td>-2.000000</td>\n",
       "      <td>-2.000000</td>\n",
       "      <td>...</td>\n",
       "      <td>-170000.000000</td>\n",
       "      <td>-81334.000000</td>\n",
       "      <td>-339603.000000</td>\n",
       "      <td>0.000000</td>\n",
       "      <td>0.000000e+00</td>\n",
       "      <td>0.00000</td>\n",
       "      <td>0.000000</td>\n",
       "      <td>0.000000</td>\n",
       "      <td>0.000000</td>\n",
       "      <td>0.000000</td>\n",
       "    </tr>\n",
       "    <tr>\n",
       "      <td>25%</td>\n",
       "      <td>50000.000000</td>\n",
       "      <td>1.000000</td>\n",
       "      <td>1.000000</td>\n",
       "      <td>1.000000</td>\n",
       "      <td>28.000000</td>\n",
       "      <td>-1.000000</td>\n",
       "      <td>-1.000000</td>\n",
       "      <td>-1.000000</td>\n",
       "      <td>-1.000000</td>\n",
       "      <td>-1.000000</td>\n",
       "      <td>...</td>\n",
       "      <td>2326.750000</td>\n",
       "      <td>1763.000000</td>\n",
       "      <td>1256.000000</td>\n",
       "      <td>1000.000000</td>\n",
       "      <td>8.330000e+02</td>\n",
       "      <td>390.00000</td>\n",
       "      <td>296.000000</td>\n",
       "      <td>252.500000</td>\n",
       "      <td>117.750000</td>\n",
       "      <td>0.000000</td>\n",
       "    </tr>\n",
       "    <tr>\n",
       "      <td>50%</td>\n",
       "      <td>140000.000000</td>\n",
       "      <td>2.000000</td>\n",
       "      <td>2.000000</td>\n",
       "      <td>2.000000</td>\n",
       "      <td>34.000000</td>\n",
       "      <td>0.000000</td>\n",
       "      <td>0.000000</td>\n",
       "      <td>0.000000</td>\n",
       "      <td>0.000000</td>\n",
       "      <td>0.000000</td>\n",
       "      <td>...</td>\n",
       "      <td>19052.000000</td>\n",
       "      <td>18104.500000</td>\n",
       "      <td>17071.000000</td>\n",
       "      <td>2100.000000</td>\n",
       "      <td>2.009000e+03</td>\n",
       "      <td>1800.00000</td>\n",
       "      <td>1500.000000</td>\n",
       "      <td>1500.000000</td>\n",
       "      <td>1500.000000</td>\n",
       "      <td>0.000000</td>\n",
       "    </tr>\n",
       "    <tr>\n",
       "      <td>75%</td>\n",
       "      <td>240000.000000</td>\n",
       "      <td>2.000000</td>\n",
       "      <td>2.000000</td>\n",
       "      <td>2.000000</td>\n",
       "      <td>41.000000</td>\n",
       "      <td>0.000000</td>\n",
       "      <td>0.000000</td>\n",
       "      <td>0.000000</td>\n",
       "      <td>0.000000</td>\n",
       "      <td>0.000000</td>\n",
       "      <td>...</td>\n",
       "      <td>54506.000000</td>\n",
       "      <td>50190.500000</td>\n",
       "      <td>49198.250000</td>\n",
       "      <td>5006.000000</td>\n",
       "      <td>5.000000e+03</td>\n",
       "      <td>4505.00000</td>\n",
       "      <td>4013.250000</td>\n",
       "      <td>4031.500000</td>\n",
       "      <td>4000.000000</td>\n",
       "      <td>0.000000</td>\n",
       "    </tr>\n",
       "    <tr>\n",
       "      <td>max</td>\n",
       "      <td>1000000.000000</td>\n",
       "      <td>2.000000</td>\n",
       "      <td>6.000000</td>\n",
       "      <td>3.000000</td>\n",
       "      <td>79.000000</td>\n",
       "      <td>8.000000</td>\n",
       "      <td>8.000000</td>\n",
       "      <td>8.000000</td>\n",
       "      <td>8.000000</td>\n",
       "      <td>8.000000</td>\n",
       "      <td>...</td>\n",
       "      <td>891586.000000</td>\n",
       "      <td>927171.000000</td>\n",
       "      <td>961664.000000</td>\n",
       "      <td>873552.000000</td>\n",
       "      <td>1.684259e+06</td>\n",
       "      <td>896040.00000</td>\n",
       "      <td>621000.000000</td>\n",
       "      <td>426529.000000</td>\n",
       "      <td>528666.000000</td>\n",
       "      <td>1.000000</td>\n",
       "    </tr>\n",
       "  </tbody>\n",
       "</table>\n",
       "<p>8 rows × 24 columns</p>\n",
       "</div>"
      ],
      "text/plain": [
       "            LIMIT_BAL           SEX     EDUCATION      MARRIAGE           AGE  \\\n",
       "count    30000.000000  30000.000000  30000.000000  30000.000000  30000.000000   \n",
       "mean    167484.322667      1.603733      1.853133      1.551867     35.485500   \n",
       "std     129747.661567      0.489129      0.790349      0.521970      9.217904   \n",
       "min      10000.000000      1.000000      0.000000      0.000000     21.000000   \n",
       "25%      50000.000000      1.000000      1.000000      1.000000     28.000000   \n",
       "50%     140000.000000      2.000000      2.000000      2.000000     34.000000   \n",
       "75%     240000.000000      2.000000      2.000000      2.000000     41.000000   \n",
       "max    1000000.000000      2.000000      6.000000      3.000000     79.000000   \n",
       "\n",
       "              PAY_0         PAY_2         PAY_3         PAY_4         PAY_5  \\\n",
       "count  30000.000000  30000.000000  30000.000000  30000.000000  30000.000000   \n",
       "mean      -0.016700     -0.133767     -0.166200     -0.220667     -0.266200   \n",
       "std        1.123802      1.197186      1.196868      1.169139      1.133187   \n",
       "min       -2.000000     -2.000000     -2.000000     -2.000000     -2.000000   \n",
       "25%       -1.000000     -1.000000     -1.000000     -1.000000     -1.000000   \n",
       "50%        0.000000      0.000000      0.000000      0.000000      0.000000   \n",
       "75%        0.000000      0.000000      0.000000      0.000000      0.000000   \n",
       "max        8.000000      8.000000      8.000000      8.000000      8.000000   \n",
       "\n",
       "       ...      BILL_AMT4      BILL_AMT5      BILL_AMT6       PAY_AMT1  \\\n",
       "count  ...   30000.000000   30000.000000   30000.000000   30000.000000   \n",
       "mean   ...   43262.948967   40311.400967   38871.760400    5663.580500   \n",
       "std    ...   64332.856134   60797.155770   59554.107537   16563.280354   \n",
       "min    ... -170000.000000  -81334.000000 -339603.000000       0.000000   \n",
       "25%    ...    2326.750000    1763.000000    1256.000000    1000.000000   \n",
       "50%    ...   19052.000000   18104.500000   17071.000000    2100.000000   \n",
       "75%    ...   54506.000000   50190.500000   49198.250000    5006.000000   \n",
       "max    ...  891586.000000  927171.000000  961664.000000  873552.000000   \n",
       "\n",
       "           PAY_AMT2      PAY_AMT3       PAY_AMT4       PAY_AMT5  \\\n",
       "count  3.000000e+04   30000.00000   30000.000000   30000.000000   \n",
       "mean   5.921163e+03    5225.68150    4826.076867    4799.387633   \n",
       "std    2.304087e+04   17606.96147   15666.159744   15278.305679   \n",
       "min    0.000000e+00       0.00000       0.000000       0.000000   \n",
       "25%    8.330000e+02     390.00000     296.000000     252.500000   \n",
       "50%    2.009000e+03    1800.00000    1500.000000    1500.000000   \n",
       "75%    5.000000e+03    4505.00000    4013.250000    4031.500000   \n",
       "max    1.684259e+06  896040.00000  621000.000000  426529.000000   \n",
       "\n",
       "            PAY_AMT6             Y  \n",
       "count   30000.000000  30000.000000  \n",
       "mean     5215.502567      0.221200  \n",
       "std     17777.465775      0.415062  \n",
       "min         0.000000      0.000000  \n",
       "25%       117.750000      0.000000  \n",
       "50%      1500.000000      0.000000  \n",
       "75%      4000.000000      0.000000  \n",
       "max    528666.000000      1.000000  \n",
       "\n",
       "[8 rows x 24 columns]"
      ]
     },
     "execution_count": 8,
     "metadata": {},
     "output_type": "execute_result"
    }
   ],
   "source": [
    "df.describe()"
   ]
  },
  {
   "cell_type": "markdown",
   "metadata": {
    "colab_type": "text",
    "id": "W6hhPNl1Slau"
   },
   "source": [
    "### Exploring the features"
   ]
  },
  {
   "cell_type": "markdown",
   "metadata": {
    "colab_type": "text",
    "id": "1Sp2F3gzXX2F"
   },
   "source": [
    "**1) Exploring target attribute:**\n"
   ]
  },
  {
   "cell_type": "code",
   "execution_count": 9,
   "metadata": {
    "colab": {
     "base_uri": "https://localhost:8080/",
     "height": 51
    },
    "colab_type": "code",
    "id": "DCSEICWwXWgX",
    "outputId": "9545da56-f31b-48f2-a271-db0e18677beb"
   },
   "outputs": [
    {
     "name": "stdout",
     "output_type": "stream",
     "text": [
      "defaults : 22.12 %\n",
      "non defaults : 77.88000000000001 %\n"
     ]
    }
   ],
   "source": [
    "All = df.shape[0]\n",
    "default = df[df['Y'] == 1]\n",
    "nondefault = df[df['Y'] == 0]\n",
    "\n",
    "x = len(default)/All\n",
    "y = len(nondefault)/All\n",
    "\n",
    "print('defaults :',x*100,'%')\n",
    "print('non defaults :',y*100,'%')"
   ]
  },
  {
   "cell_type": "code",
   "execution_count": 10,
   "metadata": {
    "colab": {
     "base_uri": "https://localhost:8080/",
     "height": 312
    },
    "colab_type": "code",
    "id": "W4TWo-gkYTql",
    "outputId": "0f7d6129-f6f2-448a-9236-9f9ef7ae1bb4"
   },
   "outputs": [
    {
     "data": {
      "text/plain": [
       "Text(0, 0.5, 'Frequency')"
      ]
     },
     "execution_count": 10,
     "metadata": {},
     "output_type": "execute_result"
    },
    {
     "data": {
      "image/png": "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\n",
      "text/plain": [
       "<Figure size 432x288 with 1 Axes>"
      ]
     },
     "metadata": {
      "needs_background": "light"
     },
     "output_type": "display_data"
    }
   ],
   "source": [
    "# plotting target attribute against frequency\n",
    "labels = ['non default','default']\n",
    "classes = pd.value_counts(df['Y'], sort = True)\n",
    "classes.plot(kind = 'bar', rot=0)\n",
    "plt.title(\"Target attribute distribution\")\n",
    "plt.xticks(range(2), labels)\n",
    "plt.xlabel(\"Class\")\n",
    "plt.ylabel(\"Frequency\")"
   ]
  },
  {
   "cell_type": "markdown",
   "metadata": {
    "colab_type": "text",
    "id": "tysR0WHw4SGU"
   },
   "source": [
    "**2) Exploring categorical attributes**\n",
    "\n",
    "Categorical attributes are:\n",
    "- Sex\n",
    "- Education\n",
    "- Marriage"
   ]
  },
  {
   "cell_type": "markdown",
   "metadata": {
    "colab_type": "text",
    "id": "oxsZ8GTGarMC"
   },
   "source": [
    "**2a) Checking formatting for categorical attributes:**\n",
    "\n",
    "Since all categorical attributes are in numerical format, there is no need to convert them into numerical factors."
   ]
  },
  {
   "cell_type": "markdown",
   "metadata": {
    "colab_type": "text",
    "id": "TSiH-BxjyJ_e"
   },
   "source": [
    "**2b) Analysis of categorical data groups**\n",
    "\n",
    "- Sex\n",
    "- Education\n",
    "- Marriage"
   ]
  },
  {
   "cell_type": "code",
   "execution_count": 11,
   "metadata": {
    "colab": {
     "base_uri": "https://localhost:8080/",
     "height": 323
    },
    "colab_type": "code",
    "id": "s61SSRII00UB",
    "outputId": "69df981f-8c36-43a9-d155-a6553adbba0b"
   },
   "outputs": [
    {
     "name": "stdout",
     "output_type": "stream",
     "text": [
      "2    60.373333\n",
      "1    39.626667\n",
      "Name: SEX, dtype: float64\n",
      "--------------------------------------------------------\n",
      "2    46.766667\n",
      "1    35.283333\n",
      "3    16.390000\n",
      "5     0.933333\n",
      "4     0.410000\n",
      "6     0.170000\n",
      "0     0.046667\n",
      "Name: EDUCATION, dtype: float64\n",
      "--------------------------------------------------------\n",
      "2    53.213333\n",
      "1    45.530000\n",
      "3     1.076667\n",
      "0     0.180000\n",
      "Name: MARRIAGE, dtype: float64\n"
     ]
    }
   ],
   "source": [
    "print(df[\"SEX\"].value_counts().apply(lambda r: r/All*100))\n",
    "print(\"--------------------------------------------------------\")\n",
    "print(df[\"EDUCATION\"].value_counts().apply(lambda r: r/All*100))\n",
    "print(\"--------------------------------------------------------\")\n",
    "print(df[\"MARRIAGE\"].value_counts().apply(lambda r: r/All*100))"
   ]
  },
  {
   "cell_type": "markdown",
   "metadata": {
    "colab_type": "text",
    "id": "Uudv5XE828nb"
   },
   "source": [
    "**Conclusion**\n",
    "\n",
    "- Categorical variable SEX does not seem to have any missing/extra groups, and it is separated into Male = 1 and Female = 2\n",
    "- Categorical variable MARRIAGE seems to have unknown group = 0, which could be assumed to be missing data, with other groups being Married = 1, Single = 2, Others = 3\n",
    "- Categorical variable EDUCATION seems to have unknown group = 0,5,6, with other groups being graduate school = 1, university = 2, high school = 3, others = 4 "
   ]
  },
  {
   "cell_type": "markdown",
   "metadata": {
    "colab_type": "text",
    "id": "Z92LGXPKetjL"
   },
   "source": [
    "**2c) Analysing the relationship between categorical attributes and default payment (target attribute)**\n",
    "\n",
    "- Sex\n",
    "- Education\n",
    "- Marriage\n",
    "\n"
   ]
  },
  {
   "cell_type": "code",
   "execution_count": 12,
   "metadata": {
    "colab": {
     "base_uri": "https://localhost:8080/",
     "height": 357
    },
    "colab_type": "code",
    "id": "U3IJzhwwe5KK",
    "outputId": "cb61e112-a3ec-4a37-c1a0-0ffc9ebcbf89"
   },
   "outputs": [
    {
     "name": "stdout",
     "output_type": "stream",
     "text": [
      "Total target attributes:\n",
      "non defaults : 77.88000000000001 %\n",
      "defaults : 22.12 %\n",
      "--------------------------------------------------------\n",
      "SEX                Male     Female\n",
      "Y                                 \n",
      "non defaults  75.832773  79.223719\n",
      "defaults      24.167227  20.776281\n",
      "--------------------------------------------------------\n",
      "EDUCATION         0          1          2          3          4          5  \\\n",
      "Y                                                                            \n",
      "non defaults  100.0  80.765234  76.265146  74.842384  94.308943  93.571429   \n",
      "defaults        0.0  19.234766  23.734854  25.157616   5.691057   6.428571   \n",
      "\n",
      "EDUCATION             6  \n",
      "Y                        \n",
      "non defaults  84.313725  \n",
      "defaults      15.686275  \n",
      "--------------------------------------------------------\n",
      "MARRIAGE        unknown    married     single     others\n",
      "Y                                                       \n",
      "non defaults  90.740741  76.528296  79.071661  73.993808\n",
      "defaults       9.259259  23.471704  20.928339  26.006192\n"
     ]
    }
   ],
   "source": [
    "#proportion of target attribute (for reference)\n",
    "print('Total target attributes:')\n",
    "print('non defaults :',y*100,'%')\n",
    "print('defaults :',x*100,'%')\n",
    "print(\"--------------------------------------------------------\")\n",
    "#analysing default payment with Sex\n",
    "sex_target = pd.crosstab(df[\"Y\"], df[\"SEX\"]).apply(lambda r: r/r.sum()*100).rename(columns = {1: \"Male\", 2: \"Female\"}, index = {0: \"non defaults\", 1: \"defaults\"})\n",
    "print(sex_target)\n",
    "print(\"--------------------------------------------------------\")\n",
    "#analysing default payment with education\n",
    "education_target = pd.crosstab(df[\"Y\"], df[\"EDUCATION\"]).apply(lambda r: r/r.sum()*100).rename(index = {0: \"non defaults\", 1: \"defaults\"})\n",
    "print(education_target)\n",
    "print(\"--------------------------------------------------------\")\n",
    "#analysing default payment with marriage\n",
    "marriage_target = pd.crosstab(df[\"Y\"], df[\"MARRIAGE\"]).apply(lambda r: r/r.sum()*100).rename(columns = {0: \"unknown\",1: \"married\", 2: \"single\", 3: \"others\"},index = {0: \"non defaults\", 1: \"defaults\"})\n",
    "print(marriage_target)"
   ]
  },
  {
   "cell_type": "code",
   "execution_count": 13,
   "metadata": {
    "colab": {
     "base_uri": "https://localhost:8080/",
     "height": 68
    },
    "colab_type": "code",
    "id": "apWUtjyHPWcE",
    "outputId": "a7e40c77-64d1-4ef3-f31c-b7d1b7f24878"
   },
   "outputs": [
    {
     "name": "stdout",
     "output_type": "stream",
     "text": [
      "SEX: 0.6854422910010494\n",
      "EDUCATION: 1.0276815835411287e-08 *** [Significant at the 95% Level]\n",
      "MARRIAGE: 0.016161318279331434 *** [Significant at the 95% Level]\n"
     ]
    }
   ],
   "source": [
    "# we would like to conduct a chi square test of independence using the contingency tables above\n",
    "import scipy.stats as sp_stat\n",
    "\n",
    "def sigf(p, confidence):\n",
    "  return str(p) + \" *** [Significant at the \" + str(int(confidence*100)) + \"% Level]\" if p < 1-confidence else p\n",
    "\n",
    "#print the p values for the test statistic of each chi-sq test\n",
    "print(\"SEX:\", sigf(sp_stat.chi2_contingency(sex_target)[1], 0.95))\n",
    "print(\"EDUCATION:\", sigf(sp_stat.chi2_contingency(education_target)[1],0.95))\n",
    "print(\"MARRIAGE:\", sigf(sp_stat.chi2_contingency(marriage_target)[1],0.95))"
   ]
  },
  {
   "cell_type": "markdown",
   "metadata": {
    "colab_type": "text",
    "id": "kOriUQ0wxbhD"
   },
   "source": [
    "**Conclusion**\n",
    "\n",
    "Categorical attributes EDUCATION and MARRIAGE are associated with the target variable.\n",
    "\n",
    "We will probably omit SEX from our models as it is statistically insignificant.\n",
    "\n",
    "Categorical attributes SEX and MARRIAGE have approximately uniform distributions throughout categories."
   ]
  },
  {
   "cell_type": "markdown",
   "metadata": {
    "colab_type": "text",
    "id": "77GAylGWnPJO"
   },
   "source": [
    "**3) Analysis of Numerical Attributes**\n",
    "\n",
    "The numerical attributes are:\n",
    "   \n",
    "\n",
    "\n"
   ]
  },
  {
   "cell_type": "code",
   "execution_count": 14,
   "metadata": {
    "colab": {
     "base_uri": "https://localhost:8080/",
     "height": 669
    },
    "colab_type": "code",
    "id": "HEcCl5Rj-N0T",
    "outputId": "a59f7092-366e-47ec-c67b-e18f02d84ac4"
   },
   "outputs": [
    {
     "data": {
      "text/html": [
       "<div>\n",
       "<style scoped>\n",
       "    .dataframe tbody tr th:only-of-type {\n",
       "        vertical-align: middle;\n",
       "    }\n",
       "\n",
       "    .dataframe tbody tr th {\n",
       "        vertical-align: top;\n",
       "    }\n",
       "\n",
       "    .dataframe thead th {\n",
       "        text-align: right;\n",
       "    }\n",
       "</style>\n",
       "<table border=\"1\" class=\"dataframe\">\n",
       "  <thead>\n",
       "    <tr style=\"text-align: right;\">\n",
       "      <th></th>\n",
       "      <th>0</th>\n",
       "    </tr>\n",
       "  </thead>\n",
       "  <tbody>\n",
       "    <tr>\n",
       "      <td>0</td>\n",
       "      <td>LIMIT_BAL</td>\n",
       "    </tr>\n",
       "    <tr>\n",
       "      <td>1</td>\n",
       "      <td>AGE</td>\n",
       "    </tr>\n",
       "    <tr>\n",
       "      <td>2</td>\n",
       "      <td>PAY_0</td>\n",
       "    </tr>\n",
       "    <tr>\n",
       "      <td>3</td>\n",
       "      <td>PAY_2</td>\n",
       "    </tr>\n",
       "    <tr>\n",
       "      <td>4</td>\n",
       "      <td>PAY_3</td>\n",
       "    </tr>\n",
       "    <tr>\n",
       "      <td>5</td>\n",
       "      <td>PAY_4</td>\n",
       "    </tr>\n",
       "    <tr>\n",
       "      <td>6</td>\n",
       "      <td>PAY_5</td>\n",
       "    </tr>\n",
       "    <tr>\n",
       "      <td>7</td>\n",
       "      <td>PAY_6</td>\n",
       "    </tr>\n",
       "    <tr>\n",
       "      <td>8</td>\n",
       "      <td>BILL_AMT1</td>\n",
       "    </tr>\n",
       "    <tr>\n",
       "      <td>9</td>\n",
       "      <td>BILL_AMT2</td>\n",
       "    </tr>\n",
       "    <tr>\n",
       "      <td>10</td>\n",
       "      <td>BILL_AMT3</td>\n",
       "    </tr>\n",
       "    <tr>\n",
       "      <td>11</td>\n",
       "      <td>BILL_AMT4</td>\n",
       "    </tr>\n",
       "    <tr>\n",
       "      <td>12</td>\n",
       "      <td>BILL_AMT5</td>\n",
       "    </tr>\n",
       "    <tr>\n",
       "      <td>13</td>\n",
       "      <td>BILL_AMT6</td>\n",
       "    </tr>\n",
       "    <tr>\n",
       "      <td>14</td>\n",
       "      <td>PAY_AMT1</td>\n",
       "    </tr>\n",
       "    <tr>\n",
       "      <td>15</td>\n",
       "      <td>PAY_AMT2</td>\n",
       "    </tr>\n",
       "    <tr>\n",
       "      <td>16</td>\n",
       "      <td>PAY_AMT3</td>\n",
       "    </tr>\n",
       "    <tr>\n",
       "      <td>17</td>\n",
       "      <td>PAY_AMT4</td>\n",
       "    </tr>\n",
       "    <tr>\n",
       "      <td>18</td>\n",
       "      <td>PAY_AMT5</td>\n",
       "    </tr>\n",
       "    <tr>\n",
       "      <td>19</td>\n",
       "      <td>PAY_AMT6</td>\n",
       "    </tr>\n",
       "  </tbody>\n",
       "</table>\n",
       "</div>"
      ],
      "text/plain": [
       "            0\n",
       "0   LIMIT_BAL\n",
       "1         AGE\n",
       "2       PAY_0\n",
       "3       PAY_2\n",
       "4       PAY_3\n",
       "5       PAY_4\n",
       "6       PAY_5\n",
       "7       PAY_6\n",
       "8   BILL_AMT1\n",
       "9   BILL_AMT2\n",
       "10  BILL_AMT3\n",
       "11  BILL_AMT4\n",
       "12  BILL_AMT5\n",
       "13  BILL_AMT6\n",
       "14   PAY_AMT1\n",
       "15   PAY_AMT2\n",
       "16   PAY_AMT3\n",
       "17   PAY_AMT4\n",
       "18   PAY_AMT5\n",
       "19   PAY_AMT6"
      ]
     },
     "execution_count": 14,
     "metadata": {},
     "output_type": "execute_result"
    }
   ],
   "source": [
    "#printing numerical attributes\n",
    "pd.DataFrame(df.drop(['SEX', 'EDUCATION', 'MARRIAGE','Y'], axis = 1).columns)"
   ]
  },
  {
   "cell_type": "markdown",
   "metadata": {
    "colab_type": "text",
    "id": "EUl9bX7k_nxw"
   },
   "source": [
    "**3a) Limit Balance**"
   ]
  },
  {
   "cell_type": "code",
   "execution_count": 15,
   "metadata": {
    "colab": {
     "base_uri": "https://localhost:8080/",
     "height": 170
    },
    "colab_type": "code",
    "id": "Csm29blenaJT",
    "outputId": "e84fd570-639f-4a4b-a57f-af2d000d6730"
   },
   "outputs": [
    {
     "name": "stdout",
     "output_type": "stream",
     "text": [
      "count      30000.000000\n",
      "mean      167484.322667\n",
      "std       129747.661567\n",
      "min        10000.000000\n",
      "25%        50000.000000\n",
      "50%       140000.000000\n",
      "75%       240000.000000\n",
      "max      1000000.000000\n",
      "Name: LIMIT_BAL, dtype: float64\n"
     ]
    }
   ],
   "source": [
    "#Find out min and max value of LIMIT BALANCE\n",
    "print(df[\"LIMIT_BAL\"].describe())"
   ]
  },
  {
   "cell_type": "code",
   "execution_count": 16,
   "metadata": {
    "colab": {
     "base_uri": "https://localhost:8080/",
     "height": 313
    },
    "colab_type": "code",
    "id": "eHrdunFN7Sj0",
    "outputId": "1c087f10-d56c-493a-8f44-45f6c685b8d4"
   },
   "outputs": [
    {
     "data": {
      "text/plain": [
       "Text(0.5, 1.0, 'Distribution of Limit Balance')"
      ]
     },
     "execution_count": 16,
     "metadata": {},
     "output_type": "execute_result"
    },
    {
     "data": {
      "image/png": "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\n",
      "text/plain": [
       "<Figure size 432x288 with 1 Axes>"
      ]
     },
     "metadata": {
      "needs_background": "light"
     },
     "output_type": "display_data"
    }
   ],
   "source": [
    "sns.distplot(df[\"LIMIT_BAL\"]).set_title('Distribution of Limit Balance')"
   ]
  },
  {
   "cell_type": "markdown",
   "metadata": {
    "colab_type": "text",
    "id": "xlDZf8ru7Xp6"
   },
   "source": [
    "**3b) Analysis of Age**"
   ]
  },
  {
   "cell_type": "code",
   "execution_count": 17,
   "metadata": {
    "colab": {
     "base_uri": "https://localhost:8080/",
     "height": 300
    },
    "colab_type": "code",
    "id": "Iwal1Lhb6ryG",
    "outputId": "b4f48898-27c5-4455-d8d1-9e344f3ddb7d"
   },
   "outputs": [
    {
     "data": {
      "text/plain": [
       "<matplotlib.axes._subplots.AxesSubplot at 0x11e127780>"
      ]
     },
     "execution_count": 17,
     "metadata": {},
     "output_type": "execute_result"
    },
    {
     "data": {
      "image/png": "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\n",
      "text/plain": [
       "<Figure size 432x288 with 1 Axes>"
      ]
     },
     "metadata": {
      "needs_background": "light"
     },
     "output_type": "display_data"
    }
   ],
   "source": [
    "sns.distplot(df.AGE)"
   ]
  },
  {
   "cell_type": "markdown",
   "metadata": {},
   "source": [
    "**3c) Rest of the Attributes**"
   ]
  },
  {
   "cell_type": "code",
   "execution_count": 18,
   "metadata": {},
   "outputs": [
    {
     "name": "stdout",
     "output_type": "stream",
     "text": [
      "              PAY_0         PAY_2         PAY_3         PAY_4         PAY_5  \\\n",
      "count  30000.000000  30000.000000  30000.000000  30000.000000  30000.000000   \n",
      "mean      -0.016700     -0.133767     -0.166200     -0.220667     -0.266200   \n",
      "std        1.123802      1.197186      1.196868      1.169139      1.133187   \n",
      "min       -2.000000     -2.000000     -2.000000     -2.000000     -2.000000   \n",
      "25%       -1.000000     -1.000000     -1.000000     -1.000000     -1.000000   \n",
      "50%        0.000000      0.000000      0.000000      0.000000      0.000000   \n",
      "75%        0.000000      0.000000      0.000000      0.000000      0.000000   \n",
      "max        8.000000      8.000000      8.000000      8.000000      8.000000   \n",
      "\n",
      "              PAY_6      BILL_AMT1      BILL_AMT2     BILL_AMT3  \\\n",
      "count  30000.000000   30000.000000   30000.000000  3.000000e+04   \n",
      "mean      -0.291100   51223.330900   49179.075167  4.701315e+04   \n",
      "std        1.149988   73635.860576   71173.768783  6.934939e+04   \n",
      "min       -2.000000 -165580.000000  -69777.000000 -1.572640e+05   \n",
      "25%       -1.000000    3558.750000    2984.750000  2.666250e+03   \n",
      "50%        0.000000   22381.500000   21200.000000  2.008850e+04   \n",
      "75%        0.000000   67091.000000   64006.250000  6.016475e+04   \n",
      "max        8.000000  964511.000000  983931.000000  1.664089e+06   \n",
      "\n",
      "           BILL_AMT4      BILL_AMT5      BILL_AMT6       PAY_AMT1  \\\n",
      "count   30000.000000   30000.000000   30000.000000   30000.000000   \n",
      "mean    43262.948967   40311.400967   38871.760400    5663.580500   \n",
      "std     64332.856134   60797.155770   59554.107537   16563.280354   \n",
      "min   -170000.000000  -81334.000000 -339603.000000       0.000000   \n",
      "25%      2326.750000    1763.000000    1256.000000    1000.000000   \n",
      "50%     19052.000000   18104.500000   17071.000000    2100.000000   \n",
      "75%     54506.000000   50190.500000   49198.250000    5006.000000   \n",
      "max    891586.000000  927171.000000  961664.000000  873552.000000   \n",
      "\n",
      "           PAY_AMT2      PAY_AMT3       PAY_AMT4       PAY_AMT5       PAY_AMT6  \n",
      "count  3.000000e+04   30000.00000   30000.000000   30000.000000   30000.000000  \n",
      "mean   5.921163e+03    5225.68150    4826.076867    4799.387633    5215.502567  \n",
      "std    2.304087e+04   17606.96147   15666.159744   15278.305679   17777.465775  \n",
      "min    0.000000e+00       0.00000       0.000000       0.000000       0.000000  \n",
      "25%    8.330000e+02     390.00000     296.000000     252.500000     117.750000  \n",
      "50%    2.009000e+03    1800.00000    1500.000000    1500.000000    1500.000000  \n",
      "75%    5.000000e+03    4505.00000    4013.250000    4031.500000    4000.000000  \n",
      "max    1.684259e+06  896040.00000  621000.000000  426529.000000  528666.000000  \n"
     ]
    }
   ],
   "source": [
    "print(df.drop(['LIMIT_BAL', 'AGE','SEX', 'EDUCATION', 'MARRIAGE','Y'], axis=1).describe())"
   ]
  },
  {
   "cell_type": "markdown",
   "metadata": {},
   "source": [
    "**Meaning of attributes PAY_0 to PAY_6**\n",
    "\n",
    "We observe that the minimum value of PAY_0 to PAY_6 is -2. The dataset's author has explained these factors as the number of months of payment delay, that is, 1= payment delay of one month; 2= payment delay of two months and so on.\n",
    "\n",
    "However, the presence of -2, -1 in these columns mean we must conduct some data transformation to use these columns as the months of payment delay.\n",
    "\n",
    "According to **(link)**, the numeric value in these attributes shows the past history of a credit card holder, where -2 means: No consumption of credit card, -1 means that holder paid the full balance, and 0 means the use of revolving credit.\n",
    "\n"
   ]
  },
  {
   "cell_type": "markdown",
   "metadata": {},
   "source": [
    "**3d) Relationships with Target**\n",
    "\n",
    "To find out the relationships between the features, we calculate the absolute value of R with the target for all attributes. (R = Correlation Coefficient)\n"
   ]
  },
  {
   "cell_type": "code",
   "execution_count": 19,
   "metadata": {
    "colab": {
     "base_uri": "https://localhost:8080/",
     "height": 669
    },
    "colab_type": "code",
    "id": "awXnqvLOS-wB",
    "outputId": "a77b53b8-011e-4f53-b7b7-20d80bbc1777"
   },
   "outputs": [
    {
     "data": {
      "text/html": [
       "<div>\n",
       "<style scoped>\n",
       "    .dataframe tbody tr th:only-of-type {\n",
       "        vertical-align: middle;\n",
       "    }\n",
       "\n",
       "    .dataframe tbody tr th {\n",
       "        vertical-align: top;\n",
       "    }\n",
       "\n",
       "    .dataframe thead th {\n",
       "        text-align: right;\n",
       "    }\n",
       "</style>\n",
       "<table border=\"1\" class=\"dataframe\">\n",
       "  <thead>\n",
       "    <tr style=\"text-align: right;\">\n",
       "      <th></th>\n",
       "      <th>0</th>\n",
       "    </tr>\n",
       "  </thead>\n",
       "  <tbody>\n",
       "    <tr>\n",
       "      <td>PAY_0</td>\n",
       "      <td>0.324794</td>\n",
       "    </tr>\n",
       "    <tr>\n",
       "      <td>PAY_2</td>\n",
       "      <td>0.263551</td>\n",
       "    </tr>\n",
       "    <tr>\n",
       "      <td>PAY_3</td>\n",
       "      <td>0.235253</td>\n",
       "    </tr>\n",
       "    <tr>\n",
       "      <td>PAY_4</td>\n",
       "      <td>0.216614</td>\n",
       "    </tr>\n",
       "    <tr>\n",
       "      <td>PAY_5</td>\n",
       "      <td>0.204149</td>\n",
       "    </tr>\n",
       "    <tr>\n",
       "      <td>PAY_6</td>\n",
       "      <td>0.186866</td>\n",
       "    </tr>\n",
       "    <tr>\n",
       "      <td>LIMIT_BAL</td>\n",
       "      <td>0.153520</td>\n",
       "    </tr>\n",
       "    <tr>\n",
       "      <td>PAY_AMT1</td>\n",
       "      <td>0.072929</td>\n",
       "    </tr>\n",
       "    <tr>\n",
       "      <td>PAY_AMT2</td>\n",
       "      <td>0.058579</td>\n",
       "    </tr>\n",
       "    <tr>\n",
       "      <td>PAY_AMT4</td>\n",
       "      <td>0.056827</td>\n",
       "    </tr>\n",
       "    <tr>\n",
       "      <td>PAY_AMT3</td>\n",
       "      <td>0.056250</td>\n",
       "    </tr>\n",
       "    <tr>\n",
       "      <td>PAY_AMT5</td>\n",
       "      <td>0.055124</td>\n",
       "    </tr>\n",
       "    <tr>\n",
       "      <td>PAY_AMT6</td>\n",
       "      <td>0.053183</td>\n",
       "    </tr>\n",
       "    <tr>\n",
       "      <td>BILL_AMT1</td>\n",
       "      <td>0.019644</td>\n",
       "    </tr>\n",
       "    <tr>\n",
       "      <td>BILL_AMT2</td>\n",
       "      <td>0.014193</td>\n",
       "    </tr>\n",
       "    <tr>\n",
       "      <td>BILL_AMT3</td>\n",
       "      <td>0.014076</td>\n",
       "    </tr>\n",
       "    <tr>\n",
       "      <td>AGE</td>\n",
       "      <td>0.013890</td>\n",
       "    </tr>\n",
       "    <tr>\n",
       "      <td>BILL_AMT4</td>\n",
       "      <td>0.010156</td>\n",
       "    </tr>\n",
       "    <tr>\n",
       "      <td>BILL_AMT5</td>\n",
       "      <td>0.006760</td>\n",
       "    </tr>\n",
       "    <tr>\n",
       "      <td>BILL_AMT6</td>\n",
       "      <td>0.005372</td>\n",
       "    </tr>\n",
       "  </tbody>\n",
       "</table>\n",
       "</div>"
      ],
      "text/plain": [
       "                  0\n",
       "PAY_0      0.324794\n",
       "PAY_2      0.263551\n",
       "PAY_3      0.235253\n",
       "PAY_4      0.216614\n",
       "PAY_5      0.204149\n",
       "PAY_6      0.186866\n",
       "LIMIT_BAL  0.153520\n",
       "PAY_AMT1   0.072929\n",
       "PAY_AMT2   0.058579\n",
       "PAY_AMT4   0.056827\n",
       "PAY_AMT3   0.056250\n",
       "PAY_AMT5   0.055124\n",
       "PAY_AMT6   0.053183\n",
       "BILL_AMT1  0.019644\n",
       "BILL_AMT2  0.014193\n",
       "BILL_AMT3  0.014076\n",
       "AGE        0.013890\n",
       "BILL_AMT4  0.010156\n",
       "BILL_AMT5  0.006760\n",
       "BILL_AMT6  0.005372"
      ]
     },
     "execution_count": 19,
     "metadata": {},
     "output_type": "execute_result"
    }
   ],
   "source": [
    "#absolute correlation coefficient\n",
    "pd.DataFrame(df.drop(['SEX', 'EDUCATION', 'MARRIAGE','Y'], axis=1).apply(lambda x: x.corr(df.Y) if x.corr(df.Y) > 0 else -x.corr(df.Y)).sort_values(ascending = False))"
   ]
  },
  {
   "cell_type": "markdown",
   "metadata": {
    "colab_type": "text",
    "id": "C6c_Gz6wUrJ8"
   },
   "source": [
    "We observe that the \"repayment status\" attributes are the most highly correlated with the target variable and we would expect them to be more significant in predicting credit default. In fact the later the status (pay_0 is later than pay_6), the more correlated it is.\n",
    "\n",
    "The least correlated attributes are the bill amounts.\n",
    "\n",
    "We can also generate a correlation matrix (heatmap) to see which features are the most correlated with each other."
   ]
  },
  {
   "cell_type": "code",
   "execution_count": 20,
   "metadata": {
    "colab": {
     "base_uri": "https://localhost:8080/",
     "height": 964
    },
    "colab_type": "code",
    "id": "C2Mg6Zi_Q_rf",
    "outputId": "a06ab39f-82c5-43a7-cc4f-a267b2a967f9"
   },
   "outputs": [
    {
     "data": {
      "text/plain": [
       "Text(0.5, 1.05, 'Correlation Matrix')"
      ]
     },
     "execution_count": 20,
     "metadata": {},
     "output_type": "execute_result"
    },
    {
     "data": {
      "image/png": "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\n",
      "text/plain": [
       "<Figure size 1368x1080 with 2 Axes>"
      ]
     },
     "metadata": {
      "needs_background": "light"
     },
     "output_type": "display_data"
    }
   ],
   "source": [
    "f = plt.figure(figsize=(19, 15))\n",
    "plt.matshow(df.corr(), fignum=f.number)\n",
    "plt.xticks(range(df.shape[1]), df.columns, fontsize=14, rotation=45)\n",
    "plt.yticks(range(df.shape[1]), df.columns, fontsize=14)\n",
    "cb = plt.colorbar()\n",
    "cb.ax.tick_params(labelsize=14)\n",
    "plt.title('Correlation Matrix', fontsize=16)"
   ]
  },
  {
   "cell_type": "markdown",
   "metadata": {
    "colab_type": "text",
    "id": "gXQQgn7kU0Uc"
   },
   "source": [
    "The heatmap reveals that the payment and billed amounts across the 5 months are highly correlated with each other.  Highly Correlated factors should be removed before carrying out any regression to prevent multicollinearity."
   ]
  },
  {
   "cell_type": "markdown",
   "metadata": {
    "colab_type": "text",
    "id": "AQBksEyEf4Sf"
   },
   "source": [
    "## Data Preprocessing\n",
    "It was previously mentioned that our data had a bit of noise. In this part we will clean up the data so that it can be correctly applied to ML models."
   ]
  },
  {
   "cell_type": "markdown",
   "metadata": {
    "colab_type": "text",
    "id": "AG82bczx53gl"
   },
   "source": [
    "???\n",
    "1. get rid of unknown attributes\n",
    "2. One-hot encoding\n"
   ]
  },
  {
   "cell_type": "markdown",
   "metadata": {},
   "source": [
    "### Removing Noise\n",
    "#### Inconsistency\n",
    "First, we found in our data exploration that education has unknown groups 0, 5 and 6. These will be replaced with Education = Others, which has value 4"
   ]
  },
  {
   "cell_type": "code",
   "execution_count": 21,
   "metadata": {},
   "outputs": [
    {
     "data": {
      "text/plain": [
       "array([2, 1, 3, 4])"
      ]
     },
     "execution_count": 21,
     "metadata": {},
     "output_type": "execute_result"
    }
   ],
   "source": [
    "df['EDUCATION'].replace([0,5,6], 4, regex=True, inplace=True)\n",
    "df[\"EDUCATION\"].unique()"
   ]
  },
  {
   "cell_type": "code",
   "execution_count": 22,
   "metadata": {},
   "outputs": [
    {
     "data": {
      "text/plain": [
       "array([1, 2, 3, 0])"
      ]
     },
     "execution_count": 22,
     "metadata": {},
     "output_type": "execute_result"
    }
   ],
   "source": [
    "df[\"MARRIAGE\"].unique()"
   ]
  },
  {
   "cell_type": "markdown",
   "metadata": {},
   "source": [
    "Second, we are going to extract the negative values of PAY_0 to PAY_6 as another categorical feature. This way, PAY_0 to PAY_6 can be thought of purely as the months of delay of payments.\n",
    "\n",
    "The negative values will form a categorical variable. e.g. negative values of PAY_0 will form the categorical variable S_0."
   ]
  },
  {
   "cell_type": "code",
   "execution_count": 23,
   "metadata": {},
   "outputs": [],
   "source": [
    "for i in range(0,7):\n",
    "    try:\n",
    "        df[\"S_\" + str(i)] = [x  if x < 1 else 1 for x in df[\"PAY_\" + str(i)]]\n",
    "    except:\n",
    "        pass"
   ]
  },
  {
   "cell_type": "code",
   "execution_count": 24,
   "metadata": {
    "scrolled": true
   },
   "outputs": [
    {
     "data": {
      "text/html": [
       "<div>\n",
       "<style scoped>\n",
       "    .dataframe tbody tr th:only-of-type {\n",
       "        vertical-align: middle;\n",
       "    }\n",
       "\n",
       "    .dataframe tbody tr th {\n",
       "        vertical-align: top;\n",
       "    }\n",
       "\n",
       "    .dataframe thead th {\n",
       "        text-align: right;\n",
       "    }\n",
       "</style>\n",
       "<table border=\"1\" class=\"dataframe\">\n",
       "  <thead>\n",
       "    <tr style=\"text-align: right;\">\n",
       "      <th></th>\n",
       "      <th>S_0</th>\n",
       "      <th>S_2</th>\n",
       "      <th>S_3</th>\n",
       "      <th>S_4</th>\n",
       "      <th>S_5</th>\n",
       "      <th>S_6</th>\n",
       "    </tr>\n",
       "    <tr>\n",
       "      <th>ID</th>\n",
       "      <th></th>\n",
       "      <th></th>\n",
       "      <th></th>\n",
       "      <th></th>\n",
       "      <th></th>\n",
       "      <th></th>\n",
       "    </tr>\n",
       "  </thead>\n",
       "  <tbody>\n",
       "    <tr>\n",
       "      <td>1</td>\n",
       "      <td>1</td>\n",
       "      <td>1</td>\n",
       "      <td>-1</td>\n",
       "      <td>-1</td>\n",
       "      <td>-2</td>\n",
       "      <td>-2</td>\n",
       "    </tr>\n",
       "    <tr>\n",
       "      <td>2</td>\n",
       "      <td>-1</td>\n",
       "      <td>1</td>\n",
       "      <td>0</td>\n",
       "      <td>0</td>\n",
       "      <td>0</td>\n",
       "      <td>1</td>\n",
       "    </tr>\n",
       "    <tr>\n",
       "      <td>3</td>\n",
       "      <td>0</td>\n",
       "      <td>0</td>\n",
       "      <td>0</td>\n",
       "      <td>0</td>\n",
       "      <td>0</td>\n",
       "      <td>0</td>\n",
       "    </tr>\n",
       "    <tr>\n",
       "      <td>4</td>\n",
       "      <td>0</td>\n",
       "      <td>0</td>\n",
       "      <td>0</td>\n",
       "      <td>0</td>\n",
       "      <td>0</td>\n",
       "      <td>0</td>\n",
       "    </tr>\n",
       "    <tr>\n",
       "      <td>5</td>\n",
       "      <td>-1</td>\n",
       "      <td>0</td>\n",
       "      <td>-1</td>\n",
       "      <td>0</td>\n",
       "      <td>0</td>\n",
       "      <td>0</td>\n",
       "    </tr>\n",
       "  </tbody>\n",
       "</table>\n",
       "</div>"
      ],
      "text/plain": [
       "    S_0  S_2  S_3  S_4  S_5  S_6\n",
       "ID                              \n",
       "1     1    1   -1   -1   -2   -2\n",
       "2    -1    1    0    0    0    1\n",
       "3     0    0    0    0    0    0\n",
       "4     0    0    0    0    0    0\n",
       "5    -1    0   -1    0    0    0"
      ]
     },
     "execution_count": 24,
     "metadata": {},
     "output_type": "execute_result"
    }
   ],
   "source": [
    "df[[\"S_0\", \"S_2\", \"S_3\", \"S_4\", \"S_5\", \"S_6\"]].head()\n"
   ]
  },
  {
   "cell_type": "code",
   "execution_count": 25,
   "metadata": {},
   "outputs": [
    {
     "name": "stdout",
     "output_type": "stream",
     "text": [
      "              PAY_0         PAY_2         PAY_3         PAY_4        PAY_5  \\\n",
      "count  30000.000000  30000.000000  30000.000000  30000.000000  30000.00000   \n",
      "mean       0.356767      0.320033      0.304067      0.258767      0.22150   \n",
      "std        0.760594      0.801727      0.790589      0.761113      0.71772   \n",
      "min        0.000000      0.000000      0.000000      0.000000      0.00000   \n",
      "25%        0.000000      0.000000      0.000000      0.000000      0.00000   \n",
      "50%        0.000000      0.000000      0.000000      0.000000      0.00000   \n",
      "75%        0.000000      0.000000      0.000000      0.000000      0.00000   \n",
      "max        8.000000      8.000000      8.000000      8.000000      8.00000   \n",
      "\n",
      "              PAY_6  \n",
      "count  30000.000000  \n",
      "mean       0.226567  \n",
      "std        0.715438  \n",
      "min        0.000000  \n",
      "25%        0.000000  \n",
      "50%        0.000000  \n",
      "75%        0.000000  \n",
      "max        8.000000  \n"
     ]
    }
   ],
   "source": [
    "for col in [\"PAY_0\", \"PAY_2\", \"PAY_3\", \"PAY_4\", \"PAY_5\", \"PAY_6\"]:\n",
    "    df[col].replace([0,-1,-2], 0, regex=True, inplace=True)\n",
    "\n",
    "print(df[[\"PAY_0\", \"PAY_2\", \"PAY_3\", \"PAY_4\", \"PAY_5\", \"PAY_6\"]].describe())\n"
   ]
  },
  {
   "cell_type": "markdown",
   "metadata": {},
   "source": [
    "#### Outliers\n",
    "Next, we would like to remove outliers from the continuous variables. Assuming that all the data points are normally distributed, we will consider a point an outlier if it falls outside the 99% interval of a distribution. (Critical value = 2.58) "
   ]
  },
  {
   "cell_type": "code",
   "execution_count": 26,
   "metadata": {},
   "outputs": [
    {
     "data": {
      "text/html": [
       "<div>\n",
       "<style scoped>\n",
       "    .dataframe tbody tr th:only-of-type {\n",
       "        vertical-align: middle;\n",
       "    }\n",
       "\n",
       "    .dataframe tbody tr th {\n",
       "        vertical-align: top;\n",
       "    }\n",
       "\n",
       "    .dataframe thead th {\n",
       "        text-align: right;\n",
       "    }\n",
       "</style>\n",
       "<table border=\"1\" class=\"dataframe\">\n",
       "  <thead>\n",
       "    <tr style=\"text-align: right;\">\n",
       "      <th></th>\n",
       "      <th>LIMIT_BAL</th>\n",
       "      <th>SEX</th>\n",
       "      <th>EDUCATION</th>\n",
       "      <th>MARRIAGE</th>\n",
       "      <th>AGE</th>\n",
       "      <th>PAY_0</th>\n",
       "      <th>PAY_2</th>\n",
       "      <th>PAY_3</th>\n",
       "      <th>PAY_4</th>\n",
       "      <th>PAY_5</th>\n",
       "      <th>...</th>\n",
       "      <th>PAY_AMT4</th>\n",
       "      <th>PAY_AMT5</th>\n",
       "      <th>PAY_AMT6</th>\n",
       "      <th>Y</th>\n",
       "      <th>S_0</th>\n",
       "      <th>S_2</th>\n",
       "      <th>S_3</th>\n",
       "      <th>S_4</th>\n",
       "      <th>S_5</th>\n",
       "      <th>S_6</th>\n",
       "    </tr>\n",
       "    <tr>\n",
       "      <th>ID</th>\n",
       "      <th></th>\n",
       "      <th></th>\n",
       "      <th></th>\n",
       "      <th></th>\n",
       "      <th></th>\n",
       "      <th></th>\n",
       "      <th></th>\n",
       "      <th></th>\n",
       "      <th></th>\n",
       "      <th></th>\n",
       "      <th></th>\n",
       "      <th></th>\n",
       "      <th></th>\n",
       "      <th></th>\n",
       "      <th></th>\n",
       "      <th></th>\n",
       "      <th></th>\n",
       "      <th></th>\n",
       "      <th></th>\n",
       "      <th></th>\n",
       "      <th></th>\n",
       "    </tr>\n",
       "  </thead>\n",
       "  <tbody>\n",
       "    <tr>\n",
       "      <td>1</td>\n",
       "      <td>20000</td>\n",
       "      <td>2</td>\n",
       "      <td>2</td>\n",
       "      <td>1</td>\n",
       "      <td>24</td>\n",
       "      <td>2</td>\n",
       "      <td>2</td>\n",
       "      <td>0</td>\n",
       "      <td>0</td>\n",
       "      <td>0</td>\n",
       "      <td>...</td>\n",
       "      <td>0</td>\n",
       "      <td>0</td>\n",
       "      <td>0</td>\n",
       "      <td>1</td>\n",
       "      <td>1</td>\n",
       "      <td>1</td>\n",
       "      <td>-1</td>\n",
       "      <td>-1</td>\n",
       "      <td>-2</td>\n",
       "      <td>-2</td>\n",
       "    </tr>\n",
       "    <tr>\n",
       "      <td>2</td>\n",
       "      <td>120000</td>\n",
       "      <td>2</td>\n",
       "      <td>2</td>\n",
       "      <td>2</td>\n",
       "      <td>26</td>\n",
       "      <td>0</td>\n",
       "      <td>2</td>\n",
       "      <td>0</td>\n",
       "      <td>0</td>\n",
       "      <td>0</td>\n",
       "      <td>...</td>\n",
       "      <td>1000</td>\n",
       "      <td>0</td>\n",
       "      <td>2000</td>\n",
       "      <td>1</td>\n",
       "      <td>-1</td>\n",
       "      <td>1</td>\n",
       "      <td>0</td>\n",
       "      <td>0</td>\n",
       "      <td>0</td>\n",
       "      <td>1</td>\n",
       "    </tr>\n",
       "    <tr>\n",
       "      <td>3</td>\n",
       "      <td>90000</td>\n",
       "      <td>2</td>\n",
       "      <td>2</td>\n",
       "      <td>2</td>\n",
       "      <td>34</td>\n",
       "      <td>0</td>\n",
       "      <td>0</td>\n",
       "      <td>0</td>\n",
       "      <td>0</td>\n",
       "      <td>0</td>\n",
       "      <td>...</td>\n",
       "      <td>1000</td>\n",
       "      <td>1000</td>\n",
       "      <td>5000</td>\n",
       "      <td>0</td>\n",
       "      <td>0</td>\n",
       "      <td>0</td>\n",
       "      <td>0</td>\n",
       "      <td>0</td>\n",
       "      <td>0</td>\n",
       "      <td>0</td>\n",
       "    </tr>\n",
       "    <tr>\n",
       "      <td>4</td>\n",
       "      <td>50000</td>\n",
       "      <td>2</td>\n",
       "      <td>2</td>\n",
       "      <td>1</td>\n",
       "      <td>37</td>\n",
       "      <td>0</td>\n",
       "      <td>0</td>\n",
       "      <td>0</td>\n",
       "      <td>0</td>\n",
       "      <td>0</td>\n",
       "      <td>...</td>\n",
       "      <td>1100</td>\n",
       "      <td>1069</td>\n",
       "      <td>1000</td>\n",
       "      <td>0</td>\n",
       "      <td>0</td>\n",
       "      <td>0</td>\n",
       "      <td>0</td>\n",
       "      <td>0</td>\n",
       "      <td>0</td>\n",
       "      <td>0</td>\n",
       "    </tr>\n",
       "    <tr>\n",
       "      <td>5</td>\n",
       "      <td>50000</td>\n",
       "      <td>1</td>\n",
       "      <td>2</td>\n",
       "      <td>1</td>\n",
       "      <td>57</td>\n",
       "      <td>0</td>\n",
       "      <td>0</td>\n",
       "      <td>0</td>\n",
       "      <td>0</td>\n",
       "      <td>0</td>\n",
       "      <td>...</td>\n",
       "      <td>9000</td>\n",
       "      <td>689</td>\n",
       "      <td>679</td>\n",
       "      <td>0</td>\n",
       "      <td>-1</td>\n",
       "      <td>0</td>\n",
       "      <td>-1</td>\n",
       "      <td>0</td>\n",
       "      <td>0</td>\n",
       "      <td>0</td>\n",
       "    </tr>\n",
       "  </tbody>\n",
       "</table>\n",
       "<p>5 rows × 30 columns</p>\n",
       "</div>"
      ],
      "text/plain": [
       "    LIMIT_BAL  SEX  EDUCATION  MARRIAGE  AGE  PAY_0  PAY_2  PAY_3  PAY_4  \\\n",
       "ID                                                                         \n",
       "1       20000    2          2         1   24      2      2      0      0   \n",
       "2      120000    2          2         2   26      0      2      0      0   \n",
       "3       90000    2          2         2   34      0      0      0      0   \n",
       "4       50000    2          2         1   37      0      0      0      0   \n",
       "5       50000    1          2         1   57      0      0      0      0   \n",
       "\n",
       "    PAY_5  ...  PAY_AMT4  PAY_AMT5  PAY_AMT6  Y  S_0  S_2  S_3  S_4  S_5  S_6  \n",
       "ID         ...                                                                 \n",
       "1       0  ...         0         0         0  1    1    1   -1   -1   -2   -2  \n",
       "2       0  ...      1000         0      2000  1   -1    1    0    0    0    1  \n",
       "3       0  ...      1000      1000      5000  0    0    0    0    0    0    0  \n",
       "4       0  ...      1100      1069      1000  0    0    0    0    0    0    0  \n",
       "5       0  ...      9000       689       679  0   -1    0   -1    0    0    0  \n",
       "\n",
       "[5 rows x 30 columns]"
      ]
     },
     "execution_count": 26,
     "metadata": {},
     "output_type": "execute_result"
    }
   ],
   "source": [
    "df.head()"
   ]
  },
  {
   "cell_type": "code",
   "execution_count": 27,
   "metadata": {},
   "outputs": [],
   "source": [
    "#KIV might not be useful\n",
    "from scipy import stats\n",
    "#we are only concerned with the ordinal data\n",
    "o = pd.DataFrame(df.drop(['EDUCATION', 'MARRIAGE',\"S_0\", \"S_2\", \"S_3\", \"S_4\", \"S_5\", \"S_6\",\"SEX\"], axis=1))\n",
    "#rows where the absolute z score of all columns are less than 2.58 (critical value)\n",
    "rows = (np.abs(stats.zscore(o)) < 2.58).all(axis=1)\n",
    "df = df[rows]"
   ]
  },
  {
   "cell_type": "code",
   "execution_count": 28,
   "metadata": {},
   "outputs": [
    {
     "name": "stdout",
     "output_type": "stream",
     "text": [
      "              PAY_0         PAY_2         PAY_3         PAY_4         PAY_5  \\\n",
      "count  25128.000000  25128.000000  25128.000000  25128.000000  25128.000000   \n",
      "mean       0.299507      0.250398      0.237345      0.195599      0.163403   \n",
      "std        0.619521      0.661300      0.646757      0.594064      0.547830   \n",
      "min        0.000000      0.000000      0.000000      0.000000      0.000000   \n",
      "25%        0.000000      0.000000      0.000000      0.000000      0.000000   \n",
      "50%        0.000000      0.000000      0.000000      0.000000      0.000000   \n",
      "75%        0.000000      0.000000      0.000000      0.000000      0.000000   \n",
      "max        2.000000      2.000000      2.000000      2.000000      2.000000   \n",
      "\n",
      "              PAY_6  \n",
      "count  25128.000000  \n",
      "mean       0.174069  \n",
      "std        0.563782  \n",
      "min        0.000000  \n",
      "25%        0.000000  \n",
      "50%        0.000000  \n",
      "75%        0.000000  \n",
      "max        2.000000  \n"
     ]
    }
   ],
   "source": [
    "print(df[[\"PAY_0\", \"PAY_2\", \"PAY_3\", \"PAY_4\", \"PAY_5\", \"PAY_6\"]].describe())\n"
   ]
  },
  {
   "cell_type": "markdown",
   "metadata": {},
   "source": [
    "### One-Hot Encoding"
   ]
  },
  {
   "cell_type": "markdown",
   "metadata": {},
   "source": [
    "In some models, categorical variables which are encoded numerically will be erroneously treated as ordinal data. To understand why this is a problem, consider the \"Education\" column for our dataset.\n",
    "\n",
    "A logistic regression model, for example, will assume that the difference in odds of default between education = 1 and education = 2 is the same as the difference between education = 2 and 3. This is wrong because the difference in odds between a graduate degree and university (1 and 2) is likely to be different from that between univeristy education and high school education (2 and 3).\n",
    "\n",
    "One hot encoding will allow our models to treat these columns explicitly as categorical features.\n",
    "\n",
    "The following categorical columns will be one-hot encoded\n",
    "1. MARRIAGE\n",
    "2. EDUCATION\n",
    "3. S_0 to S_6 (ex. S_1)"
   ]
  },
  {
   "cell_type": "code",
   "execution_count": 29,
   "metadata": {},
   "outputs": [],
   "source": [
    "from sklearn.preprocessing import OneHotEncoder"
   ]
  },
  {
   "cell_type": "code",
   "execution_count": 30,
   "metadata": {},
   "outputs": [],
   "source": [
    "onenc = OneHotEncoder(categories='auto')"
   ]
  },
  {
   "cell_type": "code",
   "execution_count": 31,
   "metadata": {},
   "outputs": [
    {
     "data": {
      "text/html": [
       "<div>\n",
       "<style scoped>\n",
       "    .dataframe tbody tr th:only-of-type {\n",
       "        vertical-align: middle;\n",
       "    }\n",
       "\n",
       "    .dataframe tbody tr th {\n",
       "        vertical-align: top;\n",
       "    }\n",
       "\n",
       "    .dataframe thead th {\n",
       "        text-align: right;\n",
       "    }\n",
       "</style>\n",
       "<table border=\"1\" class=\"dataframe\">\n",
       "  <thead>\n",
       "    <tr style=\"text-align: right;\">\n",
       "      <th></th>\n",
       "      <th>x0_1</th>\n",
       "      <th>x0_2</th>\n",
       "      <th>x0_3</th>\n",
       "      <th>x0_4</th>\n",
       "      <th>x1_0</th>\n",
       "      <th>x1_1</th>\n",
       "      <th>x1_2</th>\n",
       "      <th>x1_3</th>\n",
       "      <th>x2_-2</th>\n",
       "      <th>x2_-1</th>\n",
       "      <th>...</th>\n",
       "      <th>x5_0</th>\n",
       "      <th>x5_1</th>\n",
       "      <th>x6_-2</th>\n",
       "      <th>x6_-1</th>\n",
       "      <th>x6_0</th>\n",
       "      <th>x6_1</th>\n",
       "      <th>x7_-2</th>\n",
       "      <th>x7_-1</th>\n",
       "      <th>x7_0</th>\n",
       "      <th>x7_1</th>\n",
       "    </tr>\n",
       "  </thead>\n",
       "  <tbody>\n",
       "    <tr>\n",
       "      <td>0</td>\n",
       "      <td>0.0</td>\n",
       "      <td>1.0</td>\n",
       "      <td>0.0</td>\n",
       "      <td>0.0</td>\n",
       "      <td>0.0</td>\n",
       "      <td>1.0</td>\n",
       "      <td>0.0</td>\n",
       "      <td>0.0</td>\n",
       "      <td>0.0</td>\n",
       "      <td>0.0</td>\n",
       "      <td>...</td>\n",
       "      <td>0.0</td>\n",
       "      <td>0.0</td>\n",
       "      <td>1.0</td>\n",
       "      <td>0.0</td>\n",
       "      <td>0.0</td>\n",
       "      <td>0.0</td>\n",
       "      <td>1.0</td>\n",
       "      <td>0.0</td>\n",
       "      <td>0.0</td>\n",
       "      <td>0.0</td>\n",
       "    </tr>\n",
       "    <tr>\n",
       "      <td>1</td>\n",
       "      <td>0.0</td>\n",
       "      <td>1.0</td>\n",
       "      <td>0.0</td>\n",
       "      <td>0.0</td>\n",
       "      <td>0.0</td>\n",
       "      <td>0.0</td>\n",
       "      <td>1.0</td>\n",
       "      <td>0.0</td>\n",
       "      <td>0.0</td>\n",
       "      <td>1.0</td>\n",
       "      <td>...</td>\n",
       "      <td>1.0</td>\n",
       "      <td>0.0</td>\n",
       "      <td>0.0</td>\n",
       "      <td>0.0</td>\n",
       "      <td>1.0</td>\n",
       "      <td>0.0</td>\n",
       "      <td>0.0</td>\n",
       "      <td>0.0</td>\n",
       "      <td>0.0</td>\n",
       "      <td>1.0</td>\n",
       "    </tr>\n",
       "    <tr>\n",
       "      <td>2</td>\n",
       "      <td>0.0</td>\n",
       "      <td>1.0</td>\n",
       "      <td>0.0</td>\n",
       "      <td>0.0</td>\n",
       "      <td>0.0</td>\n",
       "      <td>0.0</td>\n",
       "      <td>1.0</td>\n",
       "      <td>0.0</td>\n",
       "      <td>0.0</td>\n",
       "      <td>0.0</td>\n",
       "      <td>...</td>\n",
       "      <td>1.0</td>\n",
       "      <td>0.0</td>\n",
       "      <td>0.0</td>\n",
       "      <td>0.0</td>\n",
       "      <td>1.0</td>\n",
       "      <td>0.0</td>\n",
       "      <td>0.0</td>\n",
       "      <td>0.0</td>\n",
       "      <td>1.0</td>\n",
       "      <td>0.0</td>\n",
       "    </tr>\n",
       "    <tr>\n",
       "      <td>3</td>\n",
       "      <td>0.0</td>\n",
       "      <td>1.0</td>\n",
       "      <td>0.0</td>\n",
       "      <td>0.0</td>\n",
       "      <td>0.0</td>\n",
       "      <td>1.0</td>\n",
       "      <td>0.0</td>\n",
       "      <td>0.0</td>\n",
       "      <td>0.0</td>\n",
       "      <td>0.0</td>\n",
       "      <td>...</td>\n",
       "      <td>1.0</td>\n",
       "      <td>0.0</td>\n",
       "      <td>0.0</td>\n",
       "      <td>0.0</td>\n",
       "      <td>1.0</td>\n",
       "      <td>0.0</td>\n",
       "      <td>0.0</td>\n",
       "      <td>0.0</td>\n",
       "      <td>1.0</td>\n",
       "      <td>0.0</td>\n",
       "    </tr>\n",
       "    <tr>\n",
       "      <td>4</td>\n",
       "      <td>0.0</td>\n",
       "      <td>1.0</td>\n",
       "      <td>0.0</td>\n",
       "      <td>0.0</td>\n",
       "      <td>0.0</td>\n",
       "      <td>1.0</td>\n",
       "      <td>0.0</td>\n",
       "      <td>0.0</td>\n",
       "      <td>0.0</td>\n",
       "      <td>1.0</td>\n",
       "      <td>...</td>\n",
       "      <td>1.0</td>\n",
       "      <td>0.0</td>\n",
       "      <td>0.0</td>\n",
       "      <td>0.0</td>\n",
       "      <td>1.0</td>\n",
       "      <td>0.0</td>\n",
       "      <td>0.0</td>\n",
       "      <td>0.0</td>\n",
       "      <td>1.0</td>\n",
       "      <td>0.0</td>\n",
       "    </tr>\n",
       "  </tbody>\n",
       "</table>\n",
       "<p>5 rows × 32 columns</p>\n",
       "</div>"
      ],
      "text/plain": [
       "   x0_1  x0_2  x0_3  x0_4  x1_0  x1_1  x1_2  x1_3  x2_-2  x2_-1  ...  x5_0  \\\n",
       "0   0.0   1.0   0.0   0.0   0.0   1.0   0.0   0.0    0.0    0.0  ...   0.0   \n",
       "1   0.0   1.0   0.0   0.0   0.0   0.0   1.0   0.0    0.0    1.0  ...   1.0   \n",
       "2   0.0   1.0   0.0   0.0   0.0   0.0   1.0   0.0    0.0    0.0  ...   1.0   \n",
       "3   0.0   1.0   0.0   0.0   0.0   1.0   0.0   0.0    0.0    0.0  ...   1.0   \n",
       "4   0.0   1.0   0.0   0.0   0.0   1.0   0.0   0.0    0.0    1.0  ...   1.0   \n",
       "\n",
       "   x5_1  x6_-2  x6_-1  x6_0  x6_1  x7_-2  x7_-1  x7_0  x7_1  \n",
       "0   0.0    1.0    0.0   0.0   0.0    1.0    0.0   0.0   0.0  \n",
       "1   0.0    0.0    0.0   1.0   0.0    0.0    0.0   0.0   1.0  \n",
       "2   0.0    0.0    0.0   1.0   0.0    0.0    0.0   1.0   0.0  \n",
       "3   0.0    0.0    0.0   1.0   0.0    0.0    0.0   1.0   0.0  \n",
       "4   0.0    0.0    0.0   1.0   0.0    0.0    0.0   1.0   0.0  \n",
       "\n",
       "[5 rows x 32 columns]"
      ]
     },
     "execution_count": 31,
     "metadata": {},
     "output_type": "execute_result"
    }
   ],
   "source": [
    "onehot = pd.DataFrame(onenc.fit_transform(df[['EDUCATION', 'MARRIAGE',\"S_0\", \"S_2\", \"S_3\", \"S_4\", \"S_5\", \"S_6\"]]).toarray())\n",
    "onehot.columns= onenc.fit(df[['EDUCATION', 'MARRIAGE',\"S_0\", \"S_2\", \"S_3\", \"S_4\", \"S_5\", \"S_6\"]]).get_feature_names()\n",
    "\n",
    "onehot.head()"
   ]
  },
  {
   "cell_type": "code",
   "execution_count": 32,
   "metadata": {},
   "outputs": [
    {
     "data": {
      "text/html": [
       "<div>\n",
       "<style scoped>\n",
       "    .dataframe tbody tr th:only-of-type {\n",
       "        vertical-align: middle;\n",
       "    }\n",
       "\n",
       "    .dataframe tbody tr th {\n",
       "        vertical-align: top;\n",
       "    }\n",
       "\n",
       "    .dataframe thead th {\n",
       "        text-align: right;\n",
       "    }\n",
       "</style>\n",
       "<table border=\"1\" class=\"dataframe\">\n",
       "  <thead>\n",
       "    <tr style=\"text-align: right;\">\n",
       "      <th></th>\n",
       "      <th>LIMIT_BAL</th>\n",
       "      <th>SEX</th>\n",
       "      <th>AGE</th>\n",
       "      <th>PAY_0</th>\n",
       "      <th>PAY_2</th>\n",
       "      <th>PAY_3</th>\n",
       "      <th>PAY_4</th>\n",
       "      <th>PAY_5</th>\n",
       "      <th>PAY_6</th>\n",
       "      <th>BILL_AMT1</th>\n",
       "      <th>...</th>\n",
       "      <th>x5_0</th>\n",
       "      <th>x5_1</th>\n",
       "      <th>x6_-2</th>\n",
       "      <th>x6_-1</th>\n",
       "      <th>x6_0</th>\n",
       "      <th>x6_1</th>\n",
       "      <th>x7_-2</th>\n",
       "      <th>x7_-1</th>\n",
       "      <th>x7_0</th>\n",
       "      <th>x7_1</th>\n",
       "    </tr>\n",
       "  </thead>\n",
       "  <tbody>\n",
       "    <tr>\n",
       "      <td>0</td>\n",
       "      <td>20000</td>\n",
       "      <td>2</td>\n",
       "      <td>24</td>\n",
       "      <td>2</td>\n",
       "      <td>2</td>\n",
       "      <td>0</td>\n",
       "      <td>0</td>\n",
       "      <td>0</td>\n",
       "      <td>0</td>\n",
       "      <td>3913</td>\n",
       "      <td>...</td>\n",
       "      <td>0.0</td>\n",
       "      <td>0.0</td>\n",
       "      <td>1.0</td>\n",
       "      <td>0.0</td>\n",
       "      <td>0.0</td>\n",
       "      <td>0.0</td>\n",
       "      <td>1.0</td>\n",
       "      <td>0.0</td>\n",
       "      <td>0.0</td>\n",
       "      <td>0.0</td>\n",
       "    </tr>\n",
       "    <tr>\n",
       "      <td>1</td>\n",
       "      <td>120000</td>\n",
       "      <td>2</td>\n",
       "      <td>26</td>\n",
       "      <td>0</td>\n",
       "      <td>2</td>\n",
       "      <td>0</td>\n",
       "      <td>0</td>\n",
       "      <td>0</td>\n",
       "      <td>2</td>\n",
       "      <td>2682</td>\n",
       "      <td>...</td>\n",
       "      <td>1.0</td>\n",
       "      <td>0.0</td>\n",
       "      <td>0.0</td>\n",
       "      <td>0.0</td>\n",
       "      <td>1.0</td>\n",
       "      <td>0.0</td>\n",
       "      <td>0.0</td>\n",
       "      <td>0.0</td>\n",
       "      <td>0.0</td>\n",
       "      <td>1.0</td>\n",
       "    </tr>\n",
       "    <tr>\n",
       "      <td>2</td>\n",
       "      <td>90000</td>\n",
       "      <td>2</td>\n",
       "      <td>34</td>\n",
       "      <td>0</td>\n",
       "      <td>0</td>\n",
       "      <td>0</td>\n",
       "      <td>0</td>\n",
       "      <td>0</td>\n",
       "      <td>0</td>\n",
       "      <td>29239</td>\n",
       "      <td>...</td>\n",
       "      <td>1.0</td>\n",
       "      <td>0.0</td>\n",
       "      <td>0.0</td>\n",
       "      <td>0.0</td>\n",
       "      <td>1.0</td>\n",
       "      <td>0.0</td>\n",
       "      <td>0.0</td>\n",
       "      <td>0.0</td>\n",
       "      <td>1.0</td>\n",
       "      <td>0.0</td>\n",
       "    </tr>\n",
       "    <tr>\n",
       "      <td>3</td>\n",
       "      <td>50000</td>\n",
       "      <td>2</td>\n",
       "      <td>37</td>\n",
       "      <td>0</td>\n",
       "      <td>0</td>\n",
       "      <td>0</td>\n",
       "      <td>0</td>\n",
       "      <td>0</td>\n",
       "      <td>0</td>\n",
       "      <td>46990</td>\n",
       "      <td>...</td>\n",
       "      <td>1.0</td>\n",
       "      <td>0.0</td>\n",
       "      <td>0.0</td>\n",
       "      <td>0.0</td>\n",
       "      <td>1.0</td>\n",
       "      <td>0.0</td>\n",
       "      <td>0.0</td>\n",
       "      <td>0.0</td>\n",
       "      <td>1.0</td>\n",
       "      <td>0.0</td>\n",
       "    </tr>\n",
       "    <tr>\n",
       "      <td>4</td>\n",
       "      <td>50000</td>\n",
       "      <td>1</td>\n",
       "      <td>57</td>\n",
       "      <td>0</td>\n",
       "      <td>0</td>\n",
       "      <td>0</td>\n",
       "      <td>0</td>\n",
       "      <td>0</td>\n",
       "      <td>0</td>\n",
       "      <td>8617</td>\n",
       "      <td>...</td>\n",
       "      <td>1.0</td>\n",
       "      <td>0.0</td>\n",
       "      <td>0.0</td>\n",
       "      <td>0.0</td>\n",
       "      <td>1.0</td>\n",
       "      <td>0.0</td>\n",
       "      <td>0.0</td>\n",
       "      <td>0.0</td>\n",
       "      <td>1.0</td>\n",
       "      <td>0.0</td>\n",
       "    </tr>\n",
       "    <tr>\n",
       "      <td>...</td>\n",
       "      <td>...</td>\n",
       "      <td>...</td>\n",
       "      <td>...</td>\n",
       "      <td>...</td>\n",
       "      <td>...</td>\n",
       "      <td>...</td>\n",
       "      <td>...</td>\n",
       "      <td>...</td>\n",
       "      <td>...</td>\n",
       "      <td>...</td>\n",
       "      <td>...</td>\n",
       "      <td>...</td>\n",
       "      <td>...</td>\n",
       "      <td>...</td>\n",
       "      <td>...</td>\n",
       "      <td>...</td>\n",
       "      <td>...</td>\n",
       "      <td>...</td>\n",
       "      <td>...</td>\n",
       "      <td>...</td>\n",
       "      <td>...</td>\n",
       "    </tr>\n",
       "    <tr>\n",
       "      <td>25123</td>\n",
       "      <td>10000</td>\n",
       "      <td>1</td>\n",
       "      <td>43</td>\n",
       "      <td>0</td>\n",
       "      <td>0</td>\n",
       "      <td>0</td>\n",
       "      <td>0</td>\n",
       "      <td>0</td>\n",
       "      <td>0</td>\n",
       "      <td>8802</td>\n",
       "      <td>...</td>\n",
       "      <td>0.0</td>\n",
       "      <td>0.0</td>\n",
       "      <td>1.0</td>\n",
       "      <td>0.0</td>\n",
       "      <td>0.0</td>\n",
       "      <td>0.0</td>\n",
       "      <td>1.0</td>\n",
       "      <td>0.0</td>\n",
       "      <td>0.0</td>\n",
       "      <td>0.0</td>\n",
       "    </tr>\n",
       "    <tr>\n",
       "      <td>25124</td>\n",
       "      <td>80000</td>\n",
       "      <td>1</td>\n",
       "      <td>34</td>\n",
       "      <td>2</td>\n",
       "      <td>2</td>\n",
       "      <td>2</td>\n",
       "      <td>2</td>\n",
       "      <td>2</td>\n",
       "      <td>2</td>\n",
       "      <td>72557</td>\n",
       "      <td>...</td>\n",
       "      <td>0.0</td>\n",
       "      <td>1.0</td>\n",
       "      <td>0.0</td>\n",
       "      <td>0.0</td>\n",
       "      <td>0.0</td>\n",
       "      <td>1.0</td>\n",
       "      <td>0.0</td>\n",
       "      <td>0.0</td>\n",
       "      <td>0.0</td>\n",
       "      <td>1.0</td>\n",
       "    </tr>\n",
       "    <tr>\n",
       "      <td>25125</td>\n",
       "      <td>220000</td>\n",
       "      <td>1</td>\n",
       "      <td>39</td>\n",
       "      <td>0</td>\n",
       "      <td>0</td>\n",
       "      <td>0</td>\n",
       "      <td>0</td>\n",
       "      <td>0</td>\n",
       "      <td>0</td>\n",
       "      <td>188948</td>\n",
       "      <td>...</td>\n",
       "      <td>1.0</td>\n",
       "      <td>0.0</td>\n",
       "      <td>0.0</td>\n",
       "      <td>0.0</td>\n",
       "      <td>1.0</td>\n",
       "      <td>0.0</td>\n",
       "      <td>0.0</td>\n",
       "      <td>0.0</td>\n",
       "      <td>1.0</td>\n",
       "      <td>0.0</td>\n",
       "    </tr>\n",
       "    <tr>\n",
       "      <td>25126</td>\n",
       "      <td>150000</td>\n",
       "      <td>1</td>\n",
       "      <td>43</td>\n",
       "      <td>0</td>\n",
       "      <td>0</td>\n",
       "      <td>0</td>\n",
       "      <td>0</td>\n",
       "      <td>0</td>\n",
       "      <td>0</td>\n",
       "      <td>1683</td>\n",
       "      <td>...</td>\n",
       "      <td>0.0</td>\n",
       "      <td>0.0</td>\n",
       "      <td>0.0</td>\n",
       "      <td>0.0</td>\n",
       "      <td>1.0</td>\n",
       "      <td>0.0</td>\n",
       "      <td>0.0</td>\n",
       "      <td>0.0</td>\n",
       "      <td>1.0</td>\n",
       "      <td>0.0</td>\n",
       "    </tr>\n",
       "    <tr>\n",
       "      <td>25127</td>\n",
       "      <td>50000</td>\n",
       "      <td>1</td>\n",
       "      <td>46</td>\n",
       "      <td>0</td>\n",
       "      <td>0</td>\n",
       "      <td>0</td>\n",
       "      <td>0</td>\n",
       "      <td>0</td>\n",
       "      <td>0</td>\n",
       "      <td>47929</td>\n",
       "      <td>...</td>\n",
       "      <td>1.0</td>\n",
       "      <td>0.0</td>\n",
       "      <td>0.0</td>\n",
       "      <td>0.0</td>\n",
       "      <td>1.0</td>\n",
       "      <td>0.0</td>\n",
       "      <td>0.0</td>\n",
       "      <td>0.0</td>\n",
       "      <td>1.0</td>\n",
       "      <td>0.0</td>\n",
       "    </tr>\n",
       "  </tbody>\n",
       "</table>\n",
       "<p>25128 rows × 54 columns</p>\n",
       "</div>"
      ],
      "text/plain": [
       "       LIMIT_BAL  SEX  AGE  PAY_0  PAY_2  PAY_3  PAY_4  PAY_5  PAY_6  \\\n",
       "0          20000    2   24      2      2      0      0      0      0   \n",
       "1         120000    2   26      0      2      0      0      0      2   \n",
       "2          90000    2   34      0      0      0      0      0      0   \n",
       "3          50000    2   37      0      0      0      0      0      0   \n",
       "4          50000    1   57      0      0      0      0      0      0   \n",
       "...          ...  ...  ...    ...    ...    ...    ...    ...    ...   \n",
       "25123      10000    1   43      0      0      0      0      0      0   \n",
       "25124      80000    1   34      2      2      2      2      2      2   \n",
       "25125     220000    1   39      0      0      0      0      0      0   \n",
       "25126     150000    1   43      0      0      0      0      0      0   \n",
       "25127      50000    1   46      0      0      0      0      0      0   \n",
       "\n",
       "       BILL_AMT1  ...  x5_0  x5_1  x6_-2  x6_-1  x6_0  x6_1  x7_-2  x7_-1  \\\n",
       "0           3913  ...   0.0   0.0    1.0    0.0   0.0   0.0    1.0    0.0   \n",
       "1           2682  ...   1.0   0.0    0.0    0.0   1.0   0.0    0.0    0.0   \n",
       "2          29239  ...   1.0   0.0    0.0    0.0   1.0   0.0    0.0    0.0   \n",
       "3          46990  ...   1.0   0.0    0.0    0.0   1.0   0.0    0.0    0.0   \n",
       "4           8617  ...   1.0   0.0    0.0    0.0   1.0   0.0    0.0    0.0   \n",
       "...          ...  ...   ...   ...    ...    ...   ...   ...    ...    ...   \n",
       "25123       8802  ...   0.0   0.0    1.0    0.0   0.0   0.0    1.0    0.0   \n",
       "25124      72557  ...   0.0   1.0    0.0    0.0   0.0   1.0    0.0    0.0   \n",
       "25125     188948  ...   1.0   0.0    0.0    0.0   1.0   0.0    0.0    0.0   \n",
       "25126       1683  ...   0.0   0.0    0.0    0.0   1.0   0.0    0.0    0.0   \n",
       "25127      47929  ...   1.0   0.0    0.0    0.0   1.0   0.0    0.0    0.0   \n",
       "\n",
       "       x7_0  x7_1  \n",
       "0       0.0   0.0  \n",
       "1       0.0   1.0  \n",
       "2       1.0   0.0  \n",
       "3       1.0   0.0  \n",
       "4       1.0   0.0  \n",
       "...     ...   ...  \n",
       "25123   0.0   0.0  \n",
       "25124   0.0   1.0  \n",
       "25125   1.0   0.0  \n",
       "25126   1.0   0.0  \n",
       "25127   1.0   0.0  \n",
       "\n",
       "[25128 rows x 54 columns]"
      ]
     },
     "execution_count": 32,
     "metadata": {},
     "output_type": "execute_result"
    }
   ],
   "source": [
    "df1 = df.drop(['EDUCATION', 'MARRIAGE',\"S_0\", \"S_2\", \"S_3\", \"S_4\", \"S_5\", \"S_6\"], axis = 1)\n",
    "df1 = pd.concat([df1.reset_index(drop=True), onehot], axis=1)\n",
    "df1"
   ]
  },
  {
   "cell_type": "code",
   "execution_count": 33,
   "metadata": {},
   "outputs": [
    {
     "data": {
      "text/html": [
       "<div>\n",
       "<style scoped>\n",
       "    .dataframe tbody tr th:only-of-type {\n",
       "        vertical-align: middle;\n",
       "    }\n",
       "\n",
       "    .dataframe tbody tr th {\n",
       "        vertical-align: top;\n",
       "    }\n",
       "\n",
       "    .dataframe thead th {\n",
       "        text-align: right;\n",
       "    }\n",
       "</style>\n",
       "<table border=\"1\" class=\"dataframe\">\n",
       "  <thead>\n",
       "    <tr style=\"text-align: right;\">\n",
       "      <th></th>\n",
       "      <th>LIMIT_BAL</th>\n",
       "      <th>SEX</th>\n",
       "      <th>AGE</th>\n",
       "      <th>PAY_0</th>\n",
       "      <th>PAY_2</th>\n",
       "      <th>PAY_3</th>\n",
       "      <th>PAY_4</th>\n",
       "      <th>PAY_5</th>\n",
       "      <th>PAY_6</th>\n",
       "      <th>BILL_AMT1</th>\n",
       "      <th>...</th>\n",
       "      <th>x5_0</th>\n",
       "      <th>x5_1</th>\n",
       "      <th>x6_-2</th>\n",
       "      <th>x6_-1</th>\n",
       "      <th>x6_0</th>\n",
       "      <th>x6_1</th>\n",
       "      <th>x7_-2</th>\n",
       "      <th>x7_-1</th>\n",
       "      <th>x7_0</th>\n",
       "      <th>x7_1</th>\n",
       "    </tr>\n",
       "  </thead>\n",
       "  <tbody>\n",
       "    <tr>\n",
       "      <td>PAY_5</td>\n",
       "      <td>-0.137504</td>\n",
       "      <td>-0.020715</td>\n",
       "      <td>-0.018503</td>\n",
       "      <td>0.329063</td>\n",
       "      <td>0.376564</td>\n",
       "      <td>0.404531</td>\n",
       "      <td>0.600780</td>\n",
       "      <td>0.000000</td>\n",
       "      <td>0.609907</td>\n",
       "      <td>0.033914</td>\n",
       "      <td>...</td>\n",
       "      <td>-0.176377</td>\n",
       "      <td>0.600671</td>\n",
       "      <td>-0.132974</td>\n",
       "      <td>-0.144588</td>\n",
       "      <td>-0.338040</td>\n",
       "      <td>1.000000</td>\n",
       "      <td>-0.124204</td>\n",
       "      <td>-0.119272</td>\n",
       "      <td>-0.153801</td>\n",
       "      <td>0.609907</td>\n",
       "    </tr>\n",
       "    <tr>\n",
       "      <td>PAY_6</td>\n",
       "      <td>-0.141827</td>\n",
       "      <td>-0.016436</td>\n",
       "      <td>-0.024559</td>\n",
       "      <td>0.293515</td>\n",
       "      <td>0.336756</td>\n",
       "      <td>0.372171</td>\n",
       "      <td>0.427355</td>\n",
       "      <td>0.609907</td>\n",
       "      <td>0.000000</td>\n",
       "      <td>0.034888</td>\n",
       "      <td>...</td>\n",
       "      <td>-0.081909</td>\n",
       "      <td>0.427271</td>\n",
       "      <td>-0.137645</td>\n",
       "      <td>-0.088522</td>\n",
       "      <td>-0.163521</td>\n",
       "      <td>0.609907</td>\n",
       "      <td>-0.144620</td>\n",
       "      <td>-0.153292</td>\n",
       "      <td>-0.331383</td>\n",
       "      <td>1.000000</td>\n",
       "    </tr>\n",
       "    <tr>\n",
       "      <td>x6_1</td>\n",
       "      <td>-0.137504</td>\n",
       "      <td>-0.020715</td>\n",
       "      <td>-0.018503</td>\n",
       "      <td>0.329063</td>\n",
       "      <td>0.376564</td>\n",
       "      <td>0.404531</td>\n",
       "      <td>0.600780</td>\n",
       "      <td>1.000000</td>\n",
       "      <td>0.609907</td>\n",
       "      <td>0.033914</td>\n",
       "      <td>...</td>\n",
       "      <td>-0.176377</td>\n",
       "      <td>0.600671</td>\n",
       "      <td>-0.132974</td>\n",
       "      <td>-0.144588</td>\n",
       "      <td>-0.338040</td>\n",
       "      <td>0.000000</td>\n",
       "      <td>-0.124204</td>\n",
       "      <td>-0.119272</td>\n",
       "      <td>-0.153801</td>\n",
       "      <td>0.609907</td>\n",
       "    </tr>\n",
       "    <tr>\n",
       "      <td>x7_1</td>\n",
       "      <td>-0.141827</td>\n",
       "      <td>-0.016436</td>\n",
       "      <td>-0.024559</td>\n",
       "      <td>0.293515</td>\n",
       "      <td>0.336756</td>\n",
       "      <td>0.372171</td>\n",
       "      <td>0.427355</td>\n",
       "      <td>0.609907</td>\n",
       "      <td>1.000000</td>\n",
       "      <td>0.034888</td>\n",
       "      <td>...</td>\n",
       "      <td>-0.081909</td>\n",
       "      <td>0.427271</td>\n",
       "      <td>-0.137645</td>\n",
       "      <td>-0.088522</td>\n",
       "      <td>-0.163521</td>\n",
       "      <td>0.609907</td>\n",
       "      <td>-0.144620</td>\n",
       "      <td>-0.153292</td>\n",
       "      <td>-0.331383</td>\n",
       "      <td>0.000000</td>\n",
       "    </tr>\n",
       "  </tbody>\n",
       "</table>\n",
       "<p>4 rows × 54 columns</p>\n",
       "</div>"
      ],
      "text/plain": [
       "       LIMIT_BAL       SEX       AGE     PAY_0     PAY_2     PAY_3     PAY_4  \\\n",
       "PAY_5  -0.137504 -0.020715 -0.018503  0.329063  0.376564  0.404531  0.600780   \n",
       "PAY_6  -0.141827 -0.016436 -0.024559  0.293515  0.336756  0.372171  0.427355   \n",
       "x6_1   -0.137504 -0.020715 -0.018503  0.329063  0.376564  0.404531  0.600780   \n",
       "x7_1   -0.141827 -0.016436 -0.024559  0.293515  0.336756  0.372171  0.427355   \n",
       "\n",
       "          PAY_5     PAY_6  BILL_AMT1  ...      x5_0      x5_1     x6_-2  \\\n",
       "PAY_5  0.000000  0.609907   0.033914  ... -0.176377  0.600671 -0.132974   \n",
       "PAY_6  0.609907  0.000000   0.034888  ... -0.081909  0.427271 -0.137645   \n",
       "x6_1   1.000000  0.609907   0.033914  ... -0.176377  0.600671 -0.132974   \n",
       "x7_1   0.609907  1.000000   0.034888  ... -0.081909  0.427271 -0.137645   \n",
       "\n",
       "          x6_-1      x6_0      x6_1     x7_-2     x7_-1      x7_0      x7_1  \n",
       "PAY_5 -0.144588 -0.338040  1.000000 -0.124204 -0.119272 -0.153801  0.609907  \n",
       "PAY_6 -0.088522 -0.163521  0.609907 -0.144620 -0.153292 -0.331383  1.000000  \n",
       "x6_1  -0.144588 -0.338040  0.000000 -0.124204 -0.119272 -0.153801  0.609907  \n",
       "x7_1  -0.088522 -0.163521  0.609907 -0.144620 -0.153292 -0.331383  0.000000  \n",
       "\n",
       "[4 rows x 54 columns]"
      ]
     },
     "execution_count": 33,
     "metadata": {},
     "output_type": "execute_result"
    }
   ],
   "source": [
    "corr = df1.corr()\n",
    "for i in range(len(corr)):\n",
    "    corr.iloc[i,i] = 0\n",
    "#corr[corr == 1] = 0\n",
    "corr[corr.eq(1).any(1)]"
   ]
  },
  {
   "cell_type": "code",
   "execution_count": 34,
   "metadata": {},
   "outputs": [],
   "source": [
    "#x6_1 and pay_5 are perfectly correlated\n",
    "#x7_1 and pay_6 are perfectly correlated\n",
    "\n",
    "df1 = df1.drop([\"x6_1\", \"x7_1\"], axis =1)"
   ]
  },
  {
   "cell_type": "markdown",
   "metadata": {},
   "source": [
    "The models used subsequently may have difficulty converging before the maximum number of iterations allowed\n",
    "is reached if the data is not normalized. Additionaly, for neural networks Multi-layer Perceptron is sensitive to feature scaling, so we will use the built-in StandardScaler for standardization. Other than the training set, the test set values are scaled as well."
   ]
  },
  {
   "cell_type": "code",
   "execution_count": null,
   "metadata": {},
   "outputs": [],
   "source": [
    "from sklearn.preprocessing import StandardScaler\n",
    "scaler = StandardScaler()\n",
    "scaler.fit(X_train)\n",
    "X_train = scaler.transform(X_train)\n",
    "X_test = scaler.transform(X_test)"
   ]
  },
  {
   "cell_type": "code",
   "execution_count": 35,
   "metadata": {},
   "outputs": [
    {
     "data": {
      "text/html": [
       "<div>\n",
       "<style scoped>\n",
       "    .dataframe tbody tr th:only-of-type {\n",
       "        vertical-align: middle;\n",
       "    }\n",
       "\n",
       "    .dataframe tbody tr th {\n",
       "        vertical-align: top;\n",
       "    }\n",
       "\n",
       "    .dataframe thead th {\n",
       "        text-align: right;\n",
       "    }\n",
       "</style>\n",
       "<table border=\"1\" class=\"dataframe\">\n",
       "  <thead>\n",
       "    <tr style=\"text-align: right;\">\n",
       "      <th></th>\n",
       "      <th>LIMIT_BAL</th>\n",
       "      <th>SEX</th>\n",
       "      <th>AGE</th>\n",
       "      <th>PAY_0</th>\n",
       "      <th>PAY_2</th>\n",
       "      <th>PAY_3</th>\n",
       "      <th>PAY_4</th>\n",
       "      <th>PAY_5</th>\n",
       "      <th>PAY_6</th>\n",
       "      <th>BILL_AMT1</th>\n",
       "      <th>...</th>\n",
       "      <th>x5_-2</th>\n",
       "      <th>x5_-1</th>\n",
       "      <th>x5_0</th>\n",
       "      <th>x5_1</th>\n",
       "      <th>x6_-2</th>\n",
       "      <th>x6_-1</th>\n",
       "      <th>x6_0</th>\n",
       "      <th>x7_-2</th>\n",
       "      <th>x7_-1</th>\n",
       "      <th>x7_0</th>\n",
       "    </tr>\n",
       "  </thead>\n",
       "  <tbody>\n",
       "    <tr>\n",
       "      <td>0</td>\n",
       "      <td>20000</td>\n",
       "      <td>2</td>\n",
       "      <td>24</td>\n",
       "      <td>2</td>\n",
       "      <td>2</td>\n",
       "      <td>0</td>\n",
       "      <td>0</td>\n",
       "      <td>0</td>\n",
       "      <td>0</td>\n",
       "      <td>3913</td>\n",
       "      <td>...</td>\n",
       "      <td>0.0</td>\n",
       "      <td>1.0</td>\n",
       "      <td>0.0</td>\n",
       "      <td>0.0</td>\n",
       "      <td>1.0</td>\n",
       "      <td>0.0</td>\n",
       "      <td>0.0</td>\n",
       "      <td>1.0</td>\n",
       "      <td>0.0</td>\n",
       "      <td>0.0</td>\n",
       "    </tr>\n",
       "    <tr>\n",
       "      <td>1</td>\n",
       "      <td>120000</td>\n",
       "      <td>2</td>\n",
       "      <td>26</td>\n",
       "      <td>0</td>\n",
       "      <td>2</td>\n",
       "      <td>0</td>\n",
       "      <td>0</td>\n",
       "      <td>0</td>\n",
       "      <td>2</td>\n",
       "      <td>2682</td>\n",
       "      <td>...</td>\n",
       "      <td>0.0</td>\n",
       "      <td>0.0</td>\n",
       "      <td>1.0</td>\n",
       "      <td>0.0</td>\n",
       "      <td>0.0</td>\n",
       "      <td>0.0</td>\n",
       "      <td>1.0</td>\n",
       "      <td>0.0</td>\n",
       "      <td>0.0</td>\n",
       "      <td>0.0</td>\n",
       "    </tr>\n",
       "    <tr>\n",
       "      <td>2</td>\n",
       "      <td>90000</td>\n",
       "      <td>2</td>\n",
       "      <td>34</td>\n",
       "      <td>0</td>\n",
       "      <td>0</td>\n",
       "      <td>0</td>\n",
       "      <td>0</td>\n",
       "      <td>0</td>\n",
       "      <td>0</td>\n",
       "      <td>29239</td>\n",
       "      <td>...</td>\n",
       "      <td>0.0</td>\n",
       "      <td>0.0</td>\n",
       "      <td>1.0</td>\n",
       "      <td>0.0</td>\n",
       "      <td>0.0</td>\n",
       "      <td>0.0</td>\n",
       "      <td>1.0</td>\n",
       "      <td>0.0</td>\n",
       "      <td>0.0</td>\n",
       "      <td>1.0</td>\n",
       "    </tr>\n",
       "    <tr>\n",
       "      <td>3</td>\n",
       "      <td>50000</td>\n",
       "      <td>2</td>\n",
       "      <td>37</td>\n",
       "      <td>0</td>\n",
       "      <td>0</td>\n",
       "      <td>0</td>\n",
       "      <td>0</td>\n",
       "      <td>0</td>\n",
       "      <td>0</td>\n",
       "      <td>46990</td>\n",
       "      <td>...</td>\n",
       "      <td>0.0</td>\n",
       "      <td>0.0</td>\n",
       "      <td>1.0</td>\n",
       "      <td>0.0</td>\n",
       "      <td>0.0</td>\n",
       "      <td>0.0</td>\n",
       "      <td>1.0</td>\n",
       "      <td>0.0</td>\n",
       "      <td>0.0</td>\n",
       "      <td>1.0</td>\n",
       "    </tr>\n",
       "    <tr>\n",
       "      <td>4</td>\n",
       "      <td>50000</td>\n",
       "      <td>1</td>\n",
       "      <td>57</td>\n",
       "      <td>0</td>\n",
       "      <td>0</td>\n",
       "      <td>0</td>\n",
       "      <td>0</td>\n",
       "      <td>0</td>\n",
       "      <td>0</td>\n",
       "      <td>8617</td>\n",
       "      <td>...</td>\n",
       "      <td>0.0</td>\n",
       "      <td>0.0</td>\n",
       "      <td>1.0</td>\n",
       "      <td>0.0</td>\n",
       "      <td>0.0</td>\n",
       "      <td>0.0</td>\n",
       "      <td>1.0</td>\n",
       "      <td>0.0</td>\n",
       "      <td>0.0</td>\n",
       "      <td>1.0</td>\n",
       "    </tr>\n",
       "  </tbody>\n",
       "</table>\n",
       "<p>5 rows × 52 columns</p>\n",
       "</div>"
      ],
      "text/plain": [
       "   LIMIT_BAL  SEX  AGE  PAY_0  PAY_2  PAY_3  PAY_4  PAY_5  PAY_6  BILL_AMT1  \\\n",
       "0      20000    2   24      2      2      0      0      0      0       3913   \n",
       "1     120000    2   26      0      2      0      0      0      2       2682   \n",
       "2      90000    2   34      0      0      0      0      0      0      29239   \n",
       "3      50000    2   37      0      0      0      0      0      0      46990   \n",
       "4      50000    1   57      0      0      0      0      0      0       8617   \n",
       "\n",
       "   ...  x5_-2  x5_-1  x5_0  x5_1  x6_-2  x6_-1  x6_0  x7_-2  x7_-1  x7_0  \n",
       "0  ...    0.0    1.0   0.0   0.0    1.0    0.0   0.0    1.0    0.0   0.0  \n",
       "1  ...    0.0    0.0   1.0   0.0    0.0    0.0   1.0    0.0    0.0   0.0  \n",
       "2  ...    0.0    0.0   1.0   0.0    0.0    0.0   1.0    0.0    0.0   1.0  \n",
       "3  ...    0.0    0.0   1.0   0.0    0.0    0.0   1.0    0.0    0.0   1.0  \n",
       "4  ...    0.0    0.0   1.0   0.0    0.0    0.0   1.0    0.0    0.0   1.0  \n",
       "\n",
       "[5 rows x 52 columns]"
      ]
     },
     "execution_count": 35,
     "metadata": {},
     "output_type": "execute_result"
    }
   ],
   "source": [
    "df1.head()"
   ]
  },
  {
   "cell_type": "markdown",
   "metadata": {
    "colab_type": "text",
    "id": "mbhlIlQzZz7c"
   },
   "source": [
    "## Model Selection\n",
    "\n",
    "In this part, we will fit machine learning models learnt in BT2101 to this classification problem, and pick the model that can produce the best results.\n",
    "\n",
    "We will be attempting to fit the following models:\n",
    "- K-Nearest Neighbour\n",
    "- Support Vector Machine\n",
    "- Decision Tree \n",
    "- Naive Bayes Classifier\n",
    "- Logistic Regression\n",
    "- Neural Network\n"
   ]
  },
  {
   "cell_type": "code",
   "execution_count": 46,
   "metadata": {},
   "outputs": [],
   "source": [
    "from sklearn.metrics import *\n",
    "from sklearn.model_selection import *"
   ]
  },
  {
   "cell_type": "code",
   "execution_count": 47,
   "metadata": {
    "colab": {},
    "colab_type": "code",
    "id": "VOB68z_hM1jW"
   },
   "outputs": [],
   "source": [
    "#using holdout sampling for train test split\n",
    "ft = df1.drop(\"Y\", axis = 1)\n",
    "target = df1[\"Y\"]\n",
    "X_train,X_test,y_train,y_test = train_test_split(ft,target,test_size=0.20)\n",
    "#make the results reproducible\n",
    "np.random.seed(123) "
   ]
  },
  {
   "cell_type": "markdown",
   "metadata": {},
   "source": [
    "To make things easier, we define a get_roc function that will plot an ROC curve for all the models we evaluate, and a confusion matrix function."
   ]
  },
  {
   "cell_type": "code",
   "execution_count": 38,
   "metadata": {},
   "outputs": [],
   "source": [
    "def get_roc(model, y_test, X_test, name):\n",
    "    try:\n",
    "        fpr = roc_curve(y_test,model.predict_proba(X_test)[:,1])[0]\n",
    "        tpr = roc_curve(y_test,model.predict_proba(X_test)[:,1])[1]\n",
    "        thresholds = roc_curve(y_test,model.predict_proba(X_test)[:,1])[2]\n",
    "    except:\n",
    "        fpr = roc_curve(y_test,model.predict(X_test))[0]\n",
    "        tpr = roc_curve(y_test,model.predict(X_test))[1]\n",
    "        thresholds = roc_curve(y_test,model.predict(X_test))[2]\n",
    "    plt.plot([0, 1], [0, 1], color='navy', linestyle='--')\n",
    "    plt.xlim([0.0, 1.0])\n",
    "    plt.ylim([0.0, 1.05])\n",
    "    plt.xlabel('False Positive Rate')\n",
    "    plt.ylabel('True Positive Rate')\n",
    "    plt.title('Receiver operating characteristic for ' + name)\n",
    "    plt.plot(fpr,tpr,label='ROC curve (AUC = %0.2f)' % (auc(fpr, tpr)))\n",
    "    plt.legend(loc=\"lower right\")\n",
    "    \n",
    "    #find- best threshold\n",
    "    optimal_idx = np.argmax(tpr - fpr)\n",
    "    optimal_threshold = thresholds[optimal_idx]\n",
    "    print(\"Optimal Threshold: \" + str(optimal_threshold))\n",
    "    \n",
    "    plt.show()\n"
   ]
  },
  {
   "cell_type": "code",
   "execution_count": 39,
   "metadata": {
    "scrolled": true
   },
   "outputs": [],
   "source": [
    "def confusion(y_test, predictions, name):\n",
    "    conf = pd.crosstab(y_test,predictions, rownames=['Actual'], colnames=['Predicted'])\n",
    "    print(\"Of \" + str(conf[0][1] + conf[1][1]) + \" Defaulters, the \" + name + \" identified \" + str(conf[1][1])) \n",
    "    return conf"
   ]
  },
  {
   "cell_type": "markdown",
   "metadata": {},
   "source": [
    "### Evaluation \n",
    "We will select the model based on the model evaluation. The key metrics we will compute are:\n",
    "\n",
    "1. Accuracy\n",
    "2. Recall\n",
    "3. AUROC\n",
    "\n",
    "Because of the nature of a default detection problem, we would like to prioritise **recall** for defaults. \n",
    "This means we will place more importance in correctly identifying a defaulter than avoiding misclassifying a non-defaulter. (Assumming that the bank loses more money when lending to a defaulter than not lending to a non-defaulter)\n",
    "\n",
    "However, simply predicting every data point as a defaulter will give us 100% recall. We have to also consider accuracy and AUROC to get a better idea of how our model performs.\n"
   ]
  },
  {
   "cell_type": "markdown",
   "metadata": {
    "colab_type": "text",
    "id": "PEyK8hM1BHj3"
   },
   "source": [
    "### Model 1 - K-Nearest Neighbour"
   ]
  },
  {
   "cell_type": "code",
   "execution_count": 40,
   "metadata": {
    "colab": {
     "base_uri": "https://localhost:8080/",
     "height": 54
    },
    "colab_type": "code",
    "id": "mgcr1jtzcVpL",
    "outputId": "669a1298-dc36-4dfc-e9fd-298089a515dc"
   },
   "outputs": [],
   "source": [
    "import numpy as np\n",
    "from sklearn.neighbors import KNeighborsClassifier\n",
    "\n",
    "neighbours = np.arange(1,25)\n",
    "train_accuracy =np.empty(len(neighbours))\n",
    "test_accuracy = np.empty(len(neighbours))\n",
    "                                \n",
    "for i,k in enumerate(neighbours):\n",
    "    #Setup a knn classifier with k neighbors\n",
    "    knn=KNeighborsClassifier(n_neighbors=k,algorithm=\"kd_tree\",n_jobs=-1)\n",
    "    \n",
    "    #Fit the model\n",
    "    knn.fit(X_train,y_train.ravel())\n",
    "    \n",
    "    #Compute accuracy on the training set\n",
    "    train_accuracy[i] = knn.score(X_train, y_train.ravel())\n",
    "    \n",
    "    #Compute accuracy on the test set\n",
    "    test_accuracy[i] = knn.score(X_test, y_test.ravel())\n"
   ]
  },
  {
   "cell_type": "code",
   "execution_count": 41,
   "metadata": {
    "colab": {
     "base_uri": "https://localhost:8080/",
     "height": 295
    },
    "colab_type": "code",
    "id": "OUhQMYZhPKUS",
    "outputId": "ea071750-1327-4907-8934-c329416798f2"
   },
   "outputs": [
    {
     "data": {
      "image/png": "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\n",
      "text/plain": [
       "<Figure size 432x288 with 1 Axes>"
      ]
     },
     "metadata": {
      "needs_background": "light"
     },
     "output_type": "display_data"
    }
   ],
   "source": [
    "#Generate plot\n",
    "plt.title('k-NN Varying number of neighbors')\n",
    "plt.plot(neighbours, test_accuracy, label='Testing Accuracy')\n",
    "plt.plot(neighbours, train_accuracy, label='Training accuracy')\n",
    "plt.legend()\n",
    "plt.xlabel('Number of neighbors')\n",
    "plt.ylabel('Accuracy')\n",
    "plt.show()"
   ]
  },
  {
   "cell_type": "code",
   "execution_count": 42,
   "metadata": {
    "colab": {
     "base_uri": "https://localhost:8080/",
     "height": 170
    },
    "colab_type": "code",
    "id": "AKG1zgjxPcPE",
    "outputId": "eac2fe99-1db9-4160-e3ff-da85bb9c2459"
   },
   "outputs": [
    {
     "name": "stdout",
     "output_type": "stream",
     "text": [
      "              precision    recall  f1-score   support\n",
      "\n",
      "           0       0.78      0.98      0.87      3899\n",
      "           1       0.52      0.06      0.11      1127\n",
      "\n",
      "    accuracy                           0.78      5026\n",
      "   macro avg       0.65      0.52      0.49      5026\n",
      "weighted avg       0.73      0.78      0.70      5026\n",
      "\n"
     ]
    }
   ],
   "source": [
    "# best k:\n",
    "idx = np.where(test_accuracy == max(test_accuracy))\n",
    "k = neighbours[idx][0]\n",
    "knn = KNeighborsClassifier(n_neighbors=k,algorithm=\"kd_tree\",n_jobs=-1)\n",
    "knn.fit(X_train,y_train.ravel())\n",
    "print(classification_report(y_test,knn.predict(X_test)))"
   ]
  },
  {
   "cell_type": "markdown",
   "metadata": {
    "colab": {},
    "colab_type": "code",
    "id": "0LZH_AAXUL72"
   },
   "source": [
    "Despite a reasonably high accuracy, the KNN model has very low recall for defaults."
   ]
  },
  {
   "cell_type": "code",
   "execution_count": 43,
   "metadata": {
    "scrolled": true
   },
   "outputs": [
    {
     "name": "stdout",
     "output_type": "stream",
     "text": [
      "Of 1127 Defaulters, the KNN identified 69\n"
     ]
    },
    {
     "data": {
      "text/html": [
       "<div>\n",
       "<style scoped>\n",
       "    .dataframe tbody tr th:only-of-type {\n",
       "        vertical-align: middle;\n",
       "    }\n",
       "\n",
       "    .dataframe tbody tr th {\n",
       "        vertical-align: top;\n",
       "    }\n",
       "\n",
       "    .dataframe thead th {\n",
       "        text-align: right;\n",
       "    }\n",
       "</style>\n",
       "<table border=\"1\" class=\"dataframe\">\n",
       "  <thead>\n",
       "    <tr style=\"text-align: right;\">\n",
       "      <th>Predicted</th>\n",
       "      <th>0</th>\n",
       "      <th>1</th>\n",
       "    </tr>\n",
       "    <tr>\n",
       "      <th>Actual</th>\n",
       "      <th></th>\n",
       "      <th></th>\n",
       "    </tr>\n",
       "  </thead>\n",
       "  <tbody>\n",
       "    <tr>\n",
       "      <td>0</td>\n",
       "      <td>3836</td>\n",
       "      <td>63</td>\n",
       "    </tr>\n",
       "    <tr>\n",
       "      <td>1</td>\n",
       "      <td>1058</td>\n",
       "      <td>69</td>\n",
       "    </tr>\n",
       "  </tbody>\n",
       "</table>\n",
       "</div>"
      ],
      "text/plain": [
       "Predicted     0   1\n",
       "Actual             \n",
       "0          3836  63\n",
       "1          1058  69"
      ]
     },
     "execution_count": 43,
     "metadata": {},
     "output_type": "execute_result"
    }
   ],
   "source": [
    "confusion(y_test, knn.predict(X_test), \"KNN\")"
   ]
  },
  {
   "cell_type": "markdown",
   "metadata": {
    "colab_type": "text",
    "id": "H89tM6NvaN17"
   },
   "source": [
    "### Model 2 - Decision Trees\n",
    "\n",
    "#### Theory:\n",
    "The decision tree algorithm aims to recursively split the data points in the training set until the data points are completely separated or well separated. At each iteration, the tree splits the datasets by the feature(s) that give the maximum reduction in heterogeneity, which is calculated by a heterogeneity index.\n",
    "\n",
    "Below is a binary decision tree that has been split for a few iterations.\n",
    "\n",
    "![image.png](https://elf11.github.io/images/decisionTree.png)\n",
    "\n",
    "Since the target for this project is binary (fraud = yes or no) we will be building a binary decision tree, using the the GINI Index as the Heterogeneity index. The GINI is given by:\n",
    "\n",
    "![image.png](https://miro.medium.com/max/664/1*otdoiyIwxJI-UV0ukkyutw.png)\n",
    "\n",
    "The GINI index measures how heterogenous a single node is (0 being completely homogenous and 1 being heterogenous). For each possible split, we will calculate the *weighted sum* of the GINI indices of the child nodes, and choose the split that results in the maximum information gain. i.e. reduction in the weighted sum of the GINI Index.\n",
    "\n",
    "#### Training\n",
    "We will now construct a simple decision tree using the GINI index."
   ]
  },
  {
   "cell_type": "code",
   "execution_count": 44,
   "metadata": {},
   "outputs": [],
   "source": [
    "from sklearn.tree import DecisionTreeClassifier"
   ]
  },
  {
   "cell_type": "code",
   "execution_count": 45,
   "metadata": {},
   "outputs": [
    {
     "data": {
      "text/plain": [
       "DecisionTreeClassifier(class_weight=None, criterion='gini', max_depth=None,\n",
       "                       max_features=None, max_leaf_nodes=None,\n",
       "                       min_impurity_decrease=0.0, min_impurity_split=None,\n",
       "                       min_samples_leaf=1, min_samples_split=2,\n",
       "                       min_weight_fraction_leaf=0.0, presort=False,\n",
       "                       random_state=None, splitter='best')"
      ]
     },
     "execution_count": 45,
     "metadata": {},
     "output_type": "execute_result"
    }
   ],
   "source": [
    "tree = DecisionTreeClassifier()\n",
    "tree.fit(X_train, y_train)"
   ]
  },
  {
   "cell_type": "code",
   "execution_count": 46,
   "metadata": {},
   "outputs": [
    {
     "name": "stdout",
     "output_type": "stream",
     "text": [
      "              precision    recall  f1-score   support\n",
      "\n",
      "           0       1.00      1.00      1.00     15890\n",
      "           1       1.00      1.00      1.00      4212\n",
      "\n",
      "    accuracy                           1.00     20102\n",
      "   macro avg       1.00      1.00      1.00     20102\n",
      "weighted avg       1.00      1.00      1.00     20102\n",
      "\n"
     ]
    }
   ],
   "source": [
    "print(classification_report(y_train, tree.predict(X_train)))"
   ]
  },
  {
   "cell_type": "markdown",
   "metadata": {},
   "source": [
    "The training set accuracy is 1, which means the datapoints are completely separated by the decision tree. We evaluate on the test set below."
   ]
  },
  {
   "cell_type": "code",
   "execution_count": 47,
   "metadata": {},
   "outputs": [
    {
     "name": "stdout",
     "output_type": "stream",
     "text": [
      "Of 1127 Defaulters, the Decision Tree (GINI) identified 428\n"
     ]
    },
    {
     "data": {
      "text/html": [
       "<div>\n",
       "<style scoped>\n",
       "    .dataframe tbody tr th:only-of-type {\n",
       "        vertical-align: middle;\n",
       "    }\n",
       "\n",
       "    .dataframe tbody tr th {\n",
       "        vertical-align: top;\n",
       "    }\n",
       "\n",
       "    .dataframe thead th {\n",
       "        text-align: right;\n",
       "    }\n",
       "</style>\n",
       "<table border=\"1\" class=\"dataframe\">\n",
       "  <thead>\n",
       "    <tr style=\"text-align: right;\">\n",
       "      <th>Predicted</th>\n",
       "      <th>0</th>\n",
       "      <th>1</th>\n",
       "    </tr>\n",
       "    <tr>\n",
       "      <th>Actual</th>\n",
       "      <th></th>\n",
       "      <th></th>\n",
       "    </tr>\n",
       "  </thead>\n",
       "  <tbody>\n",
       "    <tr>\n",
       "      <td>0</td>\n",
       "      <td>3163</td>\n",
       "      <td>736</td>\n",
       "    </tr>\n",
       "    <tr>\n",
       "      <td>1</td>\n",
       "      <td>699</td>\n",
       "      <td>428</td>\n",
       "    </tr>\n",
       "  </tbody>\n",
       "</table>\n",
       "</div>"
      ],
      "text/plain": [
       "Predicted     0    1\n",
       "Actual              \n",
       "0          3163  736\n",
       "1           699  428"
      ]
     },
     "execution_count": 47,
     "metadata": {},
     "output_type": "execute_result"
    }
   ],
   "source": [
    "confusion(y_test, tree.predict(X_test), \"Decision Tree (GINI)\")"
   ]
  },
  {
   "cell_type": "code",
   "execution_count": 48,
   "metadata": {},
   "outputs": [
    {
     "name": "stdout",
     "output_type": "stream",
     "text": [
      "Optimal Threshold: 1.0\n"
     ]
    },
    {
     "data": {
      "image/png": "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\n",
      "text/plain": [
       "<Figure size 432x288 with 1 Axes>"
      ]
     },
     "metadata": {
      "needs_background": "light"
     },
     "output_type": "display_data"
    }
   ],
   "source": [
    "get_roc(tree, y_test, X_test, \"Decision Tree (GINI)\")"
   ]
  },
  {
   "cell_type": "code",
   "execution_count": 49,
   "metadata": {},
   "outputs": [
    {
     "name": "stdout",
     "output_type": "stream",
     "text": [
      "              precision    recall  f1-score   support\n",
      "\n",
      "           0       0.82      0.81      0.82      3899\n",
      "           1       0.37      0.38      0.37      1127\n",
      "\n",
      "    accuracy                           0.71      5026\n",
      "   macro avg       0.59      0.60      0.59      5026\n",
      "weighted avg       0.72      0.71      0.72      5026\n",
      "\n"
     ]
    }
   ],
   "source": [
    "print(classification_report(y_test, tree.predict(X_test)))"
   ]
  },
  {
   "cell_type": "markdown",
   "metadata": {},
   "source": [
    "### Random Forest Classifier\n",
    "\n",
    "#### Theory\n",
    "Random Forest is an ensemble method for the decision tree algorithm. It works by randomly choosing different features and data points to train multiple trees (that is, to form a forest) - and the resulting prediction is decided by the votes from all the trees. \n",
    "\n",
    "Decision Trees are prone to overfitting on the training data, which reduces the performance on the test set. Random Forest mitigates this by training multiple trees. Random Forest is a form of bagging ensemble where the trees are trained concurrently. \n",
    "\n",
    "#### Training\n",
    "To keep things consistent, our Random Forest classifier will also use the GINI Coefficient.\n",
    "\n"
   ]
  },
  {
   "cell_type": "code",
   "execution_count": 50,
   "metadata": {},
   "outputs": [],
   "source": [
    "from sklearn.ensemble import RandomForestClassifier\n",
    "randf = RandomForestClassifier(n_estimators=300)"
   ]
  },
  {
   "cell_type": "code",
   "execution_count": 51,
   "metadata": {},
   "outputs": [
    {
     "data": {
      "text/plain": [
       "RandomForestClassifier(bootstrap=True, class_weight=None, criterion='gini',\n",
       "                       max_depth=None, max_features='auto', max_leaf_nodes=None,\n",
       "                       min_impurity_decrease=0.0, min_impurity_split=None,\n",
       "                       min_samples_leaf=1, min_samples_split=2,\n",
       "                       min_weight_fraction_leaf=0.0, n_estimators=300,\n",
       "                       n_jobs=None, oob_score=False, random_state=None,\n",
       "                       verbose=0, warm_start=False)"
      ]
     },
     "execution_count": 51,
     "metadata": {},
     "output_type": "execute_result"
    }
   ],
   "source": [
    "randf.fit(X_train, y_train)"
   ]
  },
  {
   "cell_type": "code",
   "execution_count": 52,
   "metadata": {},
   "outputs": [
    {
     "name": "stdout",
     "output_type": "stream",
     "text": [
      "              precision    recall  f1-score   support\n",
      "\n",
      "           0       1.00      1.00      1.00     15890\n",
      "           1       1.00      1.00      1.00      4212\n",
      "\n",
      "    accuracy                           1.00     20102\n",
      "   macro avg       1.00      1.00      1.00     20102\n",
      "weighted avg       1.00      1.00      1.00     20102\n",
      "\n"
     ]
    }
   ],
   "source": [
    "print(classification_report(y_train, randf.predict(X_train)))"
   ]
  },
  {
   "cell_type": "markdown",
   "metadata": {},
   "source": [
    "The training set has also been 100% correctly classified by the random forest model. Evaluating with the test set:"
   ]
  },
  {
   "cell_type": "code",
   "execution_count": 53,
   "metadata": {},
   "outputs": [
    {
     "name": "stdout",
     "output_type": "stream",
     "text": [
      "              precision    recall  f1-score   support\n",
      "\n",
      "           0       0.83      0.95      0.89      3899\n",
      "           1       0.67      0.33      0.44      1127\n",
      "\n",
      "    accuracy                           0.81      5026\n",
      "   macro avg       0.75      0.64      0.67      5026\n",
      "weighted avg       0.80      0.81      0.79      5026\n",
      "\n"
     ]
    }
   ],
   "source": [
    "print(classification_report(y_test, randf.predict(X_test)))"
   ]
  },
  {
   "cell_type": "code",
   "execution_count": 54,
   "metadata": {},
   "outputs": [
    {
     "name": "stdout",
     "output_type": "stream",
     "text": [
      "Of 1127 Defaulters, the Decision Tree (Random Forest) identified 374\n"
     ]
    },
    {
     "data": {
      "text/html": [
       "<div>\n",
       "<style scoped>\n",
       "    .dataframe tbody tr th:only-of-type {\n",
       "        vertical-align: middle;\n",
       "    }\n",
       "\n",
       "    .dataframe tbody tr th {\n",
       "        vertical-align: top;\n",
       "    }\n",
       "\n",
       "    .dataframe thead th {\n",
       "        text-align: right;\n",
       "    }\n",
       "</style>\n",
       "<table border=\"1\" class=\"dataframe\">\n",
       "  <thead>\n",
       "    <tr style=\"text-align: right;\">\n",
       "      <th>Predicted</th>\n",
       "      <th>0</th>\n",
       "      <th>1</th>\n",
       "    </tr>\n",
       "    <tr>\n",
       "      <th>Actual</th>\n",
       "      <th></th>\n",
       "      <th></th>\n",
       "    </tr>\n",
       "  </thead>\n",
       "  <tbody>\n",
       "    <tr>\n",
       "      <td>0</td>\n",
       "      <td>3718</td>\n",
       "      <td>181</td>\n",
       "    </tr>\n",
       "    <tr>\n",
       "      <td>1</td>\n",
       "      <td>753</td>\n",
       "      <td>374</td>\n",
       "    </tr>\n",
       "  </tbody>\n",
       "</table>\n",
       "</div>"
      ],
      "text/plain": [
       "Predicted     0    1\n",
       "Actual              \n",
       "0          3718  181\n",
       "1           753  374"
      ]
     },
     "execution_count": 54,
     "metadata": {},
     "output_type": "execute_result"
    }
   ],
   "source": [
    "confusion(y_test, randf.predict(X_test), \"Decision Tree (Random Forest)\")"
   ]
  },
  {
   "cell_type": "code",
   "execution_count": 55,
   "metadata": {},
   "outputs": [
    {
     "name": "stdout",
     "output_type": "stream",
     "text": [
      "Optimal Threshold: 0.24333333333333335\n"
     ]
    },
    {
     "data": {
      "image/png": "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\n",
      "text/plain": [
       "<Figure size 432x288 with 1 Axes>"
      ]
     },
     "metadata": {
      "needs_background": "light"
     },
     "output_type": "display_data"
    }
   ],
   "source": [
    "get_roc(randf, y_test, X_test, \"Decision Tree (Random Forest)\")"
   ]
  },
  {
   "cell_type": "markdown",
   "metadata": {},
   "source": [
    "The random forest ensemble performs much better than the decision tree alone. The accuracy and AUROC are both superior to the decision tree alone."
   ]
  },
  {
   "cell_type": "markdown",
   "metadata": {},
   "source": [
    "### Gradient Boosted Trees Classifier\n",
    "\n",
    "#### Theory\n",
    "In this part we train a gradient boosted trees classifier using xgBoost. xgBoost is short for \"Extreme Gradient Boosting\". It is a boosting ensemble method for decision trees, which means that the trees are trained consecutively, where each new tree added is trained to correct the error from the previous tree.\n",
    "\n",
    "xgBoost uses the gradient descent algorithm that we learnt in BT2101 at each iteration to maximise the reduction in the error term. (More details? math?)\n",
    " \n",
    "#### Training\n",
    "For consistency our xgBoost ensemble will use n_estimators = 300 as we have done for the random forest ensemble."
   ]
  },
  {
   "cell_type": "code",
   "execution_count": 56,
   "metadata": {},
   "outputs": [
    {
     "data": {
      "text/plain": [
       "GradientBoostingClassifier(criterion='friedman_mse', init=None,\n",
       "                           learning_rate=0.1, loss='deviance', max_depth=4,\n",
       "                           max_features=None, max_leaf_nodes=None,\n",
       "                           min_impurity_decrease=0.0, min_impurity_split=None,\n",
       "                           min_samples_leaf=1, min_samples_split=2,\n",
       "                           min_weight_fraction_leaf=0.0, n_estimators=300,\n",
       "                           n_iter_no_change=None, presort='auto',\n",
       "                           random_state=None, subsample=1.0, tol=0.0001,\n",
       "                           validation_fraction=0.1, verbose=0,\n",
       "                           warm_start=False)"
      ]
     },
     "execution_count": 56,
     "metadata": {},
     "output_type": "execute_result"
    }
   ],
   "source": [
    "from sklearn.ensemble import GradientBoostingClassifier\n",
    "xgb = GradientBoostingClassifier(n_estimators=300, max_depth = 4)\n",
    "xgb.fit(X_train, y_train)"
   ]
  },
  {
   "cell_type": "code",
   "execution_count": 57,
   "metadata": {},
   "outputs": [
    {
     "name": "stdout",
     "output_type": "stream",
     "text": [
      "              precision    recall  f1-score   support\n",
      "\n",
      "           0       0.86      0.97      0.91     15890\n",
      "           1       0.79      0.40      0.53      4212\n",
      "\n",
      "    accuracy                           0.85     20102\n",
      "   macro avg       0.82      0.69      0.72     20102\n",
      "weighted avg       0.84      0.85      0.83     20102\n",
      "\n"
     ]
    }
   ],
   "source": [
    "print(classification_report(y_train, xgb.predict(X_train)))"
   ]
  },
  {
   "cell_type": "markdown",
   "metadata": {},
   "source": [
    "We observe that the xgBoost ensemble did not fully separate the data in the training set. (The default maximum depth is 3, so that might be a factor). Evaluating on the test set,"
   ]
  },
  {
   "cell_type": "code",
   "execution_count": 58,
   "metadata": {},
   "outputs": [
    {
     "name": "stdout",
     "output_type": "stream",
     "text": [
      "              precision    recall  f1-score   support\n",
      "\n",
      "           0       0.83      0.96      0.89      3899\n",
      "           1       0.68      0.32      0.44      1127\n",
      "\n",
      "    accuracy                           0.81      5026\n",
      "   macro avg       0.75      0.64      0.66      5026\n",
      "weighted avg       0.80      0.81      0.79      5026\n",
      "\n"
     ]
    }
   ],
   "source": [
    "print(classification_report(y_test, xgb.predict(X_test)))"
   ]
  },
  {
   "cell_type": "code",
   "execution_count": 59,
   "metadata": {},
   "outputs": [
    {
     "name": "stdout",
     "output_type": "stream",
     "text": [
      "Optimal Threshold: 0.2492940726546302\n"
     ]
    },
    {
     "data": {
      "image/png": "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\n",
      "text/plain": [
       "<Figure size 432x288 with 1 Axes>"
      ]
     },
     "metadata": {
      "needs_background": "light"
     },
     "output_type": "display_data"
    }
   ],
   "source": [
    "get_roc(xgb, y_test, X_test, \"Decision Tree (XGBoost)\")"
   ]
  },
  {
   "cell_type": "code",
   "execution_count": 60,
   "metadata": {},
   "outputs": [
    {
     "name": "stdout",
     "output_type": "stream",
     "text": [
      "Of 1127 Defaulters, the Decision Tree (Gradient Boosted Trees) identified 366\n"
     ]
    },
    {
     "data": {
      "text/html": [
       "<div>\n",
       "<style scoped>\n",
       "    .dataframe tbody tr th:only-of-type {\n",
       "        vertical-align: middle;\n",
       "    }\n",
       "\n",
       "    .dataframe tbody tr th {\n",
       "        vertical-align: top;\n",
       "    }\n",
       "\n",
       "    .dataframe thead th {\n",
       "        text-align: right;\n",
       "    }\n",
       "</style>\n",
       "<table border=\"1\" class=\"dataframe\">\n",
       "  <thead>\n",
       "    <tr style=\"text-align: right;\">\n",
       "      <th>Predicted</th>\n",
       "      <th>0</th>\n",
       "      <th>1</th>\n",
       "    </tr>\n",
       "    <tr>\n",
       "      <th>Actual</th>\n",
       "      <th></th>\n",
       "      <th></th>\n",
       "    </tr>\n",
       "  </thead>\n",
       "  <tbody>\n",
       "    <tr>\n",
       "      <td>0</td>\n",
       "      <td>3724</td>\n",
       "      <td>175</td>\n",
       "    </tr>\n",
       "    <tr>\n",
       "      <td>1</td>\n",
       "      <td>761</td>\n",
       "      <td>366</td>\n",
       "    </tr>\n",
       "  </tbody>\n",
       "</table>\n",
       "</div>"
      ],
      "text/plain": [
       "Predicted     0    1\n",
       "Actual              \n",
       "0          3724  175\n",
       "1           761  366"
      ]
     },
     "execution_count": 60,
     "metadata": {},
     "output_type": "execute_result"
    }
   ],
   "source": [
    "confusion(y_test, xgb.predict(X_test), \"Decision Tree (Gradient Boosted Trees)\")"
   ]
  },
  {
   "cell_type": "markdown",
   "metadata": {},
   "source": [
    "From the accuracy and AUROC, we observe that the XGBoost performs similarly to the random forest ensemble. It has a slight bump in AUROC at 0.76, but the accuracy is the same."
   ]
  },
  {
   "cell_type": "markdown",
   "metadata": {},
   "source": [
    "### Model 3 - Logistic Regression\n",
    "\n",
    "#### Theory\n",
    "Logistic regression is a regression technnique used to predict binary target variables. It works on the same principles as a linear regression model. \n",
    "\n",
    "Our binary target (default vs non-default) can be expressed in terms of odds of defaulting, which is the ratio of the probability of default and probability of non-default. \n",
    "\n",
    "In the logistic regression model, we log the odds (log-odds) and equate it to a weighted sum of regressors.\n",
    "\n",
    "![image.png](https://wikimedia.org/api/rest_v1/media/math/render/svg/4a5e86f014eb1f0744e280eb0d68485cb8c0a6c3)\n",
    "\n",
    "We then find weights for the regressors that best fits the data. Since the binary target (default or not) follows a bernoulli distribution, each data point has the following probability distribution function:\n",
    "\n",
    "![image.png](https://wikimedia.org/api/rest_v1/media/math/render/svg/614e0c64d59f0ff2e926deafcb2de6e502394fac)\n",
    "\n",
    "We would like to update p for each data point such that the log product (joint probability) of the above function for all data points is maximised. In other words, we are maximising the log-likelihood function.\n",
    "\n",
    "The logistic regression equation produces a \"squashed\" curve like the one below. We then pick a cutoff value for the y axis to classify a data point as 0 (non-default) or 1 (default).\n",
    "\n",
    "![image.png](https://upload.wikimedia.org/wikipedia/commons/thumb/8/88/Logistic-curve.svg/1280px-Logistic-curve.svg.png)\n",
    "\n",
    "\n",
    "#### Training\n",
    "We will adopt a top-down approach for training our logistic regression model, i.e. include all regressors first and then remove the most insignificant ones at each iteration to achieve the best fit."
   ]
  },
  {
   "cell_type": "code",
   "execution_count": 61,
   "metadata": {},
   "outputs": [
    {
     "name": "stderr",
     "output_type": "stream",
     "text": [
      "/Users/Chew/anaconda3/lib/python3.7/site-packages/statsmodels/compat/pandas.py:23: FutureWarning: The Panel class is removed from pandas. Accessing it from the top-level namespace will also be removed in the next version\n",
      "  data_klasses = (pandas.Series, pandas.DataFrame, pandas.Panel)\n"
     ]
    }
   ],
   "source": [
    "import statsmodels.api as sm"
   ]
  },
  {
   "cell_type": "code",
   "execution_count": 62,
   "metadata": {},
   "outputs": [
    {
     "name": "stdout",
     "output_type": "stream",
     "text": [
      "Warning: Maximum number of iterations has been exceeded.\n",
      "         Current function value: 0.429279\n",
      "         Iterations: 35\n"
     ]
    },
    {
     "name": "stderr",
     "output_type": "stream",
     "text": [
      "/Users/Chew/anaconda3/lib/python3.7/site-packages/statsmodels/base/model.py:512: ConvergenceWarning: Maximum Likelihood optimization failed to converge. Check mle_retvals\n",
      "  \"Check mle_retvals\", ConvergenceWarning)\n",
      "/Users/Chew/anaconda3/lib/python3.7/site-packages/statsmodels/base/model.py:1286: RuntimeWarning: invalid value encountered in sqrt\n",
      "  bse_ = np.sqrt(np.diag(self.cov_params()))\n",
      "/Users/Chew/anaconda3/lib/python3.7/site-packages/scipy/stats/_distn_infrastructure.py:901: RuntimeWarning: invalid value encountered in greater\n",
      "  return (a < x) & (x < b)\n",
      "/Users/Chew/anaconda3/lib/python3.7/site-packages/scipy/stats/_distn_infrastructure.py:901: RuntimeWarning: invalid value encountered in less\n",
      "  return (a < x) & (x < b)\n",
      "/Users/Chew/anaconda3/lib/python3.7/site-packages/scipy/stats/_distn_infrastructure.py:1892: RuntimeWarning: invalid value encountered in less_equal\n",
      "  cond2 = cond0 & (x <= _a)\n"
     ]
    },
    {
     "data": {
      "text/html": [
       "<table class=\"simpletable\">\n",
       "<caption>Logit Regression Results</caption>\n",
       "<tr>\n",
       "  <th>Dep. Variable:</th>           <td>Y</td>        <th>  No. Observations:  </th>  <td> 20102</td> \n",
       "</tr>\n",
       "<tr>\n",
       "  <th>Model:</th>                 <td>Logit</td>      <th>  Df Residuals:      </th>  <td> 20059</td> \n",
       "</tr>\n",
       "<tr>\n",
       "  <th>Method:</th>                 <td>MLE</td>       <th>  Df Model:          </th>  <td>    42</td> \n",
       "</tr>\n",
       "<tr>\n",
       "  <th>Date:</th>            <td>Tue, 12 Nov 2019</td> <th>  Pseudo R-squ.:     </th>  <td>0.1637</td> \n",
       "</tr>\n",
       "<tr>\n",
       "  <th>Time:</th>                <td>12:59:19</td>     <th>  Log-Likelihood:    </th> <td> -8629.4</td>\n",
       "</tr>\n",
       "<tr>\n",
       "  <th>converged:</th>             <td>False</td>      <th>  LL-Null:           </th> <td> -10319.</td>\n",
       "</tr>\n",
       "<tr>\n",
       "  <th>Covariance Type:</th>     <td>nonrobust</td>    <th>  LLR p-value:       </th>  <td> 0.000</td> \n",
       "</tr>\n",
       "</table>\n",
       "<table class=\"simpletable\">\n",
       "<tr>\n",
       "      <td></td>         <th>coef</th>     <th>std err</th>      <th>z</th>      <th>P>|z|</th>  <th>[0.025</th>    <th>0.975]</th>  \n",
       "</tr>\n",
       "<tr>\n",
       "  <th>LIMIT_BAL</th> <td>-1.984e-06</td> <td> 2.22e-07</td> <td>   -8.924</td> <td> 0.000</td> <td>-2.42e-06</td> <td>-1.55e-06</td>\n",
       "</tr>\n",
       "<tr>\n",
       "  <th>SEX</th>       <td>   -0.1555</td> <td>    0.040</td> <td>   -3.915</td> <td> 0.000</td> <td>   -0.233</td> <td>   -0.078</td>\n",
       "</tr>\n",
       "<tr>\n",
       "  <th>AGE</th>       <td>    0.0016</td> <td>    0.003</td> <td>    0.621</td> <td> 0.534</td> <td>   -0.003</td> <td>    0.007</td>\n",
       "</tr>\n",
       "<tr>\n",
       "  <th>PAY_0</th>     <td>    1.2697</td> <td>    0.084</td> <td>   15.074</td> <td> 0.000</td> <td>    1.105</td> <td>    1.435</td>\n",
       "</tr>\n",
       "<tr>\n",
       "  <th>PAY_2</th>     <td>    0.0464</td> <td>    0.685</td> <td>    0.068</td> <td> 0.946</td> <td>   -1.295</td> <td>    1.388</td>\n",
       "</tr>\n",
       "<tr>\n",
       "  <th>PAY_3</th>     <td>    0.6671</td> <td>      nan</td> <td>      nan</td> <td>   nan</td> <td>      nan</td> <td>      nan</td>\n",
       "</tr>\n",
       "<tr>\n",
       "  <th>PAY_4</th>     <td>    0.6514</td> <td>      nan</td> <td>      nan</td> <td>   nan</td> <td>      nan</td> <td>      nan</td>\n",
       "</tr>\n",
       "<tr>\n",
       "  <th>PAY_5</th>     <td>   -0.0163</td> <td> 3.13e+05</td> <td>-5.21e-08</td> <td> 1.000</td> <td>-6.14e+05</td> <td> 6.14e+05</td>\n",
       "</tr>\n",
       "<tr>\n",
       "  <th>PAY_6</th>     <td>   -0.0863</td> <td> 1.05e+06</td> <td>-8.19e-08</td> <td> 1.000</td> <td>-2.07e+06</td> <td> 2.07e+06</td>\n",
       "</tr>\n",
       "<tr>\n",
       "  <th>BILL_AMT1</th> <td>-4.749e-06</td> <td>    2e-06</td> <td>   -2.380</td> <td> 0.017</td> <td>-8.66e-06</td> <td>-8.38e-07</td>\n",
       "</tr>\n",
       "<tr>\n",
       "  <th>BILL_AMT2</th> <td> 3.006e-06</td> <td> 2.77e-06</td> <td>    1.085</td> <td> 0.278</td> <td>-2.42e-06</td> <td> 8.44e-06</td>\n",
       "</tr>\n",
       "<tr>\n",
       "  <th>BILL_AMT3</th> <td> 4.718e-06</td> <td> 2.54e-06</td> <td>    1.856</td> <td> 0.063</td> <td>-2.63e-07</td> <td>  9.7e-06</td>\n",
       "</tr>\n",
       "<tr>\n",
       "  <th>BILL_AMT4</th> <td> 3.509e-07</td> <td>  2.6e-06</td> <td>    0.135</td> <td> 0.893</td> <td>-4.75e-06</td> <td> 5.46e-06</td>\n",
       "</tr>\n",
       "<tr>\n",
       "  <th>BILL_AMT5</th> <td>-2.688e-06</td> <td> 3.47e-06</td> <td>   -0.776</td> <td> 0.438</td> <td>-9.48e-06</td> <td> 4.11e-06</td>\n",
       "</tr>\n",
       "<tr>\n",
       "  <th>BILL_AMT6</th> <td>   1.6e-06</td> <td> 2.84e-06</td> <td>    0.563</td> <td> 0.574</td> <td>-3.97e-06</td> <td> 7.17e-06</td>\n",
       "</tr>\n",
       "<tr>\n",
       "  <th>PAY_AMT1</th>  <td>-2.604e-05</td> <td> 6.04e-06</td> <td>   -4.313</td> <td> 0.000</td> <td>-3.79e-05</td> <td>-1.42e-05</td>\n",
       "</tr>\n",
       "<tr>\n",
       "  <th>PAY_AMT2</th>  <td>  -3.2e-05</td> <td> 5.68e-06</td> <td>   -5.635</td> <td> 0.000</td> <td>-4.31e-05</td> <td>-2.09e-05</td>\n",
       "</tr>\n",
       "<tr>\n",
       "  <th>PAY_AMT3</th>  <td>-1.081e-05</td> <td> 5.69e-06</td> <td>   -1.899</td> <td> 0.058</td> <td> -2.2e-05</td> <td> 3.49e-07</td>\n",
       "</tr>\n",
       "<tr>\n",
       "  <th>PAY_AMT4</th>  <td>-1.428e-05</td> <td>  6.2e-06</td> <td>   -2.302</td> <td> 0.021</td> <td>-2.64e-05</td> <td>-2.12e-06</td>\n",
       "</tr>\n",
       "<tr>\n",
       "  <th>PAY_AMT5</th>  <td>-1.118e-05</td> <td> 6.16e-06</td> <td>   -1.814</td> <td> 0.070</td> <td>-2.33e-05</td> <td> 8.99e-07</td>\n",
       "</tr>\n",
       "<tr>\n",
       "  <th>PAY_AMT6</th>  <td>-5.935e-06</td> <td> 4.69e-06</td> <td>   -1.267</td> <td> 0.205</td> <td>-1.51e-05</td> <td> 3.25e-06</td>\n",
       "</tr>\n",
       "<tr>\n",
       "  <th>x0_1</th>      <td>   -0.5913</td> <td>      nan</td> <td>      nan</td> <td>   nan</td> <td>      nan</td> <td>      nan</td>\n",
       "</tr>\n",
       "<tr>\n",
       "  <th>x0_2</th>      <td>   -0.6073</td> <td>      nan</td> <td>      nan</td> <td>   nan</td> <td>      nan</td> <td>      nan</td>\n",
       "</tr>\n",
       "<tr>\n",
       "  <th>x0_3</th>      <td>   -0.6865</td> <td>      nan</td> <td>      nan</td> <td>   nan</td> <td>      nan</td> <td>      nan</td>\n",
       "</tr>\n",
       "<tr>\n",
       "  <th>x0_4</th>      <td>   -1.9583</td> <td>      nan</td> <td>      nan</td> <td>   nan</td> <td>      nan</td> <td>      nan</td>\n",
       "</tr>\n",
       "<tr>\n",
       "  <th>x1_0</th>      <td>   -2.0173</td> <td>      nan</td> <td>      nan</td> <td>   nan</td> <td>      nan</td> <td>      nan</td>\n",
       "</tr>\n",
       "<tr>\n",
       "  <th>x1_1</th>      <td>   -0.5746</td> <td>      nan</td> <td>      nan</td> <td>   nan</td> <td>      nan</td> <td>      nan</td>\n",
       "</tr>\n",
       "<tr>\n",
       "  <th>x1_2</th>      <td>   -0.7621</td> <td>      nan</td> <td>      nan</td> <td>   nan</td> <td>      nan</td> <td>      nan</td>\n",
       "</tr>\n",
       "<tr>\n",
       "  <th>x1_3</th>      <td>   -0.4894</td> <td>      nan</td> <td>      nan</td> <td>   nan</td> <td>      nan</td> <td>      nan</td>\n",
       "</tr>\n",
       "<tr>\n",
       "  <th>x2_-2</th>     <td>    4.0609</td> <td> 1.65e+06</td> <td> 2.45e-06</td> <td> 1.000</td> <td>-3.24e+06</td> <td> 3.24e+06</td>\n",
       "</tr>\n",
       "<tr>\n",
       "  <th>x2_-1</th>     <td>    4.4303</td> <td> 1.63e+06</td> <td> 2.72e-06</td> <td> 1.000</td> <td>-3.19e+06</td> <td> 3.19e+06</td>\n",
       "</tr>\n",
       "<tr>\n",
       "  <th>x2_0</th>      <td>    3.6782</td> <td> 1.65e+06</td> <td> 2.23e-06</td> <td> 1.000</td> <td>-3.24e+06</td> <td> 3.24e+06</td>\n",
       "</tr>\n",
       "<tr>\n",
       "  <th>x2_1</th>      <td>    3.4291</td> <td> 1.59e+06</td> <td> 2.15e-06</td> <td> 1.000</td> <td>-3.12e+06</td> <td> 3.12e+06</td>\n",
       "</tr>\n",
       "<tr>\n",
       "  <th>x3_-2</th>     <td>   -1.0755</td> <td> 1.06e+06</td> <td>-1.01e-06</td> <td> 1.000</td> <td>-2.08e+06</td> <td> 2.08e+06</td>\n",
       "</tr>\n",
       "<tr>\n",
       "  <th>x3_-1</th>     <td>   -1.2471</td> <td> 1.11e+06</td> <td>-1.13e-06</td> <td> 1.000</td> <td>-2.17e+06</td> <td> 2.17e+06</td>\n",
       "</tr>\n",
       "<tr>\n",
       "  <th>x3_0</th>      <td>   -0.9771</td> <td> 1.07e+06</td> <td>-9.12e-07</td> <td> 1.000</td> <td> -2.1e+06</td> <td>  2.1e+06</td>\n",
       "</tr>\n",
       "<tr>\n",
       "  <th>x3_1</th>      <td>   -1.0962</td> <td> 1.08e+06</td> <td>-1.01e-06</td> <td> 1.000</td> <td>-2.12e+06</td> <td> 2.12e+06</td>\n",
       "</tr>\n",
       "<tr>\n",
       "  <th>x4_-2</th>     <td>   -2.0947</td> <td> 2.51e+06</td> <td>-8.35e-07</td> <td> 1.000</td> <td>-4.92e+06</td> <td> 4.92e+06</td>\n",
       "</tr>\n",
       "<tr>\n",
       "  <th>x4_-1</th>     <td>   -1.9440</td> <td>  2.6e+06</td> <td>-7.48e-07</td> <td> 1.000</td> <td> -5.1e+06</td> <td>  5.1e+06</td>\n",
       "</tr>\n",
       "<tr>\n",
       "  <th>x4_0</th>      <td>   -1.9146</td> <td> 2.48e+06</td> <td>-7.73e-07</td> <td> 1.000</td> <td>-4.86e+06</td> <td> 4.86e+06</td>\n",
       "</tr>\n",
       "<tr>\n",
       "  <th>x4_1</th>      <td>   -2.9571</td> <td>      nan</td> <td>      nan</td> <td>   nan</td> <td>      nan</td> <td>      nan</td>\n",
       "</tr>\n",
       "<tr>\n",
       "  <th>x5_-2</th>     <td>    0.0772</td> <td> 1.61e+06</td> <td> 4.78e-08</td> <td> 1.000</td> <td>-3.17e+06</td> <td> 3.17e+06</td>\n",
       "</tr>\n",
       "<tr>\n",
       "  <th>x5_-1</th>     <td>   -0.0961</td> <td> 1.61e+06</td> <td>-5.95e-08</td> <td> 1.000</td> <td>-3.16e+06</td> <td> 3.16e+06</td>\n",
       "</tr>\n",
       "<tr>\n",
       "  <th>x5_0</th>      <td>   -0.0530</td> <td> 1.62e+06</td> <td>-3.27e-08</td> <td> 1.000</td> <td>-3.18e+06</td> <td> 3.18e+06</td>\n",
       "</tr>\n",
       "<tr>\n",
       "  <th>x5_1</th>      <td>   -1.0071</td> <td>      nan</td> <td>      nan</td> <td>   nan</td> <td>      nan</td> <td>      nan</td>\n",
       "</tr>\n",
       "<tr>\n",
       "  <th>x6_-2</th>     <td>   -0.3831</td> <td> 6.33e+05</td> <td>-6.06e-07</td> <td> 1.000</td> <td>-1.24e+06</td> <td> 1.24e+06</td>\n",
       "</tr>\n",
       "<tr>\n",
       "  <th>x6_-1</th>     <td>   -0.3752</td> <td> 6.39e+05</td> <td>-5.88e-07</td> <td> 1.000</td> <td>-1.25e+06</td> <td> 1.25e+06</td>\n",
       "</tr>\n",
       "<tr>\n",
       "  <th>x6_0</th>      <td>   -0.3123</td> <td> 6.25e+05</td> <td>   -5e-07</td> <td> 1.000</td> <td>-1.23e+06</td> <td> 1.23e+06</td>\n",
       "</tr>\n",
       "<tr>\n",
       "  <th>x7_-2</th>     <td>   -0.2115</td> <td> 2.11e+06</td> <td>   -1e-07</td> <td> 1.000</td> <td>-4.13e+06</td> <td> 4.13e+06</td>\n",
       "</tr>\n",
       "<tr>\n",
       "  <th>x7_-1</th>     <td>   -0.3358</td> <td> 2.11e+06</td> <td>-1.59e-07</td> <td> 1.000</td> <td>-4.13e+06</td> <td> 4.13e+06</td>\n",
       "</tr>\n",
       "<tr>\n",
       "  <th>x7_0</th>      <td>   -0.4883</td> <td> 2.11e+06</td> <td>-2.32e-07</td> <td> 1.000</td> <td>-4.13e+06</td> <td> 4.13e+06</td>\n",
       "</tr>\n",
       "</table>"
      ],
      "text/plain": [
       "<class 'statsmodels.iolib.summary.Summary'>\n",
       "\"\"\"\n",
       "                           Logit Regression Results                           \n",
       "==============================================================================\n",
       "Dep. Variable:                      Y   No. Observations:                20102\n",
       "Model:                          Logit   Df Residuals:                    20059\n",
       "Method:                           MLE   Df Model:                           42\n",
       "Date:                Tue, 12 Nov 2019   Pseudo R-squ.:                  0.1637\n",
       "Time:                        12:59:19   Log-Likelihood:                -8629.4\n",
       "converged:                      False   LL-Null:                       -10319.\n",
       "Covariance Type:            nonrobust   LLR p-value:                     0.000\n",
       "==============================================================================\n",
       "                 coef    std err          z      P>|z|      [0.025      0.975]\n",
       "------------------------------------------------------------------------------\n",
       "LIMIT_BAL  -1.984e-06   2.22e-07     -8.924      0.000   -2.42e-06   -1.55e-06\n",
       "SEX           -0.1555      0.040     -3.915      0.000      -0.233      -0.078\n",
       "AGE            0.0016      0.003      0.621      0.534      -0.003       0.007\n",
       "PAY_0          1.2697      0.084     15.074      0.000       1.105       1.435\n",
       "PAY_2          0.0464      0.685      0.068      0.946      -1.295       1.388\n",
       "PAY_3          0.6671        nan        nan        nan         nan         nan\n",
       "PAY_4          0.6514        nan        nan        nan         nan         nan\n",
       "PAY_5         -0.0163   3.13e+05  -5.21e-08      1.000   -6.14e+05    6.14e+05\n",
       "PAY_6         -0.0863   1.05e+06  -8.19e-08      1.000   -2.07e+06    2.07e+06\n",
       "BILL_AMT1  -4.749e-06      2e-06     -2.380      0.017   -8.66e-06   -8.38e-07\n",
       "BILL_AMT2   3.006e-06   2.77e-06      1.085      0.278   -2.42e-06    8.44e-06\n",
       "BILL_AMT3   4.718e-06   2.54e-06      1.856      0.063   -2.63e-07     9.7e-06\n",
       "BILL_AMT4   3.509e-07    2.6e-06      0.135      0.893   -4.75e-06    5.46e-06\n",
       "BILL_AMT5  -2.688e-06   3.47e-06     -0.776      0.438   -9.48e-06    4.11e-06\n",
       "BILL_AMT6     1.6e-06   2.84e-06      0.563      0.574   -3.97e-06    7.17e-06\n",
       "PAY_AMT1   -2.604e-05   6.04e-06     -4.313      0.000   -3.79e-05   -1.42e-05\n",
       "PAY_AMT2     -3.2e-05   5.68e-06     -5.635      0.000   -4.31e-05   -2.09e-05\n",
       "PAY_AMT3   -1.081e-05   5.69e-06     -1.899      0.058    -2.2e-05    3.49e-07\n",
       "PAY_AMT4   -1.428e-05    6.2e-06     -2.302      0.021   -2.64e-05   -2.12e-06\n",
       "PAY_AMT5   -1.118e-05   6.16e-06     -1.814      0.070   -2.33e-05    8.99e-07\n",
       "PAY_AMT6   -5.935e-06   4.69e-06     -1.267      0.205   -1.51e-05    3.25e-06\n",
       "x0_1          -0.5913        nan        nan        nan         nan         nan\n",
       "x0_2          -0.6073        nan        nan        nan         nan         nan\n",
       "x0_3          -0.6865        nan        nan        nan         nan         nan\n",
       "x0_4          -1.9583        nan        nan        nan         nan         nan\n",
       "x1_0          -2.0173        nan        nan        nan         nan         nan\n",
       "x1_1          -0.5746        nan        nan        nan         nan         nan\n",
       "x1_2          -0.7621        nan        nan        nan         nan         nan\n",
       "x1_3          -0.4894        nan        nan        nan         nan         nan\n",
       "x2_-2          4.0609   1.65e+06   2.45e-06      1.000   -3.24e+06    3.24e+06\n",
       "x2_-1          4.4303   1.63e+06   2.72e-06      1.000   -3.19e+06    3.19e+06\n",
       "x2_0           3.6782   1.65e+06   2.23e-06      1.000   -3.24e+06    3.24e+06\n",
       "x2_1           3.4291   1.59e+06   2.15e-06      1.000   -3.12e+06    3.12e+06\n",
       "x3_-2         -1.0755   1.06e+06  -1.01e-06      1.000   -2.08e+06    2.08e+06\n",
       "x3_-1         -1.2471   1.11e+06  -1.13e-06      1.000   -2.17e+06    2.17e+06\n",
       "x3_0          -0.9771   1.07e+06  -9.12e-07      1.000    -2.1e+06     2.1e+06\n",
       "x3_1          -1.0962   1.08e+06  -1.01e-06      1.000   -2.12e+06    2.12e+06\n",
       "x4_-2         -2.0947   2.51e+06  -8.35e-07      1.000   -4.92e+06    4.92e+06\n",
       "x4_-1         -1.9440    2.6e+06  -7.48e-07      1.000    -5.1e+06     5.1e+06\n",
       "x4_0          -1.9146   2.48e+06  -7.73e-07      1.000   -4.86e+06    4.86e+06\n",
       "x4_1          -2.9571        nan        nan        nan         nan         nan\n",
       "x5_-2          0.0772   1.61e+06   4.78e-08      1.000   -3.17e+06    3.17e+06\n",
       "x5_-1         -0.0961   1.61e+06  -5.95e-08      1.000   -3.16e+06    3.16e+06\n",
       "x5_0          -0.0530   1.62e+06  -3.27e-08      1.000   -3.18e+06    3.18e+06\n",
       "x5_1          -1.0071        nan        nan        nan         nan         nan\n",
       "x6_-2         -0.3831   6.33e+05  -6.06e-07      1.000   -1.24e+06    1.24e+06\n",
       "x6_-1         -0.3752   6.39e+05  -5.88e-07      1.000   -1.25e+06    1.25e+06\n",
       "x6_0          -0.3123   6.25e+05     -5e-07      1.000   -1.23e+06    1.23e+06\n",
       "x7_-2         -0.2115   2.11e+06     -1e-07      1.000   -4.13e+06    4.13e+06\n",
       "x7_-1         -0.3358   2.11e+06  -1.59e-07      1.000   -4.13e+06    4.13e+06\n",
       "x7_0          -0.4883   2.11e+06  -2.32e-07      1.000   -4.13e+06    4.13e+06\n",
       "==============================================================================\n",
       "\"\"\""
      ]
     },
     "execution_count": 62,
     "metadata": {},
     "output_type": "execute_result"
    }
   ],
   "source": [
    "glm = sm.Logit(y_train,X_train).fit()\n",
    "glm.summary()"
   ]
  },
  {
   "cell_type": "code",
   "execution_count": 63,
   "metadata": {},
   "outputs": [
    {
     "name": "stdout",
     "output_type": "stream",
     "text": [
      "              precision    recall  f1-score   support\n",
      "\n",
      "           0       0.84      0.96      0.90     15890\n",
      "           1       0.67      0.30      0.42      4212\n",
      "\n",
      "    accuracy                           0.82     20102\n",
      "   macro avg       0.76      0.63      0.66     20102\n",
      "weighted avg       0.80      0.82      0.80     20102\n",
      "\n"
     ]
    }
   ],
   "source": [
    "print(classification_report(y_train,list(glm.predict(X_train)>0.5)))"
   ]
  },
  {
   "cell_type": "code",
   "execution_count": 64,
   "metadata": {},
   "outputs": [
    {
     "name": "stdout",
     "output_type": "stream",
     "text": [
      "              precision    recall  f1-score   support\n",
      "\n",
      "           0       0.83      0.96      0.89      3899\n",
      "           1       0.71      0.31      0.43      1127\n",
      "\n",
      "    accuracy                           0.82      5026\n",
      "   macro avg       0.77      0.64      0.66      5026\n",
      "weighted avg       0.80      0.82      0.79      5026\n",
      "\n"
     ]
    }
   ],
   "source": [
    "print(classification_report(y_test,list(glm.predict(X_test)>0.5)))"
   ]
  },
  {
   "cell_type": "markdown",
   "metadata": {},
   "source": [
    "The logisitc model with all features performs quite well on both the train and test set with an accuracy of 0.81. We will now try removing all the insignificant features to see how that affects the model performance."
   ]
  },
  {
   "cell_type": "code",
   "execution_count": 65,
   "metadata": {},
   "outputs": [
    {
     "name": "stdout",
     "output_type": "stream",
     "text": [
      "Optimization terminated successfully.\n",
      "         Current function value: 0.448196\n",
      "         Iterations 6\n"
     ]
    },
    {
     "data": {
      "text/html": [
       "<table class=\"simpletable\">\n",
       "<caption>Logit Regression Results</caption>\n",
       "<tr>\n",
       "  <th>Dep. Variable:</th>           <td>Y</td>        <th>  No. Observations:  </th>  <td> 20102</td> \n",
       "</tr>\n",
       "<tr>\n",
       "  <th>Model:</th>                 <td>Logit</td>      <th>  Df Residuals:      </th>  <td> 20095</td> \n",
       "</tr>\n",
       "<tr>\n",
       "  <th>Method:</th>                 <td>MLE</td>       <th>  Df Model:          </th>  <td>     6</td> \n",
       "</tr>\n",
       "<tr>\n",
       "  <th>Date:</th>            <td>Tue, 12 Nov 2019</td> <th>  Pseudo R-squ.:     </th>  <td>0.1269</td> \n",
       "</tr>\n",
       "<tr>\n",
       "  <th>Time:</th>                <td>12:59:19</td>     <th>  Log-Likelihood:    </th> <td> -9009.6</td>\n",
       "</tr>\n",
       "<tr>\n",
       "  <th>converged:</th>             <td>True</td>       <th>  LL-Null:           </th> <td> -10319.</td>\n",
       "</tr>\n",
       "<tr>\n",
       "  <th>Covariance Type:</th>     <td>nonrobust</td>    <th>  LLR p-value:       </th>  <td> 0.000</td> \n",
       "</tr>\n",
       "</table>\n",
       "<table class=\"simpletable\">\n",
       "<tr>\n",
       "      <td></td>         <th>coef</th>     <th>std err</th>      <th>z</th>      <th>P>|z|</th>  <th>[0.025</th>    <th>0.975]</th>  \n",
       "</tr>\n",
       "<tr>\n",
       "  <th>LIMIT_BAL</th> <td>-2.743e-06</td> <td> 1.77e-07</td> <td>  -15.502</td> <td> 0.000</td> <td>-3.09e-06</td> <td> -2.4e-06</td>\n",
       "</tr>\n",
       "<tr>\n",
       "  <th>SEX</th>       <td>   -0.6629</td> <td>    0.020</td> <td>  -32.463</td> <td> 0.000</td> <td>   -0.703</td> <td>   -0.623</td>\n",
       "</tr>\n",
       "<tr>\n",
       "  <th>PAY_0</th>     <td>    1.1246</td> <td>    0.026</td> <td>   42.486</td> <td> 0.000</td> <td>    1.073</td> <td>    1.177</td>\n",
       "</tr>\n",
       "<tr>\n",
       "  <th>BILL_AMT1</th> <td>-1.052e-06</td> <td> 4.62e-07</td> <td>   -2.277</td> <td> 0.023</td> <td>-1.96e-06</td> <td>-1.46e-07</td>\n",
       "</tr>\n",
       "<tr>\n",
       "  <th>PAY_AMT1</th>  <td>-2.652e-05</td> <td> 5.25e-06</td> <td>   -5.049</td> <td> 0.000</td> <td>-3.68e-05</td> <td>-1.62e-05</td>\n",
       "</tr>\n",
       "<tr>\n",
       "  <th>PAY_AMT2</th>  <td>-3.622e-05</td> <td> 5.07e-06</td> <td>   -7.143</td> <td> 0.000</td> <td>-4.62e-05</td> <td>-2.63e-05</td>\n",
       "</tr>\n",
       "<tr>\n",
       "  <th>PAY_AMT4</th>  <td>-2.454e-05</td> <td> 5.35e-06</td> <td>   -4.584</td> <td> 0.000</td> <td> -3.5e-05</td> <td> -1.4e-05</td>\n",
       "</tr>\n",
       "</table>"
      ],
      "text/plain": [
       "<class 'statsmodels.iolib.summary.Summary'>\n",
       "\"\"\"\n",
       "                           Logit Regression Results                           \n",
       "==============================================================================\n",
       "Dep. Variable:                      Y   No. Observations:                20102\n",
       "Model:                          Logit   Df Residuals:                    20095\n",
       "Method:                           MLE   Df Model:                            6\n",
       "Date:                Tue, 12 Nov 2019   Pseudo R-squ.:                  0.1269\n",
       "Time:                        12:59:19   Log-Likelihood:                -9009.6\n",
       "converged:                       True   LL-Null:                       -10319.\n",
       "Covariance Type:            nonrobust   LLR p-value:                     0.000\n",
       "==============================================================================\n",
       "                 coef    std err          z      P>|z|      [0.025      0.975]\n",
       "------------------------------------------------------------------------------\n",
       "LIMIT_BAL  -2.743e-06   1.77e-07    -15.502      0.000   -3.09e-06    -2.4e-06\n",
       "SEX           -0.6629      0.020    -32.463      0.000      -0.703      -0.623\n",
       "PAY_0          1.1246      0.026     42.486      0.000       1.073       1.177\n",
       "BILL_AMT1  -1.052e-06   4.62e-07     -2.277      0.023   -1.96e-06   -1.46e-07\n",
       "PAY_AMT1   -2.652e-05   5.25e-06     -5.049      0.000   -3.68e-05   -1.62e-05\n",
       "PAY_AMT2   -3.622e-05   5.07e-06     -7.143      0.000   -4.62e-05   -2.63e-05\n",
       "PAY_AMT4   -2.454e-05   5.35e-06     -4.584      0.000    -3.5e-05    -1.4e-05\n",
       "==============================================================================\n",
       "\"\"\""
      ]
     },
     "execution_count": 65,
     "metadata": {},
     "output_type": "execute_result"
    }
   ],
   "source": [
    "#remove all insignificant attributes\n",
    "sig = glm.pvalues[glm.pvalues < 0.05]\n",
    "glm_2 = sm.Logit(y_train,X_train[sig.index]).fit()\n",
    "glm_2.summary()"
   ]
  },
  {
   "cell_type": "code",
   "execution_count": 66,
   "metadata": {},
   "outputs": [
    {
     "name": "stdout",
     "output_type": "stream",
     "text": [
      "              precision    recall  f1-score   support\n",
      "\n",
      "           0       0.84      0.95      0.89     15890\n",
      "           1       0.62      0.30      0.41      4212\n",
      "\n",
      "    accuracy                           0.82     20102\n",
      "   macro avg       0.73      0.63      0.65     20102\n",
      "weighted avg       0.79      0.82      0.79     20102\n",
      "\n"
     ]
    }
   ],
   "source": [
    "print(classification_report(y_train,list(glm_2.predict(X_train[sig.index])>0.5)))"
   ]
  },
  {
   "cell_type": "code",
   "execution_count": 67,
   "metadata": {},
   "outputs": [
    {
     "name": "stdout",
     "output_type": "stream",
     "text": [
      "              precision    recall  f1-score   support\n",
      "\n",
      "           0       0.83      0.95      0.88      3899\n",
      "           1       0.65      0.31      0.42      1127\n",
      "\n",
      "    accuracy                           0.81      5026\n",
      "   macro avg       0.74      0.63      0.65      5026\n",
      "weighted avg       0.79      0.81      0.78      5026\n",
      "\n"
     ]
    }
   ],
   "source": [
    "print(classification_report(y_test,list(glm_2.predict(X_test[sig.index])>0.5)))"
   ]
  },
  {
   "cell_type": "markdown",
   "metadata": {},
   "source": [
    "Since there is not much change to the model performance on both the train and test set when we reduce the features, we will use the reduced logistic regression model from this point onwards (Principle of Parsimony). \n",
    "\n",
    "We now Calculate the AUROC for the train set."
   ]
  },
  {
   "cell_type": "code",
   "execution_count": 68,
   "metadata": {},
   "outputs": [
    {
     "name": "stdout",
     "output_type": "stream",
     "text": [
      "Optimal Threshold: 0.2792741288710482\n"
     ]
    },
    {
     "data": {
      "image/png": "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\n",
      "text/plain": [
       "<Figure size 432x288 with 1 Axes>"
      ]
     },
     "metadata": {
      "needs_background": "light"
     },
     "output_type": "display_data"
    }
   ],
   "source": [
    "get_roc(glm_2, y_train, X_train[sig.index], \"Logistic Regression\")"
   ]
  },
  {
   "cell_type": "markdown",
   "metadata": {},
   "source": [
    "Since the optimal cut off was found to be 0.276 using the training data, we will use that as our cut off for our evaluation of the test set."
   ]
  },
  {
   "cell_type": "code",
   "execution_count": 69,
   "metadata": {
    "scrolled": true
   },
   "outputs": [
    {
     "name": "stdout",
     "output_type": "stream",
     "text": [
      "              precision    recall  f1-score   support\n",
      "\n",
      "           0       0.86      0.83      0.85      3899\n",
      "           1       0.47      0.52      0.50      1127\n",
      "\n",
      "    accuracy                           0.76      5026\n",
      "   macro avg       0.67      0.68      0.67      5026\n",
      "weighted avg       0.77      0.76      0.77      5026\n",
      "\n"
     ]
    }
   ],
   "source": [
    "print(classification_report(y_test,list(glm_2.predict(X_test[sig.index])>0.276)))"
   ]
  },
  {
   "cell_type": "markdown",
   "metadata": {},
   "source": [
    "Unfortunately, the training accuracy has gone down when we used the optimal cutoff. However, accuracy may be misleading in a dataset like ours where most of the targets are non-defaults. The recall here is more important since we prioritise detecting defaulters at the expense of misclassifying non-defaulters. Looking at recall, our lower cutoff is able to correctly catch more defaulters.\n",
    "\n",
    "\n",
    "Calculate the confusion matrices for both cut offs to better compare their performance."
   ]
  },
  {
   "cell_type": "code",
   "execution_count": 70,
   "metadata": {},
   "outputs": [
    {
     "name": "stdout",
     "output_type": "stream",
     "text": [
      "Of 1127 Defaulters, the Logistic Regression identified 588\n"
     ]
    },
    {
     "data": {
      "text/html": [
       "<div>\n",
       "<style scoped>\n",
       "    .dataframe tbody tr th:only-of-type {\n",
       "        vertical-align: middle;\n",
       "    }\n",
       "\n",
       "    .dataframe tbody tr th {\n",
       "        vertical-align: top;\n",
       "    }\n",
       "\n",
       "    .dataframe thead th {\n",
       "        text-align: right;\n",
       "    }\n",
       "</style>\n",
       "<table border=\"1\" class=\"dataframe\">\n",
       "  <thead>\n",
       "    <tr style=\"text-align: right;\">\n",
       "      <th>Predicted</th>\n",
       "      <th>False</th>\n",
       "      <th>True</th>\n",
       "    </tr>\n",
       "    <tr>\n",
       "      <th>Actual</th>\n",
       "      <th></th>\n",
       "      <th></th>\n",
       "    </tr>\n",
       "  </thead>\n",
       "  <tbody>\n",
       "    <tr>\n",
       "      <td>0</td>\n",
       "      <td>3248</td>\n",
       "      <td>651</td>\n",
       "    </tr>\n",
       "    <tr>\n",
       "      <td>1</td>\n",
       "      <td>539</td>\n",
       "      <td>588</td>\n",
       "    </tr>\n",
       "  </tbody>\n",
       "</table>\n",
       "</div>"
      ],
      "text/plain": [
       "Predicted  False  True \n",
       "Actual                 \n",
       "0           3248    651\n",
       "1            539    588"
      ]
     },
     "execution_count": 70,
     "metadata": {},
     "output_type": "execute_result"
    }
   ],
   "source": [
    "confusion(y_test,glm_2.predict(X_test[sig.index])>0.276, \"Logistic Regression\")"
   ]
  },
  {
   "cell_type": "code",
   "execution_count": 71,
   "metadata": {},
   "outputs": [
    {
     "name": "stdout",
     "output_type": "stream",
     "text": [
      "Of 1127 Defaulters, the Logistic Regression identified 350\n"
     ]
    },
    {
     "data": {
      "text/html": [
       "<div>\n",
       "<style scoped>\n",
       "    .dataframe tbody tr th:only-of-type {\n",
       "        vertical-align: middle;\n",
       "    }\n",
       "\n",
       "    .dataframe tbody tr th {\n",
       "        vertical-align: top;\n",
       "    }\n",
       "\n",
       "    .dataframe thead th {\n",
       "        text-align: right;\n",
       "    }\n",
       "</style>\n",
       "<table border=\"1\" class=\"dataframe\">\n",
       "  <thead>\n",
       "    <tr style=\"text-align: right;\">\n",
       "      <th>Predicted</th>\n",
       "      <th>False</th>\n",
       "      <th>True</th>\n",
       "    </tr>\n",
       "    <tr>\n",
       "      <th>Actual</th>\n",
       "      <th></th>\n",
       "      <th></th>\n",
       "    </tr>\n",
       "  </thead>\n",
       "  <tbody>\n",
       "    <tr>\n",
       "      <td>0</td>\n",
       "      <td>3707</td>\n",
       "      <td>192</td>\n",
       "    </tr>\n",
       "    <tr>\n",
       "      <td>1</td>\n",
       "      <td>777</td>\n",
       "      <td>350</td>\n",
       "    </tr>\n",
       "  </tbody>\n",
       "</table>\n",
       "</div>"
      ],
      "text/plain": [
       "Predicted  False  True \n",
       "Actual                 \n",
       "0           3707    192\n",
       "1            777    350"
      ]
     },
     "execution_count": 71,
     "metadata": {},
     "output_type": "execute_result"
    }
   ],
   "source": [
    "confusion(y_test,glm_2.predict(X_test[sig.index])>0.5, \"Logistic Regression\")"
   ]
  },
  {
   "cell_type": "markdown",
   "metadata": {},
   "source": [
    "It is evident that the cutoff of 0.276 is better able to detect defualts, with 688 detected in the test set for 0.276 but only 346 detected for 0.5"
   ]
  },
  {
   "cell_type": "code",
   "execution_count": 72,
   "metadata": {},
   "outputs": [
    {
     "name": "stdout",
     "output_type": "stream",
     "text": [
      "Optimal Threshold: 0.279103444545237\n"
     ]
    },
    {
     "data": {
      "image/png": "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\n",
      "text/plain": [
       "<Figure size 432x288 with 1 Axes>"
      ]
     },
     "metadata": {
      "needs_background": "light"
     },
     "output_type": "display_data"
    }
   ],
   "source": [
    "get_roc(glm_2, y_test, X_test[sig.index], \"Logistic Regression\")"
   ]
  },
  {
   "cell_type": "markdown",
   "metadata": {
    "colab_type": "text",
    "id": "iCxBcin11EI8"
   },
   "source": [
    "### Model x - Support Vector Machine\n"
   ]
  },
  {
   "cell_type": "markdown",
   "metadata": {},
   "source": [
    "### Standardizing attributes to prep for PCA\n",
    "SVM is computationally expensive for large datasets like ours. Therefore, we would like to reduce the dimensionality of our dataset before training an SVM on it. This can be done through Principle Component Analysis (PCA). The idea would be to reduce the number of features without loss of information."
   ]
  },
  {
   "cell_type": "markdown",
   "metadata": {},
   "source": [
    "Using training set to determine parameters of standardization\n",
    "apply the parameters to standardize all attributes in training and test set"
   ]
  },
  {
   "cell_type": "code",
   "execution_count": 73,
   "metadata": {
    "colab": {},
    "colab_type": "code",
    "id": "3LfxfeMZ1Kol"
   },
   "outputs": [],
   "source": [
    "#Standardising data\n",
    "from sklearn.preprocessing import StandardScaler\n",
    "# Standardizing the features\n",
    "names = X_train.columns\n",
    "scalar = StandardScaler()\n",
    "scalar = scalar.fit(X_train)\n",
    "X_train_standardize = scalar.transform(X_train)\n",
    "X_train_standardize = pd.DataFrame(data = X_train_standardize, columns = names)\n",
    "X_test_standardize = scalar.transform(X_test)\n",
    "X_test_standardize = pd.DataFrame(data = X_test_standardize, columns = names)"
   ]
  },
  {
   "cell_type": "code",
   "execution_count": 74,
   "metadata": {},
   "outputs": [
    {
     "data": {
      "text/html": [
       "<div>\n",
       "<style scoped>\n",
       "    .dataframe tbody tr th:only-of-type {\n",
       "        vertical-align: middle;\n",
       "    }\n",
       "\n",
       "    .dataframe tbody tr th {\n",
       "        vertical-align: top;\n",
       "    }\n",
       "\n",
       "    .dataframe thead th {\n",
       "        text-align: right;\n",
       "    }\n",
       "</style>\n",
       "<table border=\"1\" class=\"dataframe\">\n",
       "  <thead>\n",
       "    <tr style=\"text-align: right;\">\n",
       "      <th></th>\n",
       "      <th>LIMIT_BAL</th>\n",
       "      <th>SEX</th>\n",
       "      <th>AGE</th>\n",
       "      <th>PAY_0</th>\n",
       "      <th>PAY_2</th>\n",
       "      <th>PAY_3</th>\n",
       "      <th>PAY_4</th>\n",
       "      <th>PAY_5</th>\n",
       "      <th>PAY_6</th>\n",
       "      <th>BILL_AMT1</th>\n",
       "      <th>...</th>\n",
       "      <th>x5_-2</th>\n",
       "      <th>x5_-1</th>\n",
       "      <th>x5_0</th>\n",
       "      <th>x5_1</th>\n",
       "      <th>x6_-2</th>\n",
       "      <th>x6_-1</th>\n",
       "      <th>x6_0</th>\n",
       "      <th>x7_-2</th>\n",
       "      <th>x7_-1</th>\n",
       "      <th>x7_0</th>\n",
       "    </tr>\n",
       "  </thead>\n",
       "  <tbody>\n",
       "    <tr>\n",
       "      <td>count</td>\n",
       "      <td>2.010200e+04</td>\n",
       "      <td>2.010200e+04</td>\n",
       "      <td>2.010200e+04</td>\n",
       "      <td>2.010200e+04</td>\n",
       "      <td>2.010200e+04</td>\n",
       "      <td>2.010200e+04</td>\n",
       "      <td>2.010200e+04</td>\n",
       "      <td>2.010200e+04</td>\n",
       "      <td>2.010200e+04</td>\n",
       "      <td>2.010200e+04</td>\n",
       "      <td>...</td>\n",
       "      <td>2.010200e+04</td>\n",
       "      <td>2.010200e+04</td>\n",
       "      <td>2.010200e+04</td>\n",
       "      <td>2.010200e+04</td>\n",
       "      <td>2.010200e+04</td>\n",
       "      <td>2.010200e+04</td>\n",
       "      <td>2.010200e+04</td>\n",
       "      <td>2.010200e+04</td>\n",
       "      <td>2.010200e+04</td>\n",
       "      <td>2.010200e+04</td>\n",
       "    </tr>\n",
       "    <tr>\n",
       "      <td>mean</td>\n",
       "      <td>1.144521e-16</td>\n",
       "      <td>-1.269615e-16</td>\n",
       "      <td>-3.593009e-16</td>\n",
       "      <td>-1.799432e-16</td>\n",
       "      <td>-9.886077e-19</td>\n",
       "      <td>-1.838236e-15</td>\n",
       "      <td>1.594746e-15</td>\n",
       "      <td>1.162255e-15</td>\n",
       "      <td>-2.980625e-16</td>\n",
       "      <td>3.461784e-17</td>\n",
       "      <td>...</td>\n",
       "      <td>-5.311419e-16</td>\n",
       "      <td>-1.118546e-15</td>\n",
       "      <td>5.865813e-16</td>\n",
       "      <td>-3.025637e-16</td>\n",
       "      <td>2.000798e-16</td>\n",
       "      <td>7.437699e-16</td>\n",
       "      <td>-3.886719e-16</td>\n",
       "      <td>-3.167853e-16</td>\n",
       "      <td>-9.253313e-16</td>\n",
       "      <td>1.004077e-15</td>\n",
       "    </tr>\n",
       "    <tr>\n",
       "      <td>std</td>\n",
       "      <td>1.000025e+00</td>\n",
       "      <td>1.000025e+00</td>\n",
       "      <td>1.000025e+00</td>\n",
       "      <td>1.000025e+00</td>\n",
       "      <td>1.000025e+00</td>\n",
       "      <td>1.000025e+00</td>\n",
       "      <td>1.000025e+00</td>\n",
       "      <td>1.000025e+00</td>\n",
       "      <td>1.000025e+00</td>\n",
       "      <td>1.000025e+00</td>\n",
       "      <td>...</td>\n",
       "      <td>1.000025e+00</td>\n",
       "      <td>1.000025e+00</td>\n",
       "      <td>1.000025e+00</td>\n",
       "      <td>1.000025e+00</td>\n",
       "      <td>1.000025e+00</td>\n",
       "      <td>1.000025e+00</td>\n",
       "      <td>1.000025e+00</td>\n",
       "      <td>1.000025e+00</td>\n",
       "      <td>1.000025e+00</td>\n",
       "      <td>1.000025e+00</td>\n",
       "    </tr>\n",
       "    <tr>\n",
       "      <td>min</td>\n",
       "      <td>-1.217650e+00</td>\n",
       "      <td>-1.251659e+00</td>\n",
       "      <td>-1.595443e+00</td>\n",
       "      <td>-4.822372e-01</td>\n",
       "      <td>-3.777715e-01</td>\n",
       "      <td>-3.639056e-01</td>\n",
       "      <td>-3.298725e-01</td>\n",
       "      <td>-2.992312e-01</td>\n",
       "      <td>-3.099583e-01</td>\n",
       "      <td>-1.054810e+00</td>\n",
       "      <td>...</td>\n",
       "      <td>-4.327697e-01</td>\n",
       "      <td>-4.900767e-01</td>\n",
       "      <td>-1.106531e+00</td>\n",
       "      <td>-3.298957e-01</td>\n",
       "      <td>-4.471068e-01</td>\n",
       "      <td>-4.824128e-01</td>\n",
       "      <td>-1.133736e+00</td>\n",
       "      <td>-4.692822e-01</td>\n",
       "      <td>-4.929631e-01</td>\n",
       "      <td>-1.075577e+00</td>\n",
       "    </tr>\n",
       "    <tr>\n",
       "      <td>25%</td>\n",
       "      <td>-8.772721e-01</td>\n",
       "      <td>-1.251659e+00</td>\n",
       "      <td>-7.969099e-01</td>\n",
       "      <td>-4.822372e-01</td>\n",
       "      <td>-3.777715e-01</td>\n",
       "      <td>-3.639056e-01</td>\n",
       "      <td>-3.298725e-01</td>\n",
       "      <td>-2.992312e-01</td>\n",
       "      <td>-3.099583e-01</td>\n",
       "      <td>-7.543990e-01</td>\n",
       "      <td>...</td>\n",
       "      <td>-4.327697e-01</td>\n",
       "      <td>-4.900767e-01</td>\n",
       "      <td>-1.106531e+00</td>\n",
       "      <td>-3.298957e-01</td>\n",
       "      <td>-4.471068e-01</td>\n",
       "      <td>-4.824128e-01</td>\n",
       "      <td>-1.133736e+00</td>\n",
       "      <td>-4.692822e-01</td>\n",
       "      <td>-4.929631e-01</td>\n",
       "      <td>-1.075577e+00</td>\n",
       "    </tr>\n",
       "    <tr>\n",
       "      <td>50%</td>\n",
       "      <td>-1.965158e-01</td>\n",
       "      <td>7.989398e-01</td>\n",
       "      <td>-1.124531e-01</td>\n",
       "      <td>-4.822372e-01</td>\n",
       "      <td>-3.777715e-01</td>\n",
       "      <td>-3.639056e-01</td>\n",
       "      <td>-3.298725e-01</td>\n",
       "      <td>-2.992312e-01</td>\n",
       "      <td>-3.099583e-01</td>\n",
       "      <td>-4.110548e-01</td>\n",
       "      <td>...</td>\n",
       "      <td>-4.327697e-01</td>\n",
       "      <td>-4.900767e-01</td>\n",
       "      <td>9.037253e-01</td>\n",
       "      <td>-3.298957e-01</td>\n",
       "      <td>-4.471068e-01</td>\n",
       "      <td>-4.824128e-01</td>\n",
       "      <td>8.820397e-01</td>\n",
       "      <td>-4.692822e-01</td>\n",
       "      <td>-4.929631e-01</td>\n",
       "      <td>9.297331e-01</td>\n",
       "    </tr>\n",
       "    <tr>\n",
       "      <td>75%</td>\n",
       "      <td>4.842405e-01</td>\n",
       "      <td>7.989398e-01</td>\n",
       "      <td>6.860798e-01</td>\n",
       "      <td>-4.822372e-01</td>\n",
       "      <td>-3.777715e-01</td>\n",
       "      <td>-3.639056e-01</td>\n",
       "      <td>-3.298725e-01</td>\n",
       "      <td>-2.992312e-01</td>\n",
       "      <td>-3.099583e-01</td>\n",
       "      <td>3.571947e-01</td>\n",
       "      <td>...</td>\n",
       "      <td>-4.327697e-01</td>\n",
       "      <td>-4.900767e-01</td>\n",
       "      <td>9.037253e-01</td>\n",
       "      <td>-3.298957e-01</td>\n",
       "      <td>-4.471068e-01</td>\n",
       "      <td>-4.824128e-01</td>\n",
       "      <td>8.820397e-01</td>\n",
       "      <td>-4.692822e-01</td>\n",
       "      <td>-4.929631e-01</td>\n",
       "      <td>9.297331e-01</td>\n",
       "    </tr>\n",
       "    <tr>\n",
       "      <td>max</td>\n",
       "      <td>2.951982e+00</td>\n",
       "      <td>7.989398e-01</td>\n",
       "      <td>2.739450e+00</td>\n",
       "      <td>2.755009e+00</td>\n",
       "      <td>2.651332e+00</td>\n",
       "      <td>2.748296e+00</td>\n",
       "      <td>3.031900e+00</td>\n",
       "      <td>3.341898e+00</td>\n",
       "      <td>3.226240e+00</td>\n",
       "      <td>4.169400e+00</td>\n",
       "      <td>...</td>\n",
       "      <td>2.310698e+00</td>\n",
       "      <td>2.040497e+00</td>\n",
       "      <td>9.037253e-01</td>\n",
       "      <td>3.031261e+00</td>\n",
       "      <td>2.236602e+00</td>\n",
       "      <td>2.072913e+00</td>\n",
       "      <td>8.820397e-01</td>\n",
       "      <td>2.130914e+00</td>\n",
       "      <td>2.028549e+00</td>\n",
       "      <td>9.297331e-01</td>\n",
       "    </tr>\n",
       "  </tbody>\n",
       "</table>\n",
       "<p>8 rows × 51 columns</p>\n",
       "</div>"
      ],
      "text/plain": [
       "          LIMIT_BAL           SEX           AGE         PAY_0         PAY_2  \\\n",
       "count  2.010200e+04  2.010200e+04  2.010200e+04  2.010200e+04  2.010200e+04   \n",
       "mean   1.144521e-16 -1.269615e-16 -3.593009e-16 -1.799432e-16 -9.886077e-19   \n",
       "std    1.000025e+00  1.000025e+00  1.000025e+00  1.000025e+00  1.000025e+00   \n",
       "min   -1.217650e+00 -1.251659e+00 -1.595443e+00 -4.822372e-01 -3.777715e-01   \n",
       "25%   -8.772721e-01 -1.251659e+00 -7.969099e-01 -4.822372e-01 -3.777715e-01   \n",
       "50%   -1.965158e-01  7.989398e-01 -1.124531e-01 -4.822372e-01 -3.777715e-01   \n",
       "75%    4.842405e-01  7.989398e-01  6.860798e-01 -4.822372e-01 -3.777715e-01   \n",
       "max    2.951982e+00  7.989398e-01  2.739450e+00  2.755009e+00  2.651332e+00   \n",
       "\n",
       "              PAY_3         PAY_4         PAY_5         PAY_6     BILL_AMT1  \\\n",
       "count  2.010200e+04  2.010200e+04  2.010200e+04  2.010200e+04  2.010200e+04   \n",
       "mean  -1.838236e-15  1.594746e-15  1.162255e-15 -2.980625e-16  3.461784e-17   \n",
       "std    1.000025e+00  1.000025e+00  1.000025e+00  1.000025e+00  1.000025e+00   \n",
       "min   -3.639056e-01 -3.298725e-01 -2.992312e-01 -3.099583e-01 -1.054810e+00   \n",
       "25%   -3.639056e-01 -3.298725e-01 -2.992312e-01 -3.099583e-01 -7.543990e-01   \n",
       "50%   -3.639056e-01 -3.298725e-01 -2.992312e-01 -3.099583e-01 -4.110548e-01   \n",
       "75%   -3.639056e-01 -3.298725e-01 -2.992312e-01 -3.099583e-01  3.571947e-01   \n",
       "max    2.748296e+00  3.031900e+00  3.341898e+00  3.226240e+00  4.169400e+00   \n",
       "\n",
       "       ...         x5_-2         x5_-1          x5_0          x5_1  \\\n",
       "count  ...  2.010200e+04  2.010200e+04  2.010200e+04  2.010200e+04   \n",
       "mean   ... -5.311419e-16 -1.118546e-15  5.865813e-16 -3.025637e-16   \n",
       "std    ...  1.000025e+00  1.000025e+00  1.000025e+00  1.000025e+00   \n",
       "min    ... -4.327697e-01 -4.900767e-01 -1.106531e+00 -3.298957e-01   \n",
       "25%    ... -4.327697e-01 -4.900767e-01 -1.106531e+00 -3.298957e-01   \n",
       "50%    ... -4.327697e-01 -4.900767e-01  9.037253e-01 -3.298957e-01   \n",
       "75%    ... -4.327697e-01 -4.900767e-01  9.037253e-01 -3.298957e-01   \n",
       "max    ...  2.310698e+00  2.040497e+00  9.037253e-01  3.031261e+00   \n",
       "\n",
       "              x6_-2         x6_-1          x6_0         x7_-2         x7_-1  \\\n",
       "count  2.010200e+04  2.010200e+04  2.010200e+04  2.010200e+04  2.010200e+04   \n",
       "mean   2.000798e-16  7.437699e-16 -3.886719e-16 -3.167853e-16 -9.253313e-16   \n",
       "std    1.000025e+00  1.000025e+00  1.000025e+00  1.000025e+00  1.000025e+00   \n",
       "min   -4.471068e-01 -4.824128e-01 -1.133736e+00 -4.692822e-01 -4.929631e-01   \n",
       "25%   -4.471068e-01 -4.824128e-01 -1.133736e+00 -4.692822e-01 -4.929631e-01   \n",
       "50%   -4.471068e-01 -4.824128e-01  8.820397e-01 -4.692822e-01 -4.929631e-01   \n",
       "75%   -4.471068e-01 -4.824128e-01  8.820397e-01 -4.692822e-01 -4.929631e-01   \n",
       "max    2.236602e+00  2.072913e+00  8.820397e-01  2.130914e+00  2.028549e+00   \n",
       "\n",
       "               x7_0  \n",
       "count  2.010200e+04  \n",
       "mean   1.004077e-15  \n",
       "std    1.000025e+00  \n",
       "min   -1.075577e+00  \n",
       "25%   -1.075577e+00  \n",
       "50%    9.297331e-01  \n",
       "75%    9.297331e-01  \n",
       "max    9.297331e-01  \n",
       "\n",
       "[8 rows x 51 columns]"
      ]
     },
     "execution_count": 74,
     "metadata": {},
     "output_type": "execute_result"
    }
   ],
   "source": [
    "#check if numerical attributes are normailised with mean = 0 and sd = 1\n",
    "X_train_standardize.describe()"
   ]
  },
  {
   "cell_type": "markdown",
   "metadata": {},
   "source": [
    "### Perfrom initial PCA for 2 components for visualization\n",
    "giving 2 pca components, we will visualize the information retained after performing 2 pca components"
   ]
  },
  {
   "cell_type": "code",
   "execution_count": 75,
   "metadata": {},
   "outputs": [],
   "source": [
    "#perform pca\n",
    "from sklearn.decomposition import PCA\n",
    "pca = PCA(n_components=2)\n",
    "principalComponents =  pca.fit_transform(X_train_standardize)\n",
    "principalDf = pd.DataFrame(data = principalComponents\n",
    "             , columns = ['principal component 1', 'principal component 2'])"
   ]
  },
  {
   "cell_type": "code",
   "execution_count": 76,
   "metadata": {},
   "outputs": [
    {
     "name": "stdout",
     "output_type": "stream",
     "text": [
      "Explained variation per principal component: [0.20419394 0.12301281]\n"
     ]
    }
   ],
   "source": [
    "#amount of information each principal component holds after projecting the data to a lower dimensional subspace.\n",
    "print('Explained variation per principal component: {}'.format(pca.explained_variance_ratio_))"
   ]
  },
  {
   "cell_type": "markdown",
   "metadata": {},
   "source": [
    "This shows that the information of principal component 1 retained is 28.4% and principal component 2 retained is 17.8%, both of which is quite low"
   ]
  },
  {
   "cell_type": "code",
   "execution_count": 77,
   "metadata": {},
   "outputs": [
    {
     "data": {
      "image/png": "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\n",
      "text/plain": [
       "<Figure size 576x576 with 1 Axes>"
      ]
     },
     "metadata": {
      "needs_background": "light"
     },
     "output_type": "display_data"
    }
   ],
   "source": [
    "#visualizing pca\n",
    "pca_visualize_df = pd.concat([principalDf, y_train], axis = 1)\n",
    "fig = plt.figure(figsize = (8,8))\n",
    "ax = fig.add_subplot(1,1,1) \n",
    "ax.set_xlabel('Principal Component 1', fontsize = 15)\n",
    "ax.set_ylabel('Principal Component 2', fontsize = 15)\n",
    "ax.set_title('2 component PCA', fontsize = 20)\n",
    "targets = [1,0]\n",
    "colors = ['r', 'g']\n",
    "for target, color in zip(targets,colors):\n",
    "    indicesToKeep = pca_visualize_df['Y'] == target\n",
    "    ax.scatter(pca_visualize_df.loc[indicesToKeep, 'principal component 1']\n",
    "               , pca_visualize_df.loc[indicesToKeep, 'principal component 2']\n",
    "               , c = color\n",
    "               , s = 50)\n",
    "ax.legend(targets)\n",
    "ax.grid()"
   ]
  },
  {
   "cell_type": "markdown",
   "metadata": {},
   "source": [
    "As we can see, there is no clear linear separation for the target attributes for 2 pca components, justifying the above percentages. Nonetherless, we will continue to use PCA by finding the  optimmum number of PC components which retains 90% of information"
   ]
  },
  {
   "cell_type": "markdown",
   "metadata": {},
   "source": [
    "### Perform PCA to retain 90% of information\n",
    "perform PCA to reduce components so we can run SVM model"
   ]
  },
  {
   "cell_type": "code",
   "execution_count": 78,
   "metadata": {},
   "outputs": [],
   "source": [
    "#setting pca threshold to 90%\n",
    "pca = PCA(0.9)"
   ]
  },
  {
   "cell_type": "code",
   "execution_count": 79,
   "metadata": {},
   "outputs": [
    {
     "data": {
      "text/plain": [
       "PCA(copy=True, iterated_power='auto', n_components=0.9, random_state=None,\n",
       "    svd_solver='auto', tol=0.0, whiten=False)"
      ]
     },
     "execution_count": 79,
     "metadata": {},
     "output_type": "execute_result"
    }
   ],
   "source": [
    "pca.fit(X_train_standardize)"
   ]
  },
  {
   "cell_type": "code",
   "execution_count": 80,
   "metadata": {},
   "outputs": [
    {
     "name": "stdout",
     "output_type": "stream",
     "text": [
      "No. of components before pca: 51\n",
      "No. of components after pca: 22\n"
     ]
    }
   ],
   "source": [
    "#get number of components after pca\n",
    "print('No. of components before pca: {}'.format(len(X_train.columns)))\n",
    "print('No. of components after pca: {}'.format(pca.n_components_))"
   ]
  },
  {
   "cell_type": "markdown",
   "metadata": {},
   "source": [
    "As we can see, the number of components is reduced from 23 components to 13 components"
   ]
  },
  {
   "cell_type": "code",
   "execution_count": 81,
   "metadata": {},
   "outputs": [],
   "source": [
    "#perform pca on training and test attributes\n",
    "X_train_pca = pca.transform(X_train_standardize)\n",
    "X_test_pca = pca.transform(X_test_standardize)"
   ]
  },
  {
   "cell_type": "markdown",
   "metadata": {},
   "source": [
    "### Apply SVM model\n",
    "Next, we will used the reduced attributes train set to train our SVM model"
   ]
  },
  {
   "cell_type": "markdown",
   "metadata": {},
   "source": [
    "First, we train our SVM model without parameter tuning\n",
    "nor pca reduction"
   ]
  },
  {
   "cell_type": "code",
   "execution_count": null,
   "metadata": {},
   "outputs": [
    {
     "name": "stderr",
     "output_type": "stream",
     "text": [
      "/Users/Chew/anaconda3/lib/python3.7/site-packages/sklearn/svm/base.py:193: FutureWarning: The default value of gamma will change from 'auto' to 'scale' in version 0.22 to account better for unscaled features. Set gamma explicitly to 'auto' or 'scale' to avoid this warning.\n",
      "  \"avoid this warning.\", FutureWarning)\n"
     ]
    }
   ],
   "source": [
    "from sklearn import svm\n",
    "#train svm model without standardization and no parameter tuning\n",
    "clf_original = svm.SVC(kernel = 'rbf', probability = True)\n",
    "clf_original.fit(X_train, y_train)"
   ]
  },
  {
   "cell_type": "code",
   "execution_count": null,
   "metadata": {},
   "outputs": [],
   "source": [
    "#plot roc for svm\n",
    "get_roc(clf_original, y_test, X_test, \"SVM original data RBF kernal\")"
   ]
  },
  {
   "cell_type": "code",
   "execution_count": null,
   "metadata": {},
   "outputs": [],
   "source": [
    "#confusion matrix\n",
    "confusion(y_test,clf_original.predict(X_test), \"SVM original data RBF kernal\")"
   ]
  },
  {
   "cell_type": "markdown",
   "metadata": {},
   "source": [
    "Evidently, SVM model fit with no tuning or feature reduction with RBF kernal shows low performance. Now, we will fit SVM model with reduced standardized features and access accuracy"
   ]
  },
  {
   "cell_type": "markdown",
   "metadata": {},
   "source": [
    "note that the default values of gamma = 1/13 and c= 1"
   ]
  },
  {
   "cell_type": "code",
   "execution_count": null,
   "metadata": {},
   "outputs": [],
   "source": [
    "#train svm model with feature reduction and no parameter tuning\n",
    "clf_reduced = svm.SVC(kernel = 'rbf', probability = True, gamma = 1/13, C = 1)\n",
    "clf_reduced.fit(X_train_pca, y_train)"
   ]
  },
  {
   "cell_type": "code",
   "execution_count": null,
   "metadata": {},
   "outputs": [],
   "source": [
    "#plot roc for svm\n",
    "get_roc(clf_reduced, y_test, X_test_pca, \n",
    "        \"SVM reduced features no tuning RBF kernal\")"
   ]
  },
  {
   "cell_type": "code",
   "execution_count": null,
   "metadata": {},
   "outputs": [],
   "source": [
    "#confusion matrix\n",
    "confusion(y_test,clf_reduced.predict(X_test_pca), \"SVM reduced features no tuning RBF kernal\")"
   ]
  },
  {
   "cell_type": "markdown",
   "metadata": {},
   "source": [
    "As you can see, by reducing features through pca, the AUROC curve improves, suggesting a better prediction model."
   ]
  },
  {
   "cell_type": "markdown",
   "metadata": {},
   "source": [
    "We will now try to find best parameters for SVM model"
   ]
  },
  {
   "cell_type": "code",
   "execution_count": null,
   "metadata": {},
   "outputs": [],
   "source": [
    "from sklearn.model_selection import GridSearchCV\n",
    "def svc_param_selection(X, y, nfolds):\n",
    "    Cs = [0.001, 0.01, 0.1, 1, 10]\n",
    "    gammas = [0.001, 0.01, 0.1, 1,10]\n",
    "    param_grid = {'C': Cs, 'gamma' : gammas}\n",
    "    grid_search = GridSearchCV(svm.SVC(kernel='rbf'), param_grid, cv=nfolds)\n",
    "    grid_search.fit(X, y)\n",
    "    grid_search.best_params_\n",
    "    return grid_search.best_params_\n",
    "svc_param_selection(X_train_pca, y_train,10)\n"
   ]
  },
  {
   "cell_type": "code",
   "execution_count": null,
   "metadata": {},
   "outputs": [],
   "source": [
    "#train svm model with feature reduction and cost = 10, gamma = 0.01\n",
    "clf_reduced_tuned = svm.SVC(kernel = 'rbf', probability = True, C= 10, gamma = 0.01)\n",
    "clf_reduced_tuned.fit(X_train_pca, y_train)"
   ]
  },
  {
   "cell_type": "code",
   "execution_count": null,
   "metadata": {},
   "outputs": [],
   "source": [
    "get_roc(clf_reduced_tuned, y_test, X_test_pca, \n",
    "        \"SVM reduced features and tuning RBF kernal\")"
   ]
  },
  {
   "cell_type": "code",
   "execution_count": null,
   "metadata": {},
   "outputs": [],
   "source": [
    "#confusion matrix\n",
    "confusion(y_test,clf_reduced_tuned.predict(X_test_pca), \"SVM reduced features and tuning RBF kernal\")"
   ]
  },
  {
   "cell_type": "markdown",
   "metadata": {},
   "source": [
    "From this, we can conclude that fitting SVM model with PCA-reduced features but no parameter tuning is most accurate based on Recall value"
   ]
  },
  {
   "cell_type": "markdown",
   "metadata": {},
   "source": [
    "Thus, fitting an SVM with PCA-reduced features with default gamma = 1/13 and C = 1 with kernal = 'rbf' is the best model. However, this is only for rbf kernel."
   ]
  },
  {
   "cell_type": "markdown",
   "metadata": {},
   "source": [
    "### Neural Networks\n",
    "We will now use the train and test sets as defined above and attempt to implement a neural network model on the data\n"
   ]
  },
  {
   "cell_type": "code",
   "execution_count": 79,
   "metadata": {},
   "outputs": [],
   "source": [
    "from sklearn.neural_network import MLPClassifier"
   ]
  },
  {
   "cell_type": "code",
   "execution_count": 97,
   "metadata": {},
   "outputs": [],
   "source": [
    "# The neural network may have difficulty converging before the maximum number \n",
    "# of iterations allowed is reached if the data is not normalized. Additionaly, \n",
    "# Multi-layer Perceptron is sensitive to feature scaling, so we will use the built-in \n",
    "# StandardScaler for standardization. Other than the training set, the test set values are scaled as well.\n",
    "\n",
    "# from sklearn.preprocessing import StandardScaler I SHIFTED THIS ON TOP\n",
    "# scaler = StandardScaler()\n",
    "# scaler.fit(X_train)\n",
    "# X_train = scaler.transform(X_train)\n",
    "# X_test = scaler.transform(X_test)"
   ]
  },
  {
   "cell_type": "markdown",
   "metadata": {},
   "source": [
    "Here we create an instance of our model, with 5 layers of 23 neurons each, identical to that of our training data. "
   ]
  },
  {
   "cell_type": "code",
   "execution_count": 98,
   "metadata": {
    "scrolled": true
   },
   "outputs": [],
   "source": [
    "mlp = MLPClassifier(hidden_layer_sizes=(23,23,23,23,23))"
   ]
  },
  {
   "cell_type": "code",
   "execution_count": 99,
   "metadata": {},
   "outputs": [
    {
     "name": "stderr",
     "output_type": "stream",
     "text": [
      "/Users/Chew/anaconda3/lib/python3.7/site-packages/sklearn/neural_network/multilayer_perceptron.py:566: ConvergenceWarning: Stochastic Optimizer: Maximum iterations (200) reached and the optimization hasn't converged yet.\n",
      "  % self.max_iter, ConvergenceWarning)\n"
     ]
    },
    {
     "data": {
      "text/plain": [
       "MLPClassifier(activation='relu', alpha=0.0001, batch_size='auto', beta_1=0.9,\n",
       "              beta_2=0.999, early_stopping=False, epsilon=1e-08,\n",
       "              hidden_layer_sizes=(23, 23, 23, 23, 23), learning_rate='constant',\n",
       "              learning_rate_init=0.001, max_iter=200, momentum=0.9,\n",
       "              n_iter_no_change=10, nesterovs_momentum=True, power_t=0.5,\n",
       "              random_state=None, shuffle=True, solver='adam', tol=0.0001,\n",
       "              validation_fraction=0.1, verbose=False, warm_start=False)"
      ]
     },
     "execution_count": 99,
     "metadata": {},
     "output_type": "execute_result"
    }
   ],
   "source": [
    "mlp.fit(X_train,y_train)"
   ]
  },
  {
   "cell_type": "code",
   "execution_count": 100,
   "metadata": {},
   "outputs": [],
   "source": [
    "predictions = mlp.predict(X_test)"
   ]
  },
  {
   "cell_type": "markdown",
   "metadata": {},
   "source": [
    "From here, we produce the confusion matrix and tabulate the accuracy and reliability of the model"
   ]
  },
  {
   "cell_type": "code",
   "execution_count": 101,
   "metadata": {},
   "outputs": [
    {
     "name": "stdout",
     "output_type": "stream",
     "text": [
      "[[3572  327]\n",
      " [ 741  386]]\n"
     ]
    }
   ],
   "source": [
    "from sklearn.metrics import classification_report,confusion_matrix\n",
    "print(confusion_matrix(y_test,predictions))"
   ]
  },
  {
   "cell_type": "code",
   "execution_count": 102,
   "metadata": {},
   "outputs": [
    {
     "name": "stdout",
     "output_type": "stream",
     "text": [
      "              precision    recall  f1-score   support\n",
      "\n",
      "           0       0.83      0.92      0.87      3899\n",
      "           1       0.54      0.34      0.42      1127\n",
      "\n",
      "    accuracy                           0.79      5026\n",
      "   macro avg       0.68      0.63      0.64      5026\n",
      "weighted avg       0.76      0.79      0.77      5026\n",
      "\n"
     ]
    }
   ],
   "source": [
    "print(classification_report(y_test,predictions))"
   ]
  },
  {
   "cell_type": "markdown",
   "metadata": {},
   "source": [
    "From this table the results look decent , but the model can still be improved upon. Hence, we will \n",
    "double the number of hidden layers to see if there is an improvement in performance.\n"
   ]
  },
  {
   "cell_type": "code",
   "execution_count": 103,
   "metadata": {},
   "outputs": [
    {
     "name": "stdout",
     "output_type": "stream",
     "text": [
      "[[3560  339]\n",
      " [ 750  377]]\n",
      "              precision    recall  f1-score   support\n",
      "\n",
      "           0       0.83      0.91      0.87      3899\n",
      "           1       0.53      0.33      0.41      1127\n",
      "\n",
      "    accuracy                           0.78      5026\n",
      "   macro avg       0.68      0.62      0.64      5026\n",
      "weighted avg       0.76      0.78      0.76      5026\n",
      "\n"
     ]
    },
    {
     "name": "stderr",
     "output_type": "stream",
     "text": [
      "/Users/Chew/anaconda3/lib/python3.7/site-packages/sklearn/neural_network/multilayer_perceptron.py:566: ConvergenceWarning: Stochastic Optimizer: Maximum iterations (200) reached and the optimization hasn't converged yet.\n",
      "  % self.max_iter, ConvergenceWarning)\n"
     ]
    }
   ],
   "source": [
    "mlp = MLPClassifier(hidden_layer_sizes=(23,23,23,23,23,23,23,23,23,23))\n",
    "mlp.fit(X_train,y_train)\n",
    "predictions = mlp.predict(X_test)\n",
    "print(confusion_matrix(y_test,predictions))\n",
    "print(classification_report(y_test,predictions))"
   ]
  },
  {
   "cell_type": "markdown",
   "metadata": {},
   "source": [
    "The avergae accuracy of the model can be said to be similiar to that of the previous one, and is even performing slightly worse, hence we might be overfitting the model. "
   ]
  },
  {
   "cell_type": "code",
   "execution_count": 105,
   "metadata": {},
   "outputs": [
    {
     "name": "stdout",
     "output_type": "stream",
     "text": [
      "[[3720  179]\n",
      " [ 789  338]]\n",
      "              precision    recall  f1-score   support\n",
      "\n",
      "           0       0.83      0.95      0.88      3899\n",
      "           1       0.65      0.30      0.41      1127\n",
      "\n",
      "    accuracy                           0.81      5026\n",
      "   macro avg       0.74      0.63      0.65      5026\n",
      "weighted avg       0.79      0.81      0.78      5026\n",
      "\n"
     ]
    }
   ],
   "source": [
    "mlp = MLPClassifier(hidden_layer_sizes=(23,23,23,23,23))\n",
    "mlp.fit(X_train,y_train)\n",
    "predictions = mlp.predict(X_test)\n",
    "print(confusion_matrix(y_test,predictions))\n",
    "print(classification_report(y_test,predictions))"
   ]
  },
  {
   "cell_type": "code",
   "execution_count": null,
   "metadata": {},
   "outputs": [],
   "source": [
    "We try to use Keras instead to improve our deep learning performance."
   ]
  },
  {
   "cell_type": "code",
   "execution_count": 108,
   "metadata": {},
   "outputs": [
    {
     "name": "stdout",
     "output_type": "stream",
     "text": [
      "Epoch 1/150\n",
      "25128/25128 [==============================] - 4s 158us/step - loss: 64.3604 - accuracy: 0.6887 1s - loss: 82.7019 \n",
      "Epoch 2/150\n",
      "25128/25128 [==============================] - 3s 136us/step - loss: 6.8673 - accuracy: 0.6882\n",
      "Epoch 3/150\n",
      "25128/25128 [==============================] - 3s 136us/step - loss: 3.0394 - accuracy: 0.6851\n",
      "Epoch 4/150\n",
      "25128/25128 [==============================] - 4s 141us/step - loss: 1.0035 - accuracy: 0.7036\n",
      "Epoch 5/150\n",
      "25128/25128 [==============================] - 3s 134us/step - loss: 0.5581 - accuracy: 0.7851\n",
      "Epoch 6/150\n",
      "25128/25128 [==============================] - 4s 142us/step - loss: 0.5963 - accuracy: 0.7865\n",
      "Epoch 7/150\n",
      "25128/25128 [==============================] - 3s 132us/step - loss: 0.5663 - accuracy: 0.78740s - loss: 0.5696 - accuracy\n",
      "Epoch 8/150\n",
      "25128/25128 [==============================] - 4s 145us/step - loss: 0.5204 - accuracy: 0.7875\n",
      "Epoch 9/150\n",
      "25128/25128 [==============================] - 4s 160us/step - loss: 0.5499 - accuracy: 0.7876\n",
      "Epoch 10/150\n",
      "25128/25128 [==============================] - 3s 134us/step - loss: 0.5172 - accuracy: 0.7876\n",
      "Epoch 11/150\n",
      "25128/25128 [==============================] - 4s 146us/step - loss: 0.5170 - accuracy: 0.7876\n",
      "Epoch 12/150\n",
      "25128/25128 [==============================] - 3s 132us/step - loss: 0.5170 - accuracy: 0.7876\n",
      "Epoch 13/150\n",
      "25128/25128 [==============================] - 3s 135us/step - loss: 0.5182 - accuracy: 0.7876\n",
      "Epoch 14/150\n",
      "25128/25128 [==============================] - 3s 133us/step - loss: 0.5170 - accuracy: 0.7876\n",
      "Epoch 15/150\n",
      "25128/25128 [==============================] - 3s 132us/step - loss: 0.5171 - accuracy: 0.7876\n",
      "Epoch 16/150\n",
      "25128/25128 [==============================] - 3s 132us/step - loss: 0.5171 - accuracy: 0.7876\n",
      "Epoch 17/150\n",
      "25128/25128 [==============================] - 3s 134us/step - loss: 0.5171 - accuracy: 0.7876\n",
      "Epoch 18/150\n",
      "25128/25128 [==============================] - 3s 133us/step - loss: 0.5171 - accuracy: 0.7876\n",
      "Epoch 19/150\n",
      "25128/25128 [==============================] - 3s 129us/step - loss: 0.5265 - accuracy: 0.7876\n",
      "Epoch 20/150\n",
      "25128/25128 [==============================] - 4s 146us/step - loss: 0.5183 - accuracy: 0.7876\n",
      "Epoch 21/150\n",
      "25128/25128 [==============================] - 7s 292us/step - loss: 0.5184 - accuracy: 0.7876\n",
      "Epoch 22/150\n",
      "25128/25128 [==============================] - 6s 250us/step - loss: 0.5256 - accuracy: 0.7876\n",
      "Epoch 23/150\n",
      "25128/25128 [==============================] - 7s 289us/step - loss: 0.5174 - accuracy: 0.7876\n",
      "Epoch 24/150\n",
      "25128/25128 [==============================] - 6s 222us/step - loss: 0.5170 - accuracy: 0.7876\n",
      "Epoch 25/150\n",
      "25128/25128 [==============================] - 4s 177us/step - loss: 0.5171 - accuracy: 0.78760s - loss: 0.5168 - accura\n",
      "Epoch 26/150\n",
      "25128/25128 [==============================] - 5s 194us/step - loss: 0.5171 - accuracy: 0.7876\n",
      "Epoch 27/150\n",
      "25128/25128 [==============================] - 5s 195us/step - loss: 0.5170 - accuracy: 0.78760s - loss: 0.517\n",
      "Epoch 28/150\n",
      "25128/25128 [==============================] - 4s 150us/step - loss: 0.5171 - accuracy: 0.7876\n",
      "Epoch 29/150\n",
      "25128/25128 [==============================] - 4s 171us/step - loss: 0.5207 - accuracy: 0.7876\n",
      "Epoch 30/150\n",
      "25128/25128 [==============================] - 4s 154us/step - loss: 0.5171 - accuracy: 0.7876\n",
      "Epoch 31/150\n",
      "25128/25128 [==============================] - 4s 171us/step - loss: 0.5171 - accuracy: 0.7876\n",
      "Epoch 32/150\n",
      "25128/25128 [==============================] - 4s 176us/step - loss: 0.5179 - accuracy: 0.78760s - loss: 0.5\n",
      "Epoch 33/150\n",
      "25128/25128 [==============================] - 5s 214us/step - loss: 0.5170 - accuracy: 0.7876\n",
      "Epoch 34/150\n",
      "25128/25128 [==============================] - 4s 171us/step - loss: 0.5171 - accuracy: 0.78760s - loss: 0.5170 - accuracy: \n",
      "Epoch 35/150\n",
      "25128/25128 [==============================] - 4s 175us/step - loss: 0.5171 - accuracy: 0.78760s - loss: 0\n",
      "Epoch 36/150\n",
      "25128/25128 [==============================] - 4s 161us/step - loss: 0.5171 - accuracy: 0.7876\n",
      "Epoch 37/150\n",
      "25128/25128 [==============================] - 4s 159us/step - loss: 0.5171 - accuracy: 0.7876\n",
      "Epoch 38/150\n",
      "25128/25128 [==============================] - 4s 158us/step - loss: 0.5171 - accuracy: 0.7876\n",
      "Epoch 39/150\n",
      "25128/25128 [==============================] - 4s 154us/step - loss: 0.5170 - accuracy: 0.7876\n",
      "Epoch 40/150\n",
      "25128/25128 [==============================] - 3s 139us/step - loss: 0.5171 - accuracy: 0.7876\n",
      "Epoch 41/150\n",
      "25128/25128 [==============================] - 3s 130us/step - loss: 0.5171 - accuracy: 0.7876\n",
      "Epoch 42/150\n",
      "25128/25128 [==============================] - 3s 130us/step - loss: 0.5171 - accuracy: 0.7876\n",
      "Epoch 43/150\n",
      "25128/25128 [==============================] - 3s 131us/step - loss: 0.5171 - accuracy: 0.7876\n",
      "Epoch 44/150\n",
      "25128/25128 [==============================] - 4s 159us/step - loss: 0.5171 - accuracy: 0.7876\n",
      "Epoch 45/150\n",
      "25128/25128 [==============================] - 3s 135us/step - loss: 0.5171 - accuracy: 0.7876\n",
      "Epoch 46/150\n",
      "25128/25128 [==============================] - 3s 132us/step - loss: 0.5171 - accuracy: 0.7876TA: 0s - loss: 0.5159 - accuracy: 0. - ETA: 0s - los\n",
      "Epoch 47/150\n",
      "25128/25128 [==============================] - 3s 117us/step - loss: 0.5171 - accuracy: 0.7876\n",
      "Epoch 48/150\n",
      "25128/25128 [==============================] - 3s 134us/step - loss: 0.5171 - accuracy: 0.7876TA\n",
      "Epoch 49/150\n",
      "25128/25128 [==============================] - 3s 139us/step - loss: 0.5171 - accuracy: 0.78760s - los\n",
      "Epoch 50/150\n",
      "25128/25128 [==============================] - 3s 116us/step - loss: 0.5171 - accuracy: 0.7876\n",
      "Epoch 51/150\n",
      "25128/25128 [==============================] - 3s 128us/step - loss: 0.5171 - accuracy: 0.7876\n",
      "Epoch 52/150\n",
      "25128/25128 [==============================] - 3s 121us/step - loss: 0.5170 - accuracy: 0.7876\n",
      "Epoch 53/150\n",
      "25128/25128 [==============================] - 3s 128us/step - loss: 0.5171 - accuracy: 0.7876\n",
      "Epoch 54/150\n",
      "25128/25128 [==============================] - 3s 113us/step - loss: 0.5171 - accuracy: 0.7876\n",
      "Epoch 55/150\n",
      "25128/25128 [==============================] - 3s 116us/step - loss: 0.5171 - accuracy: 0.7876\n",
      "Epoch 56/150\n",
      "25128/25128 [==============================] - 3s 125us/step - loss: 0.5171 - accuracy: 0.7876\n",
      "Epoch 57/150\n",
      "25128/25128 [==============================] - 10s 381us/step - loss: 0.5171 - accuracy: 0.7876\n",
      "Epoch 58/150\n",
      "25128/25128 [==============================] - 6s 219us/step - loss: 0.5171 - accuracy: 0.7876\n",
      "Epoch 59/150\n",
      "25128/25128 [==============================] - 4s 176us/step - loss: 0.5171 - accuracy: 0.78760s - l\n",
      "Epoch 60/150\n",
      "25128/25128 [==============================] - 5s 180us/step - loss: 0.5170 - accuracy: 0.7876\n",
      "Epoch 61/150\n",
      "25128/25128 [==============================] - 4s 159us/step - loss: 0.5170 - accuracy: 0.78760s -\n",
      "Epoch 62/150\n",
      "25128/25128 [==============================] - 5s 193us/step - loss: 0.5171 - accuracy: 0.7876\n",
      "Epoch 63/150\n",
      "25128/25128 [==============================] - 5s 199us/step - loss: 0.5171 - accuracy: 0.7876\n",
      "Epoch 64/150\n",
      "25128/25128 [==============================] - 5s 189us/step - loss: 0.5171 - accuracy: 0.7876\n",
      "Epoch 65/150\n",
      "25128/25128 [==============================] - 6s 221us/step - loss: 0.5171 - accuracy: 0.78760s - loss: 0.5\n",
      "Epoch 66/150\n",
      "25128/25128 [==============================] - 5s 190us/step - loss: 0.5171 - accuracy: 0.7876\n",
      "Epoch 67/150\n",
      "25128/25128 [==============================] - 6s 224us/step - loss: 0.5171 - accuracy: 0.78760s - loss: 0\n",
      "Epoch 68/150\n",
      "25128/25128 [==============================] - 4s 172us/step - loss: 0.5171 - accuracy: 0.78760s - loss: 0.5157 - \n",
      "Epoch 69/150\n",
      "25128/25128 [==============================] - 4s 178us/step - loss: 0.5171 - accuracy: 0.7876\n",
      "Epoch 70/150\n",
      "25128/25128 [==============================] - 5s 180us/step - loss: 0.5171 - accuracy: 0.78761s - loss: - ETA: 0s - loss: 0\n",
      "Epoch 71/150\n",
      "25128/25128 [==============================] - 6s 238us/step - loss: 0.5170 - accuracy: 0.7876\n",
      "Epoch 72/150\n",
      "25128/25128 [==============================] - 4s 173us/step - loss: 0.5170 - accuracy: 0.7876\n",
      "Epoch 73/150\n",
      "25128/25128 [==============================] - 5s 186us/step - loss: 0.5170 - accuracy: 0.7876\n",
      "Epoch 74/150\n",
      "25128/25128 [==============================] - 4s 178us/step - loss: 0.5170 - accuracy: 0.7876\n",
      "Epoch 75/150\n",
      "25128/25128 [==============================] - 6s 255us/step - loss: 0.5171 - accuracy: 0.7876\n",
      "Epoch 76/150\n",
      "25128/25128 [==============================] - 5s 198us/step - loss: 0.5171 - accuracy: 0.7876\n",
      "Epoch 77/150\n",
      "25128/25128 [==============================] - 5s 210us/step - loss: 0.5171 - accuracy: 0.7876\n",
      "Epoch 78/150\n",
      "25128/25128 [==============================] - 4s 176us/step - loss: 0.5171 - accuracy: 0.78760s - loss: 0.5167 \n",
      "Epoch 79/150\n",
      "25128/25128 [==============================] - 5s 205us/step - loss: 0.5171 - accuracy: 0.7876\n",
      "Epoch 80/150\n",
      "25128/25128 [==============================] - 5s 189us/step - loss: 0.5171 - accuracy: 0.7876\n",
      "Epoch 81/150\n",
      "25128/25128 [==============================] - ETA: 0s - loss: 0.5168 - accuracy: 0.78 - 5s 205us/step - loss: 0.5171 - accuracy: 0.7876\n",
      "Epoch 82/150\n",
      "25128/25128 [==============================] - 5s 214us/step - loss: 0.5171 - accuracy: 0.78760s - loss: 0.5164 - accuracy: \n",
      "Epoch 83/150\n",
      "25128/25128 [==============================] - 6s 228us/step - loss: 0.5171 - accuracy: 0.7876\n",
      "Epoch 84/150\n",
      "25128/25128 [==============================] - 5s 188us/step - loss: 0.5171 - accuracy: 0.7876\n",
      "Epoch 85/150\n",
      "25128/25128 [==============================] - 4s 175us/step - loss: 0.5170 - accuracy: 0.7876\n",
      "Epoch 86/150\n",
      "25128/25128 [==============================] - 5s 206us/step - loss: 0.5171 - accuracy: 0.7876\n",
      "Epoch 87/150\n",
      "25128/25128 [==============================] - 6s 242us/step - loss: 0.5170 - accuracy: 0.7876\n",
      "Epoch 88/150\n",
      "25128/25128 [==============================] - 10s 401us/step - loss: 0.5171 - accuracy: 0.7876\n",
      "Epoch 89/150\n",
      "25128/25128 [==============================] - 9s 357us/step - loss: 0.5171 - accuracy: 0.78760s - loss: 0.5170 - accuracy:  - ETA: 0s - loss: 0.5168 - accuracy: \n",
      "Epoch 90/150\n",
      "25128/25128 [==============================] - ETA: 0s - loss: 0.5169 - accuracy: 0.78 - 5s 203us/step - loss: 0.5171 - accuracy: 0.7876\n",
      "Epoch 91/150\n",
      "25128/25128 [==============================] - 4s 175us/step - loss: 0.5171 - accuracy: 0.7876\n",
      "Epoch 92/150\n",
      "25128/25128 [==============================] - 6s 219us/step - loss: 0.5171 - accuracy: 0.7876\n",
      "Epoch 93/150\n",
      "25128/25128 [==============================] - 5s 219us/step - loss: 0.5171 - accuracy: 0.78761s - loss: 0\n",
      "Epoch 94/150\n",
      "25128/25128 [==============================] - 6s 228us/step - loss: 0.5171 - accuracy: 0.7876\n",
      "Epoch 95/150\n",
      "25128/25128 [==============================] - 6s 236us/step - loss: 0.5171 - accuracy: 0.7876\n",
      "Epoch 96/150\n",
      "25128/25128 [==============================] - 5s 217us/step - loss: 0.5171 - accuracy: 0.7876\n",
      "Epoch 97/150\n",
      "25128/25128 [==============================] - 6s 229us/step - loss: 0.5171 - accuracy: 0.7876\n",
      "Epoch 98/150\n",
      "25128/25128 [==============================] - 5s 209us/step - loss: 0.5171 - accuracy: 0.7876\n",
      "Epoch 99/150\n",
      "25128/25128 [==============================] - 4s 178us/step - loss: 0.5170 - accuracy: 0.7876\n",
      "Epoch 100/150\n",
      "25128/25128 [==============================] - 5s 192us/step - loss: 0.5178 - accuracy: 0.7876\n",
      "Epoch 101/150\n",
      "25128/25128 [==============================] - 4s 171us/step - loss: 0.5170 - accuracy: 0.7876\n",
      "Epoch 102/150\n",
      "25128/25128 [==============================] - 4s 163us/step - loss: 0.5171 - accuracy: 0.7876\n",
      "Epoch 103/150\n",
      "25128/25128 [==============================] - 4s 153us/step - loss: 0.5171 - accuracy: 0.7876\n",
      "Epoch 104/150\n",
      "25128/25128 [==============================] - 4s 148us/step - loss: 0.5171 - accuracy: 0.7876\n",
      "Epoch 105/150\n",
      "25128/25128 [==============================] - 3s 135us/step - loss: 0.5171 - accuracy: 0.7876\n",
      "Epoch 106/150\n",
      "25128/25128 [==============================] - 3s 135us/step - loss: 0.5197 - accuracy: 0.7876\n",
      "Epoch 107/150\n",
      "25128/25128 [==============================] - 3s 136us/step - loss: 0.5170 - accuracy: 0.7876\n",
      "Epoch 108/150\n",
      "25128/25128 [==============================] - 4s 147us/step - loss: 0.5171 - accuracy: 0.7876\n",
      "Epoch 109/150\n",
      "25128/25128 [==============================] - 4s 140us/step - loss: 0.5171 - accuracy: 0.7876\n",
      "Epoch 110/150\n",
      "25128/25128 [==============================] - 4s 155us/step - loss: 0.5170 - accuracy: 0.7876\n",
      "Epoch 111/150\n",
      "25128/25128 [==============================] - 5s 202us/step - loss: 0.5171 - accuracy: 0.7876\n",
      "Epoch 112/150\n",
      "25128/25128 [==============================] - 4s 149us/step - loss: 0.5171 - accuracy: 0.7876\n",
      "Epoch 113/150\n",
      "25128/25128 [==============================] - 4s 143us/step - loss: 0.5170 - accuracy: 0.7876\n",
      "Epoch 114/150\n",
      "25128/25128 [==============================] - 4s 148us/step - loss: 0.5171 - accuracy: 0.7876\n",
      "Epoch 115/150\n",
      "25128/25128 [==============================] - 4s 143us/step - loss: 0.5171 - accuracy: 0.78761s - loss: 0\n",
      "Epoch 116/150\n",
      "25128/25128 [==============================] - 3s 137us/step - loss: 0.5171 - accuracy: 0.7876\n",
      "Epoch 117/150\n",
      "25128/25128 [==============================] - 4s 149us/step - loss: 0.5170 - accuracy: 0.7876\n",
      "Epoch 118/150\n",
      "25128/25128 [==============================] - 3s 135us/step - loss: 0.5171 - accuracy: 0.7876\n",
      "Epoch 119/150\n",
      "25128/25128 [==============================] - 4s 140us/step - loss: 0.5171 - accuracy: 0.7876\n",
      "Epoch 120/150\n",
      "25128/25128 [==============================] - 3s 137us/step - loss: 0.5170 - accuracy: 0.7876\n",
      "Epoch 121/150\n",
      "25128/25128 [==============================] - 3s 136us/step - loss: 0.5170 - accuracy: 0.7876\n",
      "Epoch 122/150\n",
      "25128/25128 [==============================] - 3s 134us/step - loss: 0.5170 - accuracy: 0.7876\n",
      "Epoch 123/150\n",
      "25128/25128 [==============================] - 3s 135us/step - loss: 0.5170 - accuracy: 0.7876\n",
      "Epoch 124/150\n",
      "25128/25128 [==============================] - 4s 155us/step - loss: 0.5170 - accuracy: 0.78760s - loss: 0.5183 - ac\n",
      "Epoch 125/150\n",
      "25128/25128 [==============================] - 4s 145us/step - loss: 0.5170 - accuracy: 0.7876\n",
      "Epoch 126/150\n",
      "25128/25128 [==============================] - 4s 142us/step - loss: 0.5171 - accuracy: 0.7876\n",
      "Epoch 127/150\n",
      "25128/25128 [==============================] - 4s 154us/step - loss: 0.5171 - accuracy: 0.7876\n",
      "Epoch 128/150\n",
      "25128/25128 [==============================] - 3s 137us/step - loss: 0.5170 - accuracy: 0.7876\n",
      "Epoch 129/150\n",
      "25128/25128 [==============================] - 3s 135us/step - loss: 0.5171 - accuracy: 0.7876\n",
      "Epoch 130/150\n",
      "25128/25128 [==============================] - 3s 134us/step - loss: 0.5170 - accuracy: 0.7876\n",
      "Epoch 131/150\n",
      "25128/25128 [==============================] - 3s 133us/step - loss: 0.5171 - accuracy: 0.7876\n",
      "Epoch 132/150\n",
      "25128/25128 [==============================] - 3s 134us/step - loss: 0.5171 - accuracy: 0.7876\n",
      "Epoch 133/150\n",
      "25128/25128 [==============================] - 3s 133us/step - loss: 0.5170 - accuracy: 0.7876\n",
      "Epoch 134/150\n",
      "25128/25128 [==============================] - 3s 131us/step - loss: 0.5171 - accuracy: 0.7876\n",
      "Epoch 135/150\n",
      "25128/25128 [==============================] - 3s 131us/step - loss: 0.5171 - accuracy: 0.7876\n",
      "Epoch 136/150\n",
      "25128/25128 [==============================] - 3s 134us/step - loss: 0.5171 - accuracy: 0.7876\n",
      "Epoch 137/150\n",
      "25128/25128 [==============================] - 3s 133us/step - loss: 0.5171 - accuracy: 0.7876\n",
      "Epoch 138/150\n",
      "25128/25128 [==============================] - 3s 132us/step - loss: 0.5170 - accuracy: 0.7876\n",
      "Epoch 139/150\n",
      "25128/25128 [==============================] - 3s 132us/step - loss: 0.5171 - accuracy: 0.7876\n",
      "Epoch 140/150\n",
      "25128/25128 [==============================] - 3s 135us/step - loss: 0.5171 - accuracy: 0.7876\n",
      "Epoch 141/150\n",
      "25128/25128 [==============================] - 3s 138us/step - loss: 0.5171 - accuracy: 0.7876\n",
      "Epoch 142/150\n",
      "25128/25128 [==============================] - 3s 138us/step - loss: 0.5170 - accuracy: 0.7876\n",
      "Epoch 143/150\n",
      "25128/25128 [==============================] - 4s 144us/step - loss: 0.5171 - accuracy: 0.7876\n",
      "Epoch 144/150\n",
      "25128/25128 [==============================] - 4s 146us/step - loss: 0.5170 - accuracy: 0.7876\n",
      "Epoch 145/150\n",
      "25128/25128 [==============================] - 4s 165us/step - loss: 0.5170 - accuracy: 0.7876\n",
      "Epoch 146/150\n",
      "25128/25128 [==============================] - 4s 157us/step - loss: 0.5171 - accuracy: 0.7876\n",
      "Epoch 147/150\n",
      "25128/25128 [==============================] - 3s 134us/step - loss: 0.5170 - accuracy: 0.7876\n",
      "Epoch 148/150\n",
      "25128/25128 [==============================] - 4s 141us/step - loss: 0.5171 - accuracy: 0.7876\n",
      "Epoch 149/150\n",
      "25128/25128 [==============================] - 3s 132us/step - loss: 0.5170 - accuracy: 0.7876\n",
      "Epoch 150/150\n",
      "25128/25128 [==============================] - 3s 128us/step - loss: 0.5171 - accuracy: 0.7876\n"
     ]
    },
    {
     "ename": "NameError",
     "evalue": "name 'X' is not defined",
     "output_type": "error",
     "traceback": [
      "\u001b[0;31m---------------------------------------------------------------------------\u001b[0m",
      "\u001b[0;31mNameError\u001b[0m                                 Traceback (most recent call last)",
      "\u001b[0;32m<ipython-input-108-74f44494e9cb>\u001b[0m in \u001b[0;36m<module>\u001b[0;34m\u001b[0m\n\u001b[1;32m     15\u001b[0m \u001b[0mmodel\u001b[0m\u001b[0;34m.\u001b[0m\u001b[0mfit\u001b[0m\u001b[0;34m(\u001b[0m\u001b[0mdf1\u001b[0m\u001b[0;34m,\u001b[0m \u001b[0mtarget\u001b[0m\u001b[0;34m,\u001b[0m \u001b[0mepochs\u001b[0m\u001b[0;34m=\u001b[0m\u001b[0;36m150\u001b[0m\u001b[0;34m,\u001b[0m \u001b[0mbatch_size\u001b[0m\u001b[0;34m=\u001b[0m\u001b[0;36m10\u001b[0m\u001b[0;34m)\u001b[0m\u001b[0;34m\u001b[0m\u001b[0;34m\u001b[0m\u001b[0m\n\u001b[1;32m     16\u001b[0m \u001b[0;31m# evaluate the keras model\u001b[0m\u001b[0;34m\u001b[0m\u001b[0;34m\u001b[0m\u001b[0;34m\u001b[0m\u001b[0m\n\u001b[0;32m---> 17\u001b[0;31m \u001b[0m_\u001b[0m\u001b[0;34m,\u001b[0m \u001b[0maccuracy\u001b[0m \u001b[0;34m=\u001b[0m \u001b[0mmodel\u001b[0m\u001b[0;34m.\u001b[0m\u001b[0mevaluate\u001b[0m\u001b[0;34m(\u001b[0m\u001b[0mX\u001b[0m\u001b[0;34m,\u001b[0m \u001b[0my\u001b[0m\u001b[0;34m)\u001b[0m\u001b[0;34m\u001b[0m\u001b[0;34m\u001b[0m\u001b[0m\n\u001b[0m\u001b[1;32m     18\u001b[0m \u001b[0mprint\u001b[0m\u001b[0;34m(\u001b[0m\u001b[0;34m'Accuracy: %.2f'\u001b[0m \u001b[0;34m%\u001b[0m \u001b[0;34m(\u001b[0m\u001b[0maccuracy\u001b[0m\u001b[0;34m*\u001b[0m\u001b[0;36m100\u001b[0m\u001b[0;34m)\u001b[0m\u001b[0;34m)\u001b[0m\u001b[0;34m\u001b[0m\u001b[0;34m\u001b[0m\u001b[0m\n",
      "\u001b[0;31mNameError\u001b[0m: name 'X' is not defined"
     ]
    }
   ],
   "source": [
    "#!pip3 install keras\n",
    "from numpy import loadtxt\n",
    "from keras.models import Sequential\n",
    "from keras.layers import Dense\n",
    "\n",
    "# define the keras model\n",
    "model = Sequential()\n",
    "model.add(Dense(12, input_dim=52, activation='relu'))\n",
    "model.add(Dense(8, activation='relu'))\n",
    "model.add(Dense(1, activation='sigmoid'))\n",
    "# compile the keras model\n",
    "model.compile(loss='binary_crossentropy', optimizer='adam', metrics=['accuracy'])\n",
    "# fit the keras model on the dataset\n",
    "model.fit(df1, target, epochs=150, batch_size=10)\n"
   ]
  },
  {
   "cell_type": "code",
   "execution_count": 111,
   "metadata": {},
   "outputs": [
    {
     "name": "stdout",
     "output_type": "stream",
     "text": [
      "25128/25128 [==============================] - 0s 18us/step\n",
      "Accuracy: 78.76\n",
      "Recall: 51.70\n"
     ]
    }
   ],
   "source": [
    "# evaluate the keras model\n",
    "recall, accuracy = model.evaluate(df1, target)\n",
    "print('Accuracy: %.2f' % (accuracy*100))\n",
    "print('Recall: %.2f' % (recall*100))"
   ]
  },
  {
   "cell_type": "markdown",
   "metadata": {},
   "source": [
    "Since the Keras model outperforms the scikit-learn model, we will opt for the keras model with 12 hidden layers. "
   ]
  }
 ],
 "metadata": {
  "colab": {
   "collapsed_sections": [],
   "name": "BT2101 disrudy ",
   "provenance": []
  },
  "kernelspec": {
   "display_name": "Python 3",
   "language": "python",
   "name": "python3"
  },
  "language_info": {
   "codemirror_mode": {
    "name": "ipython",
    "version": 3
   },
   "file_extension": ".py",
   "mimetype": "text/x-python",
   "name": "python",
   "nbconvert_exporter": "python",
   "pygments_lexer": "ipython3",
<<<<<<< HEAD
<<<<<<< HEAD
<<<<<<< Updated upstream
   "version": "3.7.3"
=======
   "version": "3.7.1"
>>>>>>> Stashed changes
>>>>>>> parent of 7c9d23d... Merge pull request #12 from bryankj97/master
=======
   "version": "3.7.3"
>>>>>>> parent of 5fcd3c4... 4r
  }
 },
 "nbformat": 4,
 "nbformat_minor": 1
}
