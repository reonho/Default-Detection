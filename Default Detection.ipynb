{
 "cells": [
  {
   "cell_type": "markdown",
   "metadata": {
    "colab_type": "text",
    "id": "-4Rm0wjQMUHi"
   },
   "source": [
    "# BUILDING A DEFUALT DETECTION MODEL\n",
    "\n",
    "---\n",
    "\n",
    "By Reon Ho, Lam Cheng Jun, Janson Chew, and Bryan Koh\n",
    "\n",
    "\n",
    "\n",
    "## Table of Contents\n",
    "1. Problem Description (Brief Write Up)\n",
    "2. Exploratory Data Analysis (EDA)\n",
    "3. Data Pre-processing\n",
    "4. Model Selection\n",
    "5. Evaluation\n",
    "6. Discussion and Possible Improvements\n",
    "\n",
    "## 1. Problem Description\n",
    "\n",
    "The goal of this project is to predict a binary target feature (default or not) valued 0 (= not default) or 1 (= default). This project will cover the entire data science pipeline, from data analysis to model evaluation. We will be trying several models to predict default status, and choosing the most appropriate one at the end. \n",
    "\n",
    "The data set we will be working on contains payment information of 30,000 credit card holders obtained from a bank in Taiwan, and each data sample is described by 23 feature attributes and the binary target feature (default or not).\n",
    "\n",
    "The 23 explanatory attributes and their explanations (from the data provider) are as follows:\n",
    "\n",
    "### X1 - X5: Indivual attributes of customer\n",
    "\n",
    "X1: Amount of the given credit (NT dollar): it includes both the individual consumer credit and his/her family (supplementary) credit. \n",
    "\n",
    "X2: Gender (1 = male; 2 = female). \n",
    "\n",
    "X3: Education (1 = graduate school; 2 = university; 3 = high school; 4 = others). \n",
    "\n",
    "X4: Marital status (1 = married; 2 = single; 3 = others). \n",
    "\n",
    "X5: Age (year). \n",
    "\n",
    "### X6 - X11: Repayment history from April to Septemeber 2005\n",
    "The measurement scale for the repayment status is: -1 = pay duly; 1 = payment delay for one month; 2 = payment delay for two months, . . . 8 = payment delay for eight months; 9 = payment delay for nine months and above.\n",
    "\n",
    "\n",
    "X6 = the repayment status in September, 2005\n",
    "\n",
    "X7 = the repayment status in August, 2005\n",
    "\n",
    "X8 = the repayment status in July, 2005\n",
    "\n",
    "X9 = the repayment status in June, 2005\n",
    "\n",
    "X10 = the repayment status in May, 2005\n",
    "\n",
    "X11 = the repayment status in April, 2005. \n",
    "\n",
    "### X12 - X17: Amount of bill statement (NT dollar) from April to September 2005\n",
    "\n",
    "X12 = amount of bill statement in September, 2005; \n",
    "\n",
    "X13 = amount of bill statement in August, 2005\n",
    "\n",
    ". . .\n",
    "\n",
    "X17 = amount of bill statement in April, 2005. \n",
    "\n",
    "### X18 - X23: Amount of previous payment (NT dollar)\n",
    "X18 = amount paid in September, 2005\n",
    "\n",
    "X19 = amount paid in August, 2005\n",
    "\n",
    ". . .\n",
    "\n",
    "X23 = amount paid in April, 2005. \n"
   ]
  },
  {
   "cell_type": "markdown",
   "metadata": {
    "colab_type": "text",
    "id": "aM_aIU6UPHe4"
   },
   "source": [
    "## EDA\n",
    "\n",
    "In this section we will explore the data set, its shape and its features to get an idea of the data.\n",
    "\n",
    "### Importing packages and the dataset"
   ]
  },
  {
   "cell_type": "code",
   "execution_count": 1,
   "metadata": {
    "colab": {},
    "colab_type": "code",
    "id": "Is0wEkk3LJCt"
   },
   "outputs": [],
   "source": [
    "import pandas as pd"
   ]
  },
  {
   "cell_type": "code",
   "execution_count": 2,
   "metadata": {
    "colab": {},
    "colab_type": "code",
    "id": "x_Z7u_9vRC5m"
   },
   "outputs": [],
   "source": [
    "import matplotlib.pyplot as plt\n",
    "import seaborn as sns"
   ]
  },
  {
   "cell_type": "code",
   "execution_count": 3,
   "metadata": {},
   "outputs": [],
   "source": [
    "import numpy as np"
   ]
  },
  {
   "cell_type": "code",
   "execution_count": 4,
   "metadata": {
    "colab": {},
    "colab_type": "code",
    "id": "KhmX9KWWyrUW"
   },
   "outputs": [],
   "source": [
    "url = 'https://raw.githubusercontent.com/reonho/bt2101disrudy/master/card.csv'\n",
    "df = pd.read_csv(url,  header = 1, index_col = 0)\n",
    "# Dataset is now stored in a Pandas Dataframe"
   ]
  },
  {
   "cell_type": "code",
   "execution_count": 5,
   "metadata": {
    "colab": {
     "base_uri": "https://localhost:8080/",
     "height": 255
    },
    "colab_type": "code",
    "id": "FhJ2eAxVQhBm",
    "outputId": "7f79bb40-f08f-4709-e7d4-1f747bb8af2f"
   },
   "outputs": [
    {
     "data": {
      "text/html": [
       "<div>\n",
       "<style scoped>\n",
       "    .dataframe tbody tr th:only-of-type {\n",
       "        vertical-align: middle;\n",
       "    }\n",
       "\n",
       "    .dataframe tbody tr th {\n",
       "        vertical-align: top;\n",
       "    }\n",
       "\n",
       "    .dataframe thead th {\n",
       "        text-align: right;\n",
       "    }\n",
       "</style>\n",
       "<table border=\"1\" class=\"dataframe\">\n",
       "  <thead>\n",
       "    <tr style=\"text-align: right;\">\n",
       "      <th></th>\n",
       "      <th>LIMIT_BAL</th>\n",
       "      <th>SEX</th>\n",
       "      <th>EDUCATION</th>\n",
       "      <th>MARRIAGE</th>\n",
       "      <th>AGE</th>\n",
       "      <th>PAY_0</th>\n",
       "      <th>PAY_2</th>\n",
       "      <th>PAY_3</th>\n",
       "      <th>PAY_4</th>\n",
       "      <th>PAY_5</th>\n",
       "      <th>...</th>\n",
       "      <th>BILL_AMT4</th>\n",
       "      <th>BILL_AMT5</th>\n",
       "      <th>BILL_AMT6</th>\n",
       "      <th>PAY_AMT1</th>\n",
       "      <th>PAY_AMT2</th>\n",
       "      <th>PAY_AMT3</th>\n",
       "      <th>PAY_AMT4</th>\n",
       "      <th>PAY_AMT5</th>\n",
       "      <th>PAY_AMT6</th>\n",
       "      <th>Y</th>\n",
       "    </tr>\n",
       "    <tr>\n",
       "      <th>ID</th>\n",
       "      <th></th>\n",
       "      <th></th>\n",
       "      <th></th>\n",
       "      <th></th>\n",
       "      <th></th>\n",
       "      <th></th>\n",
       "      <th></th>\n",
       "      <th></th>\n",
       "      <th></th>\n",
       "      <th></th>\n",
       "      <th></th>\n",
       "      <th></th>\n",
       "      <th></th>\n",
       "      <th></th>\n",
       "      <th></th>\n",
       "      <th></th>\n",
       "      <th></th>\n",
       "      <th></th>\n",
       "      <th></th>\n",
       "      <th></th>\n",
       "      <th></th>\n",
       "    </tr>\n",
       "  </thead>\n",
       "  <tbody>\n",
       "    <tr>\n",
       "      <td>1</td>\n",
       "      <td>20000</td>\n",
       "      <td>2</td>\n",
       "      <td>2</td>\n",
       "      <td>1</td>\n",
       "      <td>24</td>\n",
       "      <td>2</td>\n",
       "      <td>2</td>\n",
       "      <td>-1</td>\n",
       "      <td>-1</td>\n",
       "      <td>-2</td>\n",
       "      <td>...</td>\n",
       "      <td>0</td>\n",
       "      <td>0</td>\n",
       "      <td>0</td>\n",
       "      <td>0</td>\n",
       "      <td>689</td>\n",
       "      <td>0</td>\n",
       "      <td>0</td>\n",
       "      <td>0</td>\n",
       "      <td>0</td>\n",
       "      <td>1</td>\n",
       "    </tr>\n",
       "    <tr>\n",
       "      <td>2</td>\n",
       "      <td>120000</td>\n",
       "      <td>2</td>\n",
       "      <td>2</td>\n",
       "      <td>2</td>\n",
       "      <td>26</td>\n",
       "      <td>-1</td>\n",
       "      <td>2</td>\n",
       "      <td>0</td>\n",
       "      <td>0</td>\n",
       "      <td>0</td>\n",
       "      <td>...</td>\n",
       "      <td>3272</td>\n",
       "      <td>3455</td>\n",
       "      <td>3261</td>\n",
       "      <td>0</td>\n",
       "      <td>1000</td>\n",
       "      <td>1000</td>\n",
       "      <td>1000</td>\n",
       "      <td>0</td>\n",
       "      <td>2000</td>\n",
       "      <td>1</td>\n",
       "    </tr>\n",
       "    <tr>\n",
       "      <td>3</td>\n",
       "      <td>90000</td>\n",
       "      <td>2</td>\n",
       "      <td>2</td>\n",
       "      <td>2</td>\n",
       "      <td>34</td>\n",
       "      <td>0</td>\n",
       "      <td>0</td>\n",
       "      <td>0</td>\n",
       "      <td>0</td>\n",
       "      <td>0</td>\n",
       "      <td>...</td>\n",
       "      <td>14331</td>\n",
       "      <td>14948</td>\n",
       "      <td>15549</td>\n",
       "      <td>1518</td>\n",
       "      <td>1500</td>\n",
       "      <td>1000</td>\n",
       "      <td>1000</td>\n",
       "      <td>1000</td>\n",
       "      <td>5000</td>\n",
       "      <td>0</td>\n",
       "    </tr>\n",
       "    <tr>\n",
       "      <td>4</td>\n",
       "      <td>50000</td>\n",
       "      <td>2</td>\n",
       "      <td>2</td>\n",
       "      <td>1</td>\n",
       "      <td>37</td>\n",
       "      <td>0</td>\n",
       "      <td>0</td>\n",
       "      <td>0</td>\n",
       "      <td>0</td>\n",
       "      <td>0</td>\n",
       "      <td>...</td>\n",
       "      <td>28314</td>\n",
       "      <td>28959</td>\n",
       "      <td>29547</td>\n",
       "      <td>2000</td>\n",
       "      <td>2019</td>\n",
       "      <td>1200</td>\n",
       "      <td>1100</td>\n",
       "      <td>1069</td>\n",
       "      <td>1000</td>\n",
       "      <td>0</td>\n",
       "    </tr>\n",
       "    <tr>\n",
       "      <td>5</td>\n",
       "      <td>50000</td>\n",
       "      <td>1</td>\n",
       "      <td>2</td>\n",
       "      <td>1</td>\n",
       "      <td>57</td>\n",
       "      <td>-1</td>\n",
       "      <td>0</td>\n",
       "      <td>-1</td>\n",
       "      <td>0</td>\n",
       "      <td>0</td>\n",
       "      <td>...</td>\n",
       "      <td>20940</td>\n",
       "      <td>19146</td>\n",
       "      <td>19131</td>\n",
       "      <td>2000</td>\n",
       "      <td>36681</td>\n",
       "      <td>10000</td>\n",
       "      <td>9000</td>\n",
       "      <td>689</td>\n",
       "      <td>679</td>\n",
       "      <td>0</td>\n",
       "    </tr>\n",
       "  </tbody>\n",
       "</table>\n",
       "<p>5 rows × 24 columns</p>\n",
       "</div>"
      ],
      "text/plain": [
       "    LIMIT_BAL  SEX  EDUCATION  MARRIAGE  AGE  PAY_0  PAY_2  PAY_3  PAY_4  \\\n",
       "ID                                                                         \n",
       "1       20000    2          2         1   24      2      2     -1     -1   \n",
       "2      120000    2          2         2   26     -1      2      0      0   \n",
       "3       90000    2          2         2   34      0      0      0      0   \n",
       "4       50000    2          2         1   37      0      0      0      0   \n",
       "5       50000    1          2         1   57     -1      0     -1      0   \n",
       "\n",
       "    PAY_5  ...  BILL_AMT4  BILL_AMT5  BILL_AMT6  PAY_AMT1  PAY_AMT2  PAY_AMT3  \\\n",
       "ID         ...                                                                  \n",
       "1      -2  ...          0          0          0         0       689         0   \n",
       "2       0  ...       3272       3455       3261         0      1000      1000   \n",
       "3       0  ...      14331      14948      15549      1518      1500      1000   \n",
       "4       0  ...      28314      28959      29547      2000      2019      1200   \n",
       "5       0  ...      20940      19146      19131      2000     36681     10000   \n",
       "\n",
       "    PAY_AMT4  PAY_AMT5  PAY_AMT6  Y  \n",
       "ID                                   \n",
       "1          0         0         0  1  \n",
       "2       1000         0      2000  1  \n",
       "3       1000      1000      5000  0  \n",
       "4       1100      1069      1000  0  \n",
       "5       9000       689       679  0  \n",
       "\n",
       "[5 rows x 24 columns]"
      ]
     },
     "execution_count": 5,
     "metadata": {},
     "output_type": "execute_result"
    }
   ],
   "source": [
    "#rename the target variable to \"Y\" for convenience\n",
    "df[\"Y\"] = df[\"default payment next month\"] \n",
    "df = df.drop(\"default payment next month\", axis = 1)\n",
    "df0 = df #backup of df\n",
    "df.head()"
   ]
  },
  {
   "cell_type": "code",
   "execution_count": 6,
   "metadata": {
    "colab": {
     "base_uri": "https://localhost:8080/",
     "height": 34
    },
    "colab_type": "code",
    "id": "zcuPyfM86AKj",
    "outputId": "89bb2e37-a3ba-43e5-99a7-6917f24acc3f",
    "scrolled": true
   },
   "outputs": [
    {
     "name": "stdout",
     "output_type": "stream",
     "text": [
      "Data has 24 Columns and 30000 Rows\n"
     ]
    }
   ],
   "source": [
    "size = df.shape\n",
    "print(\"Data has {} Columns and {} Rows\".format(size[1], size[0]))"
   ]
  },
  {
   "cell_type": "code",
   "execution_count": 7,
   "metadata": {
    "colab": {
     "base_uri": "https://localhost:8080/",
     "height": 34
    },
    "colab_type": "code",
    "id": "QVaSnvJP3VbO",
    "outputId": "4bf72e64-2d0c-41c3-85b5-3bd6e70920d3"
   },
   "outputs": [
    {
     "data": {
      "text/plain": [
       "0"
      ]
     },
     "execution_count": 7,
     "metadata": {},
     "output_type": "execute_result"
    }
   ],
   "source": [
    "#check for null values\n",
    "df.isnull().any().sum() "
   ]
  },
  {
   "cell_type": "markdown",
   "metadata": {
    "colab_type": "text",
    "id": "eVYXnIGH9Zq6"
   },
   "source": [
    "From the above analyses, we observe that:\n",
    "1. The data indeed has 30000 rows and 24 columns\n",
    "2. There are no null values\n",
    "\n",
    "We will now explore the features more in depth."
   ]
  },
  {
   "cell_type": "markdown",
   "metadata": {
    "colab_type": "text",
    "id": "W6hhPNl1Slau"
   },
   "source": [
    "### Exploring the features"
   ]
  },
  {
   "cell_type": "markdown",
   "metadata": {
    "colab_type": "text",
    "id": "1Sp2F3gzXX2F"
   },
   "source": [
    "**1) Exploring target attribute:**\n"
   ]
  },
  {
   "cell_type": "code",
   "execution_count": 8,
   "metadata": {
    "colab": {
     "base_uri": "https://localhost:8080/",
     "height": 51
    },
    "colab_type": "code",
    "id": "DCSEICWwXWgX",
    "outputId": "9545da56-f31b-48f2-a271-db0e18677beb"
   },
   "outputs": [
    {
     "name": "stdout",
     "output_type": "stream",
     "text": [
      "defaults : 22.12 %\n",
      "non defaults : 77.88000000000001 %\n"
     ]
    },
    {
     "data": {
      "text/plain": [
       "Text(0, 0.5, 'Frequency')"
      ]
     },
     "execution_count": 8,
     "metadata": {},
     "output_type": "execute_result"
    },
    {
     "data": {
      "image/png": "[encoded data removed]",
      "text/plain": [
       "<Figure size 432x288 with 1 Axes>"
      ]
     },
     "metadata": {
      "needs_background": "light"
     },
     "output_type": "display_data"
    }
   ],
   "source": [
    "All = df.shape[0]\n",
    "default = df[df['Y'] == 1]\n",
    "nondefault = df[df['Y'] == 0]\n",
    "\n",
    "x = len(default)/All\n",
    "y = len(nondefault)/All\n",
    "\n",
    "print('defaults :',x*100,'%')\n",
    "print('non defaults :',y*100,'%')\n",
    "\n",
    "# plotting target attribute against frequency\n",
    "labels = ['non default','default']\n",
    "classes = pd.value_counts(df['Y'], sort = True)\n",
    "classes.plot(kind = 'bar', rot=0)\n",
    "plt.title(\"Target attribute distribution\")\n",
    "plt.xticks(range(2), labels)\n",
    "plt.xlabel(\"Class\")\n",
    "plt.ylabel(\"Frequency\")"
   ]
  },
  {
   "cell_type": "markdown",
   "metadata": {
    "colab_type": "text",
    "id": "tysR0WHw4SGU"
   },
   "source": [
    "**2) Exploring categorical attributes**\n",
    "\n",
    "Categorical attributes are:\n",
    "- Sex\n",
    "- Education\n",
    "- Marriage"
   ]
  },
  {
   "cell_type": "code",
   "execution_count": 9,
   "metadata": {
    "colab": {
     "base_uri": "https://localhost:8080/",
     "height": 323
    },
    "colab_type": "code",
    "id": "s61SSRII00UB",
    "outputId": "69df981f-8c36-43a9-d155-a6553adbba0b",
    "scrolled": true
   },
   "outputs": [
    {
     "name": "stdout",
     "output_type": "stream",
     "text": [
      "2    60.373333\n",
      "1    39.626667\n",
      "Name: SEX, dtype: float64\n",
      "--------------------------------------------------------\n",
      "2    46.766667\n",
      "1    35.283333\n",
      "3    16.390000\n",
      "5     0.933333\n",
      "4     0.410000\n",
      "6     0.170000\n",
      "0     0.046667\n",
      "Name: EDUCATION, dtype: float64\n",
      "--------------------------------------------------------\n",
      "2    53.213333\n",
      "1    45.530000\n",
      "3     1.076667\n",
      "0     0.180000\n",
      "Name: MARRIAGE, dtype: float64\n"
     ]
    }
   ],
   "source": [
    "print(df[\"SEX\"].value_counts().apply(lambda r: r/All*100))\n",
    "print(\"--------------------------------------------------------\")\n",
    "print(df[\"EDUCATION\"].value_counts().apply(lambda r: r/All*100))\n",
    "print(\"--------------------------------------------------------\")\n",
    "print(df[\"MARRIAGE\"].value_counts().apply(lambda r: r/All*100))"
   ]
  },
  {
   "cell_type": "markdown",
   "metadata": {
    "colab_type": "text",
    "id": "Uudv5XE828nb"
   },
   "source": [
    "**Findings**\n",
    "\n",
    "- Categorical variable SEX does not seem to have any missing/extra groups, and it is separated into Male = 1 and Female = 2\n",
    "- Categorical variable MARRIAGE seems to have unknown group = 0, which could be assumed to be missing data, with other groups being Married = 1, Single = 2, Others = 3\n",
    "- Categorical variable EDUCATION seems to have unknown group = 0,5,6, with other groups being graduate school = 1, university = 2, high school = 3, others = 4 "
   ]
  },
  {
   "cell_type": "code",
   "execution_count": 10,
   "metadata": {
    "colab": {
     "base_uri": "https://localhost:8080/",
     "height": 357
    },
    "colab_type": "code",
    "id": "U3IJzhwwe5KK",
    "outputId": "cb61e112-a3ec-4a37-c1a0-0ffc9ebcbf89",
    "scrolled": false
   },
   "outputs": [
    {
     "name": "stdout",
     "output_type": "stream",
     "text": [
      "Total target attributes:\n",
      "non defaults : 77.88000000000001 %\n",
      "defaults : 22.12 %\n",
      "--------------------------------------------------------\n",
      "SEX                Male     Female\n",
      "Y                                 \n",
      "non defaults  75.832773  79.223719\n",
      "defaults      24.167227  20.776281\n",
      "--------------------------------------------------------\n",
      "EDUCATION         0          1          2          3          4          5  \\\n",
      "Y                                                                            \n",
      "non defaults  100.0  80.765234  76.265146  74.842384  94.308943  93.571429   \n",
      "defaults        0.0  19.234766  23.734854  25.157616   5.691057   6.428571   \n",
      "\n",
      "EDUCATION             6  \n",
      "Y                        \n",
      "non defaults  84.313725  \n",
      "defaults      15.686275  \n",
      "--------------------------------------------------------\n",
      "MARRIAGE        unknown    married     single     others\n",
      "Y                                                       \n",
      "non defaults  90.740741  76.528296  79.071661  73.993808\n",
      "defaults       9.259259  23.471704  20.928339  26.006192\n"
     ]
    }
   ],
   "source": [
    "#proportion of target attribute (for reference)\n",
    "print('Total target attributes:')\n",
    "print('non defaults :',y*100,'%')\n",
    "print('defaults :',x*100,'%')\n",
    "print(\"--------------------------------------------------------\")\n",
    "#analysing default payment with Sex\n",
    "sex_target = pd.crosstab(df[\"Y\"], df[\"SEX\"]).apply(lambda r: r/r.sum()*100).rename(columns = {1: \"Male\", 2: \"Female\"}, index = {0: \"non defaults\", 1: \"defaults\"})\n",
    "print(sex_target)\n",
    "print(\"--------------------------------------------------------\")\n",
    "#analysing default payment with education\n",
    "education_target = pd.crosstab(df[\"Y\"], df[\"EDUCATION\"]).apply(lambda r: r/r.sum()*100).rename(index = {0: \"non defaults\", 1: \"defaults\"})\n",
    "print(education_target)\n",
    "print(\"--------------------------------------------------------\")\n",
    "#analysing default payment with marriage\n",
    "marriage_target = pd.crosstab(df[\"Y\"], df[\"MARRIAGE\"]).apply(lambda r: r/r.sum()*100).rename(columns = {0: \"unknown\",1: \"married\", 2: \"single\", 3: \"others\"},index = {0: \"non defaults\", 1: \"defaults\"})\n",
    "print(marriage_target)"
   ]
  },
  {
   "cell_type": "markdown",
   "metadata": {
    "colab_type": "text",
    "id": "kOriUQ0wxbhD"
   },
   "source": [
    "**Conclusion**\n",
    "\n",
    "From the analyses above we conclude that\n",
    "\n",
    "1. The categorical data is noisy - EDUCATION and MARRIAGE contains unexplained/anomalous data.\n"
   ]
  },
  {
   "cell_type": "markdown",
   "metadata": {
    "colab_type": "text",
    "id": "77GAylGWnPJO"
   },
   "source": [
    "**3) Analysis of Numerical Attributes**\n",
    "\n",
    "The numerical attributes are:\n",
    "   \n",
    "\n",
    "\n"
   ]
  },
  {
   "cell_type": "code",
   "execution_count": 11,
   "metadata": {
    "colab": {
     "base_uri": "https://localhost:8080/",
     "height": 669
    },
    "colab_type": "code",
    "id": "HEcCl5Rj-N0T",
    "outputId": "a59f7092-366e-47ec-c67b-e18f02d84ac4",
    "scrolled": true
   },
   "outputs": [
    {
     "data": {
      "text/html": [
       "<div>\n",
       "<style scoped>\n",
       "    .dataframe tbody tr th:only-of-type {\n",
       "        vertical-align: middle;\n",
       "    }\n",
       "\n",
       "    .dataframe tbody tr th {\n",
       "        vertical-align: top;\n",
       "    }\n",
       "\n",
       "    .dataframe thead th {\n",
       "        text-align: right;\n",
       "    }\n",
       "</style>\n",
       "<table border=\"1\" class=\"dataframe\">\n",
       "  <thead>\n",
       "    <tr style=\"text-align: right;\">\n",
       "      <th></th>\n",
       "      <th>0</th>\n",
       "      <th>1</th>\n",
       "      <th>2</th>\n",
       "      <th>3</th>\n",
       "      <th>4</th>\n",
       "      <th>5</th>\n",
       "      <th>6</th>\n",
       "      <th>7</th>\n",
       "      <th>8</th>\n",
       "      <th>9</th>\n",
       "      <th>10</th>\n",
       "      <th>11</th>\n",
       "      <th>12</th>\n",
       "      <th>13</th>\n",
       "      <th>14</th>\n",
       "      <th>15</th>\n",
       "      <th>16</th>\n",
       "      <th>17</th>\n",
       "      <th>18</th>\n",
       "      <th>19</th>\n",
       "    </tr>\n",
       "  </thead>\n",
       "  <tbody>\n",
       "    <tr>\n",
       "      <td>0</td>\n",
       "      <td>LIMIT_BAL</td>\n",
       "      <td>AGE</td>\n",
       "      <td>PAY_0</td>\n",
       "      <td>PAY_2</td>\n",
       "      <td>PAY_3</td>\n",
       "      <td>PAY_4</td>\n",
       "      <td>PAY_5</td>\n",
       "      <td>PAY_6</td>\n",
       "      <td>BILL_AMT1</td>\n",
       "      <td>BILL_AMT2</td>\n",
       "      <td>BILL_AMT3</td>\n",
       "      <td>BILL_AMT4</td>\n",
       "      <td>BILL_AMT5</td>\n",
       "      <td>BILL_AMT6</td>\n",
       "      <td>PAY_AMT1</td>\n",
       "      <td>PAY_AMT2</td>\n",
       "      <td>PAY_AMT3</td>\n",
       "      <td>PAY_AMT4</td>\n",
       "      <td>PAY_AMT5</td>\n",
       "      <td>PAY_AMT6</td>\n",
       "    </tr>\n",
       "  </tbody>\n",
       "</table>\n",
       "</div>"
      ],
      "text/plain": [
       "           0    1      2      3      4      5      6      7          8  \\\n",
       "0  LIMIT_BAL  AGE  PAY_0  PAY_2  PAY_3  PAY_4  PAY_5  PAY_6  BILL_AMT1   \n",
       "\n",
       "           9         10         11         12         13        14        15  \\\n",
       "0  BILL_AMT2  BILL_AMT3  BILL_AMT4  BILL_AMT5  BILL_AMT6  PAY_AMT1  PAY_AMT2   \n",
       "\n",
       "         16        17        18        19  \n",
       "0  PAY_AMT3  PAY_AMT4  PAY_AMT5  PAY_AMT6  "
      ]
     },
     "execution_count": 11,
     "metadata": {},
     "output_type": "execute_result"
    }
   ],
   "source": [
    "#printing numerical attributes\n",
    "pd.DataFrame(df.drop(['SEX', 'EDUCATION', 'MARRIAGE','Y'], axis = 1).columns).transpose()"
   ]
  },
  {
   "cell_type": "code",
   "execution_count": 12,
   "metadata": {},
   "outputs": [
    {
     "data": {
      "text/html": [
       "<div>\n",
       "<style scoped>\n",
       "    .dataframe tbody tr th:only-of-type {\n",
       "        vertical-align: middle;\n",
       "    }\n",
       "\n",
       "    .dataframe tbody tr th {\n",
       "        vertical-align: top;\n",
       "    }\n",
       "\n",
       "    .dataframe thead th {\n",
       "        text-align: right;\n",
       "    }\n",
       "</style>\n",
       "<table border=\"1\" class=\"dataframe\">\n",
       "  <thead>\n",
       "    <tr style=\"text-align: right;\">\n",
       "      <th></th>\n",
       "      <th>count</th>\n",
       "      <th>mean</th>\n",
       "      <th>std</th>\n",
       "      <th>min</th>\n",
       "      <th>25%</th>\n",
       "      <th>50%</th>\n",
       "      <th>75%</th>\n",
       "      <th>max</th>\n",
       "    </tr>\n",
       "  </thead>\n",
       "  <tbody>\n",
       "    <tr>\n",
       "      <td>LIMIT_BAL</td>\n",
       "      <td>30000.0</td>\n",
       "      <td>167484.322667</td>\n",
       "      <td>129747.661567</td>\n",
       "      <td>10000.0</td>\n",
       "      <td>50000.00</td>\n",
       "      <td>140000.0</td>\n",
       "      <td>240000.00</td>\n",
       "      <td>1000000.0</td>\n",
       "    </tr>\n",
       "    <tr>\n",
       "      <td>AGE</td>\n",
       "      <td>30000.0</td>\n",
       "      <td>35.485500</td>\n",
       "      <td>9.217904</td>\n",
       "      <td>21.0</td>\n",
       "      <td>28.00</td>\n",
       "      <td>34.0</td>\n",
       "      <td>41.00</td>\n",
       "      <td>79.0</td>\n",
       "    </tr>\n",
       "    <tr>\n",
       "      <td>PAY_0</td>\n",
       "      <td>30000.0</td>\n",
       "      <td>-0.016700</td>\n",
       "      <td>1.123802</td>\n",
       "      <td>-2.0</td>\n",
       "      <td>-1.00</td>\n",
       "      <td>0.0</td>\n",
       "      <td>0.00</td>\n",
       "      <td>8.0</td>\n",
       "    </tr>\n",
       "    <tr>\n",
       "      <td>PAY_2</td>\n",
       "      <td>30000.0</td>\n",
       "      <td>-0.133767</td>\n",
       "      <td>1.197186</td>\n",
       "      <td>-2.0</td>\n",
       "      <td>-1.00</td>\n",
       "      <td>0.0</td>\n",
       "      <td>0.00</td>\n",
       "      <td>8.0</td>\n",
       "    </tr>\n",
       "    <tr>\n",
       "      <td>PAY_3</td>\n",
       "      <td>30000.0</td>\n",
       "      <td>-0.166200</td>\n",
       "      <td>1.196868</td>\n",
       "      <td>-2.0</td>\n",
       "      <td>-1.00</td>\n",
       "      <td>0.0</td>\n",
       "      <td>0.00</td>\n",
       "      <td>8.0</td>\n",
       "    </tr>\n",
       "    <tr>\n",
       "      <td>PAY_4</td>\n",
       "      <td>30000.0</td>\n",
       "      <td>-0.220667</td>\n",
       "      <td>1.169139</td>\n",
       "      <td>-2.0</td>\n",
       "      <td>-1.00</td>\n",
       "      <td>0.0</td>\n",
       "      <td>0.00</td>\n",
       "      <td>8.0</td>\n",
       "    </tr>\n",
       "    <tr>\n",
       "      <td>PAY_5</td>\n",
       "      <td>30000.0</td>\n",
       "      <td>-0.266200</td>\n",
       "      <td>1.133187</td>\n",
       "      <td>-2.0</td>\n",
       "      <td>-1.00</td>\n",
       "      <td>0.0</td>\n",
       "      <td>0.00</td>\n",
       "      <td>8.0</td>\n",
       "    </tr>\n",
       "    <tr>\n",
       "      <td>PAY_6</td>\n",
       "      <td>30000.0</td>\n",
       "      <td>-0.291100</td>\n",
       "      <td>1.149988</td>\n",
       "      <td>-2.0</td>\n",
       "      <td>-1.00</td>\n",
       "      <td>0.0</td>\n",
       "      <td>0.00</td>\n",
       "      <td>8.0</td>\n",
       "    </tr>\n",
       "    <tr>\n",
       "      <td>BILL_AMT1</td>\n",
       "      <td>30000.0</td>\n",
       "      <td>51223.330900</td>\n",
       "      <td>73635.860576</td>\n",
       "      <td>-165580.0</td>\n",
       "      <td>3558.75</td>\n",
       "      <td>22381.5</td>\n",
       "      <td>67091.00</td>\n",
       "      <td>964511.0</td>\n",
       "    </tr>\n",
       "    <tr>\n",
       "      <td>BILL_AMT2</td>\n",
       "      <td>30000.0</td>\n",
       "      <td>49179.075167</td>\n",
       "      <td>71173.768783</td>\n",
       "      <td>-69777.0</td>\n",
       "      <td>2984.75</td>\n",
       "      <td>21200.0</td>\n",
       "      <td>64006.25</td>\n",
       "      <td>983931.0</td>\n",
       "    </tr>\n",
       "    <tr>\n",
       "      <td>BILL_AMT3</td>\n",
       "      <td>30000.0</td>\n",
       "      <td>47013.154800</td>\n",
       "      <td>69349.387427</td>\n",
       "      <td>-157264.0</td>\n",
       "      <td>2666.25</td>\n",
       "      <td>20088.5</td>\n",
       "      <td>60164.75</td>\n",
       "      <td>1664089.0</td>\n",
       "    </tr>\n",
       "    <tr>\n",
       "      <td>BILL_AMT4</td>\n",
       "      <td>30000.0</td>\n",
       "      <td>43262.948967</td>\n",
       "      <td>64332.856134</td>\n",
       "      <td>-170000.0</td>\n",
       "      <td>2326.75</td>\n",
       "      <td>19052.0</td>\n",
       "      <td>54506.00</td>\n",
       "      <td>891586.0</td>\n",
       "    </tr>\n",
       "    <tr>\n",
       "      <td>BILL_AMT5</td>\n",
       "      <td>30000.0</td>\n",
       "      <td>40311.400967</td>\n",
       "      <td>60797.155770</td>\n",
       "      <td>-81334.0</td>\n",
       "      <td>1763.00</td>\n",
       "      <td>18104.5</td>\n",
       "      <td>50190.50</td>\n",
       "      <td>927171.0</td>\n",
       "    </tr>\n",
       "    <tr>\n",
       "      <td>BILL_AMT6</td>\n",
       "      <td>30000.0</td>\n",
       "      <td>38871.760400</td>\n",
       "      <td>59554.107537</td>\n",
       "      <td>-339603.0</td>\n",
       "      <td>1256.00</td>\n",
       "      <td>17071.0</td>\n",
       "      <td>49198.25</td>\n",
       "      <td>961664.0</td>\n",
       "    </tr>\n",
       "    <tr>\n",
       "      <td>PAY_AMT1</td>\n",
       "      <td>30000.0</td>\n",
       "      <td>5663.580500</td>\n",
       "      <td>16563.280354</td>\n",
       "      <td>0.0</td>\n",
       "      <td>1000.00</td>\n",
       "      <td>2100.0</td>\n",
       "      <td>5006.00</td>\n",
       "      <td>873552.0</td>\n",
       "    </tr>\n",
       "    <tr>\n",
       "      <td>PAY_AMT2</td>\n",
       "      <td>30000.0</td>\n",
       "      <td>5921.163500</td>\n",
       "      <td>23040.870402</td>\n",
       "      <td>0.0</td>\n",
       "      <td>833.00</td>\n",
       "      <td>2009.0</td>\n",
       "      <td>5000.00</td>\n",
       "      <td>1684259.0</td>\n",
       "    </tr>\n",
       "    <tr>\n",
       "      <td>PAY_AMT3</td>\n",
       "      <td>30000.0</td>\n",
       "      <td>5225.681500</td>\n",
       "      <td>17606.961470</td>\n",
       "      <td>0.0</td>\n",
       "      <td>390.00</td>\n",
       "      <td>1800.0</td>\n",
       "      <td>4505.00</td>\n",
       "      <td>896040.0</td>\n",
       "    </tr>\n",
       "    <tr>\n",
       "      <td>PAY_AMT4</td>\n",
       "      <td>30000.0</td>\n",
       "      <td>4826.076867</td>\n",
       "      <td>15666.159744</td>\n",
       "      <td>0.0</td>\n",
       "      <td>296.00</td>\n",
       "      <td>1500.0</td>\n",
       "      <td>4013.25</td>\n",
       "      <td>621000.0</td>\n",
       "    </tr>\n",
       "    <tr>\n",
       "      <td>PAY_AMT5</td>\n",
       "      <td>30000.0</td>\n",
       "      <td>4799.387633</td>\n",
       "      <td>15278.305679</td>\n",
       "      <td>0.0</td>\n",
       "      <td>252.50</td>\n",
       "      <td>1500.0</td>\n",
       "      <td>4031.50</td>\n",
       "      <td>426529.0</td>\n",
       "    </tr>\n",
       "    <tr>\n",
       "      <td>PAY_AMT6</td>\n",
       "      <td>30000.0</td>\n",
       "      <td>5215.502567</td>\n",
       "      <td>17777.465775</td>\n",
       "      <td>0.0</td>\n",
       "      <td>117.75</td>\n",
       "      <td>1500.0</td>\n",
       "      <td>4000.00</td>\n",
       "      <td>528666.0</td>\n",
       "    </tr>\n",
       "  </tbody>\n",
       "</table>\n",
       "</div>"
      ],
      "text/plain": [
       "             count           mean            std       min       25%  \\\n",
       "LIMIT_BAL  30000.0  167484.322667  129747.661567   10000.0  50000.00   \n",
       "AGE        30000.0      35.485500       9.217904      21.0     28.00   \n",
       "PAY_0      30000.0      -0.016700       1.123802      -2.0     -1.00   \n",
       "PAY_2      30000.0      -0.133767       1.197186      -2.0     -1.00   \n",
       "PAY_3      30000.0      -0.166200       1.196868      -2.0     -1.00   \n",
       "PAY_4      30000.0      -0.220667       1.169139      -2.0     -1.00   \n",
       "PAY_5      30000.0      -0.266200       1.133187      -2.0     -1.00   \n",
       "PAY_6      30000.0      -0.291100       1.149988      -2.0     -1.00   \n",
       "BILL_AMT1  30000.0   51223.330900   73635.860576 -165580.0   3558.75   \n",
       "BILL_AMT2  30000.0   49179.075167   71173.768783  -69777.0   2984.75   \n",
       "BILL_AMT3  30000.0   47013.154800   69349.387427 -157264.0   2666.25   \n",
       "BILL_AMT4  30000.0   43262.948967   64332.856134 -170000.0   2326.75   \n",
       "BILL_AMT5  30000.0   40311.400967   60797.155770  -81334.0   1763.00   \n",
       "BILL_AMT6  30000.0   38871.760400   59554.107537 -339603.0   1256.00   \n",
       "PAY_AMT1   30000.0    5663.580500   16563.280354       0.0   1000.00   \n",
       "PAY_AMT2   30000.0    5921.163500   23040.870402       0.0    833.00   \n",
       "PAY_AMT3   30000.0    5225.681500   17606.961470       0.0    390.00   \n",
       "PAY_AMT4   30000.0    4826.076867   15666.159744       0.0    296.00   \n",
       "PAY_AMT5   30000.0    4799.387633   15278.305679       0.0    252.50   \n",
       "PAY_AMT6   30000.0    5215.502567   17777.465775       0.0    117.75   \n",
       "\n",
       "                50%        75%        max  \n",
       "LIMIT_BAL  140000.0  240000.00  1000000.0  \n",
       "AGE            34.0      41.00       79.0  \n",
       "PAY_0           0.0       0.00        8.0  \n",
       "PAY_2           0.0       0.00        8.0  \n",
       "PAY_3           0.0       0.00        8.0  \n",
       "PAY_4           0.0       0.00        8.0  \n",
       "PAY_5           0.0       0.00        8.0  \n",
       "PAY_6           0.0       0.00        8.0  \n",
       "BILL_AMT1   22381.5   67091.00   964511.0  \n",
       "BILL_AMT2   21200.0   64006.25   983931.0  \n",
       "BILL_AMT3   20088.5   60164.75  1664089.0  \n",
       "BILL_AMT4   19052.0   54506.00   891586.0  \n",
       "BILL_AMT5   18104.5   50190.50   927171.0  \n",
       "BILL_AMT6   17071.0   49198.25   961664.0  \n",
       "PAY_AMT1     2100.0    5006.00   873552.0  \n",
       "PAY_AMT2     2009.0    5000.00  1684259.0  \n",
       "PAY_AMT3     1800.0    4505.00   896040.0  \n",
       "PAY_AMT4     1500.0    4013.25   621000.0  \n",
       "PAY_AMT5     1500.0    4031.50   426529.0  \n",
       "PAY_AMT6     1500.0    4000.00   528666.0  "
      ]
     },
     "execution_count": 12,
     "metadata": {},
     "output_type": "execute_result"
    }
   ],
   "source": [
    "df.drop(['SEX', 'EDUCATION', 'MARRIAGE','Y'], axis=1).describe().transpose()"
   ]
  },
  {
   "cell_type": "markdown",
   "metadata": {},
   "source": [
    "**Analysis of PAY_0 to PAY_6**\n",
    "\n",
    "We observe that the minimum value of PAY_0 to PAY_6 is -2. The dataset's author has explained these factors (PAY_0 to PAY_6) as the number of months of payment delay, that is, 1= payment delay of one month; 2= payment delay of two months and so on. \n",
    "\n",
    "However, the presence of -2, -1 in these columns indicates that\n",
    "1. There is anomalous data, OR \n",
    "2. The numbers do not strictly correspond to the number of months of payment delay. \n",
    "\n",
    "This means we must conduct some data transformation.\n",
    "\n",
    "According to the datasets' author, the numeric value in these attributes shows the past history of a credit card holder, where -2 means: No consumption of credit card, -1 means that holder paid the full balance, and 0 means the use of revolving credit.\n",
    "\n"
   ]
  },
  {
   "cell_type": "code",
   "execution_count": 13,
   "metadata": {
    "colab": {
     "base_uri": "https://localhost:8080/",
     "height": 669
    },
    "colab_type": "code",
    "id": "awXnqvLOS-wB",
    "outputId": "a77b53b8-011e-4f53-b7b7-20d80bbc1777",
    "scrolled": false
   },
   "outputs": [
    {
     "data": {
      "image/png": "[encoded data removed]",
      "text/plain": [
       "<Figure size 432x288 with 6 Axes>"
      ]
     },
     "metadata": {
      "needs_background": "light"
     },
     "output_type": "display_data"
    },
    {
     "data": {
      "image/png": "[encoded data removed]",
      "text/plain": [
       "<Figure size 432x288 with 6 Axes>"
      ]
     },
     "metadata": {
      "needs_background": "light"
     },
     "output_type": "display_data"
    },
    {
     "data": {
      "image/png": "[encoded data removed]",
      "text/plain": [
       "<Figure size 432x288 with 6 Axes>"
      ]
     },
     "metadata": {
      "needs_background": "light"
     },
     "output_type": "display_data"
    }
   ],
   "source": [
    "def draw_histograms(df, variables, n_rows, n_cols, n_bins):\n",
    "    fig=plt.figure()\n",
    "    for i, var_name in enumerate(variables):\n",
    "        ax=fig.add_subplot(n_rows,n_cols,i+1)\n",
    "        df[var_name].hist(bins=n_bins,ax=ax)\n",
    "        ax.set_title(var_name)\n",
    "    fig.tight_layout()  # Improves appearance a bit.\n",
    "    plt.show()\n",
    "\n",
    "PAY = df[['PAY_0','PAY_2', 'PAY_3', 'PAY_4', 'PAY_5', 'PAY_6']]\n",
    "BILLAMT = df[['BILL_AMT1','BILL_AMT2', 'BILL_AMT3', 'BILL_AMT4', 'BILL_AMT5', 'BILL_AMT6']]\n",
    "PAYAMT = df[['PAY_AMT1','PAY_AMT2', 'PAY_AMT3', 'PAY_AMT4', 'PAY_AMT5', 'PAY_AMT6']]\n",
    "\n",
    "draw_histograms(PAY, PAY.columns, 2, 3, 10)\n",
    "draw_histograms(BILLAMT, BILLAMT.columns, 2, 3, 10)\n",
    "draw_histograms(PAYAMT, PAYAMT.columns, 2, 3, 10)"
   ]
  },
  {
   "cell_type": "markdown",
   "metadata": {
    "colab_type": "text",
    "id": "C6c_Gz6wUrJ8"
   },
   "source": [
    "We observe that the \"repayment status\" attributes are the most highly correlated with the target variable and we would expect them to be more significant in predicting credit default. In fact the later the status (pay_0 is later than pay_6), the more correlated it is.\n",
    "\n",
    "Now that we have an idea of the features, we will move on to feature selection and data preparation."
   ]
  },
  {
   "cell_type": "markdown",
   "metadata": {
    "colab_type": "text",
    "id": "AQBksEyEf4Sf"
   },
   "source": [
    "## Data Preprocessing\n",
    "\n",
    "It was previously mentioned that our data had a bit of noise, so we will clean up the data in this part. Additionally, we will conduct some feature selection.\n",
    "1. Removing Noise - Inconsistencies\n",
    "2. Dealing with negative values of PAY_0 to PAY_6\n",
    "3. Outliers\n",
    "4. One Hot Encoding\n",
    "5. Train Test Split\n",
    "6. Feature selection\n"
   ]
  },
  {
   "cell_type": "markdown",
   "metadata": {},
   "source": [
    "### Removing Noise\n",
    "First, we found in our data exploration that education has unknown groups 0, 5 and 6. These will be dealt with using the identification method. 0 will be assumed to be missing data and identified. Groups 5 and 6 will be subsumed by Education = Others, with value 4"
   ]
  },
  {
   "cell_type": "code",
   "execution_count": 14,
   "metadata": {},
   "outputs": [
    {
     "data": {
      "text/plain": [
       "array([2, 1, 3, 4, 0], dtype=int64)"
      ]
     },
     "execution_count": 14,
     "metadata": {},
     "output_type": "execute_result"
    }
   ],
   "source": [
    "df['EDUCATION'].replace([5,6], 4, regex=True, inplace=True)\n",
    "df[\"EDUCATION\"].unique()"
   ]
  },
  {
   "cell_type": "markdown",
   "metadata": {},
   "source": [
    "Similarly, for Marriage, we will use the identification method to deal with missing data. So 0 will be treated as a new category, \"Missing\""
   ]
  },
  {
   "cell_type": "markdown",
   "metadata": {},
   "source": [
    "### Separating negative and positive values for PAY_0 to PAY_6"
   ]
  },
  {
   "cell_type": "markdown",
   "metadata": {},
   "source": [
    "Second, we are going to extract the negative values of PAY_0 to PAY_6 as another categorical feature. This way, PAY_0 to PAY_6 can be thought of purely as the months of delay of payments.\n",
    "\n",
    "The negative values will form a categorical variable. e.g. negative values of PAY_0 will form the categorical variable S_0."
   ]
  },
  {
   "cell_type": "code",
   "execution_count": 15,
   "metadata": {},
   "outputs": [],
   "source": [
    "for i in range(0,7):\n",
    "    try:\n",
    "        df[\"S_\" + str(i)] = [x  if x < 1 else 1 for x in df[\"PAY_\" + str(i)]]\n",
    "    except:\n",
    "        pass"
   ]
  },
  {
   "cell_type": "code",
   "execution_count": 16,
   "metadata": {},
   "outputs": [
    {
     "name": "stdout",
     "output_type": "stream",
     "text": [
      "Dummy variables for negative values\n"
     ]
    },
    {
     "data": {
      "text/html": [
       "<div>\n",
       "<style scoped>\n",
       "    .dataframe tbody tr th:only-of-type {\n",
       "        vertical-align: middle;\n",
       "    }\n",
       "\n",
       "    .dataframe tbody tr th {\n",
       "        vertical-align: top;\n",
       "    }\n",
       "\n",
       "    .dataframe thead th {\n",
       "        text-align: right;\n",
       "    }\n",
       "</style>\n",
       "<table border=\"1\" class=\"dataframe\">\n",
       "  <thead>\n",
       "    <tr style=\"text-align: right;\">\n",
       "      <th></th>\n",
       "      <th>S_0</th>\n",
       "      <th>S_2</th>\n",
       "      <th>S_3</th>\n",
       "      <th>S_4</th>\n",
       "      <th>S_5</th>\n",
       "      <th>S_6</th>\n",
       "    </tr>\n",
       "    <tr>\n",
       "      <th>ID</th>\n",
       "      <th></th>\n",
       "      <th></th>\n",
       "      <th></th>\n",
       "      <th></th>\n",
       "      <th></th>\n",
       "      <th></th>\n",
       "    </tr>\n",
       "  </thead>\n",
       "  <tbody>\n",
       "    <tr>\n",
       "      <td>1</td>\n",
       "      <td>1</td>\n",
       "      <td>1</td>\n",
       "      <td>-1</td>\n",
       "      <td>-1</td>\n",
       "      <td>-2</td>\n",
       "      <td>-2</td>\n",
       "    </tr>\n",
       "    <tr>\n",
       "      <td>2</td>\n",
       "      <td>-1</td>\n",
       "      <td>1</td>\n",
       "      <td>0</td>\n",
       "      <td>0</td>\n",
       "      <td>0</td>\n",
       "      <td>1</td>\n",
       "    </tr>\n",
       "    <tr>\n",
       "      <td>3</td>\n",
       "      <td>0</td>\n",
       "      <td>0</td>\n",
       "      <td>0</td>\n",
       "      <td>0</td>\n",
       "      <td>0</td>\n",
       "      <td>0</td>\n",
       "    </tr>\n",
       "    <tr>\n",
       "      <td>4</td>\n",
       "      <td>0</td>\n",
       "      <td>0</td>\n",
       "      <td>0</td>\n",
       "      <td>0</td>\n",
       "      <td>0</td>\n",
       "      <td>0</td>\n",
       "    </tr>\n",
       "    <tr>\n",
       "      <td>5</td>\n",
       "      <td>-1</td>\n",
       "      <td>0</td>\n",
       "      <td>-1</td>\n",
       "      <td>0</td>\n",
       "      <td>0</td>\n",
       "      <td>0</td>\n",
       "    </tr>\n",
       "  </tbody>\n",
       "</table>\n",
       "</div>"
      ],
      "text/plain": [
       "    S_0  S_2  S_3  S_4  S_5  S_6\n",
       "ID                              \n",
       "1     1    1   -1   -1   -2   -2\n",
       "2    -1    1    0    0    0    1\n",
       "3     0    0    0    0    0    0\n",
       "4     0    0    0    0    0    0\n",
       "5    -1    0   -1    0    0    0"
      ]
     },
     "execution_count": 16,
     "metadata": {},
     "output_type": "execute_result"
    }
   ],
   "source": [
    "print('Dummy variables for negative values')\n",
    "df[[\"S_0\", \"S_2\", \"S_3\", \"S_4\", \"S_5\", \"S_6\"]].head()"
   ]
  },
  {
   "cell_type": "code",
   "execution_count": 17,
   "metadata": {},
   "outputs": [],
   "source": [
    "#attributes representing positive values\n",
    "for col in [\"PAY_0\", \"PAY_2\", \"PAY_3\", \"PAY_4\", \"PAY_5\", \"PAY_6\"]:\n",
    "    df[col].replace([0,-1,-2], 0, regex=True, inplace=True)"
   ]
  },
  {
   "cell_type": "markdown",
   "metadata": {},
   "source": [
    "### Outliers\n",
    "Next, we would like to remove outliers from the continuous variables. Assuming that all the data points are normally distributed, we will consider a point an outlier if it falls outside the 99% interval of a distribution. (Critical value = 2.58) "
   ]
  },
  {
   "cell_type": "code",
   "execution_count": 18,
   "metadata": {},
   "outputs": [
    {
     "data": {
      "text/html": [
       "<div>\n",
       "<style scoped>\n",
       "    .dataframe tbody tr th:only-of-type {\n",
       "        vertical-align: middle;\n",
       "    }\n",
       "\n",
       "    .dataframe tbody tr th {\n",
       "        vertical-align: top;\n",
       "    }\n",
       "\n",
       "    .dataframe thead th {\n",
       "        text-align: right;\n",
       "    }\n",
       "</style>\n",
       "<table border=\"1\" class=\"dataframe\">\n",
       "  <thead>\n",
       "    <tr style=\"text-align: right;\">\n",
       "      <th></th>\n",
       "      <th>LIMIT_BAL</th>\n",
       "      <th>SEX</th>\n",
       "      <th>EDUCATION</th>\n",
       "      <th>MARRIAGE</th>\n",
       "      <th>AGE</th>\n",
       "      <th>PAY_0</th>\n",
       "      <th>PAY_2</th>\n",
       "      <th>PAY_3</th>\n",
       "      <th>PAY_4</th>\n",
       "      <th>PAY_5</th>\n",
       "      <th>...</th>\n",
       "      <th>PAY_AMT4</th>\n",
       "      <th>PAY_AMT5</th>\n",
       "      <th>PAY_AMT6</th>\n",
       "      <th>Y</th>\n",
       "      <th>S_0</th>\n",
       "      <th>S_2</th>\n",
       "      <th>S_3</th>\n",
       "      <th>S_4</th>\n",
       "      <th>S_5</th>\n",
       "      <th>S_6</th>\n",
       "    </tr>\n",
       "  </thead>\n",
       "  <tbody>\n",
       "    <tr>\n",
       "      <td>count</td>\n",
       "      <td>26245.000000</td>\n",
       "      <td>26245.000000</td>\n",
       "      <td>26245.000000</td>\n",
       "      <td>26245.000000</td>\n",
       "      <td>26245.000000</td>\n",
       "      <td>26245.000000</td>\n",
       "      <td>26245.000000</td>\n",
       "      <td>26245.000000</td>\n",
       "      <td>26245.000000</td>\n",
       "      <td>26245.000000</td>\n",
       "      <td>...</td>\n",
       "      <td>26245.000000</td>\n",
       "      <td>26245.000000</td>\n",
       "      <td>26245.000000</td>\n",
       "      <td>26245.000000</td>\n",
       "      <td>26245.000000</td>\n",
       "      <td>26245.000000</td>\n",
       "      <td>26245.000000</td>\n",
       "      <td>26245.000000</td>\n",
       "      <td>26245.000000</td>\n",
       "      <td>26245.000000</td>\n",
       "    </tr>\n",
       "    <tr>\n",
       "      <td>mean</td>\n",
       "      <td>149324.899981</td>\n",
       "      <td>1.608954</td>\n",
       "      <td>1.850753</td>\n",
       "      <td>1.558773</td>\n",
       "      <td>35.006592</td>\n",
       "      <td>0.372109</td>\n",
       "      <td>0.337321</td>\n",
       "      <td>0.324633</td>\n",
       "      <td>0.278224</td>\n",
       "      <td>0.238750</td>\n",
       "      <td>...</td>\n",
       "      <td>2787.425071</td>\n",
       "      <td>2778.830673</td>\n",
       "      <td>2822.285007</td>\n",
       "      <td>0.230177</td>\n",
       "      <td>-0.133587</td>\n",
       "      <td>-0.300438</td>\n",
       "      <td>-0.327300</td>\n",
       "      <td>-0.364412</td>\n",
       "      <td>-0.395999</td>\n",
       "      <td>-0.428158</td>\n",
       "    </tr>\n",
       "    <tr>\n",
       "      <td>std</td>\n",
       "      <td>116558.616530</td>\n",
       "      <td>0.487994</td>\n",
       "      <td>0.738175</td>\n",
       "      <td>0.522639</td>\n",
       "      <td>8.832028</td>\n",
       "      <td>0.765730</td>\n",
       "      <td>0.814878</td>\n",
       "      <td>0.811491</td>\n",
       "      <td>0.786314</td>\n",
       "      <td>0.743923</td>\n",
       "      <td>...</td>\n",
       "      <td>4835.081906</td>\n",
       "      <td>4751.263287</td>\n",
       "      <td>5271.198100</td>\n",
       "      <td>0.420954</td>\n",
       "      <td>0.879876</td>\n",
       "      <td>0.883472</td>\n",
       "      <td>0.895264</td>\n",
       "      <td>0.886115</td>\n",
       "      <td>0.877789</td>\n",
       "      <td>0.900723</td>\n",
       "    </tr>\n",
       "    <tr>\n",
       "      <td>min</td>\n",
       "      <td>10000.000000</td>\n",
       "      <td>1.000000</td>\n",
       "      <td>0.000000</td>\n",
       "      <td>0.000000</td>\n",
       "      <td>21.000000</td>\n",
       "      <td>0.000000</td>\n",
       "      <td>0.000000</td>\n",
       "      <td>0.000000</td>\n",
       "      <td>0.000000</td>\n",
       "      <td>0.000000</td>\n",
       "      <td>...</td>\n",
       "      <td>0.000000</td>\n",
       "      <td>0.000000</td>\n",
       "      <td>0.000000</td>\n",
       "      <td>0.000000</td>\n",
       "      <td>-2.000000</td>\n",
       "      <td>-2.000000</td>\n",
       "      <td>-2.000000</td>\n",
       "      <td>-2.000000</td>\n",
       "      <td>-2.000000</td>\n",
       "      <td>-2.000000</td>\n",
       "    </tr>\n",
       "    <tr>\n",
       "      <td>25%</td>\n",
       "      <td>50000.000000</td>\n",
       "      <td>1.000000</td>\n",
       "      <td>1.000000</td>\n",
       "      <td>1.000000</td>\n",
       "      <td>28.000000</td>\n",
       "      <td>0.000000</td>\n",
       "      <td>0.000000</td>\n",
       "      <td>0.000000</td>\n",
       "      <td>0.000000</td>\n",
       "      <td>0.000000</td>\n",
       "      <td>...</td>\n",
       "      <td>150.000000</td>\n",
       "      <td>82.000000</td>\n",
       "      <td>0.000000</td>\n",
       "      <td>0.000000</td>\n",
       "      <td>-1.000000</td>\n",
       "      <td>-1.000000</td>\n",
       "      <td>-1.000000</td>\n",
       "      <td>-1.000000</td>\n",
       "      <td>-1.000000</td>\n",
       "      <td>-1.000000</td>\n",
       "    </tr>\n",
       "    <tr>\n",
       "      <td>50%</td>\n",
       "      <td>120000.000000</td>\n",
       "      <td>2.000000</td>\n",
       "      <td>2.000000</td>\n",
       "      <td>2.000000</td>\n",
       "      <td>34.000000</td>\n",
       "      <td>0.000000</td>\n",
       "      <td>0.000000</td>\n",
       "      <td>0.000000</td>\n",
       "      <td>0.000000</td>\n",
       "      <td>0.000000</td>\n",
       "      <td>...</td>\n",
       "      <td>1200.000000</td>\n",
       "      <td>1218.000000</td>\n",
       "      <td>1143.000000</td>\n",
       "      <td>0.000000</td>\n",
       "      <td>0.000000</td>\n",
       "      <td>0.000000</td>\n",
       "      <td>0.000000</td>\n",
       "      <td>0.000000</td>\n",
       "      <td>0.000000</td>\n",
       "      <td>0.000000</td>\n",
       "    </tr>\n",
       "    <tr>\n",
       "      <td>75%</td>\n",
       "      <td>210000.000000</td>\n",
       "      <td>2.000000</td>\n",
       "      <td>2.000000</td>\n",
       "      <td>2.000000</td>\n",
       "      <td>41.000000</td>\n",
       "      <td>0.000000</td>\n",
       "      <td>0.000000</td>\n",
       "      <td>0.000000</td>\n",
       "      <td>0.000000</td>\n",
       "      <td>0.000000</td>\n",
       "      <td>...</td>\n",
       "      <td>3118.000000</td>\n",
       "      <td>3140.000000</td>\n",
       "      <td>3069.000000</td>\n",
       "      <td>0.000000</td>\n",
       "      <td>0.000000</td>\n",
       "      <td>0.000000</td>\n",
       "      <td>0.000000</td>\n",
       "      <td>0.000000</td>\n",
       "      <td>0.000000</td>\n",
       "      <td>0.000000</td>\n",
       "    </tr>\n",
       "    <tr>\n",
       "      <td>max</td>\n",
       "      <td>500000.000000</td>\n",
       "      <td>2.000000</td>\n",
       "      <td>4.000000</td>\n",
       "      <td>3.000000</td>\n",
       "      <td>59.000000</td>\n",
       "      <td>8.000000</td>\n",
       "      <td>8.000000</td>\n",
       "      <td>8.000000</td>\n",
       "      <td>8.000000</td>\n",
       "      <td>8.000000</td>\n",
       "      <td>...</td>\n",
       "      <td>45171.000000</td>\n",
       "      <td>44197.000000</td>\n",
       "      <td>51000.000000</td>\n",
       "      <td>1.000000</td>\n",
       "      <td>1.000000</td>\n",
       "      <td>1.000000</td>\n",
       "      <td>1.000000</td>\n",
       "      <td>1.000000</td>\n",
       "      <td>1.000000</td>\n",
       "      <td>1.000000</td>\n",
       "    </tr>\n",
       "  </tbody>\n",
       "</table>\n",
       "<p>8 rows × 30 columns</p>\n",
       "</div>"
      ],
      "text/plain": [
       "           LIMIT_BAL           SEX     EDUCATION      MARRIAGE           AGE  \\\n",
       "count   26245.000000  26245.000000  26245.000000  26245.000000  26245.000000   \n",
       "mean   149324.899981      1.608954      1.850753      1.558773     35.006592   \n",
       "std    116558.616530      0.487994      0.738175      0.522639      8.832028   \n",
       "min     10000.000000      1.000000      0.000000      0.000000     21.000000   \n",
       "25%     50000.000000      1.000000      1.000000      1.000000     28.000000   \n",
       "50%    120000.000000      2.000000      2.000000      2.000000     34.000000   \n",
       "75%    210000.000000      2.000000      2.000000      2.000000     41.000000   \n",
       "max    500000.000000      2.000000      4.000000      3.000000     59.000000   \n",
       "\n",
       "              PAY_0         PAY_2         PAY_3         PAY_4         PAY_5  \\\n",
       "count  26245.000000  26245.000000  26245.000000  26245.000000  26245.000000   \n",
       "mean       0.372109      0.337321      0.324633      0.278224      0.238750   \n",
       "std        0.765730      0.814878      0.811491      0.786314      0.743923   \n",
       "min        0.000000      0.000000      0.000000      0.000000      0.000000   \n",
       "25%        0.000000      0.000000      0.000000      0.000000      0.000000   \n",
       "50%        0.000000      0.000000      0.000000      0.000000      0.000000   \n",
       "75%        0.000000      0.000000      0.000000      0.000000      0.000000   \n",
       "max        8.000000      8.000000      8.000000      8.000000      8.000000   \n",
       "\n",
       "       ...      PAY_AMT4      PAY_AMT5      PAY_AMT6             Y  \\\n",
       "count  ...  26245.000000  26245.000000  26245.000000  26245.000000   \n",
       "mean   ...   2787.425071   2778.830673   2822.285007      0.230177   \n",
       "std    ...   4835.081906   4751.263287   5271.198100      0.420954   \n",
       "min    ...      0.000000      0.000000      0.000000      0.000000   \n",
       "25%    ...    150.000000     82.000000      0.000000      0.000000   \n",
       "50%    ...   1200.000000   1218.000000   1143.000000      0.000000   \n",
       "75%    ...   3118.000000   3140.000000   3069.000000      0.000000   \n",
       "max    ...  45171.000000  44197.000000  51000.000000      1.000000   \n",
       "\n",
       "                S_0           S_2           S_3           S_4           S_5  \\\n",
       "count  26245.000000  26245.000000  26245.000000  26245.000000  26245.000000   \n",
       "mean      -0.133587     -0.300438     -0.327300     -0.364412     -0.395999   \n",
       "std        0.879876      0.883472      0.895264      0.886115      0.877789   \n",
       "min       -2.000000     -2.000000     -2.000000     -2.000000     -2.000000   \n",
       "25%       -1.000000     -1.000000     -1.000000     -1.000000     -1.000000   \n",
       "50%        0.000000      0.000000      0.000000      0.000000      0.000000   \n",
       "75%        0.000000      0.000000      0.000000      0.000000      0.000000   \n",
       "max        1.000000      1.000000      1.000000      1.000000      1.000000   \n",
       "\n",
       "                S_6  \n",
       "count  26245.000000  \n",
       "mean      -0.428158  \n",
       "std        0.900723  \n",
       "min       -2.000000  \n",
       "25%       -1.000000  \n",
       "50%        0.000000  \n",
       "75%        0.000000  \n",
       "max        1.000000  \n",
       "\n",
       "[8 rows x 30 columns]"
      ]
     },
     "execution_count": 18,
     "metadata": {},
     "output_type": "execute_result"
    }
   ],
   "source": [
    "from scipy import stats\n",
    "#we are only concerned with the ordinal data\n",
    "o = pd.DataFrame(df.drop(['Y','EDUCATION', 'MARRIAGE', \"SEX\",\"S_0\", \"S_2\", \"S_3\", \"S_4\", \"S_5\", \"S_6\",\"PAY_0\", \"PAY_2\", \"PAY_3\", \"PAY_4\", \"PAY_5\", \"PAY_6\"], axis=1))\n",
    "#rows where the absolute z score of all columns are less than 2.58 (critical value)\n",
    "rows = (np.abs(stats.zscore(o)) < 2.58).all(axis=1)\n",
    "df = df[rows]\n",
    "df.describe()"
   ]
  },
  {
   "cell_type": "markdown",
   "metadata": {},
   "source": [
    "### Feature Scaling\n",
    "The models used subsequently may have difficulty converging before the maximum number of iterations allowed\n",
    "is reached if the data is not normalized. Additionaly, Multi-layer Perceptron is sensitive to feature scaling, so we will use StandardScaler for standardization. We only want to scale the numerical factors."
   ]
  },
  {
   "cell_type": "code",
   "execution_count": 19,
   "metadata": {},
   "outputs": [],
   "source": [
    "from sklearn.preprocessing import MinMaxScaler\n",
    "scaler = MinMaxScaler()\n",
    "cols = df.drop(['Y','EDUCATION', 'MARRIAGE', \"SEX\",\"S_0\", \"S_2\", \"S_3\", \"S_4\", \"S_5\", \"S_6\",\"PAY_0\", \"PAY_2\", \"PAY_3\", \"PAY_4\", \"PAY_5\", \"PAY_6\"], axis =1)\n",
    "df1 = df.copy()\n",
    "df1[cols.columns] = scaler.fit_transform(cols)\n",
    "df = df1"
   ]
  },
  {
   "cell_type": "code",
   "execution_count": 20,
   "metadata": {
    "scrolled": true
   },
   "outputs": [
    {
     "data": {
      "text/html": [
       "<div>\n",
       "<style scoped>\n",
       "    .dataframe tbody tr th:only-of-type {\n",
       "        vertical-align: middle;\n",
       "    }\n",
       "\n",
       "    .dataframe tbody tr th {\n",
       "        vertical-align: top;\n",
       "    }\n",
       "\n",
       "    .dataframe thead th {\n",
       "        text-align: right;\n",
       "    }\n",
       "</style>\n",
       "<table border=\"1\" class=\"dataframe\">\n",
       "  <thead>\n",
       "    <tr style=\"text-align: right;\">\n",
       "      <th></th>\n",
       "      <th>LIMIT_BAL</th>\n",
       "      <th>SEX</th>\n",
       "      <th>EDUCATION</th>\n",
       "      <th>MARRIAGE</th>\n",
       "      <th>AGE</th>\n",
       "      <th>PAY_0</th>\n",
       "      <th>PAY_2</th>\n",
       "      <th>PAY_3</th>\n",
       "      <th>PAY_4</th>\n",
       "      <th>PAY_5</th>\n",
       "      <th>...</th>\n",
       "      <th>PAY_AMT4</th>\n",
       "      <th>PAY_AMT5</th>\n",
       "      <th>PAY_AMT6</th>\n",
       "      <th>Y</th>\n",
       "      <th>S_0</th>\n",
       "      <th>S_2</th>\n",
       "      <th>S_3</th>\n",
       "      <th>S_4</th>\n",
       "      <th>S_5</th>\n",
       "      <th>S_6</th>\n",
       "    </tr>\n",
       "    <tr>\n",
       "      <th>ID</th>\n",
       "      <th></th>\n",
       "      <th></th>\n",
       "      <th></th>\n",
       "      <th></th>\n",
       "      <th></th>\n",
       "      <th></th>\n",
       "      <th></th>\n",
       "      <th></th>\n",
       "      <th></th>\n",
       "      <th></th>\n",
       "      <th></th>\n",
       "      <th></th>\n",
       "      <th></th>\n",
       "      <th></th>\n",
       "      <th></th>\n",
       "      <th></th>\n",
       "      <th></th>\n",
       "      <th></th>\n",
       "      <th></th>\n",
       "      <th></th>\n",
       "      <th></th>\n",
       "    </tr>\n",
       "  </thead>\n",
       "  <tbody>\n",
       "    <tr>\n",
       "      <td>1</td>\n",
       "      <td>0.020408</td>\n",
       "      <td>2</td>\n",
       "      <td>2</td>\n",
       "      <td>1</td>\n",
       "      <td>0.078947</td>\n",
       "      <td>2</td>\n",
       "      <td>2</td>\n",
       "      <td>0</td>\n",
       "      <td>0</td>\n",
       "      <td>0</td>\n",
       "      <td>...</td>\n",
       "      <td>0.000000</td>\n",
       "      <td>0.000000</td>\n",
       "      <td>0.000000</td>\n",
       "      <td>1</td>\n",
       "      <td>1</td>\n",
       "      <td>1</td>\n",
       "      <td>-1</td>\n",
       "      <td>-1</td>\n",
       "      <td>-2</td>\n",
       "      <td>-2</td>\n",
       "    </tr>\n",
       "    <tr>\n",
       "      <td>2</td>\n",
       "      <td>0.224490</td>\n",
       "      <td>2</td>\n",
       "      <td>2</td>\n",
       "      <td>2</td>\n",
       "      <td>0.131579</td>\n",
       "      <td>0</td>\n",
       "      <td>2</td>\n",
       "      <td>0</td>\n",
       "      <td>0</td>\n",
       "      <td>0</td>\n",
       "      <td>...</td>\n",
       "      <td>0.022138</td>\n",
       "      <td>0.000000</td>\n",
       "      <td>0.039216</td>\n",
       "      <td>1</td>\n",
       "      <td>-1</td>\n",
       "      <td>1</td>\n",
       "      <td>0</td>\n",
       "      <td>0</td>\n",
       "      <td>0</td>\n",
       "      <td>1</td>\n",
       "    </tr>\n",
       "    <tr>\n",
       "      <td>3</td>\n",
       "      <td>0.163265</td>\n",
       "      <td>2</td>\n",
       "      <td>2</td>\n",
       "      <td>2</td>\n",
       "      <td>0.342105</td>\n",
       "      <td>0</td>\n",
       "      <td>0</td>\n",
       "      <td>0</td>\n",
       "      <td>0</td>\n",
       "      <td>0</td>\n",
       "      <td>...</td>\n",
       "      <td>0.022138</td>\n",
       "      <td>0.022626</td>\n",
       "      <td>0.098039</td>\n",
       "      <td>0</td>\n",
       "      <td>0</td>\n",
       "      <td>0</td>\n",
       "      <td>0</td>\n",
       "      <td>0</td>\n",
       "      <td>0</td>\n",
       "      <td>0</td>\n",
       "    </tr>\n",
       "    <tr>\n",
       "      <td>4</td>\n",
       "      <td>0.081633</td>\n",
       "      <td>2</td>\n",
       "      <td>2</td>\n",
       "      <td>1</td>\n",
       "      <td>0.421053</td>\n",
       "      <td>0</td>\n",
       "      <td>0</td>\n",
       "      <td>0</td>\n",
       "      <td>0</td>\n",
       "      <td>0</td>\n",
       "      <td>...</td>\n",
       "      <td>0.024352</td>\n",
       "      <td>0.024187</td>\n",
       "      <td>0.019608</td>\n",
       "      <td>0</td>\n",
       "      <td>0</td>\n",
       "      <td>0</td>\n",
       "      <td>0</td>\n",
       "      <td>0</td>\n",
       "      <td>0</td>\n",
       "      <td>0</td>\n",
       "    </tr>\n",
       "    <tr>\n",
       "      <td>5</td>\n",
       "      <td>0.081633</td>\n",
       "      <td>1</td>\n",
       "      <td>2</td>\n",
       "      <td>1</td>\n",
       "      <td>0.947368</td>\n",
       "      <td>0</td>\n",
       "      <td>0</td>\n",
       "      <td>0</td>\n",
       "      <td>0</td>\n",
       "      <td>0</td>\n",
       "      <td>...</td>\n",
       "      <td>0.199243</td>\n",
       "      <td>0.015589</td>\n",
       "      <td>0.013314</td>\n",
       "      <td>0</td>\n",
       "      <td>-1</td>\n",
       "      <td>0</td>\n",
       "      <td>-1</td>\n",
       "      <td>0</td>\n",
       "      <td>0</td>\n",
       "      <td>0</td>\n",
       "    </tr>\n",
       "  </tbody>\n",
       "</table>\n",
       "<p>5 rows × 30 columns</p>\n",
       "</div>"
      ],
      "text/plain": [
       "    LIMIT_BAL  SEX  EDUCATION  MARRIAGE       AGE  PAY_0  PAY_2  PAY_3  PAY_4  \\\n",
       "ID                                                                              \n",
       "1    0.020408    2          2         1  0.078947      2      2      0      0   \n",
       "2    0.224490    2          2         2  0.131579      0      2      0      0   \n",
       "3    0.163265    2          2         2  0.342105      0      0      0      0   \n",
       "4    0.081633    2          2         1  0.421053      0      0      0      0   \n",
       "5    0.081633    1          2         1  0.947368      0      0      0      0   \n",
       "\n",
       "    PAY_5  ...  PAY_AMT4  PAY_AMT5  PAY_AMT6  Y  S_0  S_2  S_3  S_4  S_5  S_6  \n",
       "ID         ...                                                                 \n",
       "1       0  ...  0.000000  0.000000  0.000000  1    1    1   -1   -1   -2   -2  \n",
       "2       0  ...  0.022138  0.000000  0.039216  1   -1    1    0    0    0    1  \n",
       "3       0  ...  0.022138  0.022626  0.098039  0    0    0    0    0    0    0  \n",
       "4       0  ...  0.024352  0.024187  0.019608  0    0    0    0    0    0    0  \n",
       "5       0  ...  0.199243  0.015589  0.013314  0   -1    0   -1    0    0    0  \n",
       "\n",
       "[5 rows x 30 columns]"
      ]
     },
     "execution_count": 20,
     "metadata": {},
     "output_type": "execute_result"
    }
   ],
   "source": [
    "df1.head()"
   ]
  },
  {
   "cell_type": "markdown",
   "metadata": {},
   "source": [
    "### One-Hot Encoding for Categorical attributes"
   ]
  },
  {
   "cell_type": "markdown",
   "metadata": {},
   "source": [
    "In some models, categorical variables which are encoded numerically will be erroneously treated as ordinal data. To understand why this is a problem, consider the \"Education\" column for our dataset.\n",
    "\n",
    "A logistic regression model, for example, will assume that the difference in odds of default between education = 1 and education = 2 is the same as the difference between education = 2 and 3. This is wrong because the difference in odds between a graduate degree and university (1 and 2) is likely to be different from that between univeristy education and high school education (2 and 3).\n",
    "\n",
    "One hot encoding will allow our models to treat these columns explicitly as categorical features.\n",
    "\n",
    "The following categorical columns will be one-hot encoded\n",
    "\n",
    "1. EDUCATION\n",
    "2. MARRIAGE\n",
    "3. S0 - S6\n"
   ]
  },
  {
   "cell_type": "code",
   "execution_count": 21,
   "metadata": {},
   "outputs": [],
   "source": [
    "from sklearn.preprocessing import OneHotEncoder"
   ]
  },
  {
   "cell_type": "code",
   "execution_count": 22,
   "metadata": {},
   "outputs": [],
   "source": [
    "onenc = OneHotEncoder(categories='auto')"
   ]
  },
  {
   "cell_type": "code",
   "execution_count": 23,
   "metadata": {},
   "outputs": [
    {
     "data": {
      "text/html": [
       "<div>\n",
       "<style scoped>\n",
       "    .dataframe tbody tr th:only-of-type {\n",
       "        vertical-align: middle;\n",
       "    }\n",
       "\n",
       "    .dataframe tbody tr th {\n",
       "        vertical-align: top;\n",
       "    }\n",
       "\n",
       "    .dataframe thead th {\n",
       "        text-align: right;\n",
       "    }\n",
       "</style>\n",
       "<table border=\"1\" class=\"dataframe\">\n",
       "  <thead>\n",
       "    <tr style=\"text-align: right;\">\n",
       "      <th></th>\n",
       "      <th>MISSING-EDU</th>\n",
       "      <th>GRAD</th>\n",
       "      <th>UNI</th>\n",
       "      <th>HS</th>\n",
       "      <th>MISSING-MS</th>\n",
       "      <th>MARRIED</th>\n",
       "      <th>SINGLE</th>\n",
       "    </tr>\n",
       "  </thead>\n",
       "  <tbody>\n",
       "    <tr>\n",
       "      <td>0</td>\n",
       "      <td>0.0</td>\n",
       "      <td>0.0</td>\n",
       "      <td>1.0</td>\n",
       "      <td>0.0</td>\n",
       "      <td>0.0</td>\n",
       "      <td>1.0</td>\n",
       "      <td>0.0</td>\n",
       "    </tr>\n",
       "    <tr>\n",
       "      <td>1</td>\n",
       "      <td>0.0</td>\n",
       "      <td>0.0</td>\n",
       "      <td>1.0</td>\n",
       "      <td>0.0</td>\n",
       "      <td>0.0</td>\n",
       "      <td>0.0</td>\n",
       "      <td>1.0</td>\n",
       "    </tr>\n",
       "    <tr>\n",
       "      <td>2</td>\n",
       "      <td>0.0</td>\n",
       "      <td>0.0</td>\n",
       "      <td>1.0</td>\n",
       "      <td>0.0</td>\n",
       "      <td>0.0</td>\n",
       "      <td>0.0</td>\n",
       "      <td>1.0</td>\n",
       "    </tr>\n",
       "    <tr>\n",
       "      <td>3</td>\n",
       "      <td>0.0</td>\n",
       "      <td>0.0</td>\n",
       "      <td>1.0</td>\n",
       "      <td>0.0</td>\n",
       "      <td>0.0</td>\n",
       "      <td>1.0</td>\n",
       "      <td>0.0</td>\n",
       "    </tr>\n",
       "    <tr>\n",
       "      <td>4</td>\n",
       "      <td>0.0</td>\n",
       "      <td>0.0</td>\n",
       "      <td>1.0</td>\n",
       "      <td>0.0</td>\n",
       "      <td>0.0</td>\n",
       "      <td>1.0</td>\n",
       "      <td>0.0</td>\n",
       "    </tr>\n",
       "  </tbody>\n",
       "</table>\n",
       "</div>"
      ],
      "text/plain": [
       "   MISSING-EDU  GRAD  UNI   HS  MISSING-MS  MARRIED  SINGLE\n",
       "0          0.0   0.0  1.0  0.0         0.0      1.0     0.0\n",
       "1          0.0   0.0  1.0  0.0         0.0      0.0     1.0\n",
       "2          0.0   0.0  1.0  0.0         0.0      0.0     1.0\n",
       "3          0.0   0.0  1.0  0.0         0.0      1.0     0.0\n",
       "4          0.0   0.0  1.0  0.0         0.0      1.0     0.0"
      ]
     },
     "execution_count": 23,
     "metadata": {},
     "output_type": "execute_result"
    }
   ],
   "source": [
    "#one hot encoding for EDUCATION and MARRIAGE\n",
    "onehot = pd.DataFrame(onenc.fit_transform(df[['EDUCATION', 'MARRIAGE']]).toarray())\n",
    "onehot.columns= names = [\"MISSING-EDU\",\"GRAD\",\"UNI\",\"HS\",\"OTHER-EDU\",\"MISSING-MS\",\"MARRIED\",\"SINGLE\",\"OTHER-MS\"]\n",
    "#drop one of each category to prevent dummy variable trap\n",
    "onehot = onehot.drop([\"OTHER-EDU\", \"OTHER-MS\"], axis = 1)\n",
    "onehot.head()"
   ]
  },
  {
   "cell_type": "code",
   "execution_count": 24,
   "metadata": {
    "scrolled": true
   },
   "outputs": [
    {
     "data": {
      "text/html": [
       "<div>\n",
       "<style scoped>\n",
       "    .dataframe tbody tr th:only-of-type {\n",
       "        vertical-align: middle;\n",
       "    }\n",
       "\n",
       "    .dataframe tbody tr th {\n",
       "        vertical-align: top;\n",
       "    }\n",
       "\n",
       "    .dataframe thead th {\n",
       "        text-align: right;\n",
       "    }\n",
       "</style>\n",
       "<table border=\"1\" class=\"dataframe\">\n",
       "  <thead>\n",
       "    <tr style=\"text-align: right;\">\n",
       "      <th></th>\n",
       "      <th>PAY_0_No_Transactions</th>\n",
       "      <th>PAY_0_Pay_Duly</th>\n",
       "      <th>PAY_0_Revolving_Credit</th>\n",
       "      <th>PAY_2_No_Transactions</th>\n",
       "      <th>PAY_2_Pay_Duly</th>\n",
       "      <th>PAY_2_Revolving_Credit</th>\n",
       "      <th>PAY_3_No_Transactions</th>\n",
       "      <th>PAY_3_Pay_Duly</th>\n",
       "      <th>PAY_3_Revolving_Credit</th>\n",
       "      <th>PAY_4_No_Transactions</th>\n",
       "      <th>PAY_4_Pay_Duly</th>\n",
       "      <th>PAY_4_Revolving_Credit</th>\n",
       "      <th>PAY_5_No_Transactions</th>\n",
       "      <th>PAY_5_Pay_Duly</th>\n",
       "      <th>PAY_5_Revolving_Credit</th>\n",
       "      <th>PAY_6_No_Transactions</th>\n",
       "      <th>PAY_6_Pay_Duly</th>\n",
       "      <th>PAY_6_Revolving_Credit</th>\n",
       "    </tr>\n",
       "  </thead>\n",
       "  <tbody>\n",
       "    <tr>\n",
       "      <td>0</td>\n",
       "      <td>0.0</td>\n",
       "      <td>0.0</td>\n",
       "      <td>0.0</td>\n",
       "      <td>0.0</td>\n",
       "      <td>0.0</td>\n",
       "      <td>0.0</td>\n",
       "      <td>0.0</td>\n",
       "      <td>1.0</td>\n",
       "      <td>0.0</td>\n",
       "      <td>0.0</td>\n",
       "      <td>1.0</td>\n",
       "      <td>0.0</td>\n",
       "      <td>1.0</td>\n",
       "      <td>0.0</td>\n",
       "      <td>0.0</td>\n",
       "      <td>1.0</td>\n",
       "      <td>0.0</td>\n",
       "      <td>0.0</td>\n",
       "    </tr>\n",
       "    <tr>\n",
       "      <td>1</td>\n",
       "      <td>0.0</td>\n",
       "      <td>1.0</td>\n",
       "      <td>0.0</td>\n",
       "      <td>0.0</td>\n",
       "      <td>0.0</td>\n",
       "      <td>0.0</td>\n",
       "      <td>0.0</td>\n",
       "      <td>0.0</td>\n",
       "      <td>1.0</td>\n",
       "      <td>0.0</td>\n",
       "      <td>0.0</td>\n",
       "      <td>1.0</td>\n",
       "      <td>0.0</td>\n",
       "      <td>0.0</td>\n",
       "      <td>1.0</td>\n",
       "      <td>0.0</td>\n",
       "      <td>0.0</td>\n",
       "      <td>0.0</td>\n",
       "    </tr>\n",
       "    <tr>\n",
       "      <td>2</td>\n",
       "      <td>0.0</td>\n",
       "      <td>0.0</td>\n",
       "      <td>1.0</td>\n",
       "      <td>0.0</td>\n",
       "      <td>0.0</td>\n",
       "      <td>1.0</td>\n",
       "      <td>0.0</td>\n",
       "      <td>0.0</td>\n",
       "      <td>1.0</td>\n",
       "      <td>0.0</td>\n",
       "      <td>0.0</td>\n",
       "      <td>1.0</td>\n",
       "      <td>0.0</td>\n",
       "      <td>0.0</td>\n",
       "      <td>1.0</td>\n",
       "      <td>0.0</td>\n",
       "      <td>0.0</td>\n",
       "      <td>1.0</td>\n",
       "    </tr>\n",
       "    <tr>\n",
       "      <td>3</td>\n",
       "      <td>0.0</td>\n",
       "      <td>0.0</td>\n",
       "      <td>1.0</td>\n",
       "      <td>0.0</td>\n",
       "      <td>0.0</td>\n",
       "      <td>1.0</td>\n",
       "      <td>0.0</td>\n",
       "      <td>0.0</td>\n",
       "      <td>1.0</td>\n",
       "      <td>0.0</td>\n",
       "      <td>0.0</td>\n",
       "      <td>1.0</td>\n",
       "      <td>0.0</td>\n",
       "      <td>0.0</td>\n",
       "      <td>1.0</td>\n",
       "      <td>0.0</td>\n",
       "      <td>0.0</td>\n",
       "      <td>1.0</td>\n",
       "    </tr>\n",
       "    <tr>\n",
       "      <td>4</td>\n",
       "      <td>0.0</td>\n",
       "      <td>1.0</td>\n",
       "      <td>0.0</td>\n",
       "      <td>0.0</td>\n",
       "      <td>0.0</td>\n",
       "      <td>1.0</td>\n",
       "      <td>0.0</td>\n",
       "      <td>1.0</td>\n",
       "      <td>0.0</td>\n",
       "      <td>0.0</td>\n",
       "      <td>0.0</td>\n",
       "      <td>1.0</td>\n",
       "      <td>0.0</td>\n",
       "      <td>0.0</td>\n",
       "      <td>1.0</td>\n",
       "      <td>0.0</td>\n",
       "      <td>0.0</td>\n",
       "      <td>1.0</td>\n",
       "    </tr>\n",
       "  </tbody>\n",
       "</table>\n",
       "</div>"
      ],
      "text/plain": [
       "   PAY_0_No_Transactions  PAY_0_Pay_Duly  PAY_0_Revolving_Credit  \\\n",
       "0                    0.0             0.0                     0.0   \n",
       "1                    0.0             1.0                     0.0   \n",
       "2                    0.0             0.0                     1.0   \n",
       "3                    0.0             0.0                     1.0   \n",
       "4                    0.0             1.0                     0.0   \n",
       "\n",
       "   PAY_2_No_Transactions  PAY_2_Pay_Duly  PAY_2_Revolving_Credit  \\\n",
       "0                    0.0             0.0                     0.0   \n",
       "1                    0.0             0.0                     0.0   \n",
       "2                    0.0             0.0                     1.0   \n",
       "3                    0.0             0.0                     1.0   \n",
       "4                    0.0             0.0                     1.0   \n",
       "\n",
       "   PAY_3_No_Transactions  PAY_3_Pay_Duly  PAY_3_Revolving_Credit  \\\n",
       "0                    0.0             1.0                     0.0   \n",
       "1                    0.0             0.0                     1.0   \n",
       "2                    0.0             0.0                     1.0   \n",
       "3                    0.0             0.0                     1.0   \n",
       "4                    0.0             1.0                     0.0   \n",
       "\n",
       "   PAY_4_No_Transactions  PAY_4_Pay_Duly  PAY_4_Revolving_Credit  \\\n",
       "0                    0.0             1.0                     0.0   \n",
       "1                    0.0             0.0                     1.0   \n",
       "2                    0.0             0.0                     1.0   \n",
       "3                    0.0             0.0                     1.0   \n",
       "4                    0.0             0.0                     1.0   \n",
       "\n",
       "   PAY_5_No_Transactions  PAY_5_Pay_Duly  PAY_5_Revolving_Credit  \\\n",
       "0                    1.0             0.0                     0.0   \n",
       "1                    0.0             0.0                     1.0   \n",
       "2                    0.0             0.0                     1.0   \n",
       "3                    0.0             0.0                     1.0   \n",
       "4                    0.0             0.0                     1.0   \n",
       "\n",
       "   PAY_6_No_Transactions  PAY_6_Pay_Duly  PAY_6_Revolving_Credit  \n",
       "0                    1.0             0.0                     0.0  \n",
       "1                    0.0             0.0                     0.0  \n",
       "2                    0.0             0.0                     1.0  \n",
       "3                    0.0             0.0                     1.0  \n",
       "4                    0.0             0.0                     1.0  "
      ]
     },
     "execution_count": 24,
     "metadata": {},
     "output_type": "execute_result"
    }
   ],
   "source": [
    "#one hot encoding for S_0 to S_6\n",
    "onehot_PAY = pd.DataFrame(onenc.fit_transform(df[['S_0', 'S_2', 'S_3', 'S_4', 'S_5', 'S_6']]).toarray())\n",
    "onehot_PAY.columns= onenc.fit(df[[\"S_0\", \"S_2\", \"S_3\", \"S_4\", \"S_5\", \"S_6\"]]).get_feature_names()\n",
    "#drop one of each category to prevent dummy variable trap\n",
    "#onehot = onehot.drop([\"OTHER-EDU\", \"OTHER_MS\"], axis = 1)\n",
    "names = []\n",
    "for X in range(0,7):\n",
    "    if X == 1:\n",
    "        continue\n",
    "    names.append(\"PAY_\"+str(X)+\"_No_Transactions\")\n",
    "    names.append(\"PAY_\"+str(X)+\"_Pay_Duly\")\n",
    "    names.append(\"PAY_\"+str(X)+\"_Revolving_Credit\")\n",
    "    try:\n",
    "        onehot_PAY = onehot_PAY.drop(\"x\" + str(X) +\"_1\", axis =1)\n",
    "    except:\n",
    "        onehot_PAY = onehot_PAY.drop(\"x1_1\", axis =1)\n",
    "onehot_PAY.columns = names\n",
    "onehot_PAY.head()"
   ]
  },
  {
   "cell_type": "code",
   "execution_count": 25,
   "metadata": {},
   "outputs": [
    {
     "data": {
      "text/plain": [
       "Index(['LIMIT_BAL', 'SEX', 'AGE', 'PAY_0', 'PAY_2', 'PAY_3', 'PAY_4', 'PAY_5',\n",
       "       'PAY_6', 'BILL_AMT1', 'BILL_AMT2', 'BILL_AMT3', 'BILL_AMT4',\n",
       "       'BILL_AMT5', 'BILL_AMT6', 'PAY_AMT1', 'PAY_AMT2', 'PAY_AMT3',\n",
       "       'PAY_AMT4', 'PAY_AMT5', 'PAY_AMT6', 'Y', 'MISSING-EDU', 'GRAD', 'UNI',\n",
       "       'HS', 'MISSING-MS', 'MARRIED', 'SINGLE', 'PAY_0_No_Transactions',\n",
       "       'PAY_0_Pay_Duly', 'PAY_0_Revolving_Credit', 'PAY_2_No_Transactions',\n",
       "       'PAY_2_Pay_Duly', 'PAY_2_Revolving_Credit', 'PAY_3_No_Transactions',\n",
       "       'PAY_3_Pay_Duly', 'PAY_3_Revolving_Credit', 'PAY_4_No_Transactions',\n",
       "       'PAY_4_Pay_Duly', 'PAY_4_Revolving_Credit', 'PAY_5_No_Transactions',\n",
       "       'PAY_5_Pay_Duly', 'PAY_5_Revolving_Credit', 'PAY_6_No_Transactions',\n",
       "       'PAY_6_Pay_Duly', 'PAY_6_Revolving_Credit'],\n",
       "      dtype='object')"
      ]
     },
     "execution_count": 25,
     "metadata": {},
     "output_type": "execute_result"
    }
   ],
   "source": [
    "df1 = df.drop(['EDUCATION', 'MARRIAGE','S_0', 'S_2', 'S_3', 'S_4', 'S_5', 'S_6'], axis = 1)\n",
    "df1 = pd.concat([df1.reset_index(drop=True), onehot], axis=1)\n",
    "df1 = pd.concat([df1.reset_index(drop=True), onehot_PAY], axis=1)\n",
    "df1.columns"
   ]
  },
  {
   "cell_type": "code",
   "execution_count": 26,
   "metadata": {},
   "outputs": [
    {
     "data": {
      "text/html": [
       "<div>\n",
       "<style scoped>\n",
       "    .dataframe tbody tr th:only-of-type {\n",
       "        vertical-align: middle;\n",
       "    }\n",
       "\n",
       "    .dataframe tbody tr th {\n",
       "        vertical-align: top;\n",
       "    }\n",
       "\n",
       "    .dataframe thead th {\n",
       "        text-align: right;\n",
       "    }\n",
       "</style>\n",
       "<table border=\"1\" class=\"dataframe\">\n",
       "  <thead>\n",
       "    <tr style=\"text-align: right;\">\n",
       "      <th></th>\n",
       "      <th>LIMIT_BAL</th>\n",
       "      <th>SEX</th>\n",
       "      <th>AGE</th>\n",
       "      <th>PAY_0</th>\n",
       "      <th>PAY_2</th>\n",
       "      <th>PAY_3</th>\n",
       "      <th>PAY_4</th>\n",
       "      <th>PAY_5</th>\n",
       "      <th>PAY_6</th>\n",
       "      <th>BILL_AMT1</th>\n",
       "      <th>...</th>\n",
       "      <th>PAY_3_Revolving_Credit</th>\n",
       "      <th>PAY_4_No_Transactions</th>\n",
       "      <th>PAY_4_Pay_Duly</th>\n",
       "      <th>PAY_4_Revolving_Credit</th>\n",
       "      <th>PAY_5_No_Transactions</th>\n",
       "      <th>PAY_5_Pay_Duly</th>\n",
       "      <th>PAY_5_Revolving_Credit</th>\n",
       "      <th>PAY_6_No_Transactions</th>\n",
       "      <th>PAY_6_Pay_Duly</th>\n",
       "      <th>PAY_6_Revolving_Credit</th>\n",
       "    </tr>\n",
       "  </thead>\n",
       "  <tbody>\n",
       "  </tbody>\n",
       "</table>\n",
       "<p>0 rows × 47 columns</p>\n",
       "</div>"
      ],
      "text/plain": [
       "Empty DataFrame\n",
       "Columns: [LIMIT_BAL, SEX, AGE, PAY_0, PAY_2, PAY_3, PAY_4, PAY_5, PAY_6, BILL_AMT1, BILL_AMT2, BILL_AMT3, BILL_AMT4, BILL_AMT5, BILL_AMT6, PAY_AMT1, PAY_AMT2, PAY_AMT3, PAY_AMT4, PAY_AMT5, PAY_AMT6, Y, MISSING-EDU, GRAD, UNI, HS, MISSING-MS, MARRIED, SINGLE, PAY_0_No_Transactions, PAY_0_Pay_Duly, PAY_0_Revolving_Credit, PAY_2_No_Transactions, PAY_2_Pay_Duly, PAY_2_Revolving_Credit, PAY_3_No_Transactions, PAY_3_Pay_Duly, PAY_3_Revolving_Credit, PAY_4_No_Transactions, PAY_4_Pay_Duly, PAY_4_Revolving_Credit, PAY_5_No_Transactions, PAY_5_Pay_Duly, PAY_5_Revolving_Credit, PAY_6_No_Transactions, PAY_6_Pay_Duly, PAY_6_Revolving_Credit]\n",
       "Index: []\n",
       "\n",
       "[0 rows x 47 columns]"
      ]
     },
     "execution_count": 26,
     "metadata": {},
     "output_type": "execute_result"
    }
   ],
   "source": [
    "#check for perfect collinearity\n",
    "corr = df1.corr()\n",
    "for i in range(len(corr)):\n",
    "    corr.iloc[i,i] = 0\n",
    "#corr[corr == 1] = 0\n",
    "corr[corr.eq(1).any(1)]"
   ]
  },
  {
   "cell_type": "code",
   "execution_count": 27,
   "metadata": {},
   "outputs": [
    {
     "name": "stdout",
     "output_type": "stream",
     "text": [
      "Data has 47 Columns and 26245 Rows\n"
     ]
    }
   ],
   "source": [
    "size = df1.shape\n",
    "print(\"Data has {} Columns and {} Rows\".format(size[1], size[0]))"
   ]
  },
  {
   "cell_type": "markdown",
   "metadata": {},
   "source": [
    "### Train Test Split\n",
    "\n",
    "Before we conduct feature selection and model selection, we split the data using a train test split according to the project description."
   ]
  },
  {
   "cell_type": "code",
   "execution_count": 28,
   "metadata": {},
   "outputs": [],
   "source": [
    "from sklearn.metrics import *\n",
    "from sklearn.model_selection import *"
   ]
  },
  {
   "cell_type": "code",
   "execution_count": 29,
   "metadata": {
    "colab": {},
    "colab_type": "code",
    "id": "VOB68z_hM1jW"
   },
   "outputs": [],
   "source": [
    "#using holdout sampling for train test split using seed 123\n",
    "np.random.seed(123) \n",
    "ft = df1.drop(\"Y\", axis = 1)\n",
    "target = df1[\"Y\"]\n",
    "X_train,X_test,y_train,y_test = train_test_split(ft,target,test_size=1/3)"
   ]
  },
  {
   "cell_type": "markdown",
   "metadata": {},
   "source": [
    "### Filter method for feature selection\n",
    "The filter method for feature selection entails selecting relevant attributes before moving on to learning phase.\n",
    "We will utitlise univariate feature selection to reduce the features to the fewer more significant attributes. "
   ]
  },
  {
   "cell_type": "code",
   "execution_count": 30,
   "metadata": {},
   "outputs": [
    {
     "name": "stdout",
     "output_type": "stream",
     "text": [
      "Significant values are:\n",
      "                                  0          pval\n",
      "LIMIT_BAL                 82.306062  2.883753e-04\n",
      "PAY_0                   4279.993739  0.000000e+00\n",
      "PAY_2                   3557.072141  0.000000e+00\n",
      "PAY_3                   2766.119390  0.000000e+00\n",
      "PAY_4                   2736.965012  0.000000e+00\n",
      "PAY_5                   2587.002458  0.000000e+00\n",
      "PAY_6                   2240.874786  0.000000e+00\n",
      "PAY_0_No_Transactions     76.858872  1.147939e-03\n",
      "PAY_0_Revolving_Credit   480.805794  0.000000e+00\n",
      "PAY_2_Pay_Duly            75.283344  1.684018e-03\n",
      "PAY_2_Revolving_Credit   229.527990  0.000000e+00\n",
      "PAY_3_Pay_Duly            86.995856  8.229607e-05\n",
      "PAY_3_Revolving_Credit   121.059740  2.357071e-09\n",
      "PAY_4_Pay_Duly            79.449207  6.014800e-04\n",
      "PAY_4_Revolving_Credit    82.276504  2.906105e-04\n",
      "PAY_5_Pay_Duly            63.330298  2.338310e-02\n",
      "PAY_5_Revolving_Credit    64.659773  1.792035e-02\n"
     ]
    }
   ],
   "source": [
    "from sklearn.feature_selection import SelectKBest\n",
    "from sklearn.feature_selection import chi2\n",
    "\n",
    "selector = SelectKBest( score_func = chi2, k=10)\n",
    "selector.fit(X_train, y_train)\n",
    "np.set_printoptions(precision=10)\n",
    "chi2data = pd.DataFrame(selector.scores_)\n",
    "chi2data[\"pval\"] = 1 - stats.chi2.cdf(chi2data, 43)\n",
    "chi2data.index = X_train.columns\n",
    "\n",
    "print(\"Significant values are:\")\n",
    "print(chi2data[chi2data[\"pval\"] < 0.05])\n",
    "\n",
    "cols = chi2data[chi2data[\"pval\"] < 0.05].index\n",
    "X_train_filter = X_train[cols]\n",
    "X_test_filter = X_test[cols]"
   ]
  },
  {
   "cell_type": "markdown",
   "metadata": {
    "colab_type": "text",
    "id": "mbhlIlQzZz7c"
   },
   "source": [
    "## Model Selection\n",
    "\n",
    "In this part, we will fit machine learning models learnt in BT2101 to this classification problem, and pick the model that can produce the best results.\n",
    "\n",
    "We will be attempting to fit the following models:\n",
    "\n",
    "\n",
    "- Decision Tree \n",
    "- Logistic Regression\n",
    "- Support Vector Machine\n",
    "- Neural Network\n",
    "\n",
    "To make things easier, we define a get_roc function that will plot an ROC curve for all the models we evaluate, and a confusion matrix function.\n"
   ]
  },
  {
   "cell_type": "code",
   "execution_count": 31,
   "metadata": {},
   "outputs": [],
   "source": [
    "def get_roc(model, y_test, X_test, name):\n",
    "    try:\n",
    "        fpr = roc_curve(y_test,model.predict_proba(X_test)[:,1])[0]\n",
    "        tpr = roc_curve(y_test,model.predict_proba(X_test)[:,1])[1]\n",
    "        thresholds = roc_curve(y_test,model.predict_proba(X_test)[:,1])[2]\n",
    "    except:\n",
    "        fpr = roc_curve(y_test,model.predict(X_test))[0]\n",
    "        tpr = roc_curve(y_test,model.predict(X_test))[1]\n",
    "        thresholds = roc_curve(y_test,model.predict(X_test))[2]\n",
    "    plt.plot([0, 1], [0, 1], color='navy', linestyle='--')\n",
    "    plt.xlim([0.0, 1.0])\n",
    "    plt.ylim([0.0, 1.05])\n",
    "    plt.xlabel('False Positive Rate')\n",
    "    plt.ylabel('True Positive Rate')\n",
    "    plt.title('Receiver operating characteristic for ' + name)\n",
    "    plt.plot(fpr,tpr,label='ROC curve (AUC = %0.2f)' % (auc(fpr, tpr)))\n",
    "    plt.legend(loc=\"lower right\")\n",
    "    \n",
    "    #find- best threshold\n",
    "    optimal_idx = np.argmax(tpr - fpr)\n",
    "    optimal_threshold = thresholds[optimal_idx]\n",
    "    print(\"Optimal Threshold: \" + str(optimal_threshold))\n",
    "    \n",
    "    plt.show()\n",
    "    \n",
    "    return auc(fpr, tpr)"
   ]
  },
  {
   "cell_type": "code",
   "execution_count": 32,
   "metadata": {},
   "outputs": [],
   "source": [
    "def get_optimal(model, y_test, X_test, name):\n",
    "    try:\n",
    "        fpr = roc_curve(y_test,model.predict_proba(X_test)[:,1])[0]\n",
    "        tpr = roc_curve(y_test,model.predict_proba(X_test)[:,1])[1]\n",
    "        thresholds = roc_curve(y_test,model.predict_proba(X_test)[:,1])[2]\n",
    "    except:\n",
    "        fpr = roc_curve(y_test,model.predict(X_test))[0]\n",
    "        tpr = roc_curve(y_test,model.predict(X_test))[1]\n",
    "        thresholds = roc_curve(y_test,model.predict(X_test))[2]\n",
    "    optimal_idx = np.argmax(tpr - fpr)\n",
    "    optimal_threshold = thresholds[optimal_idx]\n",
    "    return optimal_threshold            "
   ]
  },
  {
   "cell_type": "code",
   "execution_count": 33,
   "metadata": {
    "scrolled": true
   },
   "outputs": [],
   "source": [
    "def confusion(y_test, predictions, name):\n",
    "    conf = pd.crosstab(y_test,predictions, rownames=['Actual'], colnames=['Predicted'])\n",
    "    print(\"Of \" + str(conf[0][1] + conf[1][1]) + \" Defaulters, the \" + name + \" identified \" + str(conf[1][1])) \n",
    "    return conf"
   ]
  },
  {
   "cell_type": "markdown",
   "metadata": {},
   "source": [
    "### Evaluation \n",
    "We will select the model based on the model evaluation. The key metrics we will compute are:\n",
    "\n",
    "1. Accuracy\n",
    "2. Recall\n",
    "3. AUROC\n",
    "\n",
    "Because of the nature of a default detection problem, we would like to prioritise **recall** for defaults. \n",
    "This means we will place more importance in correctly identifying a defaulter than avoiding misclassifying a non-defaulter. (Assumming that the bank loses more money when lending to a defaulter than not lending to a non-defaulter)\n",
    "\n",
    "However, simply predicting every data point as a defaulter will give us 100% recall. We have to also consider accuracy and AUROC to get a better idea of how our model performs.\n"
   ]
  },
  {
   "cell_type": "code",
   "execution_count": 34,
   "metadata": {},
   "outputs": [],
   "source": [
    "evaluation = pd.DataFrame(columns=['Model', 'F1-1', 'AUROC'])"
   ]
  },
  {
   "cell_type": "markdown",
   "metadata": {
    "colab_type": "text",
    "id": "H89tM6NvaN17"
   },
   "source": [
    "###  Decision Trees\n",
    "\n",
    "#### Theory:\n",
    "The decision tree algorithm aims to recursively split the data points in the training set until the data points are completely separated or well separated. At each iteration, the tree splits the datasets by the feature(s) that give the maximum reduction in heterogeneity, which is calculated by a heterogeneity index.\n",
    "\n",
    "Below is a binary decision tree that has been split for a few iterations.\n",
    "\n",
    "![image.png](https://elf11.github.io/images/decisionTree.png)\n",
    "\n",
    "Since the target for this project is binary (fraud = yes or no) we will be building a binary decision tree, using the the GINI Index as the Heterogeneity index. The GINI is given by:\n",
    "\n",
    "![image.png](https://miro.medium.com/max/664/1*otdoiyIwxJI-UV0ukkyutw.png)\n",
    "\n",
    "The GINI index measures how heterogenous a single node is (0 being completely homogenous and 1 being heterogenous). For each possible split, we will calculate the *weighted sum* of the GINI indices of the child nodes, and choose the split that results in the maximum information gain. i.e. reduction in the weighted sum of the GINI Index.\n",
    "\n",
    "#### Training\n",
    "We will now construct a simple decision tree using the GINI index."
   ]
  },
  {
   "cell_type": "code",
   "execution_count": 35,
   "metadata": {},
   "outputs": [],
   "source": [
    "from sklearn.tree import DecisionTreeClassifier"
   ]
  },
  {
   "cell_type": "code",
   "execution_count": 36,
   "metadata": {},
   "outputs": [
    {
     "data": {
      "text/plain": [
       "DecisionTreeClassifier(class_weight=None, criterion='gini', max_depth=None,\n",
       "                       max_features=None, max_leaf_nodes=None,\n",
       "                       min_impurity_decrease=0.0, min_impurity_split=None,\n",
       "                       min_samples_leaf=1, min_samples_split=2,\n",
       "                       min_weight_fraction_leaf=0.0, presort=False,\n",
       "                       random_state=None, splitter='best')"
      ]
     },
     "execution_count": 36,
     "metadata": {},
     "output_type": "execute_result"
    }
   ],
   "source": [
    "tree = DecisionTreeClassifier()\n",
    "tree.fit(X_train, y_train)"
   ]
  },
  {
   "cell_type": "code",
   "execution_count": 43,
   "metadata": {},
   "outputs": [
    {
     "name": "stdout",
     "output_type": "stream",
     "text": [
      "Optimal Threshold: 0.3333333333333333\n"
     ]
    },
    {
     "data": {
      "image/png": "[encoded data removed]",
      "text/plain": [
       "<Figure size 432x288 with 1 Axes>"
      ]
     },
     "metadata": {
      "needs_background": "light"
     },
     "output_type": "display_data"
    },
    {
     "name": "stdout",
     "output_type": "stream",
     "text": [
      "              precision    recall  f1-score   support\n",
      "\n",
      "           0       1.00      1.00      1.00     13442\n",
      "           1       1.00      1.00      1.00      4054\n",
      "\n",
      "    accuracy                           1.00     17496\n",
      "   macro avg       1.00      1.00      1.00     17496\n",
      "weighted avg       1.00      1.00      1.00     17496\n",
      "\n"
     ]
    }
   ],
   "source": [
    "get_roc(tree, y_train, X_train, \"Decision Tree (GINI)\")\n",
    "print(classification_report(y_train, tree.predict(X_train)))"
   ]
  },
  {
   "cell_type": "markdown",
   "metadata": {},
   "source": [
    "The training set accuracy is 1, which means the datapoints are completely separated by the decision tree. We evaluate on the test set below."
   ]
  },
  {
   "cell_type": "code",
   "execution_count": 40,
   "metadata": {},
   "outputs": [
    {
     "name": "stdout",
     "output_type": "stream",
     "text": [
      "Of 1987 Defaulters, the Decision Tree (GINI) identified 809\n"
     ]
    },
    {
     "data": {
      "text/html": [
       "<div>\n",
       "<style scoped>\n",
       "    .dataframe tbody tr th:only-of-type {\n",
       "        vertical-align: middle;\n",
       "    }\n",
       "\n",
       "    .dataframe tbody tr th {\n",
       "        vertical-align: top;\n",
       "    }\n",
       "\n",
       "    .dataframe thead th {\n",
       "        text-align: right;\n",
       "    }\n",
       "</style>\n",
       "<table border=\"1\" class=\"dataframe\">\n",
       "  <thead>\n",
       "    <tr style=\"text-align: right;\">\n",
       "      <th>Predicted</th>\n",
       "      <th>0</th>\n",
       "      <th>1</th>\n",
       "    </tr>\n",
       "    <tr>\n",
       "      <th>Actual</th>\n",
       "      <th></th>\n",
       "      <th></th>\n",
       "    </tr>\n",
       "  </thead>\n",
       "  <tbody>\n",
       "    <tr>\n",
       "      <td>0</td>\n",
       "      <td>5482</td>\n",
       "      <td>1280</td>\n",
       "    </tr>\n",
       "    <tr>\n",
       "      <td>1</td>\n",
       "      <td>1178</td>\n",
       "      <td>809</td>\n",
       "    </tr>\n",
       "  </tbody>\n",
       "</table>\n",
       "</div>"
      ],
      "text/plain": [
       "Predicted     0     1\n",
       "Actual               \n",
       "0          5482  1280\n",
       "1          1178   809"
      ]
     },
     "execution_count": 40,
     "metadata": {},
     "output_type": "execute_result"
    }
   ],
   "source": [
    "confusion(y_test, tree.predict(X_test), \"Decision Tree (GINI)\")"
   ]
  },
  {
   "cell_type": "code",
   "execution_count": 42,
   "metadata": {},
   "outputs": [
    {
     "name": "stdout",
     "output_type": "stream",
     "text": [
      "Optimal Threshold: 0.5\n"
     ]
    },
    {
     "data": {
      "image/png": "[encoded data removed]",
      "text/plain": [
       "<Figure size 432x288 with 1 Axes>"
      ]
     },
     "metadata": {
      "needs_background": "light"
     },
     "output_type": "display_data"
    },
    {
     "name": "stdout",
     "output_type": "stream",
     "text": [
      "              precision    recall  f1-score   support\n",
      "\n",
      "           0       0.82      0.81      0.82      6762\n",
      "           1       0.39      0.41      0.40      1987\n",
      "\n",
      "    accuracy                           0.72      8749\n",
      "   macro avg       0.61      0.61      0.61      8749\n",
      "weighted avg       0.72      0.72      0.72      8749\n",
      "\n"
     ]
    }
   ],
   "source": [
    "auroc = get_roc(tree, y_test, X_test, \"Decision Tree (GINI)\")\n",
    "print(classification_report(y_test, tree.predict(X_test)))"
   ]
  },
  {
   "cell_type": "code",
   "execution_count": 44,
   "metadata": {},
   "outputs": [
    {
     "name": "stdout",
     "output_type": "stream",
     "text": [
      "Of 1987 Defaulters, the Decision Tree (Entropy) identified 831\n"
     ]
    },
    {
     "data": {
      "text/html": [
       "<div>\n",
       "<style scoped>\n",
       "    .dataframe tbody tr th:only-of-type {\n",
       "        vertical-align: middle;\n",
       "    }\n",
       "\n",
       "    .dataframe tbody tr th {\n",
       "        vertical-align: top;\n",
       "    }\n",
       "\n",
       "    .dataframe thead th {\n",
       "        text-align: right;\n",
       "    }\n",
       "</style>\n",
       "<table border=\"1\" class=\"dataframe\">\n",
       "  <thead>\n",
       "    <tr style=\"text-align: right;\">\n",
       "      <th>Predicted</th>\n",
       "      <th>0</th>\n",
       "      <th>1</th>\n",
       "    </tr>\n",
       "    <tr>\n",
       "      <th>Actual</th>\n",
       "      <th></th>\n",
       "      <th></th>\n",
       "    </tr>\n",
       "  </thead>\n",
       "  <tbody>\n",
       "    <tr>\n",
       "      <td>0</td>\n",
       "      <td>5509</td>\n",
       "      <td>1253</td>\n",
       "    </tr>\n",
       "    <tr>\n",
       "      <td>1</td>\n",
       "      <td>1156</td>\n",
       "      <td>831</td>\n",
       "    </tr>\n",
       "  </tbody>\n",
       "</table>\n",
       "</div>"
      ],
      "text/plain": [
       "Predicted     0     1\n",
       "Actual               \n",
       "0          5509  1253\n",
       "1          1156   831"
      ]
     },
     "execution_count": 44,
     "metadata": {},
     "output_type": "execute_result"
    }
   ],
   "source": [
    "tree2 = DecisionTreeClassifier(criterion = \"entropy\")\n",
    "tree2.fit(X_train, y_train)\n",
    "confusion(y_test, tree2.predict(X_test), \"Decision Tree (Entropy)\")"
   ]
  },
  {
   "cell_type": "code",
   "execution_count": 45,
   "metadata": {},
   "outputs": [
    {
     "name": "stdout",
     "output_type": "stream",
     "text": [
      "Optimal Threshold: 0.5\n"
     ]
    },
    {
     "data": {
      "image/png": "[encoded data removed]",
      "text/plain": [
       "<Figure size 432x288 with 1 Axes>"
      ]
     },
     "metadata": {
      "needs_background": "light"
     },
     "output_type": "display_data"
    },
    {
     "name": "stdout",
     "output_type": "stream",
     "text": [
      "              precision    recall  f1-score   support\n",
      "\n",
      "           0       0.83      0.81      0.82      6762\n",
      "           1       0.40      0.42      0.41      1987\n",
      "\n",
      "    accuracy                           0.72      8749\n",
      "   macro avg       0.61      0.62      0.61      8749\n",
      "weighted avg       0.73      0.72      0.73      8749\n",
      "\n"
     ]
    }
   ],
   "source": [
    "get_roc(tree2, y_test, X_test, \"Decision Tree (Entropy)\")\n",
    "print(classification_report(y_test, tree2.predict(X_test)))"
   ]
  },
  {
   "cell_type": "markdown",
   "metadata": {},
   "source": [
    "There is negligible difference in using GINI or Entropy for decision trees. For the sake of simplicity, we will use GINI for the ensemble methods."
   ]
  },
  {
   "cell_type": "markdown",
   "metadata": {},
   "source": [
    "### Random Forest Classifier\n",
    "\n",
    "#### Theory\n",
    "Random Forest is an ensemble method for the decision tree algorithm. It works by randomly choosing different features and data points to train multiple trees (that is, to form a forest) - and the resulting prediction is decided by the votes from all the trees. \n",
    "\n",
    "Decision Trees are prone to overfitting on the training data, which reduces the performance on the test set. Random Forest mitigates this by training multiple trees. Random Forest is a form of bagging ensemble where the trees are trained concurrently. \n",
    "\n",
    "#### Training\n",
    "To keep things consistent, our Random Forest classifier will also use the GINI Coefficient.\n",
    "\n"
   ]
  },
  {
   "cell_type": "code",
   "execution_count": 46,
   "metadata": {},
   "outputs": [],
   "source": [
    "from sklearn.ensemble import RandomForestClassifier\n",
    "randf = RandomForestClassifier(n_estimators=200)"
   ]
  },
  {
   "cell_type": "code",
   "execution_count": 47,
   "metadata": {},
   "outputs": [
    {
     "data": {
      "text/plain": [
       "RandomForestClassifier(bootstrap=True, class_weight=None, criterion='gini',\n",
       "                       max_depth=None, max_features='auto', max_leaf_nodes=None,\n",
       "                       min_impurity_decrease=0.0, min_impurity_split=None,\n",
       "                       min_samples_leaf=1, min_samples_split=2,\n",
       "                       min_weight_fraction_leaf=0.0, n_estimators=200,\n",
       "                       n_jobs=None, oob_score=False, random_state=None,\n",
       "                       verbose=0, warm_start=False)"
      ]
     },
     "execution_count": 47,
     "metadata": {},
     "output_type": "execute_result"
    }
   ],
   "source": [
    "randf.fit(X_train, y_train)"
   ]
  },
  {
   "cell_type": "code",
   "execution_count": 48,
   "metadata": {},
   "outputs": [
    {
     "name": "stdout",
     "output_type": "stream",
     "text": [
      "              precision    recall  f1-score   support\n",
      "\n",
      "           0       1.00      1.00      1.00     13442\n",
      "           1       1.00      1.00      1.00      4054\n",
      "\n",
      "    accuracy                           1.00     17496\n",
      "   macro avg       1.00      1.00      1.00     17496\n",
      "weighted avg       1.00      1.00      1.00     17496\n",
      "\n"
     ]
    }
   ],
   "source": [
    "print(classification_report(y_train, randf.predict(X_train)))"
   ]
  },
  {
   "cell_type": "markdown",
   "metadata": {},
   "source": [
    "The training set has also been 100% correctly classified by the random forest model. Evaluating with the test set:"
   ]
  },
  {
   "cell_type": "code",
   "execution_count": 49,
   "metadata": {},
   "outputs": [
    {
     "name": "stdout",
     "output_type": "stream",
     "text": [
      "Of 1987 Defaulters, the Decision Tree (Random Forest) identified 713\n"
     ]
    },
    {
     "data": {
      "text/html": [
       "<div>\n",
       "<style scoped>\n",
       "    .dataframe tbody tr th:only-of-type {\n",
       "        vertical-align: middle;\n",
       "    }\n",
       "\n",
       "    .dataframe tbody tr th {\n",
       "        vertical-align: top;\n",
       "    }\n",
       "\n",
       "    .dataframe thead th {\n",
       "        text-align: right;\n",
       "    }\n",
       "</style>\n",
       "<table border=\"1\" class=\"dataframe\">\n",
       "  <thead>\n",
       "    <tr style=\"text-align: right;\">\n",
       "      <th>Predicted</th>\n",
       "      <th>0</th>\n",
       "      <th>1</th>\n",
       "    </tr>\n",
       "    <tr>\n",
       "      <th>Actual</th>\n",
       "      <th></th>\n",
       "      <th></th>\n",
       "    </tr>\n",
       "  </thead>\n",
       "  <tbody>\n",
       "    <tr>\n",
       "      <td>0</td>\n",
       "      <td>6371</td>\n",
       "      <td>391</td>\n",
       "    </tr>\n",
       "    <tr>\n",
       "      <td>1</td>\n",
       "      <td>1274</td>\n",
       "      <td>713</td>\n",
       "    </tr>\n",
       "  </tbody>\n",
       "</table>\n",
       "</div>"
      ],
      "text/plain": [
       "Predicted     0    1\n",
       "Actual              \n",
       "0          6371  391\n",
       "1          1274  713"
      ]
     },
     "execution_count": 49,
     "metadata": {},
     "output_type": "execute_result"
    }
   ],
   "source": [
    "confusion(y_test, randf.predict(X_test), \"Decision Tree (Random Forest)\")"
   ]
  },
  {
   "cell_type": "code",
   "execution_count": 53,
   "metadata": {
    "scrolled": false
   },
   "outputs": [
    {
     "name": "stdout",
     "output_type": "stream",
     "text": [
      "Optimal Threshold: 0.27\n"
     ]
    },
    {
     "data": {
      "image/png": "[encoded data removed]",
      "text/plain": [
       "<Figure size 432x288 with 1 Axes>"
      ]
     },
     "metadata": {
      "needs_background": "light"
     },
     "output_type": "display_data"
    },
    {
     "name": "stdout",
     "output_type": "stream",
     "text": [
      "              precision    recall  f1-score   support\n",
      "\n",
      "           0       0.83      0.94      0.88      6762\n",
      "           1       0.65      0.36      0.46      1987\n",
      "\n",
      "    accuracy                           0.81      8749\n",
      "   macro avg       0.74      0.65      0.67      8749\n",
      "weighted avg       0.79      0.81      0.79      8749\n",
      "\n"
     ]
    }
   ],
   "source": [
    "auroc_rf = get_roc(randf, y_test, X_test, \"Decision Tree (Random Forest)\")\n",
    "print(classification_report(y_test, randf.predict(X_test)))"
   ]
  },
  {
   "cell_type": "markdown",
   "metadata": {},
   "source": [
    "The random forest ensemble performs much better than the decision tree alone. The accuracy and AUROC are both superior to the decision tree alone."
   ]
  },
  {
   "cell_type": "markdown",
   "metadata": {},
   "source": [
    "### Gradient Boosted Trees Classifier\n",
    "\n",
    "#### Theory\n",
    "In this part we train a gradient boosted trees classifier. It is a boosting ensemble method for decision trees, which means that the trees are trained consecutively, where each new tree added is trained to correct the error from the previous tree.\n",
    " \n",
    "#### Training\n",
    "For consistency our xgBoost ensemble will use n_estimators = 300 as we have done for the random forest ensemble."
   ]
  },
  {
   "cell_type": "code",
   "execution_count": 55,
   "metadata": {},
   "outputs": [
    {
     "data": {
      "text/plain": [
       "GradientBoostingClassifier(criterion='friedman_mse', init=None,\n",
       "                           learning_rate=0.1, loss='deviance', max_depth=4,\n",
       "                           max_features=None, max_leaf_nodes=None,\n",
       "                           min_impurity_decrease=0.0, min_impurity_split=None,\n",
       "                           min_samples_leaf=1, min_samples_split=2,\n",
       "                           min_weight_fraction_leaf=0.0, n_estimators=300,\n",
       "                           n_iter_no_change=None, presort='auto',\n",
       "                           random_state=None, subsample=1.0, tol=0.0001,\n",
       "                           validation_fraction=0.1, verbose=0,\n",
       "                           warm_start=False)"
      ]
     },
     "execution_count": 55,
     "metadata": {},
     "output_type": "execute_result"
    }
   ],
   "source": [
    "from sklearn.ensemble import GradientBoostingClassifier\n",
    "xgb = GradientBoostingClassifier(n_estimators=300, max_depth = 4)\n",
    "xgb.fit(X_train, y_train)"
   ]
  },
  {
   "cell_type": "code",
   "execution_count": 56,
   "metadata": {},
   "outputs": [
    {
     "name": "stdout",
     "output_type": "stream",
     "text": [
      "              precision    recall  f1-score   support\n",
      "\n",
      "           0       0.86      0.96      0.91     13442\n",
      "           1       0.79      0.46      0.58      4054\n",
      "\n",
      "    accuracy                           0.85     17496\n",
      "   macro avg       0.82      0.71      0.74     17496\n",
      "weighted avg       0.84      0.85      0.83     17496\n",
      "\n"
     ]
    }
   ],
   "source": [
    "print(classification_report(y_train, xgb.predict(X_train)))"
   ]
  },
  {
   "cell_type": "markdown",
   "metadata": {},
   "source": [
    "We observe that the ensemble did not fully separate the data in the training set. (The default maximum depth is 3, so that might be a factor). Evaluating on the test set,"
   ]
  },
  {
   "cell_type": "code",
   "execution_count": 57,
   "metadata": {},
   "outputs": [
    {
     "name": "stdout",
     "output_type": "stream",
     "text": [
      "Of 1987 Defaulters, the Decision Tree (Gradient Boosted Trees) identified 717\n"
     ]
    },
    {
     "data": {
      "text/html": [
       "<div>\n",
       "<style scoped>\n",
       "    .dataframe tbody tr th:only-of-type {\n",
       "        vertical-align: middle;\n",
       "    }\n",
       "\n",
       "    .dataframe tbody tr th {\n",
       "        vertical-align: top;\n",
       "    }\n",
       "\n",
       "    .dataframe thead th {\n",
       "        text-align: right;\n",
       "    }\n",
       "</style>\n",
       "<table border=\"1\" class=\"dataframe\">\n",
       "  <thead>\n",
       "    <tr style=\"text-align: right;\">\n",
       "      <th>Predicted</th>\n",
       "      <th>0</th>\n",
       "      <th>1</th>\n",
       "    </tr>\n",
       "    <tr>\n",
       "      <th>Actual</th>\n",
       "      <th></th>\n",
       "      <th></th>\n",
       "    </tr>\n",
       "  </thead>\n",
       "  <tbody>\n",
       "    <tr>\n",
       "      <td>0</td>\n",
       "      <td>6381</td>\n",
       "      <td>381</td>\n",
       "    </tr>\n",
       "    <tr>\n",
       "      <td>1</td>\n",
       "      <td>1270</td>\n",
       "      <td>717</td>\n",
       "    </tr>\n",
       "  </tbody>\n",
       "</table>\n",
       "</div>"
      ],
      "text/plain": [
       "Predicted     0    1\n",
       "Actual              \n",
       "0          6381  381\n",
       "1          1270  717"
      ]
     },
     "execution_count": 57,
     "metadata": {},
     "output_type": "execute_result"
    }
   ],
   "source": [
    "confusion(y_test, xgb.predict(X_test), \"Decision Tree (Gradient Boosted Trees)\")"
   ]
  },
  {
   "cell_type": "code",
   "execution_count": 58,
   "metadata": {},
   "outputs": [
    {
     "name": "stdout",
     "output_type": "stream",
     "text": [
      "Optimal Threshold: 0.24738247273049666\n"
     ]
    },
    {
     "data": {
      "image/png": "[encoded data removed]",
      "text/plain": [
       "<Figure size 432x288 with 1 Axes>"
      ]
     },
     "metadata": {
      "needs_background": "light"
     },
     "output_type": "display_data"
    }
   ],
   "source": [
    "auroc = get_roc(xgb, y_test, X_test, \"Decision Tree (XGBoost)\")\n",
    "print(classification_report(y_test, xgb.predict(X_test)))"
   ]
  },
  {
   "cell_type": "markdown",
   "metadata": {},
   "source": [
    "From both the accuracy metrics and the AUROC, we observe that the gradient boosted tree performs similarly to the random forest classifier. We will choose Random Forest as our model of choice using the decision tree algorithm."
   ]
  },
  {
   "cell_type": "code",
   "execution_count": 59,
   "metadata": {},
   "outputs": [],
   "source": [
    "evaluation.loc[0] = ([\"Decision Trees - Random Forest\" , \n",
    "                      classification_report(y_test, randf.predict(X_test), output_dict = True)[\"1\"][\"f1-score\"],\n",
    "                      auroc_rf])"
   ]
  },
  {
   "cell_type": "code",
   "execution_count": 60,
   "metadata": {
    "scrolled": true
   },
   "outputs": [
    {
     "data": {
      "text/html": [
       "<div>\n",
       "<style scoped>\n",
       "    .dataframe tbody tr th:only-of-type {\n",
       "        vertical-align: middle;\n",
       "    }\n",
       "\n",
       "    .dataframe tbody tr th {\n",
       "        vertical-align: top;\n",
       "    }\n",
       "\n",
       "    .dataframe thead th {\n",
       "        text-align: right;\n",
       "    }\n",
       "</style>\n",
       "<table border=\"1\" class=\"dataframe\">\n",
       "  <thead>\n",
       "    <tr style=\"text-align: right;\">\n",
       "      <th></th>\n",
       "      <th>Model</th>\n",
       "      <th>F1-1</th>\n",
       "      <th>AUROC</th>\n",
       "    </tr>\n",
       "  </thead>\n",
       "  <tbody>\n",
       "    <tr>\n",
       "      <td>0</td>\n",
       "      <td>Decision Trees - Random Forest</td>\n",
       "      <td>0.461339</td>\n",
       "      <td>0.768458</td>\n",
       "    </tr>\n",
       "  </tbody>\n",
       "</table>\n",
       "</div>"
      ],
      "text/plain": [
       "                            Model      F1-1     AUROC\n",
       "0  Decision Trees - Random Forest  0.461339  0.768458"
      ]
     },
     "execution_count": 60,
     "metadata": {},
     "output_type": "execute_result"
    }
   ],
   "source": [
    "evaluation"
   ]
  },
  {
   "cell_type": "markdown",
   "metadata": {},
   "source": [
    "### Logistic Regression\n",
    "\n",
    "#### Theory\n",
    "Logistic regression is a regression technnique used to predict binary target variables. It works on the same principles as a linear regression model. \n",
    "\n",
    "Our binary target (default vs non-default) can be expressed in terms of odds of defaulting, which is the ratio of the probability of default and probability of non-default. \n",
    "\n",
    "In the logistic regression model, we log the odds (log-odds) and equate it to a weighted sum of regressors.\n",
    "\n",
    "![image.png](https://wikimedia.org/api/rest_v1/media/math/render/svg/4a5e86f014eb1f0744e280eb0d68485cb8c0a6c3)\n",
    "\n",
    "We then find weights for the regressors that best fits the data. Since the binary target (default or not) follows a bernoulli distribution, each data point has the following probability distribution function:\n",
    "\n",
    "![image.png](https://wikimedia.org/api/rest_v1/media/math/render/svg/614e0c64d59f0ff2e926deafcb2de6e502394fac)\n",
    "\n",
    "We would like to update p for each data point such that the log product (joint probability) of the above function for all data points is maximised. In other words, we are maximising the log-likelihood function.\n",
    "\n",
    "The logistic regression equation produces a \"squashed\" curve like the one below. We then pick a cutoff value for the y axis to classify a data point as 0 (non-default) or 1 (default).\n",
    "\n",
    "![image.png](https://upload.wikimedia.org/wikipedia/commons/thumb/8/88/Logistic-curve.svg/1280px-Logistic-curve.svg.png)\n",
    "\n",
    "\n",
    "#### Training\n",
    "We will adopt a top-down approach for training our logistic regression model, i.e. include all regressors first and then remove the most insignificant ones at each iteration to achieve the best fit."
   ]
  },
  {
   "cell_type": "code",
   "execution_count": 61,
   "metadata": {},
   "outputs": [],
   "source": [
    "import statsmodels.api as sm"
   ]
  },
  {
   "cell_type": "code",
   "execution_count": 62,
   "metadata": {},
   "outputs": [
    {
     "name": "stdout",
     "output_type": "stream",
     "text": [
      "Warning: Maximum number of iterations has been exceeded.\n",
      "         Current function value: 0.444770\n",
      "         Iterations: 35\n"
     ]
    },
    {
     "name": "stderr",
     "output_type": "stream",
     "text": [
      "C:\\Users\\reonh\\Anaconda3\\lib\\site-packages\\statsmodels\\base\\model.py:512: ConvergenceWarning: Maximum Likelihood optimization failed to converge. Check mle_retvals\n",
      "  \"Check mle_retvals\", ConvergenceWarning)\n"
     ]
    },
    {
     "data": {
      "text/html": [
       "<table class=\"simpletable\">\n",
       "<caption>Logit Regression Results</caption>\n",
       "<tr>\n",
       "  <th>Dep. Variable:</th>           <td>Y</td>        <th>  No. Observations:  </th>  <td> 17496</td> \n",
       "</tr>\n",
       "<tr>\n",
       "  <th>Model:</th>                 <td>Logit</td>      <th>  Df Residuals:      </th>  <td> 17450</td> \n",
       "</tr>\n",
       "<tr>\n",
       "  <th>Method:</th>                 <td>MLE</td>       <th>  Df Model:          </th>  <td>    45</td> \n",
       "</tr>\n",
       "<tr>\n",
       "  <th>Date:</th>            <td>Fri, 22 Nov 2019</td> <th>  Pseudo R-squ.:     </th>  <td>0.1784</td> \n",
       "</tr>\n",
       "<tr>\n",
       "  <th>Time:</th>                <td>00:13:23</td>     <th>  Log-Likelihood:    </th> <td> -7781.7</td>\n",
       "</tr>\n",
       "<tr>\n",
       "  <th>converged:</th>             <td>False</td>      <th>  LL-Null:           </th> <td> -9471.2</td>\n",
       "</tr>\n",
       "<tr>\n",
       "  <th>Covariance Type:</th>     <td>nonrobust</td>    <th>  LLR p-value:       </th>  <td> 0.000</td> \n",
       "</tr>\n",
       "</table>\n",
       "<table class=\"simpletable\">\n",
       "<tr>\n",
       "             <td></td>               <th>coef</th>     <th>std err</th>      <th>z</th>      <th>P>|z|</th>  <th>[0.025</th>    <th>0.975]</th>  \n",
       "</tr>\n",
       "<tr>\n",
       "  <th>LIMIT_BAL</th>              <td>   -0.8737</td> <td>    0.115</td> <td>   -7.605</td> <td> 0.000</td> <td>   -1.099</td> <td>   -0.649</td>\n",
       "</tr>\n",
       "<tr>\n",
       "  <th>SEX</th>                    <td>   -0.0964</td> <td>    0.041</td> <td>   -2.343</td> <td> 0.019</td> <td>   -0.177</td> <td>   -0.016</td>\n",
       "</tr>\n",
       "<tr>\n",
       "  <th>AGE</th>                    <td>    0.2097</td> <td>    0.100</td> <td>    2.095</td> <td> 0.036</td> <td>    0.013</td> <td>    0.406</td>\n",
       "</tr>\n",
       "<tr>\n",
       "  <th>PAY_0</th>                  <td>    0.6116</td> <td>    0.058</td> <td>   10.521</td> <td> 0.000</td> <td>    0.498</td> <td>    0.726</td>\n",
       "</tr>\n",
       "<tr>\n",
       "  <th>PAY_2</th>                  <td>   -0.5528</td> <td>    0.096</td> <td>   -5.763</td> <td> 0.000</td> <td>   -0.741</td> <td>   -0.365</td>\n",
       "</tr>\n",
       "<tr>\n",
       "  <th>PAY_3</th>                  <td>   -0.2063</td> <td>    0.124</td> <td>   -1.662</td> <td> 0.096</td> <td>   -0.450</td> <td>    0.037</td>\n",
       "</tr>\n",
       "<tr>\n",
       "  <th>PAY_4</th>                  <td>   -0.2327</td> <td>    0.160</td> <td>   -1.452</td> <td> 0.146</td> <td>   -0.547</td> <td>    0.081</td>\n",
       "</tr>\n",
       "<tr>\n",
       "  <th>PAY_5</th>                  <td>   -0.0302</td> <td>    0.181</td> <td>   -0.166</td> <td> 0.868</td> <td>   -0.385</td> <td>    0.325</td>\n",
       "</tr>\n",
       "<tr>\n",
       "  <th>PAY_6</th>                  <td>    0.4319</td> <td>    0.153</td> <td>    2.825</td> <td> 0.005</td> <td>    0.132</td> <td>    0.731</td>\n",
       "</tr>\n",
       "<tr>\n",
       "  <th>BILL_AMT1</th>              <td>   -1.9057</td> <td>    0.554</td> <td>   -3.442</td> <td> 0.001</td> <td>   -2.991</td> <td>   -0.821</td>\n",
       "</tr>\n",
       "<tr>\n",
       "  <th>BILL_AMT2</th>              <td>    1.1700</td> <td>    0.784</td> <td>    1.493</td> <td> 0.135</td> <td>   -0.366</td> <td>    2.706</td>\n",
       "</tr>\n",
       "<tr>\n",
       "  <th>BILL_AMT3</th>              <td>    1.9680</td> <td>    0.729</td> <td>    2.700</td> <td> 0.007</td> <td>    0.540</td> <td>    3.396</td>\n",
       "</tr>\n",
       "<tr>\n",
       "  <th>BILL_AMT4</th>              <td>   -0.4328</td> <td>    0.727</td> <td>   -0.595</td> <td> 0.552</td> <td>   -1.858</td> <td>    0.992</td>\n",
       "</tr>\n",
       "<tr>\n",
       "  <th>BILL_AMT5</th>              <td>   -0.3910</td> <td>    0.882</td> <td>   -0.443</td> <td> 0.658</td> <td>   -2.120</td> <td>    1.338</td>\n",
       "</tr>\n",
       "<tr>\n",
       "  <th>BILL_AMT6</th>              <td>    0.2306</td> <td>    0.800</td> <td>    0.288</td> <td> 0.773</td> <td>   -1.338</td> <td>    1.799</td>\n",
       "</tr>\n",
       "<tr>\n",
       "  <th>PAY_AMT1</th>               <td>   -1.2427</td> <td>    0.308</td> <td>   -4.041</td> <td> 0.000</td> <td>   -1.845</td> <td>   -0.640</td>\n",
       "</tr>\n",
       "<tr>\n",
       "  <th>PAY_AMT2</th>               <td>   -1.8767</td> <td>    0.389</td> <td>   -4.823</td> <td> 0.000</td> <td>   -2.639</td> <td>   -1.114</td>\n",
       "</tr>\n",
       "<tr>\n",
       "  <th>PAY_AMT3</th>               <td>   -0.4002</td> <td>    0.299</td> <td>   -1.339</td> <td> 0.181</td> <td>   -0.986</td> <td>    0.186</td>\n",
       "</tr>\n",
       "<tr>\n",
       "  <th>PAY_AMT4</th>               <td>   -0.5031</td> <td>    0.293</td> <td>   -1.715</td> <td> 0.086</td> <td>   -1.078</td> <td>    0.072</td>\n",
       "</tr>\n",
       "<tr>\n",
       "  <th>PAY_AMT5</th>               <td>   -0.7629</td> <td>    0.295</td> <td>   -2.589</td> <td> 0.010</td> <td>   -1.341</td> <td>   -0.185</td>\n",
       "</tr>\n",
       "<tr>\n",
       "  <th>PAY_AMT6</th>               <td>   -0.6658</td> <td>    0.266</td> <td>   -2.504</td> <td> 0.012</td> <td>   -1.187</td> <td>   -0.145</td>\n",
       "</tr>\n",
       "<tr>\n",
       "  <th>MISSING-EDU</th>            <td>  -14.2753</td> <td> 1898.465</td> <td>   -0.008</td> <td> 0.994</td> <td>-3735.198</td> <td> 3706.648</td>\n",
       "</tr>\n",
       "<tr>\n",
       "  <th>GRAD</th>                   <td>    1.3518</td> <td>    0.220</td> <td>    6.148</td> <td> 0.000</td> <td>    0.921</td> <td>    1.783</td>\n",
       "</tr>\n",
       "<tr>\n",
       "  <th>UNI</th>                    <td>    1.3056</td> <td>    0.219</td> <td>    5.971</td> <td> 0.000</td> <td>    0.877</td> <td>    1.734</td>\n",
       "</tr>\n",
       "<tr>\n",
       "  <th>HS</th>                     <td>    1.2342</td> <td>    0.223</td> <td>    5.547</td> <td> 0.000</td> <td>    0.798</td> <td>    1.670</td>\n",
       "</tr>\n",
       "<tr>\n",
       "  <th>MISSING-MS</th>             <td>  -30.7439</td> <td> 1.14e+06</td> <td> -2.7e-05</td> <td> 1.000</td> <td>-2.23e+06</td> <td> 2.23e+06</td>\n",
       "</tr>\n",
       "<tr>\n",
       "  <th>MARRIED</th>                <td>    0.0794</td> <td>    0.177</td> <td>    0.449</td> <td> 0.653</td> <td>   -0.267</td> <td>    0.426</td>\n",
       "</tr>\n",
       "<tr>\n",
       "  <th>SINGLE</th>                 <td>   -0.1024</td> <td>    0.177</td> <td>   -0.577</td> <td> 0.564</td> <td>   -0.450</td> <td>    0.245</td>\n",
       "</tr>\n",
       "<tr>\n",
       "  <th>PAY_0_No_Transactions</th>  <td>   -0.1746</td> <td>    0.123</td> <td>   -1.415</td> <td> 0.157</td> <td>   -0.416</td> <td>    0.067</td>\n",
       "</tr>\n",
       "<tr>\n",
       "  <th>PAY_0_Pay_Duly</th>         <td>    0.0483</td> <td>    0.120</td> <td>    0.402</td> <td> 0.688</td> <td>   -0.187</td> <td>    0.284</td>\n",
       "</tr>\n",
       "<tr>\n",
       "  <th>PAY_0_Revolving_Credit</th> <td>   -0.9702</td> <td>    0.135</td> <td>   -7.181</td> <td> 0.000</td> <td>   -1.235</td> <td>   -0.705</td>\n",
       "</tr>\n",
       "<tr>\n",
       "  <th>PAY_2_No_Transactions</th>  <td>   -1.4826</td> <td>    0.233</td> <td>   -6.359</td> <td> 0.000</td> <td>   -1.940</td> <td>   -1.026</td>\n",
       "</tr>\n",
       "<tr>\n",
       "  <th>PAY_2_Pay_Duly</th>         <td>   -1.3804</td> <td>    0.221</td> <td>   -6.244</td> <td> 0.000</td> <td>   -1.814</td> <td>   -0.947</td>\n",
       "</tr>\n",
       "<tr>\n",
       "  <th>PAY_2_Revolving_Credit</th> <td>   -0.7926</td> <td>    0.226</td> <td>   -3.514</td> <td> 0.000</td> <td>   -1.235</td> <td>   -0.350</td>\n",
       "</tr>\n",
       "<tr>\n",
       "  <th>PAY_3_No_Transactions</th>  <td>   -0.6881</td> <td>    0.297</td> <td>   -2.317</td> <td> 0.021</td> <td>   -1.270</td> <td>   -0.106</td>\n",
       "</tr>\n",
       "<tr>\n",
       "  <th>PAY_3_Pay_Duly</th>         <td>   -0.7811</td> <td>    0.272</td> <td>   -2.869</td> <td> 0.004</td> <td>   -1.315</td> <td>   -0.247</td>\n",
       "</tr>\n",
       "<tr>\n",
       "  <th>PAY_3_Revolving_Credit</th> <td>   -0.7137</td> <td>    0.261</td> <td>   -2.740</td> <td> 0.006</td> <td>   -1.224</td> <td>   -0.203</td>\n",
       "</tr>\n",
       "<tr>\n",
       "  <th>PAY_4_No_Transactions</th>  <td>   -0.9092</td> <td>    0.360</td> <td>   -2.529</td> <td> 0.011</td> <td>   -1.614</td> <td>   -0.205</td>\n",
       "</tr>\n",
       "<tr>\n",
       "  <th>PAY_4_Pay_Duly</th>         <td>   -0.9199</td> <td>    0.341</td> <td>   -2.699</td> <td> 0.007</td> <td>   -1.588</td> <td>   -0.252</td>\n",
       "</tr>\n",
       "<tr>\n",
       "  <th>PAY_4_Revolving_Credit</th> <td>   -0.8088</td> <td>    0.331</td> <td>   -2.442</td> <td> 0.015</td> <td>   -1.458</td> <td>   -0.160</td>\n",
       "</tr>\n",
       "<tr>\n",
       "  <th>PAY_5_No_Transactions</th>  <td>   -0.0741</td> <td>    0.401</td> <td>   -0.185</td> <td> 0.853</td> <td>   -0.860</td> <td>    0.711</td>\n",
       "</tr>\n",
       "<tr>\n",
       "  <th>PAY_5_Pay_Duly</th>         <td>   -0.2557</td> <td>    0.386</td> <td>   -0.663</td> <td> 0.507</td> <td>   -1.011</td> <td>    0.500</td>\n",
       "</tr>\n",
       "<tr>\n",
       "  <th>PAY_5_Revolving_Credit</th> <td>   -0.2701</td> <td>    0.376</td> <td>   -0.718</td> <td> 0.473</td> <td>   -1.008</td> <td>    0.467</td>\n",
       "</tr>\n",
       "<tr>\n",
       "  <th>PAY_6_No_Transactions</th>  <td>    0.6784</td> <td>    0.335</td> <td>    2.025</td> <td> 0.043</td> <td>    0.022</td> <td>    1.335</td>\n",
       "</tr>\n",
       "<tr>\n",
       "  <th>PAY_6_Pay_Duly</th>         <td>    0.7000</td> <td>    0.328</td> <td>    2.134</td> <td> 0.033</td> <td>    0.057</td> <td>    1.343</td>\n",
       "</tr>\n",
       "<tr>\n",
       "  <th>PAY_6_Revolving_Credit</th> <td>    0.5159</td> <td>    0.320</td> <td>    1.615</td> <td> 0.106</td> <td>   -0.110</td> <td>    1.142</td>\n",
       "</tr>\n",
       "</table>"
      ],
      "text/plain": [
       "<class 'statsmodels.iolib.summary.Summary'>\n",
       "\"\"\"\n",
       "                           Logit Regression Results                           \n",
       "==============================================================================\n",
       "Dep. Variable:                      Y   No. Observations:                17496\n",
       "Model:                          Logit   Df Residuals:                    17450\n",
       "Method:                           MLE   Df Model:                           45\n",
       "Date:                Fri, 22 Nov 2019   Pseudo R-squ.:                  0.1784\n",
       "Time:                        00:13:23   Log-Likelihood:                -7781.7\n",
       "converged:                      False   LL-Null:                       -9471.2\n",
       "Covariance Type:            nonrobust   LLR p-value:                     0.000\n",
       "==========================================================================================\n",
       "                             coef    std err          z      P>|z|      [0.025      0.975]\n",
       "------------------------------------------------------------------------------------------\n",
       "LIMIT_BAL                 -0.8737      0.115     -7.605      0.000      -1.099      -0.649\n",
       "SEX                       -0.0964      0.041     -2.343      0.019      -0.177      -0.016\n",
       "AGE                        0.2097      0.100      2.095      0.036       0.013       0.406\n",
       "PAY_0                      0.6116      0.058     10.521      0.000       0.498       0.726\n",
       "PAY_2                     -0.5528      0.096     -5.763      0.000      -0.741      -0.365\n",
       "PAY_3                     -0.2063      0.124     -1.662      0.096      -0.450       0.037\n",
       "PAY_4                     -0.2327      0.160     -1.452      0.146      -0.547       0.081\n",
       "PAY_5                     -0.0302      0.181     -0.166      0.868      -0.385       0.325\n",
       "PAY_6                      0.4319      0.153      2.825      0.005       0.132       0.731\n",
       "BILL_AMT1                 -1.9057      0.554     -3.442      0.001      -2.991      -0.821\n",
       "BILL_AMT2                  1.1700      0.784      1.493      0.135      -0.366       2.706\n",
       "BILL_AMT3                  1.9680      0.729      2.700      0.007       0.540       3.396\n",
       "BILL_AMT4                 -0.4328      0.727     -0.595      0.552      -1.858       0.992\n",
       "BILL_AMT5                 -0.3910      0.882     -0.443      0.658      -2.120       1.338\n",
       "BILL_AMT6                  0.2306      0.800      0.288      0.773      -1.338       1.799\n",
       "PAY_AMT1                  -1.2427      0.308     -4.041      0.000      -1.845      -0.640\n",
       "PAY_AMT2                  -1.8767      0.389     -4.823      0.000      -2.639      -1.114\n",
       "PAY_AMT3                  -0.4002      0.299     -1.339      0.181      -0.986       0.186\n",
       "PAY_AMT4                  -0.5031      0.293     -1.715      0.086      -1.078       0.072\n",
       "PAY_AMT5                  -0.7629      0.295     -2.589      0.010      -1.341      -0.185\n",
       "PAY_AMT6                  -0.6658      0.266     -2.504      0.012      -1.187      -0.145\n",
       "MISSING-EDU              -14.2753   1898.465     -0.008      0.994   -3735.198    3706.648\n",
       "GRAD                       1.3518      0.220      6.148      0.000       0.921       1.783\n",
       "UNI                        1.3056      0.219      5.971      0.000       0.877       1.734\n",
       "HS                         1.2342      0.223      5.547      0.000       0.798       1.670\n",
       "MISSING-MS               -30.7439   1.14e+06   -2.7e-05      1.000   -2.23e+06    2.23e+06\n",
       "MARRIED                    0.0794      0.177      0.449      0.653      -0.267       0.426\n",
       "SINGLE                    -0.1024      0.177     -0.577      0.564      -0.450       0.245\n",
       "PAY_0_No_Transactions     -0.1746      0.123     -1.415      0.157      -0.416       0.067\n",
       "PAY_0_Pay_Duly             0.0483      0.120      0.402      0.688      -0.187       0.284\n",
       "PAY_0_Revolving_Credit    -0.9702      0.135     -7.181      0.000      -1.235      -0.705\n",
       "PAY_2_No_Transactions     -1.4826      0.233     -6.359      0.000      -1.940      -1.026\n",
       "PAY_2_Pay_Duly            -1.3804      0.221     -6.244      0.000      -1.814      -0.947\n",
       "PAY_2_Revolving_Credit    -0.7926      0.226     -3.514      0.000      -1.235      -0.350\n",
       "PAY_3_No_Transactions     -0.6881      0.297     -2.317      0.021      -1.270      -0.106\n",
       "PAY_3_Pay_Duly            -0.7811      0.272     -2.869      0.004      -1.315      -0.247\n",
       "PAY_3_Revolving_Credit    -0.7137      0.261     -2.740      0.006      -1.224      -0.203\n",
       "PAY_4_No_Transactions     -0.9092      0.360     -2.529      0.011      -1.614      -0.205\n",
       "PAY_4_Pay_Duly            -0.9199      0.341     -2.699      0.007      -1.588      -0.252\n",
       "PAY_4_Revolving_Credit    -0.8088      0.331     -2.442      0.015      -1.458      -0.160\n",
       "PAY_5_No_Transactions     -0.0741      0.401     -0.185      0.853      -0.860       0.711\n",
       "PAY_5_Pay_Duly            -0.2557      0.386     -0.663      0.507      -1.011       0.500\n",
       "PAY_5_Revolving_Credit    -0.2701      0.376     -0.718      0.473      -1.008       0.467\n",
       "PAY_6_No_Transactions      0.6784      0.335      2.025      0.043       0.022       1.335\n",
       "PAY_6_Pay_Duly             0.7000      0.328      2.134      0.033       0.057       1.343\n",
       "PAY_6_Revolving_Credit     0.5159      0.320      1.615      0.106      -0.110       1.142\n",
       "==========================================================================================\n",
       "\"\"\""
      ]
     },
     "execution_count": 62,
     "metadata": {},
     "output_type": "execute_result"
    }
   ],
   "source": [
    "glm = sm.Logit(y_train,X_train).fit()\n",
    "glm.summary()"
   ]
  },
  {
   "cell_type": "code",
   "execution_count": 64,
   "metadata": {},
   "outputs": [
    {
     "name": "stdout",
     "output_type": "stream",
     "text": [
      "              precision    recall  f1-score   support\n",
      "\n",
      "           0       0.83      0.95      0.88     13442\n",
      "           1       0.67      0.36      0.47      4054\n",
      "\n",
      "    accuracy                           0.81     17496\n",
      "   macro avg       0.75      0.65      0.68     17496\n",
      "weighted avg       0.79      0.81      0.79     17496\n",
      "\n"
     ]
    }
   ],
   "source": [
    "print(classification_report(y_train,list(glm.predict(X_train)>0.5)))"
   ]
  },
  {
   "cell_type": "markdown",
   "metadata": {},
   "source": [
    "The logisitc model with all features performs average on both the train and test set with an accuracy of about 0.8 but recall and f1 are still below 0.5. We will now try removing all the insignificant features to see how that affects the model performance."
   ]
  },
  {
   "cell_type": "code",
   "execution_count": 65,
   "metadata": {},
   "outputs": [
    {
     "name": "stdout",
     "output_type": "stream",
     "text": [
      "Warning: Maximum number of iterations has been exceeded.\n",
      "         Current function value: 0.444770\n",
      "         Iterations: 35\n"
     ]
    },
    {
     "name": "stderr",
     "output_type": "stream",
     "text": [
      "C:\\Users\\reonh\\Anaconda3\\lib\\site-packages\\statsmodels\\base\\model.py:512: ConvergenceWarning: Maximum Likelihood optimization failed to converge. Check mle_retvals\n",
      "  \"Check mle_retvals\", ConvergenceWarning)\n"
     ]
    },
    {
     "name": "stdout",
     "output_type": "stream",
     "text": [
      "Warning: Maximum number of iterations has been exceeded.\n",
      "         Current function value: 0.445360\n",
      "         Iterations: 35\n",
      "Optimization terminated successfully.\n",
      "         Current function value: 0.445386\n",
      "         Iterations 7\n",
      "Optimization terminated successfully.\n",
      "         Current function value: 0.445386\n",
      "         Iterations 7\n",
      "Optimization terminated successfully.\n",
      "         Current function value: 0.445387\n",
      "         Iterations 7\n"
     ]
    },
    {
     "name": "stderr",
     "output_type": "stream",
     "text": [
      "C:\\Users\\reonh\\Anaconda3\\lib\\site-packages\\statsmodels\\base\\model.py:512: ConvergenceWarning: Maximum Likelihood optimization failed to converge. Check mle_retvals\n",
      "  \"Check mle_retvals\", ConvergenceWarning)\n"
     ]
    },
    {
     "name": "stdout",
     "output_type": "stream",
     "text": [
      "Optimization terminated successfully.\n",
      "         Current function value: 0.445388\n",
      "         Iterations 7\n",
      "Optimization terminated successfully.\n",
      "         Current function value: 0.445392\n",
      "         Iterations 7\n",
      "Optimization terminated successfully.\n",
      "         Current function value: 0.445397\n",
      "         Iterations 7\n",
      "Optimization terminated successfully.\n",
      "         Current function value: 0.445410\n",
      "         Iterations 7\n",
      "Optimization terminated successfully.\n",
      "         Current function value: 0.445455\n",
      "         Iterations 7\n",
      "Optimization terminated successfully.\n",
      "         Current function value: 0.445512\n",
      "         Iterations 7\n",
      "Optimization terminated successfully.\n",
      "         Current function value: 0.445596\n",
      "         Iterations 7\n",
      "Optimization terminated successfully.\n",
      "         Current function value: 0.445680\n",
      "         Iterations 7\n",
      "Optimization terminated successfully.\n",
      "         Current function value: 0.445770\n",
      "         Iterations 7\n",
      "Optimization terminated successfully.\n",
      "         Current function value: 0.445853\n",
      "         Iterations 7\n",
      "Optimization terminated successfully.\n",
      "         Current function value: 0.445877\n",
      "         Iterations 7\n",
      "Optimization terminated successfully.\n",
      "         Current function value: 0.445963\n",
      "         Iterations 7\n",
      "Optimization terminated successfully.\n",
      "         Current function value: 0.446090\n",
      "         Iterations 7\n",
      "Optimization terminated successfully.\n",
      "         Current function value: 0.446288\n",
      "         Iterations 7\n"
     ]
    },
    {
     "data": {
      "text/html": [
       "<table class=\"simpletable\">\n",
       "<caption>Logit Regression Results</caption>\n",
       "<tr>\n",
       "  <th>Dep. Variable:</th>           <td>Y</td>        <th>  No. Observations:  </th>  <td> 17496</td> \n",
       "</tr>\n",
       "<tr>\n",
       "  <th>Model:</th>                 <td>Logit</td>      <th>  Df Residuals:      </th>  <td> 17468</td> \n",
       "</tr>\n",
       "<tr>\n",
       "  <th>Method:</th>                 <td>MLE</td>       <th>  Df Model:          </th>  <td>    27</td> \n",
       "</tr>\n",
       "<tr>\n",
       "  <th>Date:</th>            <td>Fri, 22 Nov 2019</td> <th>  Pseudo R-squ.:     </th>  <td>0.1756</td> \n",
       "</tr>\n",
       "<tr>\n",
       "  <th>Time:</th>                <td>00:14:16</td>     <th>  Log-Likelihood:    </th> <td> -7808.3</td>\n",
       "</tr>\n",
       "<tr>\n",
       "  <th>converged:</th>             <td>True</td>       <th>  LL-Null:           </th> <td> -9471.2</td>\n",
       "</tr>\n",
       "<tr>\n",
       "  <th>Covariance Type:</th>     <td>nonrobust</td>    <th>  LLR p-value:       </th>  <td> 0.000</td> \n",
       "</tr>\n",
       "</table>\n",
       "<table class=\"simpletable\">\n",
       "<tr>\n",
       "             <td></td>               <th>coef</th>     <th>std err</th>      <th>z</th>      <th>P>|z|</th>  <th>[0.025</th>    <th>0.975]</th>  \n",
       "</tr>\n",
       "<tr>\n",
       "  <th>LIMIT_BAL</th>              <td>   -0.8984</td> <td>    0.113</td> <td>   -7.922</td> <td> 0.000</td> <td>   -1.121</td> <td>   -0.676</td>\n",
       "</tr>\n",
       "<tr>\n",
       "  <th>SEX</th>                    <td>   -0.1153</td> <td>    0.041</td> <td>   -2.847</td> <td> 0.004</td> <td>   -0.195</td> <td>   -0.036</td>\n",
       "</tr>\n",
       "<tr>\n",
       "  <th>PAY_0</th>                  <td>    0.6189</td> <td>    0.037</td> <td>   16.520</td> <td> 0.000</td> <td>    0.545</td> <td>    0.692</td>\n",
       "</tr>\n",
       "<tr>\n",
       "  <th>PAY_2</th>                  <td>   -0.5692</td> <td>    0.088</td> <td>   -6.463</td> <td> 0.000</td> <td>   -0.742</td> <td>   -0.397</td>\n",
       "</tr>\n",
       "<tr>\n",
       "  <th>PAY_3</th>                  <td>   -0.2710</td> <td>    0.082</td> <td>   -3.313</td> <td> 0.001</td> <td>   -0.431</td> <td>   -0.111</td>\n",
       "</tr>\n",
       "<tr>\n",
       "  <th>PAY_6</th>                  <td>    0.2151</td> <td>    0.031</td> <td>    6.899</td> <td> 0.000</td> <td>    0.154</td> <td>    0.276</td>\n",
       "</tr>\n",
       "<tr>\n",
       "  <th>BILL_AMT1</th>              <td>   -1.3934</td> <td>    0.368</td> <td>   -3.784</td> <td> 0.000</td> <td>   -2.115</td> <td>   -0.672</td>\n",
       "</tr>\n",
       "<tr>\n",
       "  <th>BILL_AMT3</th>              <td>    2.0154</td> <td>    0.435</td> <td>    4.638</td> <td> 0.000</td> <td>    1.164</td> <td>    2.867</td>\n",
       "</tr>\n",
       "<tr>\n",
       "  <th>PAY_AMT1</th>               <td>   -1.2565</td> <td>    0.287</td> <td>   -4.371</td> <td> 0.000</td> <td>   -1.820</td> <td>   -0.693</td>\n",
       "</tr>\n",
       "<tr>\n",
       "  <th>PAY_AMT2</th>               <td>   -2.1865</td> <td>    0.376</td> <td>   -5.816</td> <td> 0.000</td> <td>   -2.923</td> <td>   -1.450</td>\n",
       "</tr>\n",
       "<tr>\n",
       "  <th>PAY_AMT5</th>               <td>   -0.8702</td> <td>    0.265</td> <td>   -3.279</td> <td> 0.001</td> <td>   -1.390</td> <td>   -0.350</td>\n",
       "</tr>\n",
       "<tr>\n",
       "  <th>PAY_AMT6</th>               <td>   -0.7982</td> <td>    0.266</td> <td>   -3.000</td> <td> 0.003</td> <td>   -1.320</td> <td>   -0.277</td>\n",
       "</tr>\n",
       "<tr>\n",
       "  <th>GRAD</th>                   <td>    1.3465</td> <td>    0.175</td> <td>    7.687</td> <td> 0.000</td> <td>    1.003</td> <td>    1.690</td>\n",
       "</tr>\n",
       "<tr>\n",
       "  <th>UNI</th>                    <td>    1.2982</td> <td>    0.174</td> <td>    7.462</td> <td> 0.000</td> <td>    0.957</td> <td>    1.639</td>\n",
       "</tr>\n",
       "<tr>\n",
       "  <th>HS</th>                     <td>    1.2384</td> <td>    0.178</td> <td>    6.960</td> <td> 0.000</td> <td>    0.890</td> <td>    1.587</td>\n",
       "</tr>\n",
       "<tr>\n",
       "  <th>MARRIED</th>                <td>    0.2359</td> <td>    0.042</td> <td>    5.643</td> <td> 0.000</td> <td>    0.154</td> <td>    0.318</td>\n",
       "</tr>\n",
       "<tr>\n",
       "  <th>PAY_0_Revolving_Credit</th> <td>   -0.9811</td> <td>    0.093</td> <td>  -10.583</td> <td> 0.000</td> <td>   -1.163</td> <td>   -0.799</td>\n",
       "</tr>\n",
       "<tr>\n",
       "  <th>PAY_2_No_Transactions</th>  <td>   -1.5901</td> <td>    0.220</td> <td>   -7.230</td> <td> 0.000</td> <td>   -2.021</td> <td>   -1.159</td>\n",
       "</tr>\n",
       "<tr>\n",
       "  <th>PAY_2_Pay_Duly</th>         <td>   -1.4026</td> <td>    0.200</td> <td>   -7.010</td> <td> 0.000</td> <td>   -1.795</td> <td>   -1.010</td>\n",
       "</tr>\n",
       "<tr>\n",
       "  <th>PAY_2_Revolving_Credit</th> <td>   -0.8163</td> <td>    0.202</td> <td>   -4.051</td> <td> 0.000</td> <td>   -1.211</td> <td>   -0.421</td>\n",
       "</tr>\n",
       "<tr>\n",
       "  <th>PAY_3_No_Transactions</th>  <td>   -0.8432</td> <td>    0.228</td> <td>   -3.701</td> <td> 0.000</td> <td>   -1.290</td> <td>   -0.397</td>\n",
       "</tr>\n",
       "<tr>\n",
       "  <th>PAY_3_Pay_Duly</th>         <td>   -0.8926</td> <td>    0.196</td> <td>   -4.566</td> <td> 0.000</td> <td>   -1.276</td> <td>   -0.509</td>\n",
       "</tr>\n",
       "<tr>\n",
       "  <th>PAY_3_Revolving_Credit</th> <td>   -0.8227</td> <td>    0.179</td> <td>   -4.586</td> <td> 0.000</td> <td>   -1.174</td> <td>   -0.471</td>\n",
       "</tr>\n",
       "<tr>\n",
       "  <th>PAY_4_No_Transactions</th>  <td>   -0.4537</td> <td>    0.143</td> <td>   -3.172</td> <td> 0.002</td> <td>   -0.734</td> <td>   -0.173</td>\n",
       "</tr>\n",
       "<tr>\n",
       "  <th>PAY_4_Pay_Duly</th>         <td>   -0.5711</td> <td>    0.107</td> <td>   -5.328</td> <td> 0.000</td> <td>   -0.781</td> <td>   -0.361</td>\n",
       "</tr>\n",
       "<tr>\n",
       "  <th>PAY_4_Revolving_Credit</th> <td>   -0.4353</td> <td>    0.075</td> <td>   -5.806</td> <td> 0.000</td> <td>   -0.582</td> <td>   -0.288</td>\n",
       "</tr>\n",
       "<tr>\n",
       "  <th>PAY_6_No_Transactions</th>  <td>    0.3028</td> <td>    0.089</td> <td>    3.399</td> <td> 0.001</td> <td>    0.128</td> <td>    0.477</td>\n",
       "</tr>\n",
       "<tr>\n",
       "  <th>PAY_6_Pay_Duly</th>         <td>    0.2489</td> <td>    0.078</td> <td>    3.197</td> <td> 0.001</td> <td>    0.096</td> <td>    0.402</td>\n",
       "</tr>\n",
       "</table>"
      ],
      "text/plain": [
       "<class 'statsmodels.iolib.summary.Summary'>\n",
       "\"\"\"\n",
       "                           Logit Regression Results                           \n",
       "==============================================================================\n",
       "Dep. Variable:                      Y   No. Observations:                17496\n",
       "Model:                          Logit   Df Residuals:                    17468\n",
       "Method:                           MLE   Df Model:                           27\n",
       "Date:                Fri, 22 Nov 2019   Pseudo R-squ.:                  0.1756\n",
       "Time:                        00:14:16   Log-Likelihood:                -7808.3\n",
       "converged:                       True   LL-Null:                       -9471.2\n",
       "Covariance Type:            nonrobust   LLR p-value:                     0.000\n",
       "==========================================================================================\n",
       "                             coef    std err          z      P>|z|      [0.025      0.975]\n",
       "------------------------------------------------------------------------------------------\n",
       "LIMIT_BAL                 -0.8984      0.113     -7.922      0.000      -1.121      -0.676\n",
       "SEX                       -0.1153      0.041     -2.847      0.004      -0.195      -0.036\n",
       "PAY_0                      0.6189      0.037     16.520      0.000       0.545       0.692\n",
       "PAY_2                     -0.5692      0.088     -6.463      0.000      -0.742      -0.397\n",
       "PAY_3                     -0.2710      0.082     -3.313      0.001      -0.431      -0.111\n",
       "PAY_6                      0.2151      0.031      6.899      0.000       0.154       0.276\n",
       "BILL_AMT1                 -1.3934      0.368     -3.784      0.000      -2.115      -0.672\n",
       "BILL_AMT3                  2.0154      0.435      4.638      0.000       1.164       2.867\n",
       "PAY_AMT1                  -1.2565      0.287     -4.371      0.000      -1.820      -0.693\n",
       "PAY_AMT2                  -2.1865      0.376     -5.816      0.000      -2.923      -1.450\n",
       "PAY_AMT5                  -0.8702      0.265     -3.279      0.001      -1.390      -0.350\n",
       "PAY_AMT6                  -0.7982      0.266     -3.000      0.003      -1.320      -0.277\n",
       "GRAD                       1.3465      0.175      7.687      0.000       1.003       1.690\n",
       "UNI                        1.2982      0.174      7.462      0.000       0.957       1.639\n",
       "HS                         1.2384      0.178      6.960      0.000       0.890       1.587\n",
       "MARRIED                    0.2359      0.042      5.643      0.000       0.154       0.318\n",
       "PAY_0_Revolving_Credit    -0.9811      0.093    -10.583      0.000      -1.163      -0.799\n",
       "PAY_2_No_Transactions     -1.5901      0.220     -7.230      0.000      -2.021      -1.159\n",
       "PAY_2_Pay_Duly            -1.4026      0.200     -7.010      0.000      -1.795      -1.010\n",
       "PAY_2_Revolving_Credit    -0.8163      0.202     -4.051      0.000      -1.211      -0.421\n",
       "PAY_3_No_Transactions     -0.8432      0.228     -3.701      0.000      -1.290      -0.397\n",
       "PAY_3_Pay_Duly            -0.8926      0.196     -4.566      0.000      -1.276      -0.509\n",
       "PAY_3_Revolving_Credit    -0.8227      0.179     -4.586      0.000      -1.174      -0.471\n",
       "PAY_4_No_Transactions     -0.4537      0.143     -3.172      0.002      -0.734      -0.173\n",
       "PAY_4_Pay_Duly            -0.5711      0.107     -5.328      0.000      -0.781      -0.361\n",
       "PAY_4_Revolving_Credit    -0.4353      0.075     -5.806      0.000      -0.582      -0.288\n",
       "PAY_6_No_Transactions      0.3028      0.089      3.399      0.001       0.128       0.477\n",
       "PAY_6_Pay_Duly             0.2489      0.078      3.197      0.001       0.096       0.402\n",
       "==========================================================================================\n",
       "\"\"\""
      ]
     },
     "execution_count": 65,
     "metadata": {},
     "output_type": "execute_result"
    }
   ],
   "source": [
    "#remove the most insignificant attribute, and retrain\n",
    "train_log =  X_train.copy()\n",
    "glm = sm.Logit(y_train,train_log).fit()\n",
    "while max(glm.pvalues) > 0.01:\n",
    "    least =  glm.pvalues[glm.pvalues == max(glm.pvalues)].index[0]\n",
    "    train_log = train_log.drop(least,axis = 1)\n",
    "    glm = sm.Logit(y_train,train_log).fit()\n",
    "glm.summary()   "
   ]
  },
  {
   "cell_type": "code",
   "execution_count": 66,
   "metadata": {},
   "outputs": [
    {
     "name": "stdout",
     "output_type": "stream",
     "text": [
      "28 Columns left:\n",
      "Index(['LIMIT_BAL', 'SEX', 'PAY_0', 'PAY_2', 'PAY_3', 'PAY_6', 'BILL_AMT1',\n",
      "       'BILL_AMT3', 'PAY_AMT1', 'PAY_AMT2', 'PAY_AMT5', 'PAY_AMT6', 'GRAD',\n",
      "       'UNI', 'HS', 'MARRIED', 'PAY_0_Revolving_Credit',\n",
      "       'PAY_2_No_Transactions', 'PAY_2_Pay_Duly', 'PAY_2_Revolving_Credit',\n",
      "       'PAY_3_No_Transactions', 'PAY_3_Pay_Duly', 'PAY_3_Revolving_Credit',\n",
      "       'PAY_4_No_Transactions', 'PAY_4_Pay_Duly', 'PAY_4_Revolving_Credit',\n",
      "       'PAY_6_No_Transactions', 'PAY_6_Pay_Duly'],\n",
      "      dtype='object')\n"
     ]
    }
   ],
   "source": [
    "count = len(glm.pvalues.index)\n",
    "print(str(count) + \" Columns left:\")\n",
    "print(glm.pvalues.index)"
   ]
  },
  {
   "cell_type": "code",
   "execution_count": 67,
   "metadata": {},
   "outputs": [
    {
     "name": "stdout",
     "output_type": "stream",
     "text": [
      "              precision    recall  f1-score   support\n",
      "\n",
      "           0       0.83      0.95      0.89      6762\n",
      "           1       0.68      0.36      0.47      1987\n",
      "\n",
      "    accuracy                           0.82      8749\n",
      "   macro avg       0.76      0.65      0.68      8749\n",
      "weighted avg       0.80      0.82      0.79      8749\n",
      "\n"
     ]
    }
   ],
   "source": [
    "print(classification_report(y_test,list(glm.predict(X_test[glm.pvalues.index])>0.5)))"
   ]
  },
  {
   "cell_type": "markdown",
   "metadata": {},
   "source": [
    "Since there is not much change to the model performance on both the train and test set when we reduce the features, we will use the reduced logistic regression model from this point onwards (Principle of Parsimony). \n",
    "\n",
    "We now Calculate the AUROC for the train set."
   ]
  },
  {
   "cell_type": "code",
   "execution_count": 68,
   "metadata": {},
   "outputs": [
    {
     "name": "stdout",
     "output_type": "stream",
     "text": [
      "Optimal Threshold: 0.21650864211883647\n"
     ]
    },
    {
     "data": {
      "image/png": "[encoded data removed]",
      "text/plain": [
       "<Figure size 432x288 with 1 Axes>"
      ]
     },
     "metadata": {
      "needs_background": "light"
     },
     "output_type": "display_data"
    },
    {
     "name": "stdout",
     "output_type": "stream",
     "text": [
      "              precision    recall  f1-score   support\n",
      "\n",
      "           0       0.88      0.78      0.83      6762\n",
      "           1       0.46      0.62      0.53      1987\n",
      "\n",
      "    accuracy                           0.75      8749\n",
      "   macro avg       0.67      0.70      0.68      8749\n",
      "weighted avg       0.78      0.75      0.76      8749\n",
      "\n"
     ]
    }
   ],
   "source": [
    "optimal_log = get_optimal(glm, y_train, X_train[glm.pvalues.index], \"Logistic Regression\")\n",
    "get_roc(glm, y_train, X_train[glm.pvalues.index], \"Logistic Regression\")\n",
    "print(classification_report(y_test,list(glm.predict(X_test[glm.pvalues.index])> optimal_log)))"
   ]
  },
  {
   "cell_type": "markdown",
   "metadata": {},
   "source": [
    "Since the optimal cut off was found to be ~0.22 using the training data, we used that as our cut off for our evaluation of the test set."
   ]
  },
  {
   "cell_type": "markdown",
   "metadata": {},
   "source": [
    "Unfortunately, the training accuracy has gone down when we used the optimal cutoff. However, accuracy may be misleading in a dataset like ours where most of the targets are non-defaults. \n",
    "\n",
    "The recall here is more important - detecting defaulters is more useful than detecting non-defaulters. With a higher recall, our model with lower cutoff is able to correctly catch more defaulters. We note that this increase in recall is greater than the increase in F-1.\n",
    "\n",
    "\n",
    "Calculate the confusion matrices for both cut offs to better compare their performance."
   ]
  },
  {
   "cell_type": "code",
   "execution_count": 70,
   "metadata": {},
   "outputs": [
    {
     "name": "stdout",
     "output_type": "stream",
     "text": [
      "Of 1987 Defaulters, the Logistic Regression identified 1235\n"
     ]
    },
    {
     "data": {
      "text/html": [
       "<div>\n",
       "<style scoped>\n",
       "    .dataframe tbody tr th:only-of-type {\n",
       "        vertical-align: middle;\n",
       "    }\n",
       "\n",
       "    .dataframe tbody tr th {\n",
       "        vertical-align: top;\n",
       "    }\n",
       "\n",
       "    .dataframe thead th {\n",
       "        text-align: right;\n",
       "    }\n",
       "</style>\n",
       "<table border=\"1\" class=\"dataframe\">\n",
       "  <thead>\n",
       "    <tr style=\"text-align: right;\">\n",
       "      <th>Predicted</th>\n",
       "      <th>False</th>\n",
       "      <th>True</th>\n",
       "    </tr>\n",
       "    <tr>\n",
       "      <th>Actual</th>\n",
       "      <th></th>\n",
       "      <th></th>\n",
       "    </tr>\n",
       "  </thead>\n",
       "  <tbody>\n",
       "    <tr>\n",
       "      <td>0</td>\n",
       "      <td>5303</td>\n",
       "      <td>1459</td>\n",
       "    </tr>\n",
       "    <tr>\n",
       "      <td>1</td>\n",
       "      <td>752</td>\n",
       "      <td>1235</td>\n",
       "    </tr>\n",
       "  </tbody>\n",
       "</table>\n",
       "</div>"
      ],
      "text/plain": [
       "Predicted  False  True \n",
       "Actual                 \n",
       "0           5303   1459\n",
       "1            752   1235"
      ]
     },
     "execution_count": 70,
     "metadata": {},
     "output_type": "execute_result"
    }
   ],
   "source": [
    "confusion(y_test,glm.predict(X_test[glm.pvalues.index])>optimal_log, \"Logistic Regression\")"
   ]
  },
  {
   "cell_type": "code",
   "execution_count": 71,
   "metadata": {},
   "outputs": [
    {
     "name": "stdout",
     "output_type": "stream",
     "text": [
      "Of 1987 Defaulters, the Logistic Regression identified 715\n"
     ]
    },
    {
     "data": {
      "text/html": [
       "<div>\n",
       "<style scoped>\n",
       "    .dataframe tbody tr th:only-of-type {\n",
       "        vertical-align: middle;\n",
       "    }\n",
       "\n",
       "    .dataframe tbody tr th {\n",
       "        vertical-align: top;\n",
       "    }\n",
       "\n",
       "    .dataframe thead th {\n",
       "        text-align: right;\n",
       "    }\n",
       "</style>\n",
       "<table border=\"1\" class=\"dataframe\">\n",
       "  <thead>\n",
       "    <tr style=\"text-align: right;\">\n",
       "      <th>Predicted</th>\n",
       "      <th>False</th>\n",
       "      <th>True</th>\n",
       "    </tr>\n",
       "    <tr>\n",
       "      <th>Actual</th>\n",
       "      <th></th>\n",
       "      <th></th>\n",
       "    </tr>\n",
       "  </thead>\n",
       "  <tbody>\n",
       "    <tr>\n",
       "      <td>0</td>\n",
       "      <td>6421</td>\n",
       "      <td>341</td>\n",
       "    </tr>\n",
       "    <tr>\n",
       "      <td>1</td>\n",
       "      <td>1272</td>\n",
       "      <td>715</td>\n",
       "    </tr>\n",
       "  </tbody>\n",
       "</table>\n",
       "</div>"
      ],
      "text/plain": [
       "Predicted  False  True \n",
       "Actual                 \n",
       "0           6421    341\n",
       "1           1272    715"
      ]
     },
     "execution_count": 71,
     "metadata": {},
     "output_type": "execute_result"
    }
   ],
   "source": [
    "confusion(y_test,glm.predict(X_test[glm.pvalues.index])>0.50, \"Logistic Regression\")"
   ]
  },
  {
   "cell_type": "markdown",
   "metadata": {},
   "source": [
    "It is evident that the lower cutoff is better able to detect defaults. "
   ]
  },
  {
   "cell_type": "code",
   "execution_count": 72,
   "metadata": {},
   "outputs": [
    {
     "name": "stdout",
     "output_type": "stream",
     "text": [
      "Optimal Threshold: 0.24907536768337235\n"
     ]
    },
    {
     "data": {
      "image/png": "[encoded data removed]",
      "text/plain": [
       "<Figure size 432x288 with 1 Axes>"
      ]
     },
     "metadata": {
      "needs_background": "light"
     },
     "output_type": "display_data"
    }
   ],
   "source": [
    "auroc = get_roc(glm, y_test, X_test[glm.pvalues.index], \"Logistic Regression\")"
   ]
  },
  {
   "cell_type": "code",
   "execution_count": 75,
   "metadata": {},
   "outputs": [],
   "source": [
    "evaluation.loc[1] = [\"Logistic Regression (Optimal Cutoff)\" , \n",
    "                     classification_report(y_test,list(glm.predict(X_test[glm.pvalues.index])>optimal_log), output_dict = True)[\"1\"][\"f1-score\"],\n",
    "                     auroc]"
   ]
  },
  {
   "cell_type": "code",
   "execution_count": 76,
   "metadata": {},
   "outputs": [
    {
     "data": {
      "text/html": [
       "<div>\n",
       "<style scoped>\n",
       "    .dataframe tbody tr th:only-of-type {\n",
       "        vertical-align: middle;\n",
       "    }\n",
       "\n",
       "    .dataframe tbody tr th {\n",
       "        vertical-align: top;\n",
       "    }\n",
       "\n",
       "    .dataframe thead th {\n",
       "        text-align: right;\n",
       "    }\n",
       "</style>\n",
       "<table border=\"1\" class=\"dataframe\">\n",
       "  <thead>\n",
       "    <tr style=\"text-align: right;\">\n",
       "      <th></th>\n",
       "      <th>Model</th>\n",
       "      <th>F1-1</th>\n",
       "      <th>AUROC</th>\n",
       "    </tr>\n",
       "  </thead>\n",
       "  <tbody>\n",
       "    <tr>\n",
       "      <td>0</td>\n",
       "      <td>Decision Trees - Random Forest</td>\n",
       "      <td>0.461339</td>\n",
       "      <td>0.768458</td>\n",
       "    </tr>\n",
       "    <tr>\n",
       "      <td>1</td>\n",
       "      <td>Logistic Regression (Optimal Cutoff)</td>\n",
       "      <td>0.527665</td>\n",
       "      <td>0.765244</td>\n",
       "    </tr>\n",
       "  </tbody>\n",
       "</table>\n",
       "</div>"
      ],
      "text/plain": [
       "                                  Model      F1-1     AUROC\n",
       "0        Decision Trees - Random Forest  0.461339  0.768458\n",
       "1  Logistic Regression (Optimal Cutoff)  0.527665  0.765244"
      ]
     },
     "execution_count": 76,
     "metadata": {},
     "output_type": "execute_result"
    }
   ],
   "source": [
    "evaluation"
   ]
  },
  {
   "cell_type": "markdown",
   "metadata": {
    "colab_type": "text",
    "id": "iCxBcin11EI8"
   },
   "source": [
    "### Support Vector Machine\n",
    "#### Theory\n",
    "Support vector machines attempt to find an optimal hyperplane that is able to separate the two classes in n-dimensional space. This is done by finding the hyperplane that maximises the distance between itself and support vectors (data points that lie closest to the decision boundary).\n",
    "\n",
    "<img src=\"https://upload.wikimedia.org/wikipedia/commons/thumb/7/72/SVM_margin.png/617px-SVM_margin.png\" width=\"340\" height=\"340\" align=\"center\"/> \n",
    "\n",
    "Given a training dataset of form (X,Y), where X is a vector of attributes of the sample, and where Y are either 1 or -1, each indicating the class to which the point X belongs. We want to find the \"maximum-margin hyperplane\" that divides the group of points X which Y = 1 from the group of points for which Y = -1, which is defined so that the distance between the hyperplane and the nearest point X from either group is maximized.\n",
    "\n",
    "Any hyperplane can be written as the set of points X satisfying\n",
    "\n",
    "<table><tr>\n",
    "<td>\n",
    "<img src=\"https://wikimedia.org/api/rest_v1/media/math/render/svg/90e0fa283c9e642c9c11b22da45efa30b06944a9\" width=\"140\" height=\"140\" align=\"left\"/> \n",
    "</td>\n",
    "</tr></table>\n",
    "\n",
    "where W is the (not necessarily normalized) normal vector to the hyperplane. This is much like Hesse normal form, except that W is not necessarily a unit vector. The parameter b/||W|| determines the offset of the hyperplane from the origin along the normal vector W.\n",
    "\n",
    "#### Margin\n",
    "A margin is a separation of line to the closest class points.\n",
    "Very importrant characteristic of SVM classifier. SVM to core tries to achieve a good margin.\n",
    "A good margin is one where this separation is larger for both the classes. Images below gives to visual example of good and bad margin. A good margin allows the points to be in their respective classes without crossing to other class.    \n",
    "\n",
    "<table><tr>\n",
    "<td> <img src=\"https://miro.medium.com/max/600/1*Ftns0ebfUHJDdpWt3Wvp-Q.png\" width=\"940\" height=\"940\" align=\"left\"//> </td>\n",
    "<td> <img src=\"https://miro.medium.com/max/600/1*NbGV1iEtNuklACNUv74w7A.png\" width=\"940\" height=\"940\" align=\"right\"/> </td>\n",
    "</tr></table>\n",
    "\n",
    "Our goal is to maximize the margin. Among all possible hyperplanes meeting the constraints,  we will choose the hyperplane with the smallest ‖w‖ because it is the one which will have the biggest margin.\n",
    "\n",
    "##### Hard Margin\n",
    "If the training data is linearly separable, we can select two parallel hyperplanes that separate the two classes of data, so that the distance between them is as large as possible. The region bounded by these two hyperplanes is called the \"margin\", and the maximum-margin hyperplane is the hyperplane that lies halfway between them. With a normalized or standardized dataset, these hyperplanes can be described by an equation and we can put this together to get the optimization problem:\n",
    "\n",
    " Minimize ||W|| subject to:\n",
    "<table><tr>   \n",
    "<td><img src=\"https://wikimedia.org/api/rest_v1/media/math/render/svg/94c99827acb10edd809df63bb86ca1366f01a8ac\" width=\"=240\" height=\"240\" align=\"right\"/>\n",
    "</td>\n",
    "</tr></table>\n",
    "\n",
    "##### Soft Margin\n",
    "Often, the data are not linearly separable. Thus, to extend SVM to cases in which the data are not linearly separable, we introduce the hinge loss function,\n",
    "<table><tr>   \n",
    "<td><img src=\"https://wikimedia.org/api/rest_v1/media/math/render/svg/f5f7d77f3d46cac51fbac58545aa1a1a183fdf7f\" width=\"=240\" height=\"240\" align=\"right\"/>\n",
    "</td>\n",
    "</tr></table>\n",
    "\n",
    "This function is zero if the constraint in (1) is satisfied, in other words, if Xlies on the correct side of the margin. For data on the wrong side of the margin, the function's value is proportional to the distance from the margin.\n",
    "\n",
    "We then wish to minimize\n",
    "<table><tr>   \n",
    "<td><img src=\"https://wikimedia.org/api/rest_v1/media/math/render/svg/579f80b069f186f5a0013b11f90f32833ff8c681\" width=\"=240\" height=\"240\" align=\"right\"/>\n",
    "</td>\n",
    "</tr></table>\n",
    "\n",
    "where the parameter lambda determines the trade-off between increasing the margin size and ensuring that the X lie on the correct side of the margin. Thus, for sufficiently small values of lambda , the second term in the loss function will become negligible, hence, it will behave similar to the hard-margin SVM, if the input data are linearly classifiable, but will still learn if a classification rule is viable or not.\n",
    "\n",
    "#### Computing SVM classifier\n",
    "We focus on the soft-margin classifier since, as noted above, choosing a sufficiently small value for lambda  yields the hard-margin classifier for linearly classifiable input data. The classical approach, which involves reducing (2) to a quadratic programming problem, is detailed below.\n",
    "\n",
    "##### Primal\n",
    "Minimizing (2) can be rewritten as a constrained optimization problem with a differentiable objective function in the following way.\n",
    "\n",
    "We can rewrite the optimization problem as follows\n",
    "<table><tr>   \n",
    "<td><img src=\"https://wikimedia.org/api/rest_v1/media/math/render/svg/71501a21527b0f375eb349fdaf95f33a78b1db6d\" width=\"=240\" height=\"240\" align=\"right\"/>\n",
    "</td>\n",
    "</tr></table>\n",
    "\n",
    "This is called the primal problem.\n",
    "\n",
    "##### Dual\n",
    "By solving for the Lagrangian dual of the above problem, one obtains the simplified problem\n",
    "<table><tr>   \n",
    "<td><img src=\"https://wikimedia.org/api/rest_v1/media/math/render/svg/9c89851fa2fcd9c920aa089a2a8d75784a84d623\" width=\"=240\" height=\"240\" align=\"center\"/>\n",
    "</td>\n",
    "</tr></table>\n",
    "<table><tr>   \n",
    "<td><img src=\"https://wikimedia.org/api/rest_v1/media/math/render/svg/2c83e8ce81ee25becb185682c98ed31c00c67995\" width=\"=240\" height=\"240\" align=\"center\"/>\n",
    "</td>\n",
    "</tr></table>\n",
    "This is called the dual problem. Since the dual maximization problem is a quadratic function of the C subject to linear constraints, it is efficiently solvable by quadratic programming algorithms.\n",
    "\n",
    "Here, the variables C are defined such that\n",
    "<table><tr>   \n",
    "<td><img src=\"https://wikimedia.org/api/rest_v1/media/math/render/svg/cf0866d87cbe878e13e6a06560af15b9a9cc6bb0\" width=\"=240\" height=\"240\" align=\"right\"/>\n",
    "</td>\n",
    "</tr></table>\n"
   ]
  },
  {
   "cell_type": "markdown",
   "metadata": {},
   "source": [
    "### Parameter Tuning\n"
   ]
  },
  {
   "cell_type": "markdown",
   "metadata": {},
   "source": [
    "#### Kernel\n",
    "For a dataset that is non-linearly separable, a way is to create nonlinear classifiers by applying the kernel trick to maximum-margin hyperplanes. The resulting algorithm is formally similar, except that every dot product is replaced by a nonlinear kernel function. This allows the algorithm to fit the maximum-margin hyperplane in a transformed feature space. The transformation may be nonlinear and the transformed space high-dimensional; although the classifier is a hyperplane in the transformed feature space, it may be nonlinear in the original input space.\n",
    "\n",
    "Generally, Linear Kernel is the best choice as SVM is already a linear model and has the lowest computational complexity. More often, if the dataset is not linearly separable, Radial Basis Function is the next most common kernel to be used."
   ]
  },
  {
   "cell_type": "markdown",
   "metadata": {},
   "source": [
    "#### Regularization (C value)\n",
    "The Regularization parameter (often termed as C parameter in python’s sklearn library) tells the SVM optimization how much you want to avoid misclassifying each training example.\n",
    "\n",
    "For large values of C, the optimization will choose a smaller-margin hyperplane if that hyperplane does a better job of getting all the training points classified correctly. Conversely, a very small value of C will cause the optimizer to look for a larger-margin separating hyperplane, even if that hyperplane misclassifies more points.             \n",
    "\n",
    "<table><tr>\n",
    "<td> <img src=\"https://miro.medium.com/max/600/1*1dwut8cWQ-39POHV48tv4w.png\" width=\"940\" height=\"940\" align=\"left\"//> </td>\n",
    "<td> <img src=\"https://miro.medium.com/max/600/1*gt_dkcA5p0ZTHjIpq1qnLQ.png\" width=\"940\" height=\"940\" align=\"right\"/> </td>\n",
    "</tr></table>\n",
    "<b>Left: low regularization value, right: high regularization value</b>\n",
    "\n",
    "\n",
    "The tradeoff is however, a larger value of C might result in overfitting of the model, which is undersirable as it does not generalise the model for other data sets. Consequently, a smaller value of C might result in too many misclassified data points, which means that the model is low in accuracy in the first place. Thus, choosing the right balance of the C value is important."
   ]
  },
  {
   "cell_type": "markdown",
   "metadata": {},
   "source": [
    "#### Gamma\n",
    "The gamma parameter defines how far the influence of a single training example reaches, with low values meaning ‘far’ and high values meaning ‘close’. In other words, with low gamma, points far away from plausible separation line are considered in the calculation for the separation line. Where as high gamma means the points close to plausible line are considered in the calculation.          \n",
    "\n",
    "<table><tr>\n",
    "<td> <img src=\"https://miro.medium.com/max/600/1*dGDQxV8j83VB90skHsXktw.png\" width=\"940\" height=\"940\" align=\"left\"//> </td>\n",
    "<td> <img src=\"https://miro.medium.com/max/600/1*ClmsnU_yb1YtIwAAr7krmg.png\" width=\"940\" height=\"940\" align=\"right\"/> </td>\n",
    "</tr></table>\n",
    "\n",
    "Similarly to regularization, there is a tradeoff between high and low values of Gamma. Higher values of Gamma may result in too strict rules and thus the model cannot find a linearly separable line. Whereas lower values of Gamma may result in including too much noise into the model by including further away points, which reduces the model accuracy. Thus, finding the right balance of Gamma is also important."
   ]
  },
  {
   "cell_type": "markdown",
   "metadata": {},
   "source": [
    "### Apply SVM model\n",
    "For this dataset, we will perform SVM to the model and access its accuracy progressively, starting from no parameter tuning."
   ]
  },
  {
   "cell_type": "markdown",
   "metadata": {},
   "source": [
    "#### SVM without parameter tuning\n",
    "First, we train our SVM model without parameter tuning. Note that the default kernel for sklearn svm is \"rbf\" and cost = 1.0 and gamma = 1/n where n is the number of samples."
   ]
  },
  {
   "cell_type": "code",
   "execution_count": 78,
   "metadata": {},
   "outputs": [
    {
     "data": {
      "text/plain": [
       "SVC(C=1.0, cache_size=200, class_weight=None, coef0=0.0,\n",
       "    decision_function_shape='ovr', degree=3, gamma='scale', kernel='rbf',\n",
       "    max_iter=-1, probability=True, random_state=None, shrinking=True, tol=0.001,\n",
       "    verbose=False)"
      ]
     },
     "execution_count": 78,
     "metadata": {},
     "output_type": "execute_result"
    }
   ],
   "source": [
    "from sklearn import svm\n",
    "#train svm model without standardization and no parameter tuning\n",
    "clf_original = svm.SVC( probability = True, gamma = 'scale')\n",
    "clf_original.fit(X_train, y_train)"
   ]
  },
  {
   "cell_type": "code",
   "execution_count": 79,
   "metadata": {},
   "outputs": [
    {
     "name": "stdout",
     "output_type": "stream",
     "text": [
      "Optimal Threshold: 0.16469105377809068\n"
     ]
    },
    {
     "data": {
      "image/png": "[encoded data removed]",
      "text/plain": [
       "<Figure size 432x288 with 1 Axes>"
      ]
     },
     "metadata": {
      "needs_background": "light"
     },
     "output_type": "display_data"
    },
    {
     "name": "stdout",
     "output_type": "stream",
     "text": [
      "              precision    recall  f1-score   support\n",
      "\n",
      "           0       0.83      0.95      0.89      6762\n",
      "           1       0.68      0.36      0.47      1987\n",
      "\n",
      "    accuracy                           0.82      8749\n",
      "   macro avg       0.76      0.66      0.68      8749\n",
      "weighted avg       0.80      0.82      0.79      8749\n",
      "\n"
     ]
    }
   ],
   "source": [
    "#plot roc for svm\n",
    "get_roc(clf_original, y_test, X_test, \"SVM default parameters\")\n",
    "print(classification_report(y_test, clf_original.predict(X_test)))"
   ]
  },
  {
   "cell_type": "code",
   "execution_count": 80,
   "metadata": {},
   "outputs": [
    {
     "name": "stdout",
     "output_type": "stream",
     "text": [
      "Of 1987 Defaulters, the SVM default parameters identified 713\n"
     ]
    },
    {
     "data": {
      "text/html": [
       "<div>\n",
       "<style scoped>\n",
       "    .dataframe tbody tr th:only-of-type {\n",
       "        vertical-align: middle;\n",
       "    }\n",
       "\n",
       "    .dataframe tbody tr th {\n",
       "        vertical-align: top;\n",
       "    }\n",
       "\n",
       "    .dataframe thead th {\n",
       "        text-align: right;\n",
       "    }\n",
       "</style>\n",
       "<table border=\"1\" class=\"dataframe\">\n",
       "  <thead>\n",
       "    <tr style=\"text-align: right;\">\n",
       "      <th>Predicted</th>\n",
       "      <th>0</th>\n",
       "      <th>1</th>\n",
       "    </tr>\n",
       "    <tr>\n",
       "      <th>Actual</th>\n",
       "      <th></th>\n",
       "      <th></th>\n",
       "    </tr>\n",
       "  </thead>\n",
       "  <tbody>\n",
       "    <tr>\n",
       "      <td>0</td>\n",
       "      <td>6432</td>\n",
       "      <td>330</td>\n",
       "    </tr>\n",
       "    <tr>\n",
       "      <td>1</td>\n",
       "      <td>1274</td>\n",
       "      <td>713</td>\n",
       "    </tr>\n",
       "  </tbody>\n",
       "</table>\n",
       "</div>"
      ],
      "text/plain": [
       "Predicted     0    1\n",
       "Actual              \n",
       "0          6432  330\n",
       "1          1274  713"
      ]
     },
     "execution_count": 80,
     "metadata": {},
     "output_type": "execute_result"
    }
   ],
   "source": [
    "#confusion matrix\n",
    "confusion(y_test,clf_original.predict(X_test), \"SVM default parameters\")"
   ]
  },
  {
   "cell_type": "markdown",
   "metadata": {},
   "source": [
    "Based on AUROC and Recall, the SVM model with default parameters seem to do average compared to the other models tested. Now let's search for the best parameters to tune the model."
   ]
  },
  {
   "cell_type": "markdown",
   "metadata": {},
   "source": [
    "#### SVM with Parameter tuning\n",
    "One way to find the best parameters for the model is using grid search via GridSearchCV package from sklearn. \n",
    "\n",
    "Grid search is the process of performing hyper parameter tuning in order to determine the optimal values for a given model. This is significant as the performance of the entire model is based on the hyper parameter values specified.\n",
    "\n",
    "GridSearchSV works by using a cross validation process to determine the hyper parameter value set which provides the best accuracy levels. We will start with the linear kernel and move on to rbf if necessary."
   ]
  },
  {
   "cell_type": "code",
   "execution_count": 81,
   "metadata": {},
   "outputs": [
    {
     "data": {
      "text/plain": [
       "{'C': 0.01, 'gamma': 0.01}"
      ]
     },
     "execution_count": 81,
     "metadata": {},
     "output_type": "execute_result"
    }
   ],
   "source": [
    "from sklearn.model_selection import GridSearchCV\n",
    "def svc_param_selection(X, y, nfolds):\n",
    "    Cs = [0.01, 0.1, 1]\n",
    "    gammas = [0.01, 0.1, 1]\n",
    "    param_grid = {'C': Cs, 'gamma' : gammas}\n",
    "    grid_search = GridSearchCV(svm.SVC(kernel='linear'), param_grid, cv=nfolds, scoring = 'recall')\n",
    "    grid_search.fit(X, y)\n",
    "    grid_search.best_params_\n",
    "    return grid_search.best_params_\n",
    "svc_param_selection(X_train, y_train,2)\n"
   ]
  },
  {
   "cell_type": "markdown",
   "metadata": {},
   "source": [
    "With 5 folds, it can be found that C = 0.01 , and gamma = 0.01 will have the best svm model with  kernel"
   ]
  },
  {
   "cell_type": "code",
   "execution_count": 82,
   "metadata": {},
   "outputs": [
    {
     "data": {
      "text/plain": [
       "SVC(C=0.01, cache_size=200, class_weight=None, coef0=0.0,\n",
       "    decision_function_shape='ovr', degree=3, gamma=0.01, kernel='linear',\n",
       "    max_iter=-1, probability=True, random_state=None, shrinking=True, tol=0.001,\n",
       "    verbose=False)"
      ]
     },
     "execution_count": 82,
     "metadata": {},
     "output_type": "execute_result"
    }
   ],
   "source": [
    "#train svm model with feature reduction and cost = 0.01, gamma = 0.01, linear kernel\n",
    "clf_reduced_tuned = svm.SVC(kernel = 'linear', probability = True, C = 0.01, gamma = 0.01 )\n",
    "clf_reduced_tuned.fit(X_train, y_train)"
   ]
  },
  {
   "cell_type": "code",
   "execution_count": 83,
   "metadata": {},
   "outputs": [
    {
     "name": "stdout",
     "output_type": "stream",
     "text": [
      "Optimal Threshold: 0.15996357777982226\n"
     ]
    },
    {
     "data": {
      "image/png": "[encoded data removed]",
      "text/plain": [
       "<Figure size 432x288 with 1 Axes>"
      ]
     },
     "metadata": {
      "needs_background": "light"
     },
     "output_type": "display_data"
    },
    {
     "name": "stdout",
     "output_type": "stream",
     "text": [
      "              precision    recall  f1-score   support\n",
      "\n",
      "           0       0.83      0.96      0.89      6762\n",
      "           1       0.70      0.32      0.44      1987\n",
      "\n",
      "    accuracy                           0.81      8749\n",
      "   macro avg       0.77      0.64      0.66      8749\n",
      "weighted avg       0.80      0.81      0.79      8749\n",
      "\n"
     ]
    }
   ],
   "source": [
    "auroc = get_roc(clf_reduced_tuned, y_test, X_test, \n",
    "        \"SVM reduced features and tuning linear kernel\")\n",
    "print(classification_report(y_test, clf_reduced_tuned.predict(X_test)))"
   ]
  },
  {
   "cell_type": "code",
   "execution_count": 84,
   "metadata": {},
   "outputs": [
    {
     "name": "stdout",
     "output_type": "stream",
     "text": [
      "Of 1987 Defaulters, the SVM reduced features and tuning linear kernal identified 638\n"
     ]
    },
    {
     "data": {
      "text/html": [
       "<div>\n",
       "<style scoped>\n",
       "    .dataframe tbody tr th:only-of-type {\n",
       "        vertical-align: middle;\n",
       "    }\n",
       "\n",
       "    .dataframe tbody tr th {\n",
       "        vertical-align: top;\n",
       "    }\n",
       "\n",
       "    .dataframe thead th {\n",
       "        text-align: right;\n",
       "    }\n",
       "</style>\n",
       "<table border=\"1\" class=\"dataframe\">\n",
       "  <thead>\n",
       "    <tr style=\"text-align: right;\">\n",
       "      <th>Predicted</th>\n",
       "      <th>0</th>\n",
       "      <th>1</th>\n",
       "    </tr>\n",
       "    <tr>\n",
       "      <th>Actual</th>\n",
       "      <th></th>\n",
       "      <th></th>\n",
       "    </tr>\n",
       "  </thead>\n",
       "  <tbody>\n",
       "    <tr>\n",
       "      <td>0</td>\n",
       "      <td>6492</td>\n",
       "      <td>270</td>\n",
       "    </tr>\n",
       "    <tr>\n",
       "      <td>1</td>\n",
       "      <td>1349</td>\n",
       "      <td>638</td>\n",
       "    </tr>\n",
       "  </tbody>\n",
       "</table>\n",
       "</div>"
      ],
      "text/plain": [
       "Predicted     0    1\n",
       "Actual              \n",
       "0          6492  270\n",
       "1          1349  638"
      ]
     },
     "execution_count": 84,
     "metadata": {},
     "output_type": "execute_result"
    }
   ],
   "source": [
    "#confusion matrix\n",
    "confusion(y_test,clf_reduced_tuned.predict(X_test), \"SVM reduced features and tuning linear kernal\")"
   ]
  },
  {
   "cell_type": "markdown",
   "metadata": {},
   "source": [
    "As shown, the AUROC actually increased with tuning of parameters. Next, we will experiment with the RBF kernel"
   ]
  },
  {
   "cell_type": "code",
   "execution_count": 85,
   "metadata": {},
   "outputs": [
    {
     "data": {
      "text/plain": [
       "SVC(C=0.1, cache_size=200, class_weight=None, coef0=0.0,\n",
       "    decision_function_shape='ovr', degree=3, gamma=0.1, kernel='rbf',\n",
       "    max_iter=-1, probability=True, random_state=None, shrinking=True, tol=0.001,\n",
       "    verbose=False)"
      ]
     },
     "execution_count": 85,
     "metadata": {},
     "output_type": "execute_result"
    }
   ],
   "source": [
    "#train svm model with feature reduction and cost = 0.1, gamma = 0.1, rbf kernel\n",
    "clf_reduced_tuned_rbf = svm.SVC(kernel = 'rbf', probability = True, C = 0.1, gamma = 0.1)\n",
    "clf_reduced_tuned_rbf.fit(X_train, y_train)"
   ]
  },
  {
   "cell_type": "code",
   "execution_count": 86,
   "metadata": {},
   "outputs": [
    {
     "name": "stdout",
     "output_type": "stream",
     "text": [
      "Optimal Threshold: 0.15910713557498266\n"
     ]
    },
    {
     "data": {
      "image/png": "[encoded data removed]",
      "text/plain": [
       "<Figure size 432x288 with 1 Axes>"
      ]
     },
     "metadata": {
      "needs_background": "light"
     },
     "output_type": "display_data"
    },
    {
     "name": "stdout",
     "output_type": "stream",
     "text": [
      "              precision    recall  f1-score   support\n",
      "\n",
      "           0       0.84      0.95      0.89      6762\n",
      "           1       0.67      0.38      0.48      1987\n",
      "\n",
      "    accuracy                           0.82      8749\n",
      "   macro avg       0.76      0.66      0.69      8749\n",
      "weighted avg       0.80      0.82      0.80      8749\n",
      "\n"
     ]
    }
   ],
   "source": [
    "auroc = get_roc(clf_reduced_tuned_rbf, y_test, X_test, \n",
    "        \"SVM reduced features and tuning rbf kernel\")\n",
    "print(classification_report(y_test, clf_reduced_tuned_rbf.predict(X_test)))"
   ]
  },
  {
   "cell_type": "markdown",
   "metadata": {},
   "source": [
    "As shown, the rbf kernel increases the AUROC and the recall increased to 0.40, thus, it can be said that the rbf kernel is better than the linear kernel. We will choose the RBF SVM as our best performing support vector machine."
   ]
  },
  {
   "cell_type": "code",
   "execution_count": 87,
   "metadata": {},
   "outputs": [
    {
     "data": {
      "text/html": [
       "<div>\n",
       "<style scoped>\n",
       "    .dataframe tbody tr th:only-of-type {\n",
       "        vertical-align: middle;\n",
       "    }\n",
       "\n",
       "    .dataframe tbody tr th {\n",
       "        vertical-align: top;\n",
       "    }\n",
       "\n",
       "    .dataframe thead th {\n",
       "        text-align: right;\n",
       "    }\n",
       "</style>\n",
       "<table border=\"1\" class=\"dataframe\">\n",
       "  <thead>\n",
       "    <tr style=\"text-align: right;\">\n",
       "      <th></th>\n",
       "      <th>Model</th>\n",
       "      <th>F1-1</th>\n",
       "      <th>AUROC</th>\n",
       "    </tr>\n",
       "  </thead>\n",
       "  <tbody>\n",
       "    <tr>\n",
       "      <td>0</td>\n",
       "      <td>Decision Trees - Random Forest</td>\n",
       "      <td>0.461339</td>\n",
       "      <td>0.768458</td>\n",
       "    </tr>\n",
       "    <tr>\n",
       "      <td>1</td>\n",
       "      <td>Logistic Regression (Optimal Cutoff)</td>\n",
       "      <td>0.527665</td>\n",
       "      <td>0.765244</td>\n",
       "    </tr>\n",
       "    <tr>\n",
       "      <td>2</td>\n",
       "      <td>SVM-RBF (Grid Search)</td>\n",
       "      <td>0.482247</td>\n",
       "      <td>0.748465</td>\n",
       "    </tr>\n",
       "  </tbody>\n",
       "</table>\n",
       "</div>"
      ],
      "text/plain": [
       "                                  Model      F1-1     AUROC\n",
       "0        Decision Trees - Random Forest  0.461339  0.768458\n",
       "1  Logistic Regression (Optimal Cutoff)  0.527665  0.765244\n",
       "2                 SVM-RBF (Grid Search)  0.482247  0.748465"
      ]
     },
     "execution_count": 87,
     "metadata": {},
     "output_type": "execute_result"
    }
   ],
   "source": [
    "evaluation.loc[2] = ([\"SVM-RBF (Grid Search)\" , \n",
    "                      classification_report(y_test, clf_reduced_tuned_rbf.predict(X_test), output_dict = True)[\"1\"][\"f1-score\"],\n",
    "                      auroc])\n",
    "\n",
    "evaluation"
   ]
  },
  {
   "cell_type": "markdown",
   "metadata": {},
   "source": [
    "#### SVM with filtered features"
   ]
  },
  {
   "cell_type": "markdown",
   "metadata": {},
   "source": [
    "We will now apply the best selected kernel (linear kernel) on filtered features to access AUROC and recall."
   ]
  },
  {
   "cell_type": "code",
   "execution_count": 88,
   "metadata": {},
   "outputs": [
    {
     "name": "stderr",
     "output_type": "stream",
     "text": [
      "C:\\Users\\reonh\\Anaconda3\\lib\\site-packages\\sklearn\\svm\\base.py:193: FutureWarning: The default value of gamma will change from 'auto' to 'scale' in version 0.22 to account better for unscaled features. Set gamma explicitly to 'auto' or 'scale' to avoid this warning.\n",
      "  \"avoid this warning.\", FutureWarning)\n"
     ]
    },
    {
     "data": {
      "text/plain": [
       "SVC(C=1.0, cache_size=200, class_weight=None, coef0=0.0,\n",
       "    decision_function_shape='ovr', degree=3, gamma='auto_deprecated',\n",
       "    kernel='rbf', max_iter=-1, probability=True, random_state=None,\n",
       "    shrinking=True, tol=0.001, verbose=False)"
      ]
     },
     "execution_count": 88,
     "metadata": {},
     "output_type": "execute_result"
    }
   ],
   "source": [
    "clf_reduced_tuned_filtered = svm.SVC(kernel = 'rbf', probability = True)\n",
    "clf_reduced_tuned_filtered.fit(X_train_filter, y_train)"
   ]
  },
  {
   "cell_type": "code",
   "execution_count": 89,
   "metadata": {},
   "outputs": [
    {
     "name": "stdout",
     "output_type": "stream",
     "text": [
      "Optimal Threshold: 0.16104553371241384\n"
     ]
    },
    {
     "data": {
      "image/png": "[encoded data removed]",
      "text/plain": [
       "<Figure size 432x288 with 1 Axes>"
      ]
     },
     "metadata": {
      "needs_background": "light"
     },
     "output_type": "display_data"
    },
    {
     "data": {
      "text/plain": [
       "0.6689738476077944"
      ]
     },
     "execution_count": 89,
     "metadata": {},
     "output_type": "execute_result"
    }
   ],
   "source": [
    "get_roc(clf_reduced_tuned_filtered, y_test, X_test_filter, \n",
    "        \"SVM reduced features and tuning linear kernel\")"
   ]
  },
  {
   "cell_type": "code",
   "execution_count": 90,
   "metadata": {},
   "outputs": [
    {
     "name": "stdout",
     "output_type": "stream",
     "text": [
      "              precision    recall  f1-score   support\n",
      "\n",
      "           0       0.84      0.95      0.89      6762\n",
      "           1       0.67      0.37      0.48      1987\n",
      "\n",
      "    accuracy                           0.82      8749\n",
      "   macro avg       0.75      0.66      0.68      8749\n",
      "weighted avg       0.80      0.82      0.79      8749\n",
      "\n"
     ]
    }
   ],
   "source": [
    "print(classification_report(y_test, clf_reduced_tuned_filtered.predict(X_test_filter)))"
   ]
  },
  {
   "cell_type": "markdown",
   "metadata": {},
   "source": [
    "As we can see, the performance is not as great after using filtered features. The AUROC decreased while the recall remained the same. Thus, we will stick to using unfiltered features and SVM with rbf kernel."
   ]
  },
  {
   "cell_type": "markdown",
   "metadata": {},
   "source": [
    "### Neural Networks\n",
    "We will now use the train and test sets as defined above and attempt to implement a neural network model on the data\n",
    "\n",
    "#### Theory\n",
    "A neural network is comprised of many layers of perceptrons that take in a vector as input and outputs a value. The outputs from one layer of perceptrons are passed into the next layer of perceptrons as input, until we reach the output layer. Each perceptron combines its input via an activation function. \n",
    "\n",
    ".\n",
    "\n",
    "\n",
    "![image.png](https://www.researchgate.net/profile/Leslaw_Plonka/publication/260080460/figure/fig1/AS:340931325775876@1458295770470/A-simple-neural-network-diagram.png)\n",
    "\n",
    "\n",
    "The network is at first randomly initialised with random weights on all its layers. Training samples are then passed into the network and predictions are made. The training error (difference between the actual value and the predicted value) is used to recalibrate the neural network by changing the weights. The change in weights is found via gradient descent, and  then backpropogated through the neural network to update all layers.\n",
    "\n",
    "\n",
    "This process is repeated iteratively until the model converges (i.e. it cannot be improved further)."
   ]
  },
  {
   "cell_type": "markdown",
   "metadata": {},
   "source": [
    "#### Training\n",
    "Here we create an instance of our model, specifically a Sequential model, and add layers one at a time until we are happy with our network architecture. We will be training the model on our feature-selected dataset to speed up computation by reducing dimensionality. We have found that the performance difference between the 2 datasets are negligible.\n",
    "\n",
    "We ensure the input layer has the right number of input features, and is specified when creating the first layer with the input_dim argument and setting it to 17 (The size of the feature selected dataset).\n",
    "Additionaly, we start off using  a fully-connected network structure with three layers, and attempt to increase the number of layers at later part ater fully optimising our model.\n",
    "\n",
    "Fully connected layers are defined using the Dense class. We  specify the number of neurons or nodes in the layer as the first argument, and specify the activation function using the activation argument. The rectified linear unit activation function (Relu) is usedon the first two layers and the Sigmoid function in the output layer.\n",
    "\n",
    "Conventionally, Sigmoid and Tanh activation functions were preferred for all layers. However, better performance is achieved using the ReLU activation function. We use a sigmoid on the output layer to ensure our network output is between 0 and 1 and easy to map (binary) to either a probability of class 1 or snap to a hard classification of either class with a default threshold of 0.5.\n",
    "\n",
    "The model expects rows of data with 17 variables (the input_dim=17 argument)\n",
    "The first hidden layer has 17 nodes and uses the relu activation function.\n",
    "The second hidden layer has 17 nodes and uses the relu activation function.\n",
    "The output layer has one node and uses the sigmoid activation function."
   ]
  },
  {
   "cell_type": "markdown",
   "metadata": {},
   "source": [
    "#### Compiling\n",
    "\n",
    "The model uses the efficient numerical libraries as the backend, and in this case Tensorflow is used. The backend automatically chooses the best way to represent the network for training and making predictions to run.\n",
    "\n",
    "We must specify the loss function to use to evaluate a set of weights, the optimizer is used to search through different weights for the network and any optional metrics we would like to collect and report during training.\n",
    "\n",
    "After experimenting with the various loss functions, such as hinge loss and binary cross entropy, we found that entropy performed the best for our dataset.\n",
    "\n",
    "We have also found that among all the optimizers (Adam, SGD, RMSprop, Adagrad, Adadelta, Adamax and Nadam) the optimizer \"adam\" is the most efficient yet yields the best results.\n",
    "\n",
    "Additionaly, for this problem, we will run for a small number of epochs (20) and use a relatively small batch size of 10. This means that each epoch will involve (20/10) 2 updates to the model weights. After we have finalised the best optimizer, we will then increase the numebr of epochs to increase the number of updates to obtain a better result. \n"
   ]
  },
  {
   "cell_type": "code",
   "execution_count": 91,
   "metadata": {},
   "outputs": [
    {
     "name": "stderr",
     "output_type": "stream",
     "text": [
      "Using TensorFlow backend.\n"
     ]
    },
    {
     "name": "stdout",
     "output_type": "stream",
     "text": [
      "Epoch 1/20\n",
      "17496/17496 [==============================] - 2s 110us/step - loss: 0.4708 - accuracy: 0.7956\n",
      "Epoch 2/20\n",
      "17496/17496 [==============================] - 2s 107us/step - loss: 0.4502 - accuracy: 0.8116\n",
      "Epoch 3/20\n",
      "17496/17496 [==============================] - 2s 113us/step - loss: 0.4477 - accuracy: 0.8125\n",
      "Epoch 4/20\n",
      "17496/17496 [==============================] - 2s 96us/step - loss: 0.4461 - accuracy: 0.8130\n",
      "Epoch 5/20\n",
      "17496/17496 [==============================] - 2s 105us/step - loss: 0.4450 - accuracy: 0.8133\n",
      "Epoch 6/20\n",
      "17496/17496 [==============================] - 2s 109us/step - loss: 0.4443 - accuracy: 0.81450s - loss: 0.4424 - \n",
      "Epoch 7/20\n",
      "17496/17496 [==============================] - 2s 96us/step - loss: 0.4437 - accuracy: 0.8150\n",
      "Epoch 8/20\n",
      "17496/17496 [==============================] - 2s 101us/step - loss: 0.4435 - accuracy: 0.8144\n",
      "Epoch 9/20\n",
      "17496/17496 [==============================] - 2s 103us/step - loss: 0.4433 - accuracy: 0.8147\n",
      "Epoch 10/20\n",
      "17496/17496 [==============================] - 2s 101us/step - loss: 0.4429 - accuracy: 0.8142\n",
      "Epoch 11/20\n",
      "17496/17496 [==============================] - 2s 118us/step - loss: 0.4418 - accuracy: 0.8132\n",
      "Epoch 12/20\n",
      "17496/17496 [==============================] - 2s 112us/step - loss: 0.4416 - accuracy: 0.81450s - loss: 0.4413 - accuracy: \n",
      "Epoch 13/20\n",
      "17496/17496 [==============================] - 2s 97us/step - loss: 0.4419 - accuracy: 0.8138\n",
      "Epoch 14/20\n",
      "17496/17496 [==============================] - 2s 128us/step - loss: 0.4417 - accuracy: 0.8140\n",
      "Epoch 15/20\n",
      "17496/17496 [==============================] - 2s 115us/step - loss: 0.4415 - accuracy: 0.8142\n",
      "Epoch 16/20\n",
      "17496/17496 [==============================] - 2s 118us/step - loss: 0.4415 - accuracy: 0.8141\n",
      "Epoch 17/20\n",
      "17496/17496 [==============================] - 2s 108us/step - loss: 0.4409 - accuracy: 0.8152\n",
      "Epoch 18/20\n",
      "17496/17496 [==============================] - 2s 127us/step - loss: 0.4413 - accuracy: 0.8145\n",
      "Epoch 19/20\n",
      "17496/17496 [==============================] - 2s 126us/step - loss: 0.4403 - accuracy: 0.8145\n",
      "Epoch 20/20\n",
      "17496/17496 [==============================] - 2s 110us/step - loss: 0.4405 - accuracy: 0.8156\n"
     ]
    },
    {
     "data": {
      "text/plain": [
       "<keras.callbacks.callbacks.History at 0x17a5fc89b38>"
      ]
     },
     "execution_count": 91,
     "metadata": {},
     "output_type": "execute_result"
    }
   ],
   "source": [
    "from numpy import loadtxt\n",
    "from keras.models import Sequential\n",
    "from keras.layers import Dense\n",
    "\n",
    "# optimisers to try: Adam, SGD, RMSprop, Adagrad, Adadelta, Adamax and Nadam\n",
    "# verdict : Adam\n",
    "\n",
    "# Loss function to try: Binary Cross Entropy, Hinge, Logcosh\n",
    "# verdict: Binary Cross Entropy\n",
    "\n",
    "# define the keras model\n",
    "model = Sequential()\n",
    "model.add(Dense(12, input_dim=17, activation='relu'))\n",
    "model.add(Dense(8, activation='relu'))\n",
    "model.add(Dense(8, activation='relu'))\n",
    "model.add(Dense(8, activation='relu'))\n",
    "model.add(Dense(1, activation='sigmoid'))\n",
    "# compile the keras model\n",
    "model.compile(loss='binary_crossentropy', optimizer='adam', metrics=['accuracy'])\n",
    "# fit the keras model on the dataset\n",
    "model.fit(X_train_filter, y_train, epochs=20, batch_size=10)\n"
   ]
  },
  {
   "cell_type": "code",
   "execution_count": 92,
   "metadata": {},
   "outputs": [
    {
     "name": "stdout",
     "output_type": "stream",
     "text": [
      "Optimal Threshold: 0.23287344\n"
     ]
    },
    {
     "data": {
      "image/png": "[encoded data removed]",
      "text/plain": [
       "<Figure size 432x288 with 1 Axes>"
      ]
     },
     "metadata": {
      "needs_background": "light"
     },
     "output_type": "display_data"
    },
    {
     "name": "stdout",
     "output_type": "stream",
     "text": [
      "              precision    recall  f1-score   support\n",
      "\n",
      "           0       0.84      0.94      0.89      6762\n",
      "           1       0.65      0.39      0.49      1987\n",
      "\n",
      "    accuracy                           0.81      8749\n",
      "   macro avg       0.75      0.66      0.69      8749\n",
      "weighted avg       0.80      0.81      0.80      8749\n",
      "\n"
     ]
    }
   ],
   "source": [
    "get_roc(model, y_test, X_test_filter,  \"Neural Network 17x8x8x1 Adam, Entropy, 20 epoch\")\n",
    "predictions = list(model.predict(X_test_filter).ravel() > 0.5)\n",
    "print(classification_report(y_test,predictions))"
   ]
  },
  {
   "cell_type": "markdown",
   "metadata": {},
   "source": [
    "Experimenting with lowering the cutoff for the neural network,"
   ]
  },
  {
   "cell_type": "code",
   "execution_count": 93,
   "metadata": {},
   "outputs": [
    {
     "name": "stdout",
     "output_type": "stream",
     "text": [
      "Optimal Threshold: 0.23287344\n"
     ]
    },
    {
     "data": {
      "image/png": "[encoded data removed]",
      "text/plain": [
       "<Figure size 432x288 with 1 Axes>"
      ]
     },
     "metadata": {
      "needs_background": "light"
     },
     "output_type": "display_data"
    },
    {
     "name": "stdout",
     "output_type": "stream",
     "text": [
      "              precision    recall  f1-score   support\n",
      "\n",
      "           0       0.87      0.81      0.84      6762\n",
      "           1       0.48      0.60      0.54      1987\n",
      "\n",
      "    accuracy                           0.76      8749\n",
      "   macro avg       0.68      0.71      0.69      8749\n",
      "weighted avg       0.79      0.76      0.77      8749\n",
      "\n"
     ]
    }
   ],
   "source": [
    "optimal_adam = get_optimal(model, y_train, X_train_filter, \"Neural Network 17x8x8x1 Adam Entropy\")\n",
    "auroc = get_roc(model, y_test, X_test_filter, \"Neural Network 17x8x8x1 Adam, Entropy\")\n",
    "predictions = list(model.predict(X_test_filter).ravel() > optimal_adam)\n",
    "print(classification_report(y_test,predictions))"
   ]
  },
  {
   "cell_type": "markdown",
   "metadata": {},
   "source": [
    "The performance is quite impressive when we lowered the classification cut off. The ROC of 0.76 is also on par with other models. Now we ramp up the number of epochs."
   ]
  },
  {
   "cell_type": "code",
   "execution_count": 94,
   "metadata": {},
   "outputs": [
    {
     "name": "stdout",
     "output_type": "stream",
     "text": [
      "Epoch 1/50\n",
      "17496/17496 [==============================] - 2s 112us/step - loss: 0.4863 - accuracy: 0.7969\n",
      "Epoch 2/50\n",
      "17496/17496 [==============================] - 2s 102us/step - loss: 0.4511 - accuracy: 0.8122\n",
      "Epoch 3/50\n",
      "17496/17496 [==============================] - 2s 103us/step - loss: 0.4485 - accuracy: 0.8124\n",
      "Epoch 4/50\n",
      "17496/17496 [==============================] - 2s 105us/step - loss: 0.4472 - accuracy: 0.81200s - loss: 0.4465 \n",
      "Epoch 5/50\n",
      "17496/17496 [==============================] - 2s 103us/step - loss: 0.4461 - accuracy: 0.8123\n",
      "Epoch 6/50\n",
      "17496/17496 [==============================] - 2s 119us/step - loss: 0.4450 - accuracy: 0.8124\n",
      "Epoch 7/50\n",
      "17496/17496 [==============================] - 2s 112us/step - loss: 0.4432 - accuracy: 0.8138\n",
      "Epoch 8/50\n",
      "17496/17496 [==============================] - 2s 103us/step - loss: 0.4428 - accuracy: 0.8139\n",
      "Epoch 9/50\n",
      "17496/17496 [==============================] - 2s 104us/step - loss: 0.4422 - accuracy: 0.8132\n",
      "Epoch 10/50\n",
      "17496/17496 [==============================] - 2s 101us/step - loss: 0.4420 - accuracy: 0.8140\n",
      "Epoch 11/50\n",
      "17496/17496 [==============================] - 2s 97us/step - loss: 0.4411 - accuracy: 0.8137\n",
      "Epoch 12/50\n",
      "17496/17496 [==============================] - 2s 104us/step - loss: 0.4410 - accuracy: 0.8146\n",
      "Epoch 13/50\n",
      "17496/17496 [==============================] - 2s 97us/step - loss: 0.4412 - accuracy: 0.8143\n",
      "Epoch 14/50\n",
      "17496/17496 [==============================] - 2s 98us/step - loss: 0.4415 - accuracy: 0.8141\n",
      "Epoch 15/50\n",
      "17496/17496 [==============================] - 2s 120us/step - loss: 0.4402 - accuracy: 0.8149\n",
      "Epoch 16/50\n",
      "17496/17496 [==============================] - 2s 103us/step - loss: 0.4402 - accuracy: 0.8146\n",
      "Epoch 17/50\n",
      "17496/17496 [==============================] - 2s 100us/step - loss: 0.4406 - accuracy: 0.8141\n",
      "Epoch 18/50\n",
      "17496/17496 [==============================] - 2s 110us/step - loss: 0.4400 - accuracy: 0.8152\n",
      "Epoch 19/50\n",
      "17496/17496 [==============================] - 2s 102us/step - loss: 0.4397 - accuracy: 0.8140\n",
      "Epoch 20/50\n",
      "17496/17496 [==============================] - 2s 100us/step - loss: 0.4398 - accuracy: 0.8140\n",
      "Epoch 21/50\n",
      "17496/17496 [==============================] - 2s 104us/step - loss: 0.4396 - accuracy: 0.8153\n",
      "Epoch 22/50\n",
      "17496/17496 [==============================] - 2s 101us/step - loss: 0.4401 - accuracy: 0.8138\n",
      "Epoch 23/50\n",
      "17496/17496 [==============================] - 2s 112us/step - loss: 0.4394 - accuracy: 0.8150\n",
      "Epoch 24/50\n",
      "17496/17496 [==============================] - 2s 119us/step - loss: 0.4397 - accuracy: 0.8152\n",
      "Epoch 25/50\n",
      "17496/17496 [==============================] - 2s 117us/step - loss: 0.4396 - accuracy: 0.8148\n",
      "Epoch 26/50\n",
      "17496/17496 [==============================] - 2s 106us/step - loss: 0.4396 - accuracy: 0.8144\n",
      "Epoch 27/50\n",
      "17496/17496 [==============================] - 2s 95us/step - loss: 0.4393 - accuracy: 0.8135\n",
      "Epoch 28/50\n",
      "17496/17496 [==============================] - 2s 100us/step - loss: 0.4390 - accuracy: 0.8152\n",
      "Epoch 29/50\n",
      "17496/17496 [==============================] - 2s 115us/step - loss: 0.4392 - accuracy: 0.8138\n",
      "Epoch 30/50\n",
      "17496/17496 [==============================] - 2s 100us/step - loss: 0.4391 - accuracy: 0.8141\n",
      "Epoch 31/50\n",
      "17496/17496 [==============================] - 2s 102us/step - loss: 0.4397 - accuracy: 0.8149\n",
      "Epoch 32/50\n",
      "17496/17496 [==============================] - 2s 127us/step - loss: 0.4390 - accuracy: 0.8147\n",
      "Epoch 33/50\n",
      "17496/17496 [==============================] - 2s 115us/step - loss: 0.4388 - accuracy: 0.8145\n",
      "Epoch 34/50\n",
      "17496/17496 [==============================] - 2s 115us/step - loss: 0.4385 - accuracy: 0.8153\n",
      "Epoch 35/50\n",
      "17496/17496 [==============================] - 2s 102us/step - loss: 0.4389 - accuracy: 0.8150\n",
      "Epoch 36/50\n",
      "17496/17496 [==============================] - 2s 100us/step - loss: 0.4391 - accuracy: 0.8146\n",
      "Epoch 37/50\n",
      "17496/17496 [==============================] - 2s 107us/step - loss: 0.4386 - accuracy: 0.8142\n",
      "Epoch 38/50\n",
      "17496/17496 [==============================] - 2s 102us/step - loss: 0.4386 - accuracy: 0.8143\n",
      "Epoch 39/50\n",
      "17496/17496 [==============================] - 2s 101us/step - loss: 0.4379 - accuracy: 0.8148\n",
      "Epoch 40/50\n",
      "17496/17496 [==============================] - 2s 110us/step - loss: 0.4385 - accuracy: 0.8148\n",
      "Epoch 41/50\n",
      "17496/17496 [==============================] - 2s 116us/step - loss: 0.4386 - accuracy: 0.8149\n",
      "Epoch 42/50\n",
      "17496/17496 [==============================] - 2s 104us/step - loss: 0.4380 - accuracy: 0.8150\n",
      "Epoch 43/50\n",
      "17496/17496 [==============================] - 2s 108us/step - loss: 0.4382 - accuracy: 0.8144\n",
      "Epoch 44/50\n",
      "17496/17496 [==============================] - 2s 101us/step - loss: 0.4381 - accuracy: 0.8152\n",
      "Epoch 45/50\n",
      "17496/17496 [==============================] - 2s 105us/step - loss: 0.4378 - accuracy: 0.8151\n",
      "Epoch 46/50\n",
      "17496/17496 [==============================] - 2s 104us/step - loss: 0.4374 - accuracy: 0.8153\n",
      "Epoch 47/50\n",
      "17496/17496 [==============================] - 2s 99us/step - loss: 0.4382 - accuracy: 0.8152\n",
      "Epoch 48/50\n",
      "17496/17496 [==============================] - 2s 110us/step - loss: 0.4379 - accuracy: 0.8166\n",
      "Epoch 49/50\n",
      "17496/17496 [==============================] - 2s 112us/step - loss: 0.4381 - accuracy: 0.8144\n",
      "Epoch 50/50\n",
      "17496/17496 [==============================] - 2s 109us/step - loss: 0.4378 - accuracy: 0.8154\n"
     ]
    },
    {
     "data": {
      "text/plain": [
       "<keras.callbacks.callbacks.History at 0x17a5fe12630>"
      ]
     },
     "execution_count": 94,
     "metadata": {},
     "output_type": "execute_result"
    }
   ],
   "source": [
    "model50 = Sequential()\n",
    "model50.add(Dense(12, input_dim=17, activation='relu'))\n",
    "model50.add(Dense(8, activation='relu'))\n",
    "model50.add(Dense(8, activation='relu'))\n",
    "model50.add(Dense(8, activation='relu'))\n",
    "model50.add(Dense(1, activation='sigmoid'))\n",
    "# compile the keras model\n",
    "model50.compile(loss='binary_crossentropy', optimizer='adam', metrics=['accuracy'])\n",
    "# fit the keras model on the dataset\n",
    "model50.fit(X_train_filter, y_train, epochs=50, batch_size=10)\n"
   ]
  },
  {
   "cell_type": "markdown",
   "metadata": {},
   "source": [
    "We observe that the accuracy did not increase much at all from the 20th to 50th epoch. In such a situation we will choose the 20 epoch model for its faster computation."
   ]
  },
  {
   "cell_type": "code",
   "execution_count": 95,
   "metadata": {},
   "outputs": [
    {
     "name": "stdout",
     "output_type": "stream",
     "text": [
      "Optimal Threshold: 0.20843479\n"
     ]
    },
    {
     "data": {
      "image/png": "[encoded data removed]",
      "text/plain": [
       "<Figure size 432x288 with 1 Axes>"
      ]
     },
     "metadata": {
      "needs_background": "light"
     },
     "output_type": "display_data"
    },
    {
     "name": "stdout",
     "output_type": "stream",
     "text": [
      "              precision    recall  f1-score   support\n",
      "\n",
      "           0       0.87      0.82      0.84      6762\n",
      "           1       0.48      0.59      0.53      1987\n",
      "\n",
      "    accuracy                           0.76      8749\n",
      "   macro avg       0.68      0.70      0.69      8749\n",
      "weighted avg       0.78      0.76      0.77      8749\n",
      "\n"
     ]
    }
   ],
   "source": [
    "optimal_adam50 = get_optimal(model50, y_train, X_train_filter, \"Neural Network 17x8x8x1 Adam Entropy\")\n",
    "get_roc(model50, y_test, X_test_filter, \"Neural Network 17x8x8x1 Adam, Entropy, 50 epoch\")\n",
    "predictions50 = list(model50.predict(X_test_filter).ravel() > optimal_adam50)\n",
    "print(classification_report(y_test,predictions50))"
   ]
  },
  {
   "cell_type": "code",
   "execution_count": 107,
   "metadata": {},
   "outputs": [
    {
     "data": {
      "text/html": [
       "<div>\n",
       "<style scoped>\n",
       "    .dataframe tbody tr th:only-of-type {\n",
       "        vertical-align: middle;\n",
       "    }\n",
       "\n",
       "    .dataframe tbody tr th {\n",
       "        vertical-align: top;\n",
       "    }\n",
       "\n",
       "    .dataframe thead th {\n",
       "        text-align: right;\n",
       "    }\n",
       "</style>\n",
       "<table border=\"1\" class=\"dataframe\">\n",
       "  <thead>\n",
       "    <tr style=\"text-align: right;\">\n",
       "      <th></th>\n",
       "      <th>Model</th>\n",
       "      <th>F1-1</th>\n",
       "      <th>AUROC</th>\n",
       "    </tr>\n",
       "  </thead>\n",
       "  <tbody>\n",
       "    <tr>\n",
       "      <td>0</td>\n",
       "      <td>Decision Trees - Random Forest</td>\n",
       "      <td>0.461339</td>\n",
       "      <td>0.768458</td>\n",
       "    </tr>\n",
       "    <tr>\n",
       "      <td>1</td>\n",
       "      <td>Logistic Regression (Optimal Cutoff)</td>\n",
       "      <td>0.527665</td>\n",
       "      <td>0.765244</td>\n",
       "    </tr>\n",
       "    <tr>\n",
       "      <td>2</td>\n",
       "      <td>SVM-RBF (Grid Search)</td>\n",
       "      <td>0.482247</td>\n",
       "      <td>0.748465</td>\n",
       "    </tr>\n",
       "    <tr>\n",
       "      <td>3</td>\n",
       "      <td>Neural Network - 17x8x8x1 Adam, Entropy, 20 Ep...</td>\n",
       "      <td>0.535834</td>\n",
       "      <td>0.741382</td>\n",
       "    </tr>\n",
       "    <tr>\n",
       "      <td>5</td>\n",
       "      <td>Naive Bayes</td>\n",
       "      <td>0.526342</td>\n",
       "      <td>0.741382</td>\n",
       "    </tr>\n",
       "  </tbody>\n",
       "</table>\n",
       "</div>"
      ],
      "text/plain": [
       "                                               Model      F1-1     AUROC\n",
       "0                     Decision Trees - Random Forest  0.461339  0.768458\n",
       "1               Logistic Regression (Optimal Cutoff)  0.527665  0.765244\n",
       "2                              SVM-RBF (Grid Search)  0.482247  0.748465\n",
       "3  Neural Network - 17x8x8x1 Adam, Entropy, 20 Ep...  0.535834  0.741382\n",
       "5                                        Naive Bayes  0.526342  0.741382"
      ]
     },
     "execution_count": 107,
     "metadata": {},
     "output_type": "execute_result"
    }
   ],
   "source": [
    "evaluation.loc[3] = ([\"Neural Network - 17x8x8x1 Adam, Entropy, 20 Epochs\" , \n",
    "                      classification_report(y_test, predictions, output_dict = True)[\"1\"][\"f1-score\"],\n",
    "                      auroc])\n",
    "\n",
    "evaluation"
   ]
  },
  {
   "cell_type": "markdown",
   "metadata": {},
   "source": [
    "### Naive Bayes\n",
    "#### Theory\n",
    "Naive Bayes classifier is a probabilistic machine learning model used for classification. The crux of the classifier is based on the Bayes theorem.\n",
    "##### Bayes Theorem:\n",
    "![image.png](https://miro.medium.com/max/510/1*tjcmj9cDQ-rHXAtxCu5bRQ.png)\n",
    "Using the Bayes theorem, we can find the probability of A happening, given that B has occured.\n",
    "One assumption about naive bayes is that the predictors/features are independent."
   ]
  },
  {
   "cell_type": "markdown",
   "metadata": {},
   "source": [
    "#### Training the Naive bayes model"
   ]
  },
  {
   "cell_type": "code",
   "execution_count": 97,
   "metadata": {},
   "outputs": [],
   "source": [
    "from sklearn import datasets\n",
    "from sklearn import metrics\n",
    "import matplotlib.pyplot as plt\n",
    "import time\n",
    "from sklearn.naive_bayes import GaussianNB, BernoulliNB, MultinomialNB\n",
    "\n",
    "gnb = GaussianNB()"
   ]
  },
  {
   "cell_type": "code",
   "execution_count": 98,
   "metadata": {},
   "outputs": [
    {
     "data": {
      "text/plain": [
       "GaussianNB(priors=None, var_smoothing=1e-09)"
      ]
     },
     "execution_count": 98,
     "metadata": {},
     "output_type": "execute_result"
    }
   ],
   "source": [
    "#training naive bayes model\n",
    "gnb.fit(X_train, y_train)"
   ]
  },
  {
   "cell_type": "code",
   "execution_count": 99,
   "metadata": {},
   "outputs": [],
   "source": [
    "#classifying values\n",
    "predicted = gnb.predict(X_train)\n",
    "expected = y_train"
   ]
  },
  {
   "cell_type": "code",
   "execution_count": 100,
   "metadata": {},
   "outputs": [
    {
     "name": "stdout",
     "output_type": "stream",
     "text": [
      "Optimal Threshold: 0.9999935527715175\n"
     ]
    },
    {
     "data": {
      "image/png": "[encoded data removed]",
      "text/plain": [
       "<Figure size 432x288 with 1 Axes>"
      ]
     },
     "metadata": {
      "needs_background": "light"
     },
     "output_type": "display_data"
    }
   ],
   "source": [
    "#plot roc for naive Bayes\n",
    "auroc = get_roc(gnb, y_test, X_test, \"Naive Bayes\")"
   ]
  },
  {
   "cell_type": "code",
   "execution_count": 101,
   "metadata": {},
   "outputs": [
    {
     "name": "stdout",
     "output_type": "stream",
     "text": [
      "              precision    recall  f1-score   support\n",
      "\n",
      "           0       0.91      0.11      0.20     13442\n",
      "           1       0.25      0.96      0.39      4054\n",
      "\n",
      "    accuracy                           0.31     17496\n",
      "   macro avg       0.58      0.54      0.29     17496\n",
      "weighted avg       0.76      0.31      0.24     17496\n",
      "\n"
     ]
    }
   ],
   "source": [
    "#accessing model performance\n",
    "#print(metrics.confusion_matrix(expected, predicted))\n",
    "print(classification_report(y_train,gnb.predict(X_train)))"
   ]
  },
  {
   "cell_type": "markdown",
   "metadata": {},
   "source": [
    "We observe that while the recall is 0.96, the f1 is 0.39 and the overall accuracy is atrocious. \n",
    "\n",
    "We will now try searching for the smoothing parameter to achieve a better ROC and F1 on default. After some experimentation we found that 0.01 is a good value for this parameter."
   ]
  },
  {
   "cell_type": "code",
   "execution_count": 102,
   "metadata": {},
   "outputs": [
    {
     "name": "stdout",
     "output_type": "stream",
     "text": [
      "Optimal Threshold: 0.038218795916133315\n"
     ]
    },
    {
     "data": {
      "image/png": "[encoded data removed]",
      "text/plain": [
       "<Figure size 432x288 with 1 Axes>"
      ]
     },
     "metadata": {
      "needs_background": "light"
     },
     "output_type": "display_data"
    },
    {
     "name": "stdout",
     "output_type": "stream",
     "text": [
      "              precision    recall  f1-score   support\n",
      "\n",
      "           0       0.86      0.85      0.85     13442\n",
      "           1       0.52      0.52      0.52      4054\n",
      "\n",
      "    accuracy                           0.78     17496\n",
      "   macro avg       0.69      0.69      0.69     17496\n",
      "weighted avg       0.78      0.78      0.78     17496\n",
      "\n"
     ]
    }
   ],
   "source": [
    "gnb = GaussianNB(var_smoothing = 0.01)\n",
    "#experimenting with smoothing constant of naive bayes model on the training set.\n",
    "gnb.fit(X_train, y_train)\n",
    "auroc = get_roc(gnb, y_test, X_test, \"Naive Bayes\")\n",
    "print(classification_report(y_train,gnb.predict(X_train)))"
   ]
  },
  {
   "cell_type": "markdown",
   "metadata": {},
   "source": [
    "Smoothing constant of 0.01 allowed us to acheieve a recall and f1 of 0.52 on the training set. Applied on the test set:"
   ]
  },
  {
   "cell_type": "code",
   "execution_count": 103,
   "metadata": {},
   "outputs": [
    {
     "name": "stdout",
     "output_type": "stream",
     "text": [
      "Optimal Threshold: 0.038218795916133315\n"
     ]
    },
    {
     "data": {
      "image/png": "[encoded data removed]",
      "text/plain": [
       "<Figure size 432x288 with 1 Axes>"
      ]
     },
     "metadata": {
      "needs_background": "light"
     },
     "output_type": "display_data"
    },
    {
     "name": "stdout",
     "output_type": "stream",
     "text": [
      "              precision    recall  f1-score   support\n",
      "\n",
      "           0       0.86      0.86      0.86      6762\n",
      "           1       0.52      0.53      0.53      1987\n",
      "\n",
      "    accuracy                           0.78      8749\n",
      "   macro avg       0.69      0.69      0.69      8749\n",
      "weighted avg       0.78      0.78      0.78      8749\n",
      "\n"
     ]
    }
   ],
   "source": [
    "#plot roc for naive Bayes\n",
    "auroc = get_roc(gnb, y_test, X_test, \"Naive Bayes\")\n",
    "print(classification_report(y_test,gnb.predict(X_test)))"
   ]
  },
  {
   "cell_type": "code",
   "execution_count": 104,
   "metadata": {},
   "outputs": [],
   "source": [
    "evaluation.loc[5] = ([\"Naive Bayes\" , \n",
    "                      classification_report(y_test, gnb.predict(X_test), output_dict = True)[\"1\"][\"f1-score\"],\n",
    "                      auroc])\n"
   ]
  },
  {
   "cell_type": "code",
   "execution_count": 105,
   "metadata": {},
   "outputs": [
    {
     "data": {
      "text/html": [
       "<div>\n",
       "<style scoped>\n",
       "    .dataframe tbody tr th:only-of-type {\n",
       "        vertical-align: middle;\n",
       "    }\n",
       "\n",
       "    .dataframe tbody tr th {\n",
       "        vertical-align: top;\n",
       "    }\n",
       "\n",
       "    .dataframe thead th {\n",
       "        text-align: right;\n",
       "    }\n",
       "</style>\n",
       "<table border=\"1\" class=\"dataframe\">\n",
       "  <thead>\n",
       "    <tr style=\"text-align: right;\">\n",
       "      <th></th>\n",
       "      <th>Model</th>\n",
       "      <th>F1-1</th>\n",
       "      <th>AUROC</th>\n",
       "    </tr>\n",
       "  </thead>\n",
       "  <tbody>\n",
       "    <tr>\n",
       "      <td>0</td>\n",
       "      <td>Decision Trees - Random Forest</td>\n",
       "      <td>0.461339</td>\n",
       "      <td>0.768458</td>\n",
       "    </tr>\n",
       "    <tr>\n",
       "      <td>1</td>\n",
       "      <td>Logistic Regression (Optimal Cutoff)</td>\n",
       "      <td>0.527665</td>\n",
       "      <td>0.765244</td>\n",
       "    </tr>\n",
       "    <tr>\n",
       "      <td>3</td>\n",
       "      <td>Neural Network 17x8x8x1</td>\n",
       "      <td>0.535834</td>\n",
       "      <td>0.761854</td>\n",
       "    </tr>\n",
       "    <tr>\n",
       "      <td>2</td>\n",
       "      <td>SVM-RBF (Grid Search)</td>\n",
       "      <td>0.482247</td>\n",
       "      <td>0.748465</td>\n",
       "    </tr>\n",
       "    <tr>\n",
       "      <td>5</td>\n",
       "      <td>Naive Bayes</td>\n",
       "      <td>0.526342</td>\n",
       "      <td>0.741382</td>\n",
       "    </tr>\n",
       "  </tbody>\n",
       "</table>\n",
       "</div>"
      ],
      "text/plain": [
       "                                  Model      F1-1     AUROC\n",
       "0        Decision Trees - Random Forest  0.461339  0.768458\n",
       "1  Logistic Regression (Optimal Cutoff)  0.527665  0.765244\n",
       "3               Neural Network 17x8x8x1  0.535834  0.761854\n",
       "2                 SVM-RBF (Grid Search)  0.482247  0.748465\n",
       "5                           Naive Bayes  0.526342  0.741382"
      ]
     },
     "execution_count": 105,
     "metadata": {},
     "output_type": "execute_result"
    }
   ],
   "source": [
    "evaluation.sort_values([\"AUROC\"], ascending = False)"
   ]
  },
  {
   "cell_type": "code",
   "execution_count": 106,
   "metadata": {},
   "outputs": [
    {
     "ename": "Exception",
     "evalue": "Stop Running",
     "output_type": "error",
     "traceback": [
      "\u001b[1;31m---------------------------------------------------------------------------\u001b[0m",
      "\u001b[1;31mException\u001b[0m                                 Traceback (most recent call last)",
      "\u001b[1;32m<ipython-input-106-c8b15946227a>\u001b[0m in \u001b[0;36m<module>\u001b[1;34m\u001b[0m\n\u001b[1;32m----> 1\u001b[1;33m \u001b[1;32mraise\u001b[0m\u001b[1;33m(\u001b[0m\u001b[0mException\u001b[0m\u001b[1;33m(\u001b[0m\u001b[1;34m\"Stop Running\"\u001b[0m\u001b[1;33m)\u001b[0m\u001b[1;33m)\u001b[0m\u001b[1;33m\u001b[0m\u001b[1;33m\u001b[0m\u001b[0m\n\u001b[0m",
      "\u001b[1;31mException\u001b[0m: Stop Running"
     ]
    }
   ],
   "source": [
    "raise(Exception(\"Stop Running\"))"
   ]
  },
  {
   "cell_type": "markdown",
   "metadata": {},
   "source": [
    "## Appendix: Tuning Neural Network with different optimisers \n",
    "### Adamax Optimizer"
   ]
  },
  {
   "cell_type": "code",
   "execution_count": null,
   "metadata": {},
   "outputs": [],
   "source": [
    "model = Sequential()\n",
    "model.add(Dense(12, input_dim=46, activation='relu'))\n",
    "model.add(Dense(8, activation='relu'))\n",
    "model.add(Dense(1, activation='sigmoid'))\n",
    "# compile the keras model\n",
    "model.compile(loss='binary_crossentropy', optimizer='adamax', metrics=['accuracy'])\n",
    "# fit the keras model on the dataset\n",
    "model.fit(X_train, y_train, epochs=10, batch_size=10)\n",
    "predictions = list(model.predict(X_test).ravel() > 0.5)\n",
    "#confusion(y_test, model.predict(X_test[sig.index]), \"Deep Learning Keras Model\")\n",
    "auroc = get_roc(model, y_test, X_test, \"Tuning Keras Model\")\n",
    "\n",
    "print(classification_report(y_test,predictions))"
   ]
  },
  {
   "cell_type": "markdown",
   "metadata": {},
   "source": [
    "### Adadelta Optimizer"
   ]
  },
  {
   "cell_type": "code",
   "execution_count": null,
   "metadata": {},
   "outputs": [],
   "source": [
    "model = Sequential()\n",
    "model.add(Dense(12, input_dim=46, activation='relu'))\n",
    "model.add(Dense(8, activation='relu'))\n",
    "model.add(Dense(8, activation='relu'))\n",
    "model.add(Dense(8, activation='relu'))\n",
    "model.add(Dense(1, activation='sigmoid'))\n",
    "# compile the keras model\n",
    "model.compile(loss='binary_crossentropy', optimizer='adadelta', metrics=['accuracy'])\n",
    "# fit the keras model on the dataset\n",
    "model.fit(X_train, y_train, epochs=10, batch_size=10)\n",
    "predictions = list(model.predict(X_test).ravel() > 0.5)\n",
    "#confusion(y_test, model.predict(X_test[sig.index]), \"Deep Learning Keras Model\")\n",
    "auroc = get_roc(model, y_test, X_test, \"Tuning Keras Model\")\n",
    "\n",
    "print(classification_report(y_test,predictions))"
   ]
  },
  {
   "cell_type": "markdown",
   "metadata": {},
   "source": [
    "### Adagrad Optimzier"
   ]
  },
  {
   "cell_type": "code",
   "execution_count": null,
   "metadata": {},
   "outputs": [],
   "source": [
    "model = Sequential()\n",
    "model.add(Dense(12, input_dim=46, activation='relu'))\n",
    "model.add(Dense(8, activation='relu'))\n",
    "model.add(Dense(8, activation='relu'))\n",
    "model.add(Dense(8, activation='relu'))\n",
    "model.add(Dense(1, activation='sigmoid'))\n",
    "# compile the keras model\n",
    "model.compile(loss='binary_crossentropy', optimizer='adagrad', metrics=['accuracy'])\n",
    "# fit the keras model on the dataset\n",
    "model.fit(X_train, y_train, epochs=10, batch_size=10)\n",
    "predictions = list(model.predict(X_test).ravel() > 0.5)\n",
    "#confusion(y_test, model.predict(X_test[sig.index]), \"Deep Learning Keras Model\")\n",
    "auroc = get_roc(model, y_test, X_test, \"Tuning Keras Model\")\n",
    "\n",
    "print(classification_report(y_test,predictions))\n",
    "\n"
   ]
  },
  {
   "cell_type": "markdown",
   "metadata": {},
   "source": [
    "### RMSProp"
   ]
  },
  {
   "cell_type": "code",
   "execution_count": null,
   "metadata": {},
   "outputs": [],
   "source": [
    "model = Sequential()\n",
    "model.add(Dense(12, input_dim=46, activation='relu'))\n",
    "model.add(Dense(8, activation='relu'))\n",
    "model.add(Dense(8, activation='relu'))\n",
    "model.add(Dense(8, activation='relu'))\n",
    "model.add(Dense(1, activation='sigmoid'))\n",
    "# compile the keras model\n",
    "model.compile(loss='binary_crossentropy', optimizer='rmsprop', metrics=['accuracy'])\n",
    "# fit the keras model on the dataset\n",
    "model.fit(X_train, y_train, epochs=10, batch_size=10)\n",
    "predictions = list(model.predict(X_test).ravel() > 0.5)\n",
    "#confusion(y_test, model.predict(X_test[sig.index]), \"Deep Learning Keras Model\")\n",
    "auroc = get_roc(model, y_test, X_test, \"Tuning Keras Model\")\n",
    "\n",
    "print(classification_report(y_test,predictions))"
   ]
  },
  {
   "cell_type": "markdown",
   "metadata": {},
   "source": [
    "### SGD"
   ]
  },
  {
   "cell_type": "code",
   "execution_count": null,
   "metadata": {},
   "outputs": [],
   "source": [
    "model = Sequential()\n",
    "model.add(Dense(12, input_dim=46, activation='relu'))\n",
    "model.add(Dense(8, activation='relu'))\n",
    "model.add(Dense(8, activation='relu'))\n",
    "model.add(Dense(8, activation='relu'))\n",
    "model.add(Dense(1, activation='sigmoid'))\n",
    "# compile the keras model\n",
    "model.compile(loss='binary_crossentropy', optimizer='sgd', metrics=['accuracy'])\n",
    "# fit the keras model on the dataset\n",
    "model.fit(X_train, y_train, epochs=10, batch_size=10)\n",
    "predictions = list(model.predict(X_test).ravel() > 0.5)\n",
    "#confusion(y_test, model.predict(X_test[sig.index]), \"Deep Learning Keras Model\")\n",
    "auroc = get_roc(model, y_test, X_test, \"Tuning Keras Model\")\n",
    "\n",
    "print(classification_report(y_test,predictions))"
   ]
  },
  {
   "cell_type": "markdown",
   "metadata": {},
   "source": [
    "#### We conclude that best optimizer is adagrad. Testing it on the test set."
   ]
  },
  {
   "cell_type": "code",
   "execution_count": null,
   "metadata": {},
   "outputs": [],
   "source": [
    "model = Sequential()\n",
    "model.add(Dense(12, input_dim=17, activation='relu'))\n",
    "model.add(Dense(8, activation='relu'))\n",
    "model.add(Dense(8, activation='relu'))\n",
    "model.add(Dense(8, activation='relu'))\n",
    "model.add(Dense(1, activation='sigmoid'))\n",
    "# compile the keras model\n",
    "model.compile(loss='binary_crossentropy', optimizer='adagrad', metrics=['accuracy'])\n",
    "# fit the keras model on the dataset\n",
    "model.fit(X_train_filter, y_train, epochs=10, batch_size=10)\n",
    "predictions = list(model.predict(X_test_filter).ravel() > 0.5)\n",
    "#confusion(y_test, model.predict(X_test[sig.index]), \"Deep Learning Keras Model\")\n",
    "auroc = get_roc(model, y_test, X_test_filter, \"Neural Network - adagrad (filtered features)\")\n",
    "\n",
    "print(classification_report(y_test,predictions))\n",
    "\n",
    "evaluation.loc[6] = ([\"Neural Network - adagrad\" , \n",
    "                      classification_report(y_test, predictions, output_dict = True)[\"1\"][\"recall\"],\n",
    "                      auroc])\n",
    "\n",
    "evaluation"
   ]
  },
  {
   "cell_type": "code",
   "execution_count": null,
   "metadata": {},
   "outputs": [],
   "source": [
    "model = Sequential()\n",
    "model.add(Dense(12, input_dim=46, activation='relu'))\n",
    "model.add(Dense(8, activation='relu'))\n",
    "model.add(Dense(8, activation='relu'))\n",
    "model.add(Dense(8, activation='relu'))\n",
    "model.add(Dense(1, activation='sigmoid'))\n",
    "# compile the keras model\n",
    "model.compile(loss='binary_crossentropy', optimizer='adagrad', metrics=['accuracy'])\n",
    "# fit the keras model on the dataset\n",
    "model.fit(X_train, y_train, epochs=10, batch_size=10)\n",
    "predictions = list(model.predict(X_test).ravel() > 0.5)\n",
    "#confusion(y_test, model.predict(X_test[sig.index]), \"Deep Learning Keras Model\")\n",
    "auroc = get_roc(model, y_test, X_test, \"Neural Network - adagrad (all features)\")\n",
    "\n",
    "print(classification_report(y_test,predictions))\n",
    "\n",
    "\n",
    "evaluation.loc[6] = ([\"Neural Network - adagrad\" , \n",
    "                      classification_report(y_test, predictions, output_dict = True)[\"1\"][\"recall\"],\n",
    "                      auroc])\n",
    "\n",
    "evaluation\n"
   ]
  }
 ],
 "metadata": {
  "colab": {
   "collapsed_sections": [],
   "name": "BT2101 disrudy ",
   "provenance": []
  },
  "kernelspec": {
   "display_name": "Python 3",
   "language": "python",
   "name": "python3"
  },
  "language_info": {
   "codemirror_mode": {
    "name": "ipython",
    "version": 3
   },
   "file_extension": ".py",
   "mimetype": "text/x-python",
   "name": "python",
   "nbconvert_exporter": "python",
   "pygments_lexer": "ipython3",
   "version": "3.7.1"
  }
 },
 "nbformat": 4,
 "nbformat_minor": 1
}
