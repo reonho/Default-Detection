{
 "cells": [
  {
   "cell_type": "markdown",
   "metadata": {
    "colab_type": "text",
    "id": "-4Rm0wjQMUHi"
   },
   "source": [
    "# BUILDING A DEFUALT DETECTION MODEL\n",
    "\n",
    "---\n",
    "\n",
    "\n",
    "\n",
    "## Table of Contents\n",
    "1. Problem Description (Brief Write Up)\n",
    "2. Exploratory Data Analysis (EDA)\n",
    "3. Data Pre-processing\n",
    "4. Model Selection\n",
    "5. Evaluation\n",
    "6. Discussion and Possible Improvements\n",
    "\n",
    "## 1. Problem Description\n",
    "\n",
    "The goal of this project is to predict a binary target feature (default or not) valued 0 (= not default) or 1 (= default). This project will cover the entire data science pipeline, from data analysis to model evaluation. We will be trying several models to predict default status, and choosing the most appropriate one at the end. \n",
    "\n",
    "The data set we will be working on contains payment information of 30,000 credit card holders obtained from a bank in Taiwan, and each data sample is described by 23 feature attributes and the binary target feature (default or not).\n",
    "\n",
    "The 23 explanatory attributes and their explanations (from the data provider) are as follows:\n",
    "\n",
    "### X1 - X5: Indivual attributes of customer\n",
    "\n",
    "X1: Amount of the given credit (NT dollar): it includes both the individual consumer credit and his/her family (supplementary) credit. \n",
    "\n",
    "X2: Gender (1 = male; 2 = female). \n",
    "\n",
    "X3: Education (1 = graduate school; 2 = university; 3 = high school; 4 = others). \n",
    "\n",
    "X4: Marital status (1 = married; 2 = single; 3 = others). \n",
    "\n",
    "X5: Age (year). \n",
    "\n",
    "### X6 - X11: Repayment history from April to Septemeber 2005\n",
    "The measurement scale for the repayment status is: -1 = pay duly; 1 = payment delay for one month; 2 = payment delay for two months, . . . 8 = payment delay for eight months; 9 = payment delay for nine months and above.\n",
    "\n",
    "\n",
    "X6 = the repayment status in September, 2005\n",
    "\n",
    "X7 = the repayment status in August, 2005\n",
    "\n",
    "X8 = the repayment status in July, 2005\n",
    "\n",
    "X9 = the repayment status in June, 2005\n",
    "\n",
    "X10 = the repayment status in May, 2005\n",
    "\n",
    "X11 = the repayment status in April, 2005. \n",
    "\n",
    "### X12 - X17: Amount of bill statement (NT dollar) from April to September 2005\n",
    "\n",
    "X12 = amount of bill statement in September, 2005; \n",
    "\n",
    "X13 = amount of bill statement in August, 2005\n",
    "\n",
    ". . .\n",
    "\n",
    "X17 = amount of bill statement in April, 2005. \n",
    "\n",
    "### X18 - X23: Amount of previous payment (NT dollar)\n",
    "X18 = amount paid in September, 2005\n",
    "\n",
    "X19 = amount paid in August, 2005\n",
    "\n",
    ". . .\n",
    "\n",
    "X23 = amount paid in April, 2005. \n"
   ]
  },
  {
   "cell_type": "markdown",
   "metadata": {
    "colab_type": "text",
    "id": "aM_aIU6UPHe4"
   },
   "source": [
    "## EDA\n",
    "\n",
    "In this section we will explore the data set, its shape and its features to get an idea of the data.\n",
    "\n",
    "### Importing packages and the dataset"
   ]
  },
  {
   "cell_type": "code",
   "execution_count": 1,
   "metadata": {
    "colab": {},
    "colab_type": "code",
    "id": "Is0wEkk3LJCt"
   },
   "outputs": [],
   "source": [
    "import pandas as pd"
   ]
  },
  {
   "cell_type": "code",
   "execution_count": 2,
   "metadata": {
    "colab": {},
    "colab_type": "code",
    "id": "x_Z7u_9vRC5m"
   },
   "outputs": [],
   "source": [
    "import matplotlib.pyplot as plt\n",
    "import seaborn as sns"
   ]
  },
  {
   "cell_type": "code",
   "execution_count": 3,
   "metadata": {},
   "outputs": [],
   "source": [
    "import numpy as np"
   ]
  },
  {
   "cell_type": "code",
   "execution_count": 4,
   "metadata": {
    "colab": {},
    "colab_type": "code",
    "id": "KhmX9KWWyrUW"
   },
   "outputs": [],
   "source": [
    "url = 'https://raw.githubusercontent.com/reonho/bt2101disrudy/master/card.csv'\n",
    "df = pd.read_csv(url,  header = 1, index_col = 0)\n",
    "# Dataset is now stored in a Pandas Dataframe"
   ]
  },
  {
   "cell_type": "code",
   "execution_count": 5,
   "metadata": {
    "colab": {
     "base_uri": "https://localhost:8080/",
     "height": 255
    },
    "colab_type": "code",
    "id": "FhJ2eAxVQhBm",
    "outputId": "7f79bb40-f08f-4709-e7d4-1f747bb8af2f"
   },
   "outputs": [
    {
     "data": {
      "text/html": [
       "<div>\n",
       "<style scoped>\n",
       "    .dataframe tbody tr th:only-of-type {\n",
       "        vertical-align: middle;\n",
       "    }\n",
       "\n",
       "    .dataframe tbody tr th {\n",
       "        vertical-align: top;\n",
       "    }\n",
       "\n",
       "    .dataframe thead th {\n",
       "        text-align: right;\n",
       "    }\n",
       "</style>\n",
       "<table border=\"1\" class=\"dataframe\">\n",
       "  <thead>\n",
       "    <tr style=\"text-align: right;\">\n",
       "      <th></th>\n",
       "      <th>LIMIT_BAL</th>\n",
       "      <th>SEX</th>\n",
       "      <th>EDUCATION</th>\n",
       "      <th>MARRIAGE</th>\n",
       "      <th>AGE</th>\n",
       "      <th>PAY_0</th>\n",
       "      <th>PAY_2</th>\n",
       "      <th>PAY_3</th>\n",
       "      <th>PAY_4</th>\n",
       "      <th>PAY_5</th>\n",
       "      <th>...</th>\n",
       "      <th>BILL_AMT4</th>\n",
       "      <th>BILL_AMT5</th>\n",
       "      <th>BILL_AMT6</th>\n",
       "      <th>PAY_AMT1</th>\n",
       "      <th>PAY_AMT2</th>\n",
       "      <th>PAY_AMT3</th>\n",
       "      <th>PAY_AMT4</th>\n",
       "      <th>PAY_AMT5</th>\n",
       "      <th>PAY_AMT6</th>\n",
       "      <th>Y</th>\n",
       "    </tr>\n",
       "    <tr>\n",
       "      <th>ID</th>\n",
       "      <th></th>\n",
       "      <th></th>\n",
       "      <th></th>\n",
       "      <th></th>\n",
       "      <th></th>\n",
       "      <th></th>\n",
       "      <th></th>\n",
       "      <th></th>\n",
       "      <th></th>\n",
       "      <th></th>\n",
       "      <th></th>\n",
       "      <th></th>\n",
       "      <th></th>\n",
       "      <th></th>\n",
       "      <th></th>\n",
       "      <th></th>\n",
       "      <th></th>\n",
       "      <th></th>\n",
       "      <th></th>\n",
       "      <th></th>\n",
       "      <th></th>\n",
       "    </tr>\n",
       "  </thead>\n",
       "  <tbody>\n",
       "    <tr>\n",
       "      <td>1</td>\n",
       "      <td>20000</td>\n",
       "      <td>2</td>\n",
       "      <td>2</td>\n",
       "      <td>1</td>\n",
       "      <td>24</td>\n",
       "      <td>2</td>\n",
       "      <td>2</td>\n",
       "      <td>-1</td>\n",
       "      <td>-1</td>\n",
       "      <td>-2</td>\n",
       "      <td>...</td>\n",
       "      <td>0</td>\n",
       "      <td>0</td>\n",
       "      <td>0</td>\n",
       "      <td>0</td>\n",
       "      <td>689</td>\n",
       "      <td>0</td>\n",
       "      <td>0</td>\n",
       "      <td>0</td>\n",
       "      <td>0</td>\n",
       "      <td>1</td>\n",
       "    </tr>\n",
       "    <tr>\n",
       "      <td>2</td>\n",
       "      <td>120000</td>\n",
       "      <td>2</td>\n",
       "      <td>2</td>\n",
       "      <td>2</td>\n",
       "      <td>26</td>\n",
       "      <td>-1</td>\n",
       "      <td>2</td>\n",
       "      <td>0</td>\n",
       "      <td>0</td>\n",
       "      <td>0</td>\n",
       "      <td>...</td>\n",
       "      <td>3272</td>\n",
       "      <td>3455</td>\n",
       "      <td>3261</td>\n",
       "      <td>0</td>\n",
       "      <td>1000</td>\n",
       "      <td>1000</td>\n",
       "      <td>1000</td>\n",
       "      <td>0</td>\n",
       "      <td>2000</td>\n",
       "      <td>1</td>\n",
       "    </tr>\n",
       "    <tr>\n",
       "      <td>3</td>\n",
       "      <td>90000</td>\n",
       "      <td>2</td>\n",
       "      <td>2</td>\n",
       "      <td>2</td>\n",
       "      <td>34</td>\n",
       "      <td>0</td>\n",
       "      <td>0</td>\n",
       "      <td>0</td>\n",
       "      <td>0</td>\n",
       "      <td>0</td>\n",
       "      <td>...</td>\n",
       "      <td>14331</td>\n",
       "      <td>14948</td>\n",
       "      <td>15549</td>\n",
       "      <td>1518</td>\n",
       "      <td>1500</td>\n",
       "      <td>1000</td>\n",
       "      <td>1000</td>\n",
       "      <td>1000</td>\n",
       "      <td>5000</td>\n",
       "      <td>0</td>\n",
       "    </tr>\n",
       "    <tr>\n",
       "      <td>4</td>\n",
       "      <td>50000</td>\n",
       "      <td>2</td>\n",
       "      <td>2</td>\n",
       "      <td>1</td>\n",
       "      <td>37</td>\n",
       "      <td>0</td>\n",
       "      <td>0</td>\n",
       "      <td>0</td>\n",
       "      <td>0</td>\n",
       "      <td>0</td>\n",
       "      <td>...</td>\n",
       "      <td>28314</td>\n",
       "      <td>28959</td>\n",
       "      <td>29547</td>\n",
       "      <td>2000</td>\n",
       "      <td>2019</td>\n",
       "      <td>1200</td>\n",
       "      <td>1100</td>\n",
       "      <td>1069</td>\n",
       "      <td>1000</td>\n",
       "      <td>0</td>\n",
       "    </tr>\n",
       "    <tr>\n",
       "      <td>5</td>\n",
       "      <td>50000</td>\n",
       "      <td>1</td>\n",
       "      <td>2</td>\n",
       "      <td>1</td>\n",
       "      <td>57</td>\n",
       "      <td>-1</td>\n",
       "      <td>0</td>\n",
       "      <td>-1</td>\n",
       "      <td>0</td>\n",
       "      <td>0</td>\n",
       "      <td>...</td>\n",
       "      <td>20940</td>\n",
       "      <td>19146</td>\n",
       "      <td>19131</td>\n",
       "      <td>2000</td>\n",
       "      <td>36681</td>\n",
       "      <td>10000</td>\n",
       "      <td>9000</td>\n",
       "      <td>689</td>\n",
       "      <td>679</td>\n",
       "      <td>0</td>\n",
       "    </tr>\n",
       "  </tbody>\n",
       "</table>\n",
       "<p>5 rows × 24 columns</p>\n",
       "</div>"
      ],
      "text/plain": [
       "    LIMIT_BAL  SEX  EDUCATION  MARRIAGE  AGE  PAY_0  PAY_2  PAY_3  PAY_4  \\\n",
       "ID                                                                         \n",
       "1       20000    2          2         1   24      2      2     -1     -1   \n",
       "2      120000    2          2         2   26     -1      2      0      0   \n",
       "3       90000    2          2         2   34      0      0      0      0   \n",
       "4       50000    2          2         1   37      0      0      0      0   \n",
       "5       50000    1          2         1   57     -1      0     -1      0   \n",
       "\n",
       "    PAY_5  ...  BILL_AMT4  BILL_AMT5  BILL_AMT6  PAY_AMT1  PAY_AMT2  PAY_AMT3  \\\n",
       "ID         ...                                                                  \n",
       "1      -2  ...          0          0          0         0       689         0   \n",
       "2       0  ...       3272       3455       3261         0      1000      1000   \n",
       "3       0  ...      14331      14948      15549      1518      1500      1000   \n",
       "4       0  ...      28314      28959      29547      2000      2019      1200   \n",
       "5       0  ...      20940      19146      19131      2000     36681     10000   \n",
       "\n",
       "    PAY_AMT4  PAY_AMT5  PAY_AMT6  Y  \n",
       "ID                                   \n",
       "1          0         0         0  1  \n",
       "2       1000         0      2000  1  \n",
       "3       1000      1000      5000  0  \n",
       "4       1100      1069      1000  0  \n",
       "5       9000       689       679  0  \n",
       "\n",
       "[5 rows x 24 columns]"
      ]
     },
     "execution_count": 5,
     "metadata": {},
     "output_type": "execute_result"
    }
   ],
   "source": [
    "#rename the target variable to \"Y\" for convenience\n",
    "df[\"Y\"] = df[\"default payment next month\"] \n",
    "df = df.drop(\"default payment next month\", axis = 1)\n",
    "df0 = df #backup of df\n",
    "df.head()"
   ]
  },
  {
   "cell_type": "code",
   "execution_count": 6,
   "metadata": {
    "colab": {
     "base_uri": "https://localhost:8080/",
     "height": 34
    },
    "colab_type": "code",
    "id": "zcuPyfM86AKj",
    "outputId": "89bb2e37-a3ba-43e5-99a7-6917f24acc3f",
    "scrolled": true
   },
   "outputs": [
    {
     "name": "stdout",
     "output_type": "stream",
     "text": [
      "Data has 24 Columns and 30000 Rows\n"
     ]
    }
   ],
   "source": [
    "size = df.shape\n",
    "print(\"Data has {} Columns and {} Rows\".format(size[1], size[0]))"
   ]
  },
  {
   "cell_type": "code",
   "execution_count": 7,
   "metadata": {
    "colab": {
     "base_uri": "https://localhost:8080/",
     "height": 34
    },
    "colab_type": "code",
    "id": "QVaSnvJP3VbO",
    "outputId": "4bf72e64-2d0c-41c3-85b5-3bd6e70920d3"
   },
   "outputs": [
    {
     "data": {
      "text/plain": [
       "0"
      ]
     },
     "execution_count": 7,
     "metadata": {},
     "output_type": "execute_result"
    }
   ],
   "source": [
    "#check for null values\n",
    "df.isnull().any().sum() "
   ]
  },
  {
   "cell_type": "markdown",
   "metadata": {
    "colab_type": "text",
    "id": "eVYXnIGH9Zq6"
   },
   "source": [
    "From the above analyses, we observe that:\n",
    "1. The data indeed has 30000 rows and 24 columns\n",
    "2. There are no null values\n",
    "\n",
    "We will now explore the features more in depth."
   ]
  },
  {
   "cell_type": "markdown",
   "metadata": {
    "colab_type": "text",
    "id": "W6hhPNl1Slau"
   },
   "source": [
    "### Exploring the features"
   ]
  },
  {
   "cell_type": "markdown",
   "metadata": {
    "colab_type": "text",
    "id": "1Sp2F3gzXX2F"
   },
   "source": [
    "**1) Exploring target attribute:**\n"
   ]
  },
  {
   "cell_type": "code",
   "execution_count": 8,
   "metadata": {
    "colab": {
     "base_uri": "https://localhost:8080/",
     "height": 51
    },
    "colab_type": "code",
    "id": "DCSEICWwXWgX",
    "outputId": "9545da56-f31b-48f2-a271-db0e18677beb"
   },
   "outputs": [
    {
     "name": "stdout",
     "output_type": "stream",
     "text": [
      "defaults : 22.12 %\n",
      "non defaults : 77.88000000000001 %\n"
     ]
    },
    {
     "data": {
      "text/plain": [
       "Text(0, 0.5, 'Frequency')"
      ]
     },
     "execution_count": 8,
     "metadata": {},
     "output_type": "execute_result"
    },
    {
     "data": {
      "image/png": "[encoded data removed]",
      "text/plain": [
       "<Figure size 432x288 with 1 Axes>"
      ]
     },
     "metadata": {
      "needs_background": "light"
     },
     "output_type": "display_data"
    }
   ],
   "source": [
    "All = df.shape[0]\n",
    "default = df[df['Y'] == 1]\n",
    "nondefault = df[df['Y'] == 0]\n",
    "\n",
    "x = len(default)/All\n",
    "y = len(nondefault)/All\n",
    "\n",
    "print('defaults :',x*100,'%')\n",
    "print('non defaults :',y*100,'%')\n",
    "\n",
    "# plotting target attribute against frequency\n",
    "labels = ['non default','default']\n",
    "classes = pd.value_counts(df['Y'], sort = True)\n",
    "classes.plot(kind = 'bar', rot=0)\n",
    "plt.title(\"Target attribute distribution\")\n",
    "plt.xticks(range(2), labels)\n",
    "plt.xlabel(\"Class\")\n",
    "plt.ylabel(\"Frequency\")"
   ]
  },
  {
   "cell_type": "markdown",
   "metadata": {
    "colab_type": "text",
    "id": "tysR0WHw4SGU"
   },
   "source": [
    "**2) Exploring categorical attributes**\n",
    "\n",
    "Categorical attributes are:\n",
    "- Sex\n",
    "- Education\n",
    "- Marriage"
   ]
  },
  {
   "cell_type": "code",
   "execution_count": 9,
   "metadata": {
    "colab": {
     "base_uri": "https://localhost:8080/",
     "height": 323
    },
    "colab_type": "code",
    "id": "s61SSRII00UB",
    "outputId": "69df981f-8c36-43a9-d155-a6553adbba0b",
    "scrolled": true
   },
   "outputs": [
    {
     "name": "stdout",
     "output_type": "stream",
     "text": [
      "2    60.373333\n",
      "1    39.626667\n",
      "Name: SEX, dtype: float64\n",
      "--------------------------------------------------------\n",
      "2    46.766667\n",
      "1    35.283333\n",
      "3    16.390000\n",
      "5     0.933333\n",
      "4     0.410000\n",
      "6     0.170000\n",
      "0     0.046667\n",
      "Name: EDUCATION, dtype: float64\n",
      "--------------------------------------------------------\n",
      "2    53.213333\n",
      "1    45.530000\n",
      "3     1.076667\n",
      "0     0.180000\n",
      "Name: MARRIAGE, dtype: float64\n"
     ]
    }
   ],
   "source": [
    "print(df[\"SEX\"].value_counts().apply(lambda r: r/All*100))\n",
    "print(\"--------------------------------------------------------\")\n",
    "print(df[\"EDUCATION\"].value_counts().apply(lambda r: r/All*100))\n",
    "print(\"--------------------------------------------------------\")\n",
    "print(df[\"MARRIAGE\"].value_counts().apply(lambda r: r/All*100))"
   ]
  },
  {
   "cell_type": "markdown",
   "metadata": {
    "colab_type": "text",
    "id": "Uudv5XE828nb"
   },
   "source": [
    "**Findings**\n",
    "\n",
    "- Categorical variable SEX does not seem to have any missing/extra groups, and it is separated into Male = 1 and Female = 2\n",
    "- Categorical variable MARRIAGE seems to have unknown group = 0, which could be assumed to be missing data, with other groups being Married = 1, Single = 2, Others = 3\n",
    "- Categorical variable EDUCATION seems to have unknown group = 0,5,6, with other groups being graduate school = 1, university = 2, high school = 3, others = 4 "
   ]
  },
  {
   "cell_type": "code",
   "execution_count": 10,
   "metadata": {
    "colab": {
     "base_uri": "https://localhost:8080/",
     "height": 357
    },
    "colab_type": "code",
    "id": "U3IJzhwwe5KK",
    "outputId": "cb61e112-a3ec-4a37-c1a0-0ffc9ebcbf89",
    "scrolled": false
   },
   "outputs": [
    {
     "name": "stdout",
     "output_type": "stream",
     "text": [
      "Total target attributes:\n",
      "non defaults : 77.88000000000001 %\n",
      "defaults : 22.12 %\n",
      "--------------------------------------------------------\n",
      "SEX                Male     Female\n",
      "Y                                 \n",
      "non defaults  75.832773  79.223719\n",
      "defaults      24.167227  20.776281\n",
      "--------------------------------------------------------\n",
      "EDUCATION         0          1          2          3          4          5  \\\n",
      "Y                                                                            \n",
      "non defaults  100.0  80.765234  76.265146  74.842384  94.308943  93.571429   \n",
      "defaults        0.0  19.234766  23.734854  25.157616   5.691057   6.428571   \n",
      "\n",
      "EDUCATION             6  \n",
      "Y                        \n",
      "non defaults  84.313725  \n",
      "defaults      15.686275  \n",
      "--------------------------------------------------------\n",
      "MARRIAGE        unknown    married     single     others\n",
      "Y                                                       \n",
      "non defaults  90.740741  76.528296  79.071661  73.993808\n",
      "defaults       9.259259  23.471704  20.928339  26.006192\n"
     ]
    }
   ],
   "source": [
    "#proportion of target attribute (for reference)\n",
    "print('Total target attributes:')\n",
    "print('non defaults :',y*100,'%')\n",
    "print('defaults :',x*100,'%')\n",
    "print(\"--------------------------------------------------------\")\n",
    "#analysing default payment with Sex\n",
    "sex_target = pd.crosstab(df[\"Y\"], df[\"SEX\"]).apply(lambda r: r/r.sum()*100).rename(columns = {1: \"Male\", 2: \"Female\"}, index = {0: \"non defaults\", 1: \"defaults\"})\n",
    "print(sex_target)\n",
    "print(\"--------------------------------------------------------\")\n",
    "#analysing default payment with education\n",
    "education_target = pd.crosstab(df[\"Y\"], df[\"EDUCATION\"]).apply(lambda r: r/r.sum()*100).rename(index = {0: \"non defaults\", 1: \"defaults\"})\n",
    "print(education_target)\n",
    "print(\"--------------------------------------------------------\")\n",
    "#analysing default payment with marriage\n",
    "marriage_target = pd.crosstab(df[\"Y\"], df[\"MARRIAGE\"]).apply(lambda r: r/r.sum()*100).rename(columns = {0: \"unknown\",1: \"married\", 2: \"single\", 3: \"others\"},index = {0: \"non defaults\", 1: \"defaults\"})\n",
    "print(marriage_target)"
   ]
  },
  {
   "cell_type": "markdown",
   "metadata": {
    "colab_type": "text",
    "id": "kOriUQ0wxbhD"
   },
   "source": [
    "**Conclusion**\n",
    "\n",
    "From the analyses above we conclude that\n",
    "\n",
    "1. The categorical data is noisy - EDUCATION and MARRIAGE contains unexplained/anomalous data.\n"
   ]
  },
  {
   "cell_type": "markdown",
   "metadata": {
    "colab_type": "text",
    "id": "77GAylGWnPJO"
   },
   "source": [
    "**3) Analysis of Numerical Attributes**\n",
    "\n",
    "The numerical attributes are:\n",
    "   \n",
    "\n",
    "\n"
   ]
  },
  {
   "cell_type": "code",
   "execution_count": 11,
   "metadata": {
    "colab": {
     "base_uri": "https://localhost:8080/",
     "height": 669
    },
    "colab_type": "code",
    "id": "HEcCl5Rj-N0T",
    "outputId": "a59f7092-366e-47ec-c67b-e18f02d84ac4",
    "scrolled": true
   },
   "outputs": [
    {
     "data": {
      "text/html": [
       "<div>\n",
       "<style scoped>\n",
       "    .dataframe tbody tr th:only-of-type {\n",
       "        vertical-align: middle;\n",
       "    }\n",
       "\n",
       "    .dataframe tbody tr th {\n",
       "        vertical-align: top;\n",
       "    }\n",
       "\n",
       "    .dataframe thead th {\n",
       "        text-align: right;\n",
       "    }\n",
       "</style>\n",
       "<table border=\"1\" class=\"dataframe\">\n",
       "  <thead>\n",
       "    <tr style=\"text-align: right;\">\n",
       "      <th></th>\n",
       "      <th>0</th>\n",
       "      <th>1</th>\n",
       "      <th>2</th>\n",
       "      <th>3</th>\n",
       "      <th>4</th>\n",
       "      <th>5</th>\n",
       "      <th>6</th>\n",
       "      <th>7</th>\n",
       "      <th>8</th>\n",
       "      <th>9</th>\n",
       "      <th>10</th>\n",
       "      <th>11</th>\n",
       "      <th>12</th>\n",
       "      <th>13</th>\n",
       "      <th>14</th>\n",
       "      <th>15</th>\n",
       "      <th>16</th>\n",
       "      <th>17</th>\n",
       "      <th>18</th>\n",
       "      <th>19</th>\n",
       "    </tr>\n",
       "  </thead>\n",
       "  <tbody>\n",
       "    <tr>\n",
       "      <td>0</td>\n",
       "      <td>LIMIT_BAL</td>\n",
       "      <td>AGE</td>\n",
       "      <td>PAY_0</td>\n",
       "      <td>PAY_2</td>\n",
       "      <td>PAY_3</td>\n",
       "      <td>PAY_4</td>\n",
       "      <td>PAY_5</td>\n",
       "      <td>PAY_6</td>\n",
       "      <td>BILL_AMT1</td>\n",
       "      <td>BILL_AMT2</td>\n",
       "      <td>BILL_AMT3</td>\n",
       "      <td>BILL_AMT4</td>\n",
       "      <td>BILL_AMT5</td>\n",
       "      <td>BILL_AMT6</td>\n",
       "      <td>PAY_AMT1</td>\n",
       "      <td>PAY_AMT2</td>\n",
       "      <td>PAY_AMT3</td>\n",
       "      <td>PAY_AMT4</td>\n",
       "      <td>PAY_AMT5</td>\n",
       "      <td>PAY_AMT6</td>\n",
       "    </tr>\n",
       "  </tbody>\n",
       "</table>\n",
       "</div>"
      ],
      "text/plain": [
       "           0    1      2      3      4      5      6      7          8  \\\n",
       "0  LIMIT_BAL  AGE  PAY_0  PAY_2  PAY_3  PAY_4  PAY_5  PAY_6  BILL_AMT1   \n",
       "\n",
       "           9         10         11         12         13        14        15  \\\n",
       "0  BILL_AMT2  BILL_AMT3  BILL_AMT4  BILL_AMT5  BILL_AMT6  PAY_AMT1  PAY_AMT2   \n",
       "\n",
       "         16        17        18        19  \n",
       "0  PAY_AMT3  PAY_AMT4  PAY_AMT5  PAY_AMT6  "
      ]
     },
     "execution_count": 11,
     "metadata": {},
     "output_type": "execute_result"
    }
   ],
   "source": [
    "#printing numerical attributes\n",
    "pd.DataFrame(df.drop(['SEX', 'EDUCATION', 'MARRIAGE','Y'], axis = 1).columns).transpose()"
   ]
  },
  {
   "cell_type": "code",
   "execution_count": 12,
   "metadata": {},
   "outputs": [
    {
     "data": {
      "text/html": [
       "<div>\n",
       "<style scoped>\n",
       "    .dataframe tbody tr th:only-of-type {\n",
       "        vertical-align: middle;\n",
       "    }\n",
       "\n",
       "    .dataframe tbody tr th {\n",
       "        vertical-align: top;\n",
       "    }\n",
       "\n",
       "    .dataframe thead th {\n",
       "        text-align: right;\n",
       "    }\n",
       "</style>\n",
       "<table border=\"1\" class=\"dataframe\">\n",
       "  <thead>\n",
       "    <tr style=\"text-align: right;\">\n",
       "      <th></th>\n",
       "      <th>count</th>\n",
       "      <th>mean</th>\n",
       "      <th>std</th>\n",
       "      <th>min</th>\n",
       "      <th>25%</th>\n",
       "      <th>50%</th>\n",
       "      <th>75%</th>\n",
       "      <th>max</th>\n",
       "    </tr>\n",
       "  </thead>\n",
       "  <tbody>\n",
       "    <tr>\n",
       "      <td>LIMIT_BAL</td>\n",
       "      <td>30000.0</td>\n",
       "      <td>167484.322667</td>\n",
       "      <td>129747.661567</td>\n",
       "      <td>10000.0</td>\n",
       "      <td>50000.00</td>\n",
       "      <td>140000.0</td>\n",
       "      <td>240000.00</td>\n",
       "      <td>1000000.0</td>\n",
       "    </tr>\n",
       "    <tr>\n",
       "      <td>AGE</td>\n",
       "      <td>30000.0</td>\n",
       "      <td>35.485500</td>\n",
       "      <td>9.217904</td>\n",
       "      <td>21.0</td>\n",
       "      <td>28.00</td>\n",
       "      <td>34.0</td>\n",
       "      <td>41.00</td>\n",
       "      <td>79.0</td>\n",
       "    </tr>\n",
       "    <tr>\n",
       "      <td>PAY_0</td>\n",
       "      <td>30000.0</td>\n",
       "      <td>-0.016700</td>\n",
       "      <td>1.123802</td>\n",
       "      <td>-2.0</td>\n",
       "      <td>-1.00</td>\n",
       "      <td>0.0</td>\n",
       "      <td>0.00</td>\n",
       "      <td>8.0</td>\n",
       "    </tr>\n",
       "    <tr>\n",
       "      <td>PAY_2</td>\n",
       "      <td>30000.0</td>\n",
       "      <td>-0.133767</td>\n",
       "      <td>1.197186</td>\n",
       "      <td>-2.0</td>\n",
       "      <td>-1.00</td>\n",
       "      <td>0.0</td>\n",
       "      <td>0.00</td>\n",
       "      <td>8.0</td>\n",
       "    </tr>\n",
       "    <tr>\n",
       "      <td>PAY_3</td>\n",
       "      <td>30000.0</td>\n",
       "      <td>-0.166200</td>\n",
       "      <td>1.196868</td>\n",
       "      <td>-2.0</td>\n",
       "      <td>-1.00</td>\n",
       "      <td>0.0</td>\n",
       "      <td>0.00</td>\n",
       "      <td>8.0</td>\n",
       "    </tr>\n",
       "    <tr>\n",
       "      <td>PAY_4</td>\n",
       "      <td>30000.0</td>\n",
       "      <td>-0.220667</td>\n",
       "      <td>1.169139</td>\n",
       "      <td>-2.0</td>\n",
       "      <td>-1.00</td>\n",
       "      <td>0.0</td>\n",
       "      <td>0.00</td>\n",
       "      <td>8.0</td>\n",
       "    </tr>\n",
       "    <tr>\n",
       "      <td>PAY_5</td>\n",
       "      <td>30000.0</td>\n",
       "      <td>-0.266200</td>\n",
       "      <td>1.133187</td>\n",
       "      <td>-2.0</td>\n",
       "      <td>-1.00</td>\n",
       "      <td>0.0</td>\n",
       "      <td>0.00</td>\n",
       "      <td>8.0</td>\n",
       "    </tr>\n",
       "    <tr>\n",
       "      <td>PAY_6</td>\n",
       "      <td>30000.0</td>\n",
       "      <td>-0.291100</td>\n",
       "      <td>1.149988</td>\n",
       "      <td>-2.0</td>\n",
       "      <td>-1.00</td>\n",
       "      <td>0.0</td>\n",
       "      <td>0.00</td>\n",
       "      <td>8.0</td>\n",
       "    </tr>\n",
       "    <tr>\n",
       "      <td>BILL_AMT1</td>\n",
       "      <td>30000.0</td>\n",
       "      <td>51223.330900</td>\n",
       "      <td>73635.860576</td>\n",
       "      <td>-165580.0</td>\n",
       "      <td>3558.75</td>\n",
       "      <td>22381.5</td>\n",
       "      <td>67091.00</td>\n",
       "      <td>964511.0</td>\n",
       "    </tr>\n",
       "    <tr>\n",
       "      <td>BILL_AMT2</td>\n",
       "      <td>30000.0</td>\n",
       "      <td>49179.075167</td>\n",
       "      <td>71173.768783</td>\n",
       "      <td>-69777.0</td>\n",
       "      <td>2984.75</td>\n",
       "      <td>21200.0</td>\n",
       "      <td>64006.25</td>\n",
       "      <td>983931.0</td>\n",
       "    </tr>\n",
       "    <tr>\n",
       "      <td>BILL_AMT3</td>\n",
       "      <td>30000.0</td>\n",
       "      <td>47013.154800</td>\n",
       "      <td>69349.387427</td>\n",
       "      <td>-157264.0</td>\n",
       "      <td>2666.25</td>\n",
       "      <td>20088.5</td>\n",
       "      <td>60164.75</td>\n",
       "      <td>1664089.0</td>\n",
       "    </tr>\n",
       "    <tr>\n",
       "      <td>BILL_AMT4</td>\n",
       "      <td>30000.0</td>\n",
       "      <td>43262.948967</td>\n",
       "      <td>64332.856134</td>\n",
       "      <td>-170000.0</td>\n",
       "      <td>2326.75</td>\n",
       "      <td>19052.0</td>\n",
       "      <td>54506.00</td>\n",
       "      <td>891586.0</td>\n",
       "    </tr>\n",
       "    <tr>\n",
       "      <td>BILL_AMT5</td>\n",
       "      <td>30000.0</td>\n",
       "      <td>40311.400967</td>\n",
       "      <td>60797.155770</td>\n",
       "      <td>-81334.0</td>\n",
       "      <td>1763.00</td>\n",
       "      <td>18104.5</td>\n",
       "      <td>50190.50</td>\n",
       "      <td>927171.0</td>\n",
       "    </tr>\n",
       "    <tr>\n",
       "      <td>BILL_AMT6</td>\n",
       "      <td>30000.0</td>\n",
       "      <td>38871.760400</td>\n",
       "      <td>59554.107537</td>\n",
       "      <td>-339603.0</td>\n",
       "      <td>1256.00</td>\n",
       "      <td>17071.0</td>\n",
       "      <td>49198.25</td>\n",
       "      <td>961664.0</td>\n",
       "    </tr>\n",
       "    <tr>\n",
       "      <td>PAY_AMT1</td>\n",
       "      <td>30000.0</td>\n",
       "      <td>5663.580500</td>\n",
       "      <td>16563.280354</td>\n",
       "      <td>0.0</td>\n",
       "      <td>1000.00</td>\n",
       "      <td>2100.0</td>\n",
       "      <td>5006.00</td>\n",
       "      <td>873552.0</td>\n",
       "    </tr>\n",
       "    <tr>\n",
       "      <td>PAY_AMT2</td>\n",
       "      <td>30000.0</td>\n",
       "      <td>5921.163500</td>\n",
       "      <td>23040.870402</td>\n",
       "      <td>0.0</td>\n",
       "      <td>833.00</td>\n",
       "      <td>2009.0</td>\n",
       "      <td>5000.00</td>\n",
       "      <td>1684259.0</td>\n",
       "    </tr>\n",
       "    <tr>\n",
       "      <td>PAY_AMT3</td>\n",
       "      <td>30000.0</td>\n",
       "      <td>5225.681500</td>\n",
       "      <td>17606.961470</td>\n",
       "      <td>0.0</td>\n",
       "      <td>390.00</td>\n",
       "      <td>1800.0</td>\n",
       "      <td>4505.00</td>\n",
       "      <td>896040.0</td>\n",
       "    </tr>\n",
       "    <tr>\n",
       "      <td>PAY_AMT4</td>\n",
       "      <td>30000.0</td>\n",
       "      <td>4826.076867</td>\n",
       "      <td>15666.159744</td>\n",
       "      <td>0.0</td>\n",
       "      <td>296.00</td>\n",
       "      <td>1500.0</td>\n",
       "      <td>4013.25</td>\n",
       "      <td>621000.0</td>\n",
       "    </tr>\n",
       "    <tr>\n",
       "      <td>PAY_AMT5</td>\n",
       "      <td>30000.0</td>\n",
       "      <td>4799.387633</td>\n",
       "      <td>15278.305679</td>\n",
       "      <td>0.0</td>\n",
       "      <td>252.50</td>\n",
       "      <td>1500.0</td>\n",
       "      <td>4031.50</td>\n",
       "      <td>426529.0</td>\n",
       "    </tr>\n",
       "    <tr>\n",
       "      <td>PAY_AMT6</td>\n",
       "      <td>30000.0</td>\n",
       "      <td>5215.502567</td>\n",
       "      <td>17777.465775</td>\n",
       "      <td>0.0</td>\n",
       "      <td>117.75</td>\n",
       "      <td>1500.0</td>\n",
       "      <td>4000.00</td>\n",
       "      <td>528666.0</td>\n",
       "    </tr>\n",
       "  </tbody>\n",
       "</table>\n",
       "</div>"
      ],
      "text/plain": [
       "             count           mean            std       min       25%  \\\n",
       "LIMIT_BAL  30000.0  167484.322667  129747.661567   10000.0  50000.00   \n",
       "AGE        30000.0      35.485500       9.217904      21.0     28.00   \n",
       "PAY_0      30000.0      -0.016700       1.123802      -2.0     -1.00   \n",
       "PAY_2      30000.0      -0.133767       1.197186      -2.0     -1.00   \n",
       "PAY_3      30000.0      -0.166200       1.196868      -2.0     -1.00   \n",
       "PAY_4      30000.0      -0.220667       1.169139      -2.0     -1.00   \n",
       "PAY_5      30000.0      -0.266200       1.133187      -2.0     -1.00   \n",
       "PAY_6      30000.0      -0.291100       1.149988      -2.0     -1.00   \n",
       "BILL_AMT1  30000.0   51223.330900   73635.860576 -165580.0   3558.75   \n",
       "BILL_AMT2  30000.0   49179.075167   71173.768783  -69777.0   2984.75   \n",
       "BILL_AMT3  30000.0   47013.154800   69349.387427 -157264.0   2666.25   \n",
       "BILL_AMT4  30000.0   43262.948967   64332.856134 -170000.0   2326.75   \n",
       "BILL_AMT5  30000.0   40311.400967   60797.155770  -81334.0   1763.00   \n",
       "BILL_AMT6  30000.0   38871.760400   59554.107537 -339603.0   1256.00   \n",
       "PAY_AMT1   30000.0    5663.580500   16563.280354       0.0   1000.00   \n",
       "PAY_AMT2   30000.0    5921.163500   23040.870402       0.0    833.00   \n",
       "PAY_AMT3   30000.0    5225.681500   17606.961470       0.0    390.00   \n",
       "PAY_AMT4   30000.0    4826.076867   15666.159744       0.0    296.00   \n",
       "PAY_AMT5   30000.0    4799.387633   15278.305679       0.0    252.50   \n",
       "PAY_AMT6   30000.0    5215.502567   17777.465775       0.0    117.75   \n",
       "\n",
       "                50%        75%        max  \n",
       "LIMIT_BAL  140000.0  240000.00  1000000.0  \n",
       "AGE            34.0      41.00       79.0  \n",
       "PAY_0           0.0       0.00        8.0  \n",
       "PAY_2           0.0       0.00        8.0  \n",
       "PAY_3           0.0       0.00        8.0  \n",
       "PAY_4           0.0       0.00        8.0  \n",
       "PAY_5           0.0       0.00        8.0  \n",
       "PAY_6           0.0       0.00        8.0  \n",
       "BILL_AMT1   22381.5   67091.00   964511.0  \n",
       "BILL_AMT2   21200.0   64006.25   983931.0  \n",
       "BILL_AMT3   20088.5   60164.75  1664089.0  \n",
       "BILL_AMT4   19052.0   54506.00   891586.0  \n",
       "BILL_AMT5   18104.5   50190.50   927171.0  \n",
       "BILL_AMT6   17071.0   49198.25   961664.0  \n",
       "PAY_AMT1     2100.0    5006.00   873552.0  \n",
       "PAY_AMT2     2009.0    5000.00  1684259.0  \n",
       "PAY_AMT3     1800.0    4505.00   896040.0  \n",
       "PAY_AMT4     1500.0    4013.25   621000.0  \n",
       "PAY_AMT5     1500.0    4031.50   426529.0  \n",
       "PAY_AMT6     1500.0    4000.00   528666.0  "
      ]
     },
     "execution_count": 12,
     "metadata": {},
     "output_type": "execute_result"
    }
   ],
   "source": [
    "df.drop(['SEX', 'EDUCATION', 'MARRIAGE','Y'], axis=1).describe().transpose()"
   ]
  },
  {
   "cell_type": "markdown",
   "metadata": {},
   "source": [
    "**Analysis of PAY_0 to PAY_6**\n",
    "\n",
    "We observe that the minimum value of PAY_0 to PAY_6 is -2. The dataset's author has explained these factors (PAY_0 to PAY_6) as the number of months of payment delay, that is, 1= payment delay of one month; 2= payment delay of two months and so on. \n",
    "\n",
    "However, the presence of -2, -1 in these columns indicates that\n",
    "1. There is anomalous data, OR \n",
    "2. The numbers do not strictly correspond to the number of months of payment delay. \n",
    "\n",
    "This means we must conduct some data transformation.\n",
    "\n",
    "According to **(link)**, the numeric value in these attributes shows the past history of a credit card holder, where -2 means: No consumption of credit card, -1 means that holder paid the full balance, and 0 means the use of revolving credit.\n",
    "\n"
   ]
  },
  {
   "cell_type": "code",
   "execution_count": 13,
   "metadata": {
    "colab": {
     "base_uri": "https://localhost:8080/",
     "height": 669
    },
    "colab_type": "code",
    "id": "awXnqvLOS-wB",
    "outputId": "a77b53b8-011e-4f53-b7b7-20d80bbc1777",
    "scrolled": false
   },
   "outputs": [
    {
     "data": {
      "image/png": "[encoded data removed]",
      "text/plain": [
       "<Figure size 432x288 with 6 Axes>"
      ]
     },
     "metadata": {
      "needs_background": "light"
     },
     "output_type": "display_data"
    },
    {
     "data": {
      "image/png": "[encoded data removed]",
      "text/plain": [
       "<Figure size 432x288 with 6 Axes>"
      ]
     },
     "metadata": {
      "needs_background": "light"
     },
     "output_type": "display_data"
    },
    {
     "data": {
      "image/png": "[encoded data removed]",
      "text/plain": [
       "<Figure size 432x288 with 6 Axes>"
      ]
     },
     "metadata": {
      "needs_background": "light"
     },
     "output_type": "display_data"
    }
   ],
   "source": [
    "def draw_histograms(df, variables, n_rows, n_cols, n_bins):\n",
    "    fig=plt.figure()\n",
    "    for i, var_name in enumerate(variables):\n",
    "        ax=fig.add_subplot(n_rows,n_cols,i+1)\n",
    "        df[var_name].hist(bins=n_bins,ax=ax)\n",
    "        ax.set_title(var_name)\n",
    "    fig.tight_layout()  # Improves appearance a bit.\n",
    "    plt.show()\n",
    "\n",
    "PAY = df[['PAY_0','PAY_2', 'PAY_3', 'PAY_4', 'PAY_5', 'PAY_6']]\n",
    "BILLAMT = df[['BILL_AMT1','BILL_AMT2', 'BILL_AMT3', 'BILL_AMT4', 'BILL_AMT5', 'BILL_AMT6']]\n",
    "PAYAMT = df[['PAY_AMT1','PAY_AMT2', 'PAY_AMT3', 'PAY_AMT4', 'PAY_AMT5', 'PAY_AMT6']]\n",
    "\n",
    "draw_histograms(PAY, PAY.columns, 2, 3, 10)\n",
    "draw_histograms(BILLAMT, BILLAMT.columns, 2, 3, 10)\n",
    "draw_histograms(PAYAMT, PAYAMT.columns, 2, 3, 10)"
   ]
  },
  {
   "cell_type": "markdown",
   "metadata": {
    "colab_type": "text",
    "id": "C6c_Gz6wUrJ8"
   },
   "source": [
    "We observe that the \"repayment status\" attributes are the most highly correlated with the target variable and we would expect them to be more significant in predicting credit default. In fact the later the status (pay_0 is later than pay_6), the more correlated it is.\n",
    "\n",
    "Now that we have an idea of the features, we will move on to feature selection and data preparation."
   ]
  },
  {
   "cell_type": "markdown",
   "metadata": {
    "colab_type": "text",
    "id": "AQBksEyEf4Sf"
   },
   "source": [
    "## Data Preprocessing\n",
    "\n",
    "It was previously mentioned that our data had a bit of noise, so we will clean up the data in this part. Additionally, we will conduct some feature selection.\n",
    "1. Removing Noise - Inconsistencies\n",
    "2. Dealing with negative values of PAY_0 to PAY_6\n",
    "3. Outliers\n",
    "4. One Hot Encoding\n",
    "5. Train Test Split\n",
    "6. Feature selection\n"
   ]
  },
  {
   "cell_type": "markdown",
   "metadata": {},
   "source": [
    "### Removing Noise\n",
    "First, we found in our data exploration that education has unknown groups 0, 5 and 6. These will be replaced with Education = Others, which has value 4"
   ]
  },
  {
   "cell_type": "code",
   "execution_count": 14,
   "metadata": {},
   "outputs": [
    {
     "data": {
      "text/plain": [
       "array([2, 1, 3, 4], dtype=int64)"
      ]
     },
     "execution_count": 14,
     "metadata": {},
     "output_type": "execute_result"
    }
   ],
   "source": [
    "df['EDUCATION'].replace([0,5,6], 4, regex=True, inplace=True)\n",
    "df[\"EDUCATION\"].unique()"
   ]
  },
  {
   "cell_type": "markdown",
   "metadata": {},
   "source": [
    "Similarly, for Marriage"
   ]
  },
  {
   "cell_type": "code",
   "execution_count": 15,
   "metadata": {},
   "outputs": [
    {
     "data": {
      "text/plain": [
       "array([1, 2, 3], dtype=int64)"
      ]
     },
     "execution_count": 15,
     "metadata": {},
     "output_type": "execute_result"
    }
   ],
   "source": [
    "df['MARRIAGE'].replace([0], 3, regex=True, inplace=True)\n",
    "df[\"MARRIAGE\"].unique()"
   ]
  },
  {
   "cell_type": "markdown",
   "metadata": {},
   "source": [
    "### Separating negative and positive values for PAY_0 to PAY_6"
   ]
  },
  {
   "cell_type": "markdown",
   "metadata": {},
   "source": [
    "Second, we are going to extract the negative values of PAY_0 to PAY_6 as another categorical feature. This way, PAY_0 to PAY_6 can be thought of purely as the months of delay of payments.\n",
    "\n",
    "The negative values will form a categorical variable. e.g. negative values of PAY_0 will form the categorical variable S_0."
   ]
  },
  {
   "cell_type": "code",
   "execution_count": 16,
   "metadata": {},
   "outputs": [],
   "source": [
    "for i in range(0,7):\n",
    "    try:\n",
    "        df[\"S_\" + str(i)] = [x  if x < 1 else 1 for x in df[\"PAY_\" + str(i)]]\n",
    "    except:\n",
    "        pass"
   ]
  },
  {
   "cell_type": "code",
   "execution_count": 17,
   "metadata": {},
   "outputs": [
    {
     "name": "stdout",
     "output_type": "stream",
     "text": [
      "Dummy variables for negative values\n"
     ]
    },
    {
     "data": {
      "text/html": [
       "<div>\n",
       "<style scoped>\n",
       "    .dataframe tbody tr th:only-of-type {\n",
       "        vertical-align: middle;\n",
       "    }\n",
       "\n",
       "    .dataframe tbody tr th {\n",
       "        vertical-align: top;\n",
       "    }\n",
       "\n",
       "    .dataframe thead th {\n",
       "        text-align: right;\n",
       "    }\n",
       "</style>\n",
       "<table border=\"1\" class=\"dataframe\">\n",
       "  <thead>\n",
       "    <tr style=\"text-align: right;\">\n",
       "      <th></th>\n",
       "      <th>S_0</th>\n",
       "      <th>S_2</th>\n",
       "      <th>S_3</th>\n",
       "      <th>S_4</th>\n",
       "      <th>S_5</th>\n",
       "      <th>S_6</th>\n",
       "    </tr>\n",
       "    <tr>\n",
       "      <th>ID</th>\n",
       "      <th></th>\n",
       "      <th></th>\n",
       "      <th></th>\n",
       "      <th></th>\n",
       "      <th></th>\n",
       "      <th></th>\n",
       "    </tr>\n",
       "  </thead>\n",
       "  <tbody>\n",
       "    <tr>\n",
       "      <td>1</td>\n",
       "      <td>1</td>\n",
       "      <td>1</td>\n",
       "      <td>-1</td>\n",
       "      <td>-1</td>\n",
       "      <td>-2</td>\n",
       "      <td>-2</td>\n",
       "    </tr>\n",
       "    <tr>\n",
       "      <td>2</td>\n",
       "      <td>-1</td>\n",
       "      <td>1</td>\n",
       "      <td>0</td>\n",
       "      <td>0</td>\n",
       "      <td>0</td>\n",
       "      <td>1</td>\n",
       "    </tr>\n",
       "    <tr>\n",
       "      <td>3</td>\n",
       "      <td>0</td>\n",
       "      <td>0</td>\n",
       "      <td>0</td>\n",
       "      <td>0</td>\n",
       "      <td>0</td>\n",
       "      <td>0</td>\n",
       "    </tr>\n",
       "    <tr>\n",
       "      <td>4</td>\n",
       "      <td>0</td>\n",
       "      <td>0</td>\n",
       "      <td>0</td>\n",
       "      <td>0</td>\n",
       "      <td>0</td>\n",
       "      <td>0</td>\n",
       "    </tr>\n",
       "    <tr>\n",
       "      <td>5</td>\n",
       "      <td>-1</td>\n",
       "      <td>0</td>\n",
       "      <td>-1</td>\n",
       "      <td>0</td>\n",
       "      <td>0</td>\n",
       "      <td>0</td>\n",
       "    </tr>\n",
       "  </tbody>\n",
       "</table>\n",
       "</div>"
      ],
      "text/plain": [
       "    S_0  S_2  S_3  S_4  S_5  S_6\n",
       "ID                              \n",
       "1     1    1   -1   -1   -2   -2\n",
       "2    -1    1    0    0    0    1\n",
       "3     0    0    0    0    0    0\n",
       "4     0    0    0    0    0    0\n",
       "5    -1    0   -1    0    0    0"
      ]
     },
     "execution_count": 17,
     "metadata": {},
     "output_type": "execute_result"
    }
   ],
   "source": [
    "print('Dummy variables for negative values')\n",
    "df[[\"S_0\", \"S_2\", \"S_3\", \"S_4\", \"S_5\", \"S_6\"]].head()"
   ]
  },
  {
   "cell_type": "code",
   "execution_count": 18,
   "metadata": {},
   "outputs": [],
   "source": [
    "#attributes representing positive values\n",
    "for col in [\"PAY_0\", \"PAY_2\", \"PAY_3\", \"PAY_4\", \"PAY_5\", \"PAY_6\"]:\n",
    "    df[col].replace([0,-1,-2], 0, regex=True, inplace=True)"
   ]
  },
  {
   "cell_type": "markdown",
   "metadata": {},
   "source": [
    "### Outliers\n",
    "Next, we would like to remove outliers from the continuous variables. Assuming that all the data points are normally distributed, we will consider a point an outlier if it falls outside the 99% interval of a distribution. (Critical value = 2.58) "
   ]
  },
  {
   "cell_type": "code",
   "execution_count": 19,
   "metadata": {},
   "outputs": [
    {
     "data": {
      "text/html": [
       "<div>\n",
       "<style scoped>\n",
       "    .dataframe tbody tr th:only-of-type {\n",
       "        vertical-align: middle;\n",
       "    }\n",
       "\n",
       "    .dataframe tbody tr th {\n",
       "        vertical-align: top;\n",
       "    }\n",
       "\n",
       "    .dataframe thead th {\n",
       "        text-align: right;\n",
       "    }\n",
       "</style>\n",
       "<table border=\"1\" class=\"dataframe\">\n",
       "  <thead>\n",
       "    <tr style=\"text-align: right;\">\n",
       "      <th></th>\n",
       "      <th>LIMIT_BAL</th>\n",
       "      <th>SEX</th>\n",
       "      <th>EDUCATION</th>\n",
       "      <th>MARRIAGE</th>\n",
       "      <th>AGE</th>\n",
       "      <th>PAY_0</th>\n",
       "      <th>PAY_2</th>\n",
       "      <th>PAY_3</th>\n",
       "      <th>PAY_4</th>\n",
       "      <th>PAY_5</th>\n",
       "      <th>...</th>\n",
       "      <th>PAY_AMT4</th>\n",
       "      <th>PAY_AMT5</th>\n",
       "      <th>PAY_AMT6</th>\n",
       "      <th>Y</th>\n",
       "      <th>S_0</th>\n",
       "      <th>S_2</th>\n",
       "      <th>S_3</th>\n",
       "      <th>S_4</th>\n",
       "      <th>S_5</th>\n",
       "      <th>S_6</th>\n",
       "    </tr>\n",
       "  </thead>\n",
       "  <tbody>\n",
       "    <tr>\n",
       "      <td>count</td>\n",
       "      <td>26245.000000</td>\n",
       "      <td>26245.000000</td>\n",
       "      <td>26245.000000</td>\n",
       "      <td>26245.000000</td>\n",
       "      <td>26245.000000</td>\n",
       "      <td>26245.000000</td>\n",
       "      <td>26245.000000</td>\n",
       "      <td>26245.000000</td>\n",
       "      <td>26245.000000</td>\n",
       "      <td>26245.000000</td>\n",
       "      <td>...</td>\n",
       "      <td>26245.000000</td>\n",
       "      <td>26245.000000</td>\n",
       "      <td>26245.000000</td>\n",
       "      <td>26245.000000</td>\n",
       "      <td>26245.000000</td>\n",
       "      <td>26245.000000</td>\n",
       "      <td>26245.000000</td>\n",
       "      <td>26245.000000</td>\n",
       "      <td>26245.000000</td>\n",
       "      <td>26245.000000</td>\n",
       "    </tr>\n",
       "    <tr>\n",
       "      <td>mean</td>\n",
       "      <td>149324.899981</td>\n",
       "      <td>1.608954</td>\n",
       "      <td>1.852734</td>\n",
       "      <td>1.564717</td>\n",
       "      <td>35.006592</td>\n",
       "      <td>0.372109</td>\n",
       "      <td>0.337321</td>\n",
       "      <td>0.324633</td>\n",
       "      <td>0.278224</td>\n",
       "      <td>0.238750</td>\n",
       "      <td>...</td>\n",
       "      <td>2787.425071</td>\n",
       "      <td>2778.830673</td>\n",
       "      <td>2822.285007</td>\n",
       "      <td>0.230177</td>\n",
       "      <td>-0.133587</td>\n",
       "      <td>-0.300438</td>\n",
       "      <td>-0.327300</td>\n",
       "      <td>-0.364412</td>\n",
       "      <td>-0.395999</td>\n",
       "      <td>-0.428158</td>\n",
       "    </tr>\n",
       "    <tr>\n",
       "      <td>std</td>\n",
       "      <td>116558.616530</td>\n",
       "      <td>0.487994</td>\n",
       "      <td>0.738572</td>\n",
       "      <td>0.521936</td>\n",
       "      <td>8.832028</td>\n",
       "      <td>0.765730</td>\n",
       "      <td>0.814878</td>\n",
       "      <td>0.811491</td>\n",
       "      <td>0.786314</td>\n",
       "      <td>0.743923</td>\n",
       "      <td>...</td>\n",
       "      <td>4835.081906</td>\n",
       "      <td>4751.263287</td>\n",
       "      <td>5271.198100</td>\n",
       "      <td>0.420954</td>\n",
       "      <td>0.879876</td>\n",
       "      <td>0.883472</td>\n",
       "      <td>0.895264</td>\n",
       "      <td>0.886115</td>\n",
       "      <td>0.877789</td>\n",
       "      <td>0.900723</td>\n",
       "    </tr>\n",
       "    <tr>\n",
       "      <td>min</td>\n",
       "      <td>10000.000000</td>\n",
       "      <td>1.000000</td>\n",
       "      <td>1.000000</td>\n",
       "      <td>1.000000</td>\n",
       "      <td>21.000000</td>\n",
       "      <td>0.000000</td>\n",
       "      <td>0.000000</td>\n",
       "      <td>0.000000</td>\n",
       "      <td>0.000000</td>\n",
       "      <td>0.000000</td>\n",
       "      <td>...</td>\n",
       "      <td>0.000000</td>\n",
       "      <td>0.000000</td>\n",
       "      <td>0.000000</td>\n",
       "      <td>0.000000</td>\n",
       "      <td>-2.000000</td>\n",
       "      <td>-2.000000</td>\n",
       "      <td>-2.000000</td>\n",
       "      <td>-2.000000</td>\n",
       "      <td>-2.000000</td>\n",
       "      <td>-2.000000</td>\n",
       "    </tr>\n",
       "    <tr>\n",
       "      <td>25%</td>\n",
       "      <td>50000.000000</td>\n",
       "      <td>1.000000</td>\n",
       "      <td>1.000000</td>\n",
       "      <td>1.000000</td>\n",
       "      <td>28.000000</td>\n",
       "      <td>0.000000</td>\n",
       "      <td>0.000000</td>\n",
       "      <td>0.000000</td>\n",
       "      <td>0.000000</td>\n",
       "      <td>0.000000</td>\n",
       "      <td>...</td>\n",
       "      <td>150.000000</td>\n",
       "      <td>82.000000</td>\n",
       "      <td>0.000000</td>\n",
       "      <td>0.000000</td>\n",
       "      <td>-1.000000</td>\n",
       "      <td>-1.000000</td>\n",
       "      <td>-1.000000</td>\n",
       "      <td>-1.000000</td>\n",
       "      <td>-1.000000</td>\n",
       "      <td>-1.000000</td>\n",
       "    </tr>\n",
       "    <tr>\n",
       "      <td>50%</td>\n",
       "      <td>120000.000000</td>\n",
       "      <td>2.000000</td>\n",
       "      <td>2.000000</td>\n",
       "      <td>2.000000</td>\n",
       "      <td>34.000000</td>\n",
       "      <td>0.000000</td>\n",
       "      <td>0.000000</td>\n",
       "      <td>0.000000</td>\n",
       "      <td>0.000000</td>\n",
       "      <td>0.000000</td>\n",
       "      <td>...</td>\n",
       "      <td>1200.000000</td>\n",
       "      <td>1218.000000</td>\n",
       "      <td>1143.000000</td>\n",
       "      <td>0.000000</td>\n",
       "      <td>0.000000</td>\n",
       "      <td>0.000000</td>\n",
       "      <td>0.000000</td>\n",
       "      <td>0.000000</td>\n",
       "      <td>0.000000</td>\n",
       "      <td>0.000000</td>\n",
       "    </tr>\n",
       "    <tr>\n",
       "      <td>75%</td>\n",
       "      <td>210000.000000</td>\n",
       "      <td>2.000000</td>\n",
       "      <td>2.000000</td>\n",
       "      <td>2.000000</td>\n",
       "      <td>41.000000</td>\n",
       "      <td>0.000000</td>\n",
       "      <td>0.000000</td>\n",
       "      <td>0.000000</td>\n",
       "      <td>0.000000</td>\n",
       "      <td>0.000000</td>\n",
       "      <td>...</td>\n",
       "      <td>3118.000000</td>\n",
       "      <td>3140.000000</td>\n",
       "      <td>3069.000000</td>\n",
       "      <td>0.000000</td>\n",
       "      <td>0.000000</td>\n",
       "      <td>0.000000</td>\n",
       "      <td>0.000000</td>\n",
       "      <td>0.000000</td>\n",
       "      <td>0.000000</td>\n",
       "      <td>0.000000</td>\n",
       "    </tr>\n",
       "    <tr>\n",
       "      <td>max</td>\n",
       "      <td>500000.000000</td>\n",
       "      <td>2.000000</td>\n",
       "      <td>4.000000</td>\n",
       "      <td>3.000000</td>\n",
       "      <td>59.000000</td>\n",
       "      <td>8.000000</td>\n",
       "      <td>8.000000</td>\n",
       "      <td>8.000000</td>\n",
       "      <td>8.000000</td>\n",
       "      <td>8.000000</td>\n",
       "      <td>...</td>\n",
       "      <td>45171.000000</td>\n",
       "      <td>44197.000000</td>\n",
       "      <td>51000.000000</td>\n",
       "      <td>1.000000</td>\n",
       "      <td>1.000000</td>\n",
       "      <td>1.000000</td>\n",
       "      <td>1.000000</td>\n",
       "      <td>1.000000</td>\n",
       "      <td>1.000000</td>\n",
       "      <td>1.000000</td>\n",
       "    </tr>\n",
       "  </tbody>\n",
       "</table>\n",
       "<p>8 rows × 30 columns</p>\n",
       "</div>"
      ],
      "text/plain": [
       "           LIMIT_BAL           SEX     EDUCATION      MARRIAGE           AGE  \\\n",
       "count   26245.000000  26245.000000  26245.000000  26245.000000  26245.000000   \n",
       "mean   149324.899981      1.608954      1.852734      1.564717     35.006592   \n",
       "std    116558.616530      0.487994      0.738572      0.521936      8.832028   \n",
       "min     10000.000000      1.000000      1.000000      1.000000     21.000000   \n",
       "25%     50000.000000      1.000000      1.000000      1.000000     28.000000   \n",
       "50%    120000.000000      2.000000      2.000000      2.000000     34.000000   \n",
       "75%    210000.000000      2.000000      2.000000      2.000000     41.000000   \n",
       "max    500000.000000      2.000000      4.000000      3.000000     59.000000   \n",
       "\n",
       "              PAY_0         PAY_2         PAY_3         PAY_4         PAY_5  \\\n",
       "count  26245.000000  26245.000000  26245.000000  26245.000000  26245.000000   \n",
       "mean       0.372109      0.337321      0.324633      0.278224      0.238750   \n",
       "std        0.765730      0.814878      0.811491      0.786314      0.743923   \n",
       "min        0.000000      0.000000      0.000000      0.000000      0.000000   \n",
       "25%        0.000000      0.000000      0.000000      0.000000      0.000000   \n",
       "50%        0.000000      0.000000      0.000000      0.000000      0.000000   \n",
       "75%        0.000000      0.000000      0.000000      0.000000      0.000000   \n",
       "max        8.000000      8.000000      8.000000      8.000000      8.000000   \n",
       "\n",
       "       ...      PAY_AMT4      PAY_AMT5      PAY_AMT6             Y  \\\n",
       "count  ...  26245.000000  26245.000000  26245.000000  26245.000000   \n",
       "mean   ...   2787.425071   2778.830673   2822.285007      0.230177   \n",
       "std    ...   4835.081906   4751.263287   5271.198100      0.420954   \n",
       "min    ...      0.000000      0.000000      0.000000      0.000000   \n",
       "25%    ...    150.000000     82.000000      0.000000      0.000000   \n",
       "50%    ...   1200.000000   1218.000000   1143.000000      0.000000   \n",
       "75%    ...   3118.000000   3140.000000   3069.000000      0.000000   \n",
       "max    ...  45171.000000  44197.000000  51000.000000      1.000000   \n",
       "\n",
       "                S_0           S_2           S_3           S_4           S_5  \\\n",
       "count  26245.000000  26245.000000  26245.000000  26245.000000  26245.000000   \n",
       "mean      -0.133587     -0.300438     -0.327300     -0.364412     -0.395999   \n",
       "std        0.879876      0.883472      0.895264      0.886115      0.877789   \n",
       "min       -2.000000     -2.000000     -2.000000     -2.000000     -2.000000   \n",
       "25%       -1.000000     -1.000000     -1.000000     -1.000000     -1.000000   \n",
       "50%        0.000000      0.000000      0.000000      0.000000      0.000000   \n",
       "75%        0.000000      0.000000      0.000000      0.000000      0.000000   \n",
       "max        1.000000      1.000000      1.000000      1.000000      1.000000   \n",
       "\n",
       "                S_6  \n",
       "count  26245.000000  \n",
       "mean      -0.428158  \n",
       "std        0.900723  \n",
       "min       -2.000000  \n",
       "25%       -1.000000  \n",
       "50%        0.000000  \n",
       "75%        0.000000  \n",
       "max        1.000000  \n",
       "\n",
       "[8 rows x 30 columns]"
      ]
     },
     "execution_count": 19,
     "metadata": {},
     "output_type": "execute_result"
    }
   ],
   "source": [
    "from scipy import stats\n",
    "#we are only concerned with the ordinal data\n",
    "o = pd.DataFrame(df.drop(['Y','EDUCATION', 'MARRIAGE', \"SEX\",\"S_0\", \"S_2\", \"S_3\", \"S_4\", \"S_5\", \"S_6\",\"PAY_0\", \"PAY_2\", \"PAY_3\", \"PAY_4\", \"PAY_5\", \"PAY_6\"], axis=1))\n",
    "#rows where the absolute z score of all columns are less than 2.58 (critical value)\n",
    "rows = (np.abs(stats.zscore(o)) < 2.58).all(axis=1)\n",
    "df = df[rows]\n",
    "df.describe()"
   ]
  },
  {
   "cell_type": "markdown",
   "metadata": {},
   "source": [
    "### Feature Scaling\n",
    "The models used subsequently may have difficulty converging before the maximum number of iterations allowed\n",
    "is reached if the data is not normalized. Additionaly, Multi-layer Perceptron is sensitive to feature scaling, so we will use StandardScaler for standardization. We only want to scale the numerical factors."
   ]
  },
  {
   "cell_type": "code",
   "execution_count": 20,
   "metadata": {},
   "outputs": [],
   "source": [
    "from sklearn.preprocessing import MinMaxScaler\n",
    "scaler = MinMaxScaler()\n",
    "cols = df.drop(['Y','EDUCATION', 'MARRIAGE', \"SEX\",\"S_0\", \"S_2\", \"S_3\", \"S_4\", \"S_5\", \"S_6\",\"PAY_0\", \"PAY_2\", \"PAY_3\", \"PAY_4\", \"PAY_5\", \"PAY_6\"], axis =1)\n",
    "df1 = df.copy()\n",
    "df1[cols.columns] = scaler.fit_transform(cols)\n",
    "df = df1"
   ]
  },
  {
   "cell_type": "code",
   "execution_count": 21,
   "metadata": {
    "scrolled": true
   },
   "outputs": [
    {
     "data": {
      "text/html": [
       "<div>\n",
       "<style scoped>\n",
       "    .dataframe tbody tr th:only-of-type {\n",
       "        vertical-align: middle;\n",
       "    }\n",
       "\n",
       "    .dataframe tbody tr th {\n",
       "        vertical-align: top;\n",
       "    }\n",
       "\n",
       "    .dataframe thead th {\n",
       "        text-align: right;\n",
       "    }\n",
       "</style>\n",
       "<table border=\"1\" class=\"dataframe\">\n",
       "  <thead>\n",
       "    <tr style=\"text-align: right;\">\n",
       "      <th></th>\n",
       "      <th>LIMIT_BAL</th>\n",
       "      <th>SEX</th>\n",
       "      <th>EDUCATION</th>\n",
       "      <th>MARRIAGE</th>\n",
       "      <th>AGE</th>\n",
       "      <th>PAY_0</th>\n",
       "      <th>PAY_2</th>\n",
       "      <th>PAY_3</th>\n",
       "      <th>PAY_4</th>\n",
       "      <th>PAY_5</th>\n",
       "      <th>...</th>\n",
       "      <th>PAY_AMT4</th>\n",
       "      <th>PAY_AMT5</th>\n",
       "      <th>PAY_AMT6</th>\n",
       "      <th>Y</th>\n",
       "      <th>S_0</th>\n",
       "      <th>S_2</th>\n",
       "      <th>S_3</th>\n",
       "      <th>S_4</th>\n",
       "      <th>S_5</th>\n",
       "      <th>S_6</th>\n",
       "    </tr>\n",
       "    <tr>\n",
       "      <th>ID</th>\n",
       "      <th></th>\n",
       "      <th></th>\n",
       "      <th></th>\n",
       "      <th></th>\n",
       "      <th></th>\n",
       "      <th></th>\n",
       "      <th></th>\n",
       "      <th></th>\n",
       "      <th></th>\n",
       "      <th></th>\n",
       "      <th></th>\n",
       "      <th></th>\n",
       "      <th></th>\n",
       "      <th></th>\n",
       "      <th></th>\n",
       "      <th></th>\n",
       "      <th></th>\n",
       "      <th></th>\n",
       "      <th></th>\n",
       "      <th></th>\n",
       "      <th></th>\n",
       "    </tr>\n",
       "  </thead>\n",
       "  <tbody>\n",
       "    <tr>\n",
       "      <td>1</td>\n",
       "      <td>0.020408</td>\n",
       "      <td>2</td>\n",
       "      <td>2</td>\n",
       "      <td>1</td>\n",
       "      <td>0.078947</td>\n",
       "      <td>2</td>\n",
       "      <td>2</td>\n",
       "      <td>0</td>\n",
       "      <td>0</td>\n",
       "      <td>0</td>\n",
       "      <td>...</td>\n",
       "      <td>0.000000</td>\n",
       "      <td>0.000000</td>\n",
       "      <td>0.000000</td>\n",
       "      <td>1</td>\n",
       "      <td>1</td>\n",
       "      <td>1</td>\n",
       "      <td>-1</td>\n",
       "      <td>-1</td>\n",
       "      <td>-2</td>\n",
       "      <td>-2</td>\n",
       "    </tr>\n",
       "    <tr>\n",
       "      <td>2</td>\n",
       "      <td>0.224490</td>\n",
       "      <td>2</td>\n",
       "      <td>2</td>\n",
       "      <td>2</td>\n",
       "      <td>0.131579</td>\n",
       "      <td>0</td>\n",
       "      <td>2</td>\n",
       "      <td>0</td>\n",
       "      <td>0</td>\n",
       "      <td>0</td>\n",
       "      <td>...</td>\n",
       "      <td>0.022138</td>\n",
       "      <td>0.000000</td>\n",
       "      <td>0.039216</td>\n",
       "      <td>1</td>\n",
       "      <td>-1</td>\n",
       "      <td>1</td>\n",
       "      <td>0</td>\n",
       "      <td>0</td>\n",
       "      <td>0</td>\n",
       "      <td>1</td>\n",
       "    </tr>\n",
       "    <tr>\n",
       "      <td>3</td>\n",
       "      <td>0.163265</td>\n",
       "      <td>2</td>\n",
       "      <td>2</td>\n",
       "      <td>2</td>\n",
       "      <td>0.342105</td>\n",
       "      <td>0</td>\n",
       "      <td>0</td>\n",
       "      <td>0</td>\n",
       "      <td>0</td>\n",
       "      <td>0</td>\n",
       "      <td>...</td>\n",
       "      <td>0.022138</td>\n",
       "      <td>0.022626</td>\n",
       "      <td>0.098039</td>\n",
       "      <td>0</td>\n",
       "      <td>0</td>\n",
       "      <td>0</td>\n",
       "      <td>0</td>\n",
       "      <td>0</td>\n",
       "      <td>0</td>\n",
       "      <td>0</td>\n",
       "    </tr>\n",
       "    <tr>\n",
       "      <td>4</td>\n",
       "      <td>0.081633</td>\n",
       "      <td>2</td>\n",
       "      <td>2</td>\n",
       "      <td>1</td>\n",
       "      <td>0.421053</td>\n",
       "      <td>0</td>\n",
       "      <td>0</td>\n",
       "      <td>0</td>\n",
       "      <td>0</td>\n",
       "      <td>0</td>\n",
       "      <td>...</td>\n",
       "      <td>0.024352</td>\n",
       "      <td>0.024187</td>\n",
       "      <td>0.019608</td>\n",
       "      <td>0</td>\n",
       "      <td>0</td>\n",
       "      <td>0</td>\n",
       "      <td>0</td>\n",
       "      <td>0</td>\n",
       "      <td>0</td>\n",
       "      <td>0</td>\n",
       "    </tr>\n",
       "    <tr>\n",
       "      <td>5</td>\n",
       "      <td>0.081633</td>\n",
       "      <td>1</td>\n",
       "      <td>2</td>\n",
       "      <td>1</td>\n",
       "      <td>0.947368</td>\n",
       "      <td>0</td>\n",
       "      <td>0</td>\n",
       "      <td>0</td>\n",
       "      <td>0</td>\n",
       "      <td>0</td>\n",
       "      <td>...</td>\n",
       "      <td>0.199243</td>\n",
       "      <td>0.015589</td>\n",
       "      <td>0.013314</td>\n",
       "      <td>0</td>\n",
       "      <td>-1</td>\n",
       "      <td>0</td>\n",
       "      <td>-1</td>\n",
       "      <td>0</td>\n",
       "      <td>0</td>\n",
       "      <td>0</td>\n",
       "    </tr>\n",
       "  </tbody>\n",
       "</table>\n",
       "<p>5 rows × 30 columns</p>\n",
       "</div>"
      ],
      "text/plain": [
       "    LIMIT_BAL  SEX  EDUCATION  MARRIAGE       AGE  PAY_0  PAY_2  PAY_3  PAY_4  \\\n",
       "ID                                                                              \n",
       "1    0.020408    2          2         1  0.078947      2      2      0      0   \n",
       "2    0.224490    2          2         2  0.131579      0      2      0      0   \n",
       "3    0.163265    2          2         2  0.342105      0      0      0      0   \n",
       "4    0.081633    2          2         1  0.421053      0      0      0      0   \n",
       "5    0.081633    1          2         1  0.947368      0      0      0      0   \n",
       "\n",
       "    PAY_5  ...  PAY_AMT4  PAY_AMT5  PAY_AMT6  Y  S_0  S_2  S_3  S_4  S_5  S_6  \n",
       "ID         ...                                                                 \n",
       "1       0  ...  0.000000  0.000000  0.000000  1    1    1   -1   -1   -2   -2  \n",
       "2       0  ...  0.022138  0.000000  0.039216  1   -1    1    0    0    0    1  \n",
       "3       0  ...  0.022138  0.022626  0.098039  0    0    0    0    0    0    0  \n",
       "4       0  ...  0.024352  0.024187  0.019608  0    0    0    0    0    0    0  \n",
       "5       0  ...  0.199243  0.015589  0.013314  0   -1    0   -1    0    0    0  \n",
       "\n",
       "[5 rows x 30 columns]"
      ]
     },
     "execution_count": 21,
     "metadata": {},
     "output_type": "execute_result"
    }
   ],
   "source": [
    "df1.head()"
   ]
  },
  {
   "cell_type": "markdown",
   "metadata": {},
   "source": [
    "### One-Hot Encoding for Categorical attributes"
   ]
  },
  {
   "cell_type": "markdown",
   "metadata": {},
   "source": [
    "In some models, categorical variables which are encoded numerically will be erroneously treated as ordinal data. To understand why this is a problem, consider the \"Education\" column for our dataset.\n",
    "\n",
    "A logistic regression model, for example, will assume that the difference in odds of default between education = 1 and education = 2 is the same as the difference between education = 2 and 3. This is wrong because the difference in odds between a graduate degree and university (1 and 2) is likely to be different from that between univeristy education and high school education (2 and 3).\n",
    "\n",
    "One hot encoding will allow our models to treat these columns explicitly as categorical features.\n",
    "\n",
    "The following categorical columns will be one-hot encoded\n",
    "\n",
    "1. EDUCATION\n",
    "2. MARRIAGE\n",
    "3. S0 - S6\n"
   ]
  },
  {
   "cell_type": "code",
   "execution_count": 22,
   "metadata": {},
   "outputs": [],
   "source": [
    "from sklearn.preprocessing import OneHotEncoder"
   ]
  },
  {
   "cell_type": "code",
   "execution_count": 23,
   "metadata": {},
   "outputs": [],
   "source": [
    "onenc = OneHotEncoder(categories='auto')"
   ]
  },
  {
   "cell_type": "code",
   "execution_count": 24,
   "metadata": {},
   "outputs": [
    {
     "data": {
      "text/html": [
       "<div>\n",
       "<style scoped>\n",
       "    .dataframe tbody tr th:only-of-type {\n",
       "        vertical-align: middle;\n",
       "    }\n",
       "\n",
       "    .dataframe tbody tr th {\n",
       "        vertical-align: top;\n",
       "    }\n",
       "\n",
       "    .dataframe thead th {\n",
       "        text-align: right;\n",
       "    }\n",
       "</style>\n",
       "<table border=\"1\" class=\"dataframe\">\n",
       "  <thead>\n",
       "    <tr style=\"text-align: right;\">\n",
       "      <th></th>\n",
       "      <th>GRAD</th>\n",
       "      <th>UNI</th>\n",
       "      <th>HS</th>\n",
       "      <th>MARRIED</th>\n",
       "      <th>SINGLE</th>\n",
       "    </tr>\n",
       "  </thead>\n",
       "  <tbody>\n",
       "    <tr>\n",
       "      <td>0</td>\n",
       "      <td>0.0</td>\n",
       "      <td>1.0</td>\n",
       "      <td>0.0</td>\n",
       "      <td>1.0</td>\n",
       "      <td>0.0</td>\n",
       "    </tr>\n",
       "    <tr>\n",
       "      <td>1</td>\n",
       "      <td>0.0</td>\n",
       "      <td>1.0</td>\n",
       "      <td>0.0</td>\n",
       "      <td>0.0</td>\n",
       "      <td>1.0</td>\n",
       "    </tr>\n",
       "    <tr>\n",
       "      <td>2</td>\n",
       "      <td>0.0</td>\n",
       "      <td>1.0</td>\n",
       "      <td>0.0</td>\n",
       "      <td>0.0</td>\n",
       "      <td>1.0</td>\n",
       "    </tr>\n",
       "    <tr>\n",
       "      <td>3</td>\n",
       "      <td>0.0</td>\n",
       "      <td>1.0</td>\n",
       "      <td>0.0</td>\n",
       "      <td>1.0</td>\n",
       "      <td>0.0</td>\n",
       "    </tr>\n",
       "    <tr>\n",
       "      <td>4</td>\n",
       "      <td>0.0</td>\n",
       "      <td>1.0</td>\n",
       "      <td>0.0</td>\n",
       "      <td>1.0</td>\n",
       "      <td>0.0</td>\n",
       "    </tr>\n",
       "  </tbody>\n",
       "</table>\n",
       "</div>"
      ],
      "text/plain": [
       "   GRAD  UNI   HS  MARRIED  SINGLE\n",
       "0   0.0  1.0  0.0      1.0     0.0\n",
       "1   0.0  1.0  0.0      0.0     1.0\n",
       "2   0.0  1.0  0.0      0.0     1.0\n",
       "3   0.0  1.0  0.0      1.0     0.0\n",
       "4   0.0  1.0  0.0      1.0     0.0"
      ]
     },
     "execution_count": 24,
     "metadata": {},
     "output_type": "execute_result"
    }
   ],
   "source": [
    "#one hot encoding for EDUCATION and MARRIAGE\n",
    "onehot = pd.DataFrame(onenc.fit_transform(df[['EDUCATION', 'MARRIAGE']]).toarray())\n",
    "onehot.columns= names = [\"GRAD\",\"UNI\",\"HS\",\"OTHER-EDU\",\"MARRIED\",\"SINGLE\",\"OTHER_MS\"]\n",
    "#drop one of each category to prevent dummy variable trap\n",
    "onehot = onehot.drop([\"OTHER-EDU\", \"OTHER_MS\"], axis = 1)\n",
    "onehot.head()"
   ]
  },
  {
   "cell_type": "code",
   "execution_count": 25,
   "metadata": {
    "scrolled": true
   },
   "outputs": [
    {
     "data": {
      "text/html": [
       "<div>\n",
       "<style scoped>\n",
       "    .dataframe tbody tr th:only-of-type {\n",
       "        vertical-align: middle;\n",
       "    }\n",
       "\n",
       "    .dataframe tbody tr th {\n",
       "        vertical-align: top;\n",
       "    }\n",
       "\n",
       "    .dataframe thead th {\n",
       "        text-align: right;\n",
       "    }\n",
       "</style>\n",
       "<table border=\"1\" class=\"dataframe\">\n",
       "  <thead>\n",
       "    <tr style=\"text-align: right;\">\n",
       "      <th></th>\n",
       "      <th>PAY_0_No_Transactions</th>\n",
       "      <th>PAY_0_Pay_Duly</th>\n",
       "      <th>PAY_0_Revolving_Credit</th>\n",
       "      <th>PAY_2_No_Transactions</th>\n",
       "      <th>PAY_2_Pay_Duly</th>\n",
       "      <th>PAY_2_Revolving_Credit</th>\n",
       "      <th>PAY_3_No_Transactions</th>\n",
       "      <th>PAY_3_Pay_Duly</th>\n",
       "      <th>PAY_3_Revolving_Credit</th>\n",
       "      <th>PAY_4_No_Transactions</th>\n",
       "      <th>PAY_4_Pay_Duly</th>\n",
       "      <th>PAY_4_Revolving_Credit</th>\n",
       "      <th>PAY_5_No_Transactions</th>\n",
       "      <th>PAY_5_Pay_Duly</th>\n",
       "      <th>PAY_5_Revolving_Credit</th>\n",
       "      <th>PAY_6_No_Transactions</th>\n",
       "      <th>PAY_6_Pay_Duly</th>\n",
       "      <th>PAY_6_Revolving_Credit</th>\n",
       "    </tr>\n",
       "  </thead>\n",
       "  <tbody>\n",
       "    <tr>\n",
       "      <td>0</td>\n",
       "      <td>0.0</td>\n",
       "      <td>0.0</td>\n",
       "      <td>0.0</td>\n",
       "      <td>0.0</td>\n",
       "      <td>0.0</td>\n",
       "      <td>0.0</td>\n",
       "      <td>0.0</td>\n",
       "      <td>1.0</td>\n",
       "      <td>0.0</td>\n",
       "      <td>0.0</td>\n",
       "      <td>1.0</td>\n",
       "      <td>0.0</td>\n",
       "      <td>1.0</td>\n",
       "      <td>0.0</td>\n",
       "      <td>0.0</td>\n",
       "      <td>1.0</td>\n",
       "      <td>0.0</td>\n",
       "      <td>0.0</td>\n",
       "    </tr>\n",
       "    <tr>\n",
       "      <td>1</td>\n",
       "      <td>0.0</td>\n",
       "      <td>1.0</td>\n",
       "      <td>0.0</td>\n",
       "      <td>0.0</td>\n",
       "      <td>0.0</td>\n",
       "      <td>0.0</td>\n",
       "      <td>0.0</td>\n",
       "      <td>0.0</td>\n",
       "      <td>1.0</td>\n",
       "      <td>0.0</td>\n",
       "      <td>0.0</td>\n",
       "      <td>1.0</td>\n",
       "      <td>0.0</td>\n",
       "      <td>0.0</td>\n",
       "      <td>1.0</td>\n",
       "      <td>0.0</td>\n",
       "      <td>0.0</td>\n",
       "      <td>0.0</td>\n",
       "    </tr>\n",
       "    <tr>\n",
       "      <td>2</td>\n",
       "      <td>0.0</td>\n",
       "      <td>0.0</td>\n",
       "      <td>1.0</td>\n",
       "      <td>0.0</td>\n",
       "      <td>0.0</td>\n",
       "      <td>1.0</td>\n",
       "      <td>0.0</td>\n",
       "      <td>0.0</td>\n",
       "      <td>1.0</td>\n",
       "      <td>0.0</td>\n",
       "      <td>0.0</td>\n",
       "      <td>1.0</td>\n",
       "      <td>0.0</td>\n",
       "      <td>0.0</td>\n",
       "      <td>1.0</td>\n",
       "      <td>0.0</td>\n",
       "      <td>0.0</td>\n",
       "      <td>1.0</td>\n",
       "    </tr>\n",
       "    <tr>\n",
       "      <td>3</td>\n",
       "      <td>0.0</td>\n",
       "      <td>0.0</td>\n",
       "      <td>1.0</td>\n",
       "      <td>0.0</td>\n",
       "      <td>0.0</td>\n",
       "      <td>1.0</td>\n",
       "      <td>0.0</td>\n",
       "      <td>0.0</td>\n",
       "      <td>1.0</td>\n",
       "      <td>0.0</td>\n",
       "      <td>0.0</td>\n",
       "      <td>1.0</td>\n",
       "      <td>0.0</td>\n",
       "      <td>0.0</td>\n",
       "      <td>1.0</td>\n",
       "      <td>0.0</td>\n",
       "      <td>0.0</td>\n",
       "      <td>1.0</td>\n",
       "    </tr>\n",
       "    <tr>\n",
       "      <td>4</td>\n",
       "      <td>0.0</td>\n",
       "      <td>1.0</td>\n",
       "      <td>0.0</td>\n",
       "      <td>0.0</td>\n",
       "      <td>0.0</td>\n",
       "      <td>1.0</td>\n",
       "      <td>0.0</td>\n",
       "      <td>1.0</td>\n",
       "      <td>0.0</td>\n",
       "      <td>0.0</td>\n",
       "      <td>0.0</td>\n",
       "      <td>1.0</td>\n",
       "      <td>0.0</td>\n",
       "      <td>0.0</td>\n",
       "      <td>1.0</td>\n",
       "      <td>0.0</td>\n",
       "      <td>0.0</td>\n",
       "      <td>1.0</td>\n",
       "    </tr>\n",
       "  </tbody>\n",
       "</table>\n",
       "</div>"
      ],
      "text/plain": [
       "   PAY_0_No_Transactions  PAY_0_Pay_Duly  PAY_0_Revolving_Credit  \\\n",
       "0                    0.0             0.0                     0.0   \n",
       "1                    0.0             1.0                     0.0   \n",
       "2                    0.0             0.0                     1.0   \n",
       "3                    0.0             0.0                     1.0   \n",
       "4                    0.0             1.0                     0.0   \n",
       "\n",
       "   PAY_2_No_Transactions  PAY_2_Pay_Duly  PAY_2_Revolving_Credit  \\\n",
       "0                    0.0             0.0                     0.0   \n",
       "1                    0.0             0.0                     0.0   \n",
       "2                    0.0             0.0                     1.0   \n",
       "3                    0.0             0.0                     1.0   \n",
       "4                    0.0             0.0                     1.0   \n",
       "\n",
       "   PAY_3_No_Transactions  PAY_3_Pay_Duly  PAY_3_Revolving_Credit  \\\n",
       "0                    0.0             1.0                     0.0   \n",
       "1                    0.0             0.0                     1.0   \n",
       "2                    0.0             0.0                     1.0   \n",
       "3                    0.0             0.0                     1.0   \n",
       "4                    0.0             1.0                     0.0   \n",
       "\n",
       "   PAY_4_No_Transactions  PAY_4_Pay_Duly  PAY_4_Revolving_Credit  \\\n",
       "0                    0.0             1.0                     0.0   \n",
       "1                    0.0             0.0                     1.0   \n",
       "2                    0.0             0.0                     1.0   \n",
       "3                    0.0             0.0                     1.0   \n",
       "4                    0.0             0.0                     1.0   \n",
       "\n",
       "   PAY_5_No_Transactions  PAY_5_Pay_Duly  PAY_5_Revolving_Credit  \\\n",
       "0                    1.0             0.0                     0.0   \n",
       "1                    0.0             0.0                     1.0   \n",
       "2                    0.0             0.0                     1.0   \n",
       "3                    0.0             0.0                     1.0   \n",
       "4                    0.0             0.0                     1.0   \n",
       "\n",
       "   PAY_6_No_Transactions  PAY_6_Pay_Duly  PAY_6_Revolving_Credit  \n",
       "0                    1.0             0.0                     0.0  \n",
       "1                    0.0             0.0                     0.0  \n",
       "2                    0.0             0.0                     1.0  \n",
       "3                    0.0             0.0                     1.0  \n",
       "4                    0.0             0.0                     1.0  "
      ]
     },
     "execution_count": 25,
     "metadata": {},
     "output_type": "execute_result"
    }
   ],
   "source": [
    "#one hot encoding for S_0 to S_6\n",
    "onehot_PAY = pd.DataFrame(onenc.fit_transform(df[['S_0', 'S_2', 'S_3', 'S_4', 'S_5', 'S_6']]).toarray())\n",
    "onehot_PAY.columns= onenc.fit(df[[\"S_0\", \"S_2\", \"S_3\", \"S_4\", \"S_5\", \"S_6\"]]).get_feature_names()\n",
    "#drop one of each category to prevent dummy variable trap\n",
    "#onehot = onehot.drop([\"OTHER-EDU\", \"OTHER_MS\"], axis = 1)\n",
    "names = []\n",
    "for X in range(0,7):\n",
    "    if X == 1:\n",
    "        continue\n",
    "    names.append(\"PAY_\"+str(X)+\"_No_Transactions\")\n",
    "    names.append(\"PAY_\"+str(X)+\"_Pay_Duly\")\n",
    "    names.append(\"PAY_\"+str(X)+\"_Revolving_Credit\")\n",
    "    try:\n",
    "        onehot_PAY = onehot_PAY.drop(\"x\" + str(X) +\"_1\", axis =1)\n",
    "    except:\n",
    "        onehot_PAY = onehot_PAY.drop(\"x1_1\", axis =1)\n",
    "onehot_PAY.columns = names\n",
    "onehot_PAY.head()"
   ]
  },
  {
   "cell_type": "code",
   "execution_count": 26,
   "metadata": {},
   "outputs": [
    {
     "data": {
      "text/plain": [
       "Index(['LIMIT_BAL', 'SEX', 'AGE', 'PAY_0', 'PAY_2', 'PAY_3', 'PAY_4', 'PAY_5',\n",
       "       'PAY_6', 'BILL_AMT1', 'BILL_AMT2', 'BILL_AMT3', 'BILL_AMT4',\n",
       "       'BILL_AMT5', 'BILL_AMT6', 'PAY_AMT1', 'PAY_AMT2', 'PAY_AMT3',\n",
       "       'PAY_AMT4', 'PAY_AMT5', 'PAY_AMT6', 'Y', 'GRAD', 'UNI', 'HS', 'MARRIED',\n",
       "       'SINGLE', 'PAY_0_No_Transactions', 'PAY_0_Pay_Duly',\n",
       "       'PAY_0_Revolving_Credit', 'PAY_2_No_Transactions', 'PAY_2_Pay_Duly',\n",
       "       'PAY_2_Revolving_Credit', 'PAY_3_No_Transactions', 'PAY_3_Pay_Duly',\n",
       "       'PAY_3_Revolving_Credit', 'PAY_4_No_Transactions', 'PAY_4_Pay_Duly',\n",
       "       'PAY_4_Revolving_Credit', 'PAY_5_No_Transactions', 'PAY_5_Pay_Duly',\n",
       "       'PAY_5_Revolving_Credit', 'PAY_6_No_Transactions', 'PAY_6_Pay_Duly',\n",
       "       'PAY_6_Revolving_Credit'],\n",
       "      dtype='object')"
      ]
     },
     "execution_count": 26,
     "metadata": {},
     "output_type": "execute_result"
    }
   ],
   "source": [
    "df1 = df.drop(['EDUCATION', 'MARRIAGE','S_0', 'S_2', 'S_3', 'S_4', 'S_5', 'S_6'], axis = 1)\n",
    "df1 = pd.concat([df1.reset_index(drop=True), onehot], axis=1)\n",
    "df1 = pd.concat([df1.reset_index(drop=True), onehot_PAY], axis=1)\n",
    "df1.columns"
   ]
  },
  {
   "cell_type": "code",
   "execution_count": 27,
   "metadata": {},
   "outputs": [
    {
     "data": {
      "text/html": [
       "<div>\n",
       "<style scoped>\n",
       "    .dataframe tbody tr th:only-of-type {\n",
       "        vertical-align: middle;\n",
       "    }\n",
       "\n",
       "    .dataframe tbody tr th {\n",
       "        vertical-align: top;\n",
       "    }\n",
       "\n",
       "    .dataframe thead th {\n",
       "        text-align: right;\n",
       "    }\n",
       "</style>\n",
       "<table border=\"1\" class=\"dataframe\">\n",
       "  <thead>\n",
       "    <tr style=\"text-align: right;\">\n",
       "      <th></th>\n",
       "      <th>LIMIT_BAL</th>\n",
       "      <th>SEX</th>\n",
       "      <th>AGE</th>\n",
       "      <th>PAY_0</th>\n",
       "      <th>PAY_2</th>\n",
       "      <th>PAY_3</th>\n",
       "      <th>PAY_4</th>\n",
       "      <th>PAY_5</th>\n",
       "      <th>PAY_6</th>\n",
       "      <th>BILL_AMT1</th>\n",
       "      <th>...</th>\n",
       "      <th>PAY_3_Revolving_Credit</th>\n",
       "      <th>PAY_4_No_Transactions</th>\n",
       "      <th>PAY_4_Pay_Duly</th>\n",
       "      <th>PAY_4_Revolving_Credit</th>\n",
       "      <th>PAY_5_No_Transactions</th>\n",
       "      <th>PAY_5_Pay_Duly</th>\n",
       "      <th>PAY_5_Revolving_Credit</th>\n",
       "      <th>PAY_6_No_Transactions</th>\n",
       "      <th>PAY_6_Pay_Duly</th>\n",
       "      <th>PAY_6_Revolving_Credit</th>\n",
       "    </tr>\n",
       "  </thead>\n",
       "  <tbody>\n",
       "  </tbody>\n",
       "</table>\n",
       "<p>0 rows × 45 columns</p>\n",
       "</div>"
      ],
      "text/plain": [
       "Empty DataFrame\n",
       "Columns: [LIMIT_BAL, SEX, AGE, PAY_0, PAY_2, PAY_3, PAY_4, PAY_5, PAY_6, BILL_AMT1, BILL_AMT2, BILL_AMT3, BILL_AMT4, BILL_AMT5, BILL_AMT6, PAY_AMT1, PAY_AMT2, PAY_AMT3, PAY_AMT4, PAY_AMT5, PAY_AMT6, Y, GRAD, UNI, HS, MARRIED, SINGLE, PAY_0_No_Transactions, PAY_0_Pay_Duly, PAY_0_Revolving_Credit, PAY_2_No_Transactions, PAY_2_Pay_Duly, PAY_2_Revolving_Credit, PAY_3_No_Transactions, PAY_3_Pay_Duly, PAY_3_Revolving_Credit, PAY_4_No_Transactions, PAY_4_Pay_Duly, PAY_4_Revolving_Credit, PAY_5_No_Transactions, PAY_5_Pay_Duly, PAY_5_Revolving_Credit, PAY_6_No_Transactions, PAY_6_Pay_Duly, PAY_6_Revolving_Credit]\n",
       "Index: []\n",
       "\n",
       "[0 rows x 45 columns]"
      ]
     },
     "execution_count": 27,
     "metadata": {},
     "output_type": "execute_result"
    }
   ],
   "source": [
    "#check for perfect collinearity\n",
    "corr = df1.corr()\n",
    "for i in range(len(corr)):\n",
    "    corr.iloc[i,i] = 0\n",
    "#corr[corr == 1] = 0\n",
    "corr[corr.eq(1).any(1)]"
   ]
  },
  {
   "cell_type": "code",
   "execution_count": 28,
   "metadata": {},
   "outputs": [
    {
     "name": "stdout",
     "output_type": "stream",
     "text": [
      "Data has 45 Columns and 26245 Rows\n"
     ]
    }
   ],
   "source": [
    "size = df1.shape\n",
    "print(\"Data has {} Columns and {} Rows\".format(size[1], size[0]))"
   ]
  },
  {
   "cell_type": "markdown",
   "metadata": {},
   "source": [
    "### Train Test Split\n",
    "\n",
    "Before we conduct feature selection and model selection, we split the data using a train test split according to the project description."
   ]
  },
  {
   "cell_type": "code",
   "execution_count": 29,
   "metadata": {},
   "outputs": [],
   "source": [
    "from sklearn.metrics import *\n",
    "from sklearn.model_selection import *"
   ]
  },
  {
   "cell_type": "code",
   "execution_count": 30,
   "metadata": {
    "colab": {},
    "colab_type": "code",
    "id": "VOB68z_hM1jW"
   },
   "outputs": [],
   "source": [
    "#using holdout sampling for train test split\n",
    "ft = df1.drop(\"Y\", axis = 1)\n",
    "target = df1[\"Y\"]\n",
    "X_train,X_test,y_train,y_test = train_test_split(ft,target,test_size=0.33333)\n",
    "#make the results reproducible (according to instructions)\n",
    "np.random.seed(123) "
   ]
  },
  {
   "cell_type": "markdown",
   "metadata": {},
   "source": [
    "### Filter method for feature selection\n",
    "The filter method for feature selection entails selecting relevant attributes before moving on to learning phase.\n",
    "We will utitlise univariate feature selection to reduce the features to the fewer more significant attributes. "
   ]
  },
  {
   "cell_type": "code",
   "execution_count": 31,
   "metadata": {},
   "outputs": [
    {
     "name": "stdout",
     "output_type": "stream",
     "text": [
      "Significant values are:\n",
      "                                  0          pval\n",
      "LIMIT_BAL                 74.581893  1.992315e-03\n",
      "PAY_0                   4250.691969  0.000000e+00\n",
      "PAY_2                   3793.454513  0.000000e+00\n",
      "PAY_3                   2943.420461  0.000000e+00\n",
      "PAY_4                   2997.799899  0.000000e+00\n",
      "PAY_5                   2809.793752  0.000000e+00\n",
      "PAY_6                   2384.699487  0.000000e+00\n",
      "PAY_0_No_Transactions     75.255770  1.695234e-03\n",
      "PAY_0_Revolving_Credit   481.798565  0.000000e+00\n",
      "PAY_2_Pay_Duly            70.057810  5.666696e-03\n",
      "PAY_2_Revolving_Credit   242.800821  0.000000e+00\n",
      "PAY_3_Pay_Duly            83.050209  2.372483e-04\n",
      "PAY_3_Revolving_Credit   133.546708  3.279310e-11\n",
      "PAY_4_Pay_Duly            80.991396  4.056023e-04\n",
      "PAY_4_Revolving_Credit    95.721673  6.943457e-06\n",
      "PAY_5_Pay_Duly            81.026163  4.019845e-04\n",
      "PAY_5_Revolving_Credit    63.051153  2.470371e-02\n"
     ]
    }
   ],
   "source": [
    "from sklearn.feature_selection import SelectKBest\n",
    "from sklearn.feature_selection import chi2\n",
    "\n",
    "selector = SelectKBest( score_func = chi2, k=10)\n",
    "selector.fit(X_train, y_train)\n",
    "np.set_printoptions(precision=10)\n",
    "chi2data = pd.DataFrame(selector.scores_)\n",
    "chi2data[\"pval\"] = 1 - stats.chi2.cdf(chi2data, 43)\n",
    "chi2data.index = X_train.columns\n",
    "\n",
    "print(\"Significant values are:\")\n",
    "print(chi2data[chi2data[\"pval\"] < 0.05])\n",
    "\n",
    "cols = chi2data[chi2data[\"pval\"] < 0.05].index\n",
    "X_train_filter = X_train[cols]\n",
    "X_test_filter = X_test[cols]"
   ]
  },
  {
   "cell_type": "markdown",
   "metadata": {
    "colab_type": "text",
    "id": "mbhlIlQzZz7c"
   },
   "source": [
    "## Model Selection\n",
    "\n",
    "In this part, we will fit machine learning models learnt in BT2101 to this classification problem, and pick the model that can produce the best results.\n",
    "\n",
    "We will be attempting to fit the following models:\n",
    "\n",
    "\n",
    "- Decision Tree \n",
    "- Logistic Regression\n",
    "- Support Vector Machine\n",
    "- Neural Network\n",
    "\n",
    "To make things easier, we define a get_roc function that will plot an ROC curve for all the models we evaluate, and a confusion matrix function.\n"
   ]
  },
  {
   "cell_type": "code",
   "execution_count": 32,
   "metadata": {},
   "outputs": [],
   "source": [
    "def get_roc(model, y_test, X_test, name):\n",
    "    try:\n",
    "        fpr = roc_curve(y_test,model.predict_proba(X_test)[:,1])[0]\n",
    "        tpr = roc_curve(y_test,model.predict_proba(X_test)[:,1])[1]\n",
    "        thresholds = roc_curve(y_test,model.predict_proba(X_test)[:,1])[2]\n",
    "    except:\n",
    "        fpr = roc_curve(y_test,model.predict(X_test))[0]\n",
    "        tpr = roc_curve(y_test,model.predict(X_test))[1]\n",
    "        thresholds = roc_curve(y_test,model.predict(X_test))[2]\n",
    "    plt.plot([0, 1], [0, 1], color='navy', linestyle='--')\n",
    "    plt.xlim([0.0, 1.0])\n",
    "    plt.ylim([0.0, 1.05])\n",
    "    plt.xlabel('False Positive Rate')\n",
    "    plt.ylabel('True Positive Rate')\n",
    "    plt.title('Receiver operating characteristic for ' + name)\n",
    "    plt.plot(fpr,tpr,label='ROC curve (AUC = %0.2f)' % (auc(fpr, tpr)))\n",
    "    plt.legend(loc=\"lower right\")\n",
    "    \n",
    "    #find- best threshold\n",
    "    optimal_idx = np.argmax(tpr - fpr)\n",
    "    optimal_threshold = thresholds[optimal_idx]\n",
    "    print(\"Optimal Threshold: \" + str(optimal_threshold))\n",
    "    \n",
    "    plt.show()\n",
    "    \n",
    "    return auc(fpr, tpr)"
   ]
  },
  {
   "cell_type": "code",
   "execution_count": 33,
   "metadata": {
    "scrolled": true
   },
   "outputs": [],
   "source": [
    "def confusion(y_test, predictions, name):\n",
    "    conf = pd.crosstab(y_test,predictions, rownames=['Actual'], colnames=['Predicted'])\n",
    "    print(\"Of \" + str(conf[0][1] + conf[1][1]) + \" Defaulters, the \" + name + \" identified \" + str(conf[1][1])) \n",
    "    return conf"
   ]
  },
  {
   "cell_type": "markdown",
   "metadata": {},
   "source": [
    "### Evaluation \n",
    "We will select the model based on the model evaluation. The key metrics we will compute are:\n",
    "\n",
    "1. Accuracy\n",
    "2. Recall\n",
    "3. AUROC\n",
    "\n",
    "Because of the nature of a default detection problem, we would like to prioritise **recall** for defaults. \n",
    "This means we will place more importance in correctly identifying a defaulter than avoiding misclassifying a non-defaulter. (Assumming that the bank loses more money when lending to a defaulter than not lending to a non-defaulter)\n",
    "\n",
    "However, simply predicting every data point as a defaulter will give us 100% recall. We have to also consider accuracy and AUROC to get a better idea of how our model performs.\n"
   ]
  },
  {
   "cell_type": "code",
   "execution_count": 34,
   "metadata": {},
   "outputs": [],
   "source": [
    "evaluation = pd.DataFrame(columns=['Model', 'Recall-1', 'AUROC'])"
   ]
  },
  {
   "cell_type": "markdown",
   "metadata": {
    "colab_type": "text",
    "id": "H89tM6NvaN17"
   },
   "source": [
    "###  Decision Trees\n",
    "\n",
    "#### Theory:\n",
    "The decision tree algorithm aims to recursively split the data points in the training set until the data points are completely separated or well separated. At each iteration, the tree splits the datasets by the feature(s) that give the maximum reduction in heterogeneity, which is calculated by a heterogeneity index.\n",
    "\n",
    "Below is a binary decision tree that has been split for a few iterations.\n",
    "\n",
    "![image.png](https://elf11.github.io/images/decisionTree.png)\n",
    "\n",
    "Since the target for this project is binary (fraud = yes or no) we will be building a binary decision tree, using the the GINI Index as the Heterogeneity index. The GINI is given by:\n",
    "\n",
    "![image.png](https://miro.medium.com/max/664/1*otdoiyIwxJI-UV0ukkyutw.png)\n",
    "\n",
    "The GINI index measures how heterogenous a single node is (0 being completely homogenous and 1 being heterogenous). For each possible split, we will calculate the *weighted sum* of the GINI indices of the child nodes, and choose the split that results in the maximum information gain. i.e. reduction in the weighted sum of the GINI Index.\n",
    "\n",
    "#### Training\n",
    "We will now construct a simple decision tree using the GINI index."
   ]
  },
  {
   "cell_type": "code",
   "execution_count": 35,
   "metadata": {},
   "outputs": [],
   "source": [
    "from sklearn.tree import DecisionTreeClassifier"
   ]
  },
  {
   "cell_type": "code",
   "execution_count": 36,
   "metadata": {},
   "outputs": [
    {
     "data": {
      "text/plain": [
       "DecisionTreeClassifier(class_weight=None, criterion='gini', max_depth=None,\n",
       "                       max_features=None, max_leaf_nodes=None,\n",
       "                       min_impurity_decrease=0.0, min_impurity_split=None,\n",
       "                       min_samples_leaf=1, min_samples_split=2,\n",
       "                       min_weight_fraction_leaf=0.0, presort=False,\n",
       "                       random_state=None, splitter='best')"
      ]
     },
     "execution_count": 36,
     "metadata": {},
     "output_type": "execute_result"
    }
   ],
   "source": [
    "tree = DecisionTreeClassifier()\n",
    "tree.fit(X_train, y_train)"
   ]
  },
  {
   "cell_type": "code",
   "execution_count": 37,
   "metadata": {},
   "outputs": [
    {
     "name": "stdout",
     "output_type": "stream",
     "text": [
      "              precision    recall  f1-score   support\n",
      "\n",
      "           0       1.00      1.00      1.00     13545\n",
      "           1       1.00      1.00      1.00      3951\n",
      "\n",
      "    accuracy                           1.00     17496\n",
      "   macro avg       1.00      1.00      1.00     17496\n",
      "weighted avg       1.00      1.00      1.00     17496\n",
      "\n"
     ]
    }
   ],
   "source": [
    "print(classification_report(y_train, tree.predict(X_train)))"
   ]
  },
  {
   "cell_type": "markdown",
   "metadata": {},
   "source": [
    "The training set accuracy is 1, which means the datapoints are completely separated by the decision tree. We evaluate on the test set below."
   ]
  },
  {
   "cell_type": "code",
   "execution_count": 38,
   "metadata": {},
   "outputs": [
    {
     "name": "stdout",
     "output_type": "stream",
     "text": [
      "Of 2090 Defaulters, the Decision Tree (GINI) identified 857\n"
     ]
    },
    {
     "data": {
      "text/html": [
       "<div>\n",
       "<style scoped>\n",
       "    .dataframe tbody tr th:only-of-type {\n",
       "        vertical-align: middle;\n",
       "    }\n",
       "\n",
       "    .dataframe tbody tr th {\n",
       "        vertical-align: top;\n",
       "    }\n",
       "\n",
       "    .dataframe thead th {\n",
       "        text-align: right;\n",
       "    }\n",
       "</style>\n",
       "<table border=\"1\" class=\"dataframe\">\n",
       "  <thead>\n",
       "    <tr style=\"text-align: right;\">\n",
       "      <th>Predicted</th>\n",
       "      <th>0</th>\n",
       "      <th>1</th>\n",
       "    </tr>\n",
       "    <tr>\n",
       "      <th>Actual</th>\n",
       "      <th></th>\n",
       "      <th></th>\n",
       "    </tr>\n",
       "  </thead>\n",
       "  <tbody>\n",
       "    <tr>\n",
       "      <td>0</td>\n",
       "      <td>5403</td>\n",
       "      <td>1256</td>\n",
       "    </tr>\n",
       "    <tr>\n",
       "      <td>1</td>\n",
       "      <td>1233</td>\n",
       "      <td>857</td>\n",
       "    </tr>\n",
       "  </tbody>\n",
       "</table>\n",
       "</div>"
      ],
      "text/plain": [
       "Predicted     0     1\n",
       "Actual               \n",
       "0          5403  1256\n",
       "1          1233   857"
      ]
     },
     "execution_count": 38,
     "metadata": {},
     "output_type": "execute_result"
    }
   ],
   "source": [
    "confusion(y_test, tree.predict(X_test), \"Decision Tree (GINI)\")"
   ]
  },
  {
   "cell_type": "code",
   "execution_count": 39,
   "metadata": {},
   "outputs": [
    {
     "name": "stdout",
     "output_type": "stream",
     "text": [
      "Optimal Threshold: 0.5\n"
     ]
    },
    {
     "data": {
      "image/png": "[encoded data removed]",
      "text/plain": [
       "<Figure size 432x288 with 1 Axes>"
      ]
     },
     "metadata": {
      "needs_background": "light"
     },
     "output_type": "display_data"
    }
   ],
   "source": [
    "auroc = get_roc(tree, y_test, X_test, \"Decision Tree (GINI)\")"
   ]
  },
  {
   "cell_type": "code",
   "execution_count": 40,
   "metadata": {},
   "outputs": [
    {
     "name": "stdout",
     "output_type": "stream",
     "text": [
      "              precision    recall  f1-score   support\n",
      "\n",
      "           0       0.81      0.81      0.81      6659\n",
      "           1       0.41      0.41      0.41      2090\n",
      "\n",
      "    accuracy                           0.72      8749\n",
      "   macro avg       0.61      0.61      0.61      8749\n",
      "weighted avg       0.72      0.72      0.72      8749\n",
      "\n"
     ]
    }
   ],
   "source": [
    "print(classification_report(y_test, tree.predict(X_test)))"
   ]
  },
  {
   "cell_type": "markdown",
   "metadata": {},
   "source": [
    "Alternatively, we can use entropy as a measure of heterogeneity. Entropy as a measure of heterogeneity is given by:\n",
    "![image.png](http://www.sciencealert.com/images/15_.jpg)"
   ]
  },
  {
   "cell_type": "code",
   "execution_count": 125,
   "metadata": {},
   "outputs": [
    {
     "name": "stdout",
     "output_type": "stream",
     "text": [
      "Of 2090 Defaulters, the Decision Tree (Entropy) identified 846\n"
     ]
    },
    {
     "data": {
      "text/html": [
       "<div>\n",
       "<style scoped>\n",
       "    .dataframe tbody tr th:only-of-type {\n",
       "        vertical-align: middle;\n",
       "    }\n",
       "\n",
       "    .dataframe tbody tr th {\n",
       "        vertical-align: top;\n",
       "    }\n",
       "\n",
       "    .dataframe thead th {\n",
       "        text-align: right;\n",
       "    }\n",
       "</style>\n",
       "<table border=\"1\" class=\"dataframe\">\n",
       "  <thead>\n",
       "    <tr style=\"text-align: right;\">\n",
       "      <th>Predicted</th>\n",
       "      <th>0</th>\n",
       "      <th>1</th>\n",
       "    </tr>\n",
       "    <tr>\n",
       "      <th>Actual</th>\n",
       "      <th></th>\n",
       "      <th></th>\n",
       "    </tr>\n",
       "  </thead>\n",
       "  <tbody>\n",
       "    <tr>\n",
       "      <td>0</td>\n",
       "      <td>5422</td>\n",
       "      <td>1237</td>\n",
       "    </tr>\n",
       "    <tr>\n",
       "      <td>1</td>\n",
       "      <td>1244</td>\n",
       "      <td>846</td>\n",
       "    </tr>\n",
       "  </tbody>\n",
       "</table>\n",
       "</div>"
      ],
      "text/plain": [
       "Predicted     0     1\n",
       "Actual               \n",
       "0          5422  1237\n",
       "1          1244   846"
      ]
     },
     "execution_count": 125,
     "metadata": {},
     "output_type": "execute_result"
    }
   ],
   "source": [
    "tree2 = DecisionTreeClassifier(criterion = \"entropy\")\n",
    "tree2.fit(X_train, y_train)\n",
    "confusion(y_test, tree2.predict(X_test), \"Decision Tree (Entropy)\")"
   ]
  },
  {
   "cell_type": "code",
   "execution_count": 126,
   "metadata": {},
   "outputs": [
    {
     "name": "stdout",
     "output_type": "stream",
     "text": [
      "Optimal Threshold: 0.5\n"
     ]
    },
    {
     "data": {
      "image/png": "[encoded data removed]",
      "text/plain": [
       "<Figure size 432x288 with 1 Axes>"
      ]
     },
     "metadata": {
      "needs_background": "light"
     },
     "output_type": "display_data"
    }
   ],
   "source": [
    "get_roc(tree2, y_test, X_test, \"Decision Tree (Entropy)\")"
   ]
  },
  {
   "cell_type": "code",
   "execution_count": 127,
   "metadata": {},
   "outputs": [
    {
     "name": "stdout",
     "output_type": "stream",
     "text": [
      "              precision    recall  f1-score   support\n",
      "\n",
      "           0       0.81      0.81      0.81      6659\n",
      "           1       0.41      0.40      0.41      2090\n",
      "\n",
      "    accuracy                           0.72      8749\n",
      "   macro avg       0.61      0.61      0.61      8749\n",
      "weighted avg       0.72      0.72      0.72      8749\n",
      "\n"
     ]
    }
   ],
   "source": [
    "print(classification_report(y_test, tree2.predict(X_test)))"
   ]
  },
  {
   "cell_type": "markdown",
   "metadata": {},
   "source": [
    "There is negligible difference in using GINI or Entropy for decision trees. For the sake of simplicity, we will use GINI for the ensemble methods."
   ]
  },
  {
   "cell_type": "code",
   "execution_count": 128,
   "metadata": {},
   "outputs": [],
   "source": [
    "evaluation.loc[0] = ([\"Decision Tree (GINI)\" , \n",
    "                      classification_report(y_test, tree.predict(X_test), output_dict = True)[\"1\"][\"recall\"],\n",
    "                      auroc])"
   ]
  },
  {
   "cell_type": "markdown",
   "metadata": {},
   "source": [
    "### Random Forest Classifier\n",
    "\n",
    "#### Theory\n",
    "Random Forest is an ensemble method for the decision tree algorithm. It works by randomly choosing different features and data points to train multiple trees (that is, to form a forest) - and the resulting prediction is decided by the votes from all the trees. \n",
    "\n",
    "Decision Trees are prone to overfitting on the training data, which reduces the performance on the test set. Random Forest mitigates this by training multiple trees. Random Forest is a form of bagging ensemble where the trees are trained concurrently. \n",
    "\n",
    "#### Training\n",
    "To keep things consistent, our Random Forest classifier will also use the GINI Coefficient.\n",
    "\n"
   ]
  },
  {
   "cell_type": "code",
   "execution_count": 139,
   "metadata": {},
   "outputs": [],
   "source": [
    "from sklearn.ensemble import RandomForestClassifier\n",
    "randf = RandomForestClassifier(n_estimators=200)"
   ]
  },
  {
   "cell_type": "code",
   "execution_count": 140,
   "metadata": {},
   "outputs": [
    {
     "data": {
      "text/plain": [
       "RandomForestClassifier(bootstrap=True, class_weight=None, criterion='gini',\n",
       "                       max_depth=None, max_features='auto', max_leaf_nodes=None,\n",
       "                       min_impurity_decrease=0.0, min_impurity_split=None,\n",
       "                       min_samples_leaf=1, min_samples_split=2,\n",
       "                       min_weight_fraction_leaf=0.0, n_estimators=200,\n",
       "                       n_jobs=None, oob_score=False, random_state=None,\n",
       "                       verbose=0, warm_start=False)"
      ]
     },
     "execution_count": 140,
     "metadata": {},
     "output_type": "execute_result"
    }
   ],
   "source": [
    "randf.fit(X_train, y_train)"
   ]
  },
  {
   "cell_type": "code",
   "execution_count": 141,
   "metadata": {},
   "outputs": [
    {
     "name": "stdout",
     "output_type": "stream",
     "text": [
      "              precision    recall  f1-score   support\n",
      "\n",
      "           0       1.00      1.00      1.00     13545\n",
      "           1       1.00      1.00      1.00      3951\n",
      "\n",
      "    accuracy                           1.00     17496\n",
      "   macro avg       1.00      1.00      1.00     17496\n",
      "weighted avg       1.00      1.00      1.00     17496\n",
      "\n"
     ]
    }
   ],
   "source": [
    "print(classification_report(y_train, randf.predict(X_train)))"
   ]
  },
  {
   "cell_type": "markdown",
   "metadata": {},
   "source": [
    "The training set has also been 100% correctly classified by the random forest model. Evaluating with the test set:"
   ]
  },
  {
   "cell_type": "code",
   "execution_count": 142,
   "metadata": {},
   "outputs": [
    {
     "name": "stdout",
     "output_type": "stream",
     "text": [
      "Of 2090 Defaulters, the Decision Tree (Random Forest) identified 752\n"
     ]
    },
    {
     "data": {
      "text/html": [
       "<div>\n",
       "<style scoped>\n",
       "    .dataframe tbody tr th:only-of-type {\n",
       "        vertical-align: middle;\n",
       "    }\n",
       "\n",
       "    .dataframe tbody tr th {\n",
       "        vertical-align: top;\n",
       "    }\n",
       "\n",
       "    .dataframe thead th {\n",
       "        text-align: right;\n",
       "    }\n",
       "</style>\n",
       "<table border=\"1\" class=\"dataframe\">\n",
       "  <thead>\n",
       "    <tr style=\"text-align: right;\">\n",
       "      <th>Predicted</th>\n",
       "      <th>0</th>\n",
       "      <th>1</th>\n",
       "    </tr>\n",
       "    <tr>\n",
       "      <th>Actual</th>\n",
       "      <th></th>\n",
       "      <th></th>\n",
       "    </tr>\n",
       "  </thead>\n",
       "  <tbody>\n",
       "    <tr>\n",
       "      <td>0</td>\n",
       "      <td>6273</td>\n",
       "      <td>386</td>\n",
       "    </tr>\n",
       "    <tr>\n",
       "      <td>1</td>\n",
       "      <td>1338</td>\n",
       "      <td>752</td>\n",
       "    </tr>\n",
       "  </tbody>\n",
       "</table>\n",
       "</div>"
      ],
      "text/plain": [
       "Predicted     0    1\n",
       "Actual              \n",
       "0          6273  386\n",
       "1          1338  752"
      ]
     },
     "execution_count": 142,
     "metadata": {},
     "output_type": "execute_result"
    }
   ],
   "source": [
    "confusion(y_test, randf.predict(X_test), \"Decision Tree (Random Forest)\")"
   ]
  },
  {
   "cell_type": "code",
   "execution_count": 143,
   "metadata": {},
   "outputs": [
    {
     "name": "stdout",
     "output_type": "stream",
     "text": [
      "Optimal Threshold: 0.25839285714285715\n"
     ]
    },
    {
     "data": {
      "image/png": "[encoded data removed]",
      "text/plain": [
       "<Figure size 432x288 with 1 Axes>"
      ]
     },
     "metadata": {
      "needs_background": "light"
     },
     "output_type": "display_data"
    }
   ],
   "source": [
    "auroc = get_roc(randf, y_test, X_test, \"Decision Tree (Random Forest)\")"
   ]
  },
  {
   "cell_type": "code",
   "execution_count": 144,
   "metadata": {},
   "outputs": [
    {
     "name": "stdout",
     "output_type": "stream",
     "text": [
      "              precision    recall  f1-score   support\n",
      "\n",
      "           0       0.82      0.94      0.88      6659\n",
      "           1       0.66      0.36      0.47      2090\n",
      "\n",
      "    accuracy                           0.80      8749\n",
      "   macro avg       0.74      0.65      0.67      8749\n",
      "weighted avg       0.79      0.80      0.78      8749\n",
      "\n"
     ]
    }
   ],
   "source": [
    "print(classification_report(y_test, randf.predict(X_test)))"
   ]
  },
  {
   "cell_type": "code",
   "execution_count": 48,
   "metadata": {},
   "outputs": [],
   "source": [
    "evaluation.loc[1] = ([\"Random Forest\" , \n",
    "                      classification_report(y_test, randf.predict(X_test), output_dict = True)[\"1\"][\"recall\"],\n",
    "                      auroc])"
   ]
  },
  {
   "cell_type": "markdown",
   "metadata": {},
   "source": [
    "The random forest ensemble performs much better than the decision tree alone. The accuracy and AUROC are both superior to the decision tree alone."
   ]
  },
  {
   "cell_type": "markdown",
   "metadata": {},
   "source": [
    "### Gradient Boosted Trees Classifier\n",
    "\n",
    "#### Theory\n",
    "In this part we train a gradient boosted trees classifier. It is a boosting ensemble method for decision trees, which means that the trees are trained consecutively, where each new tree added is trained to correct the error from the previous tree.\n",
    " \n",
    "#### Training\n",
    "For consistency our xgBoost ensemble will use n_estimators = 300 as we have done for the random forest ensemble."
   ]
  },
  {
   "cell_type": "code",
   "execution_count": 49,
   "metadata": {},
   "outputs": [
    {
     "data": {
      "text/plain": [
       "GradientBoostingClassifier(criterion='friedman_mse', init=None,\n",
       "                           learning_rate=0.1, loss='deviance', max_depth=4,\n",
       "                           max_features=None, max_leaf_nodes=None,\n",
       "                           min_impurity_decrease=0.0, min_impurity_split=None,\n",
       "                           min_samples_leaf=1, min_samples_split=2,\n",
       "                           min_weight_fraction_leaf=0.0, n_estimators=300,\n",
       "                           n_iter_no_change=None, presort='auto',\n",
       "                           random_state=None, subsample=1.0, tol=0.0001,\n",
       "                           validation_fraction=0.1, verbose=0,\n",
       "                           warm_start=False)"
      ]
     },
     "execution_count": 49,
     "metadata": {},
     "output_type": "execute_result"
    }
   ],
   "source": [
    "from sklearn.ensemble import GradientBoostingClassifier\n",
    "xgb = GradientBoostingClassifier(n_estimators=300, max_depth = 4)\n",
    "xgb.fit(X_train, y_train)"
   ]
  },
  {
   "cell_type": "code",
   "execution_count": 50,
   "metadata": {},
   "outputs": [
    {
     "name": "stdout",
     "output_type": "stream",
     "text": [
      "              precision    recall  f1-score   support\n",
      "\n",
      "           0       0.86      0.96      0.91     13545\n",
      "           1       0.79      0.47      0.59      3951\n",
      "\n",
      "    accuracy                           0.85     17496\n",
      "   macro avg       0.82      0.72      0.75     17496\n",
      "weighted avg       0.85      0.85      0.84     17496\n",
      "\n"
     ]
    }
   ],
   "source": [
    "print(classification_report(y_train, xgb.predict(X_train)))"
   ]
  },
  {
   "cell_type": "markdown",
   "metadata": {},
   "source": [
    "We observe that the ensemble did not fully separate the data in the training set. (The default maximum depth is 3, so that might be a factor). Evaluating on the test set,"
   ]
  },
  {
   "cell_type": "code",
   "execution_count": 51,
   "metadata": {},
   "outputs": [
    {
     "name": "stdout",
     "output_type": "stream",
     "text": [
      "Of 2090 Defaulters, the Decision Tree (Gradient Boosted Trees) identified 730\n"
     ]
    },
    {
     "data": {
      "text/html": [
       "<div>\n",
       "<style scoped>\n",
       "    .dataframe tbody tr th:only-of-type {\n",
       "        vertical-align: middle;\n",
       "    }\n",
       "\n",
       "    .dataframe tbody tr th {\n",
       "        vertical-align: top;\n",
       "    }\n",
       "\n",
       "    .dataframe thead th {\n",
       "        text-align: right;\n",
       "    }\n",
       "</style>\n",
       "<table border=\"1\" class=\"dataframe\">\n",
       "  <thead>\n",
       "    <tr style=\"text-align: right;\">\n",
       "      <th>Predicted</th>\n",
       "      <th>0</th>\n",
       "      <th>1</th>\n",
       "    </tr>\n",
       "    <tr>\n",
       "      <th>Actual</th>\n",
       "      <th></th>\n",
       "      <th></th>\n",
       "    </tr>\n",
       "  </thead>\n",
       "  <tbody>\n",
       "    <tr>\n",
       "      <td>0</td>\n",
       "      <td>6290</td>\n",
       "      <td>369</td>\n",
       "    </tr>\n",
       "    <tr>\n",
       "      <td>1</td>\n",
       "      <td>1360</td>\n",
       "      <td>730</td>\n",
       "    </tr>\n",
       "  </tbody>\n",
       "</table>\n",
       "</div>"
      ],
      "text/plain": [
       "Predicted     0    1\n",
       "Actual              \n",
       "0          6290  369\n",
       "1          1360  730"
      ]
     },
     "execution_count": 51,
     "metadata": {},
     "output_type": "execute_result"
    }
   ],
   "source": [
    "confusion(y_test, xgb.predict(X_test), \"Decision Tree (Gradient Boosted Trees)\")"
   ]
  },
  {
   "cell_type": "code",
   "execution_count": 52,
   "metadata": {},
   "outputs": [
    {
     "name": "stdout",
     "output_type": "stream",
     "text": [
      "Optimal Threshold: 0.23302683158657422\n"
     ]
    },
    {
     "data": {
      "image/png": "[encoded data removed]",
      "text/plain": [
       "<Figure size 432x288 with 1 Axes>"
      ]
     },
     "metadata": {
      "needs_background": "light"
     },
     "output_type": "display_data"
    }
   ],
   "source": [
    "auroc = get_roc(xgb, y_test, X_test, \"Decision Tree (XGBoost)\")"
   ]
  },
  {
   "cell_type": "code",
   "execution_count": 53,
   "metadata": {},
   "outputs": [
    {
     "name": "stdout",
     "output_type": "stream",
     "text": [
      "              precision    recall  f1-score   support\n",
      "\n",
      "           0       0.82      0.94      0.88      6659\n",
      "           1       0.66      0.35      0.46      2090\n",
      "\n",
      "    accuracy                           0.80      8749\n",
      "   macro avg       0.74      0.65      0.67      8749\n",
      "weighted avg       0.78      0.80      0.78      8749\n",
      "\n"
     ]
    }
   ],
   "source": [
    "print(classification_report(y_test, xgb.predict(X_test)))"
   ]
  },
  {
   "cell_type": "code",
   "execution_count": 54,
   "metadata": {},
   "outputs": [],
   "source": [
    "evaluation.loc[2] = ([\"Gradient Boosted\" , \n",
    "                      classification_report(y_test, xgb.predict(X_test), output_dict = True)[\"1\"][\"recall\"],\n",
    "                      auroc])"
   ]
  },
  {
   "cell_type": "markdown",
   "metadata": {},
   "source": [
    "From the accuracy and AUROC, we observe that the gradient boosted tree performs similarly to the random forest ensemble. "
   ]
  },
  {
   "cell_type": "code",
   "execution_count": 55,
   "metadata": {
    "scrolled": true
   },
   "outputs": [
    {
     "data": {
      "text/html": [
       "<div>\n",
       "<style scoped>\n",
       "    .dataframe tbody tr th:only-of-type {\n",
       "        vertical-align: middle;\n",
       "    }\n",
       "\n",
       "    .dataframe tbody tr th {\n",
       "        vertical-align: top;\n",
       "    }\n",
       "\n",
       "    .dataframe thead th {\n",
       "        text-align: right;\n",
       "    }\n",
       "</style>\n",
       "<table border=\"1\" class=\"dataframe\">\n",
       "  <thead>\n",
       "    <tr style=\"text-align: right;\">\n",
       "      <th></th>\n",
       "      <th>Model</th>\n",
       "      <th>Recall-1</th>\n",
       "      <th>AUROC</th>\n",
       "    </tr>\n",
       "  </thead>\n",
       "  <tbody>\n",
       "    <tr>\n",
       "      <td>0</td>\n",
       "      <td>Decision Tree</td>\n",
       "      <td>0.410048</td>\n",
       "      <td>0.610882</td>\n",
       "    </tr>\n",
       "    <tr>\n",
       "      <td>1</td>\n",
       "      <td>Random Forest</td>\n",
       "      <td>0.363158</td>\n",
       "      <td>0.767925</td>\n",
       "    </tr>\n",
       "    <tr>\n",
       "      <td>2</td>\n",
       "      <td>Gradient Boosted</td>\n",
       "      <td>0.349282</td>\n",
       "      <td>0.775518</td>\n",
       "    </tr>\n",
       "  </tbody>\n",
       "</table>\n",
       "</div>"
      ],
      "text/plain": [
       "              Model  Recall-1     AUROC\n",
       "0     Decision Tree  0.410048  0.610882\n",
       "1     Random Forest  0.363158  0.767925\n",
       "2  Gradient Boosted  0.349282  0.775518"
      ]
     },
     "execution_count": 55,
     "metadata": {},
     "output_type": "execute_result"
    }
   ],
   "source": [
    "evaluation"
   ]
  },
  {
   "cell_type": "markdown",
   "metadata": {},
   "source": [
    "### Logistic Regression\n",
    "\n",
    "#### Theory\n",
    "Logistic regression is a regression technnique used to predict binary target variables. It works on the same principles as a linear regression model. \n",
    "\n",
    "Our binary target (default vs non-default) can be expressed in terms of odds of defaulting, which is the ratio of the probability of default and probability of non-default. \n",
    "\n",
    "In the logistic regression model, we log the odds (log-odds) and equate it to a weighted sum of regressors.\n",
    "\n",
    "![image.png](https://wikimedia.org/api/rest_v1/media/math/render/svg/4a5e86f014eb1f0744e280eb0d68485cb8c0a6c3)\n",
    "\n",
    "We then find weights for the regressors that best fits the data. Since the binary target (default or not) follows a bernoulli distribution, each data point has the following probability distribution function:\n",
    "\n",
    "![image.png](https://wikimedia.org/api/rest_v1/media/math/render/svg/614e0c64d59f0ff2e926deafcb2de6e502394fac)\n",
    "\n",
    "We would like to update p for each data point such that the log product (joint probability) of the above function for all data points is maximised. In other words, we are maximising the log-likelihood function.\n",
    "\n",
    "The logistic regression equation produces a \"squashed\" curve like the one below. We then pick a cutoff value for the y axis to classify a data point as 0 (non-default) or 1 (default).\n",
    "\n",
    "![image.png](https://upload.wikimedia.org/wikipedia/commons/thumb/8/88/Logistic-curve.svg/1280px-Logistic-curve.svg.png)\n",
    "\n",
    "\n",
    "#### Training\n",
    "We will adopt a top-down approach for training our logistic regression model, i.e. include all regressors first and then remove the most insignificant ones at each iteration to achieve the best fit."
   ]
  },
  {
   "cell_type": "code",
   "execution_count": 56,
   "metadata": {},
   "outputs": [],
   "source": [
    "import statsmodels.api as sm"
   ]
  },
  {
   "cell_type": "code",
   "execution_count": 57,
   "metadata": {},
   "outputs": [
    {
     "name": "stdout",
     "output_type": "stream",
     "text": [
      "Optimization terminated successfully.\n",
      "         Current function value: 0.438684\n",
      "         Iterations 7\n"
     ]
    },
    {
     "data": {
      "text/html": [
       "<table class=\"simpletable\">\n",
       "<caption>Logit Regression Results</caption>\n",
       "<tr>\n",
       "  <th>Dep. Variable:</th>           <td>Y</td>        <th>  No. Observations:  </th>  <td> 17496</td> \n",
       "</tr>\n",
       "<tr>\n",
       "  <th>Model:</th>                 <td>Logit</td>      <th>  Df Residuals:      </th>  <td> 17452</td> \n",
       "</tr>\n",
       "<tr>\n",
       "  <th>Method:</th>                 <td>MLE</td>       <th>  Df Model:          </th>  <td>    43</td> \n",
       "</tr>\n",
       "<tr>\n",
       "  <th>Date:</th>            <td>Tue, 19 Nov 2019</td> <th>  Pseudo R-squ.:     </th>  <td>0.1788</td> \n",
       "</tr>\n",
       "<tr>\n",
       "  <th>Time:</th>                <td>23:40:29</td>     <th>  Log-Likelihood:    </th> <td> -7675.2</td>\n",
       "</tr>\n",
       "<tr>\n",
       "  <th>converged:</th>             <td>True</td>       <th>  LL-Null:           </th> <td> -9346.0</td>\n",
       "</tr>\n",
       "<tr>\n",
       "  <th>Covariance Type:</th>     <td>nonrobust</td>    <th>  LLR p-value:       </th>  <td> 0.000</td> \n",
       "</tr>\n",
       "</table>\n",
       "<table class=\"simpletable\">\n",
       "<tr>\n",
       "             <td></td>               <th>coef</th>     <th>std err</th>      <th>z</th>      <th>P>|z|</th>  <th>[0.025</th>    <th>0.975]</th>  \n",
       "</tr>\n",
       "<tr>\n",
       "  <th>LIMIT_BAL</th>              <td>   -0.6669</td> <td>    0.115</td> <td>   -5.794</td> <td> 0.000</td> <td>   -0.893</td> <td>   -0.441</td>\n",
       "</tr>\n",
       "<tr>\n",
       "  <th>SEX</th>                    <td>   -0.0998</td> <td>    0.041</td> <td>   -2.406</td> <td> 0.016</td> <td>   -0.181</td> <td>   -0.019</td>\n",
       "</tr>\n",
       "<tr>\n",
       "  <th>AGE</th>                    <td>    0.1518</td> <td>    0.101</td> <td>    1.503</td> <td> 0.133</td> <td>   -0.046</td> <td>    0.350</td>\n",
       "</tr>\n",
       "<tr>\n",
       "  <th>PAY_0</th>                  <td>    0.6132</td> <td>    0.058</td> <td>   10.606</td> <td> 0.000</td> <td>    0.500</td> <td>    0.727</td>\n",
       "</tr>\n",
       "<tr>\n",
       "  <th>PAY_2</th>                  <td>   -0.5521</td> <td>    0.097</td> <td>   -5.672</td> <td> 0.000</td> <td>   -0.743</td> <td>   -0.361</td>\n",
       "</tr>\n",
       "<tr>\n",
       "  <th>PAY_3</th>                  <td>   -0.1450</td> <td>    0.114</td> <td>   -1.272</td> <td> 0.203</td> <td>   -0.368</td> <td>    0.078</td>\n",
       "</tr>\n",
       "<tr>\n",
       "  <th>PAY_4</th>                  <td>   -0.2759</td> <td>    0.156</td> <td>   -1.766</td> <td> 0.077</td> <td>   -0.582</td> <td>    0.030</td>\n",
       "</tr>\n",
       "<tr>\n",
       "  <th>PAY_5</th>                  <td>   -0.2080</td> <td>    0.176</td> <td>   -1.183</td> <td> 0.237</td> <td>   -0.553</td> <td>    0.137</td>\n",
       "</tr>\n",
       "<tr>\n",
       "  <th>PAY_6</th>                  <td>    0.5380</td> <td>    0.155</td> <td>    3.481</td> <td> 0.000</td> <td>    0.235</td> <td>    0.841</td>\n",
       "</tr>\n",
       "<tr>\n",
       "  <th>BILL_AMT1</th>              <td>   -0.7825</td> <td>    0.500</td> <td>   -1.566</td> <td> 0.117</td> <td>   -1.762</td> <td>    0.197</td>\n",
       "</tr>\n",
       "<tr>\n",
       "  <th>BILL_AMT2</th>              <td>   -0.0258</td> <td>    0.755</td> <td>   -0.034</td> <td> 0.973</td> <td>   -1.507</td> <td>    1.455</td>\n",
       "</tr>\n",
       "<tr>\n",
       "  <th>BILL_AMT3</th>              <td>    1.5494</td> <td>    0.749</td> <td>    2.068</td> <td> 0.039</td> <td>    0.081</td> <td>    3.018</td>\n",
       "</tr>\n",
       "<tr>\n",
       "  <th>BILL_AMT4</th>              <td>    0.0813</td> <td>    0.733</td> <td>    0.111</td> <td> 0.912</td> <td>   -1.355</td> <td>    1.517</td>\n",
       "</tr>\n",
       "<tr>\n",
       "  <th>BILL_AMT5</th>              <td>    0.0417</td> <td>    0.862</td> <td>    0.048</td> <td> 0.961</td> <td>   -1.648</td> <td>    1.731</td>\n",
       "</tr>\n",
       "<tr>\n",
       "  <th>BILL_AMT6</th>              <td>   -0.1684</td> <td>    0.775</td> <td>   -0.217</td> <td> 0.828</td> <td>   -1.687</td> <td>    1.350</td>\n",
       "</tr>\n",
       "<tr>\n",
       "  <th>PAY_AMT1</th>               <td>   -1.2954</td> <td>    0.322</td> <td>   -4.028</td> <td> 0.000</td> <td>   -1.926</td> <td>   -0.665</td>\n",
       "</tr>\n",
       "<tr>\n",
       "  <th>PAY_AMT2</th>               <td>   -2.0115</td> <td>    0.395</td> <td>   -5.095</td> <td> 0.000</td> <td>   -2.785</td> <td>   -1.238</td>\n",
       "</tr>\n",
       "<tr>\n",
       "  <th>PAY_AMT3</th>               <td>   -0.5552</td> <td>    0.308</td> <td>   -1.803</td> <td> 0.071</td> <td>   -1.159</td> <td>    0.048</td>\n",
       "</tr>\n",
       "<tr>\n",
       "  <th>PAY_AMT4</th>               <td>   -0.5722</td> <td>    0.306</td> <td>   -1.872</td> <td> 0.061</td> <td>   -1.171</td> <td>    0.027</td>\n",
       "</tr>\n",
       "<tr>\n",
       "  <th>PAY_AMT5</th>               <td>   -0.8231</td> <td>    0.297</td> <td>   -2.776</td> <td> 0.006</td> <td>   -1.404</td> <td>   -0.242</td>\n",
       "</tr>\n",
       "<tr>\n",
       "  <th>PAY_AMT6</th>               <td>   -0.6911</td> <td>    0.270</td> <td>   -2.559</td> <td> 0.011</td> <td>   -1.220</td> <td>   -0.162</td>\n",
       "</tr>\n",
       "<tr>\n",
       "  <th>GRAD</th>                   <td>    1.4579</td> <td>    0.228</td> <td>    6.385</td> <td> 0.000</td> <td>    1.010</td> <td>    1.905</td>\n",
       "</tr>\n",
       "<tr>\n",
       "  <th>UNI</th>                    <td>    1.4595</td> <td>    0.227</td> <td>    6.428</td> <td> 0.000</td> <td>    1.015</td> <td>    1.904</td>\n",
       "</tr>\n",
       "<tr>\n",
       "  <th>HS</th>                     <td>    1.4009</td> <td>    0.231</td> <td>    6.076</td> <td> 0.000</td> <td>    0.949</td> <td>    1.853</td>\n",
       "</tr>\n",
       "<tr>\n",
       "  <th>MARRIED</th>                <td>    0.1156</td> <td>    0.171</td> <td>    0.678</td> <td> 0.498</td> <td>   -0.219</td> <td>    0.450</td>\n",
       "</tr>\n",
       "<tr>\n",
       "  <th>SINGLE</th>                 <td>   -0.0443</td> <td>    0.171</td> <td>   -0.259</td> <td> 0.796</td> <td>   -0.380</td> <td>    0.291</td>\n",
       "</tr>\n",
       "<tr>\n",
       "  <th>PAY_0_No_Transactions</th>  <td>   -0.0445</td> <td>    0.125</td> <td>   -0.356</td> <td> 0.722</td> <td>   -0.290</td> <td>    0.201</td>\n",
       "</tr>\n",
       "<tr>\n",
       "  <th>PAY_0_Pay_Duly</th>         <td>    0.1583</td> <td>    0.121</td> <td>    1.303</td> <td> 0.193</td> <td>   -0.080</td> <td>    0.396</td>\n",
       "</tr>\n",
       "<tr>\n",
       "  <th>PAY_0_Revolving_Credit</th> <td>   -0.9060</td> <td>    0.136</td> <td>   -6.684</td> <td> 0.000</td> <td>   -1.172</td> <td>   -0.640</td>\n",
       "</tr>\n",
       "<tr>\n",
       "  <th>PAY_2_No_Transactions</th>  <td>   -1.4969</td> <td>    0.233</td> <td>   -6.428</td> <td> 0.000</td> <td>   -1.953</td> <td>   -1.040</td>\n",
       "</tr>\n",
       "<tr>\n",
       "  <th>PAY_2_Pay_Duly</th>         <td>   -1.3561</td> <td>    0.224</td> <td>   -6.062</td> <td> 0.000</td> <td>   -1.795</td> <td>   -0.918</td>\n",
       "</tr>\n",
       "<tr>\n",
       "  <th>PAY_2_Revolving_Credit</th> <td>   -0.8463</td> <td>    0.229</td> <td>   -3.700</td> <td> 0.000</td> <td>   -1.295</td> <td>   -0.398</td>\n",
       "</tr>\n",
       "<tr>\n",
       "  <th>PAY_3_No_Transactions</th>  <td>   -0.6681</td> <td>    0.278</td> <td>   -2.402</td> <td> 0.016</td> <td>   -1.213</td> <td>   -0.123</td>\n",
       "</tr>\n",
       "<tr>\n",
       "  <th>PAY_3_Pay_Duly</th>         <td>   -0.6530</td> <td>    0.253</td> <td>   -2.581</td> <td> 0.010</td> <td>   -1.149</td> <td>   -0.157</td>\n",
       "</tr>\n",
       "<tr>\n",
       "  <th>PAY_3_Revolving_Credit</th> <td>   -0.6335</td> <td>    0.241</td> <td>   -2.627</td> <td> 0.009</td> <td>   -1.106</td> <td>   -0.161</td>\n",
       "</tr>\n",
       "<tr>\n",
       "  <th>PAY_4_No_Transactions</th>  <td>   -1.0250</td> <td>    0.354</td> <td>   -2.899</td> <td> 0.004</td> <td>   -1.718</td> <td>   -0.332</td>\n",
       "</tr>\n",
       "<tr>\n",
       "  <th>PAY_4_Pay_Duly</th>         <td>   -1.0151</td> <td>    0.334</td> <td>   -3.041</td> <td> 0.002</td> <td>   -1.670</td> <td>   -0.361</td>\n",
       "</tr>\n",
       "<tr>\n",
       "  <th>PAY_4_Revolving_Credit</th> <td>   -0.9244</td> <td>    0.323</td> <td>   -2.859</td> <td> 0.004</td> <td>   -1.558</td> <td>   -0.291</td>\n",
       "</tr>\n",
       "<tr>\n",
       "  <th>PAY_5_No_Transactions</th>  <td>   -0.5952</td> <td>    0.392</td> <td>   -1.518</td> <td> 0.129</td> <td>   -1.364</td> <td>    0.173</td>\n",
       "</tr>\n",
       "<tr>\n",
       "  <th>PAY_5_Pay_Duly</th>         <td>   -0.8164</td> <td>    0.376</td> <td>   -2.171</td> <td> 0.030</td> <td>   -1.553</td> <td>   -0.079</td>\n",
       "</tr>\n",
       "<tr>\n",
       "  <th>PAY_5_Revolving_Credit</th> <td>   -0.6476</td> <td>    0.366</td> <td>   -1.770</td> <td> 0.077</td> <td>   -1.365</td> <td>    0.070</td>\n",
       "</tr>\n",
       "<tr>\n",
       "  <th>PAY_6_No_Transactions</th>  <td>    1.0133</td> <td>    0.340</td> <td>    2.984</td> <td> 0.003</td> <td>    0.348</td> <td>    1.679</td>\n",
       "</tr>\n",
       "<tr>\n",
       "  <th>PAY_6_Pay_Duly</th>         <td>    0.9398</td> <td>    0.332</td> <td>    2.829</td> <td> 0.005</td> <td>    0.289</td> <td>    1.591</td>\n",
       "</tr>\n",
       "<tr>\n",
       "  <th>PAY_6_Revolving_Credit</th> <td>    0.7534</td> <td>    0.324</td> <td>    2.326</td> <td> 0.020</td> <td>    0.119</td> <td>    1.388</td>\n",
       "</tr>\n",
       "</table>"
      ],
      "text/plain": [
       "<class 'statsmodels.iolib.summary.Summary'>\n",
       "\"\"\"\n",
       "                           Logit Regression Results                           \n",
       "==============================================================================\n",
       "Dep. Variable:                      Y   No. Observations:                17496\n",
       "Model:                          Logit   Df Residuals:                    17452\n",
       "Method:                           MLE   Df Model:                           43\n",
       "Date:                Tue, 19 Nov 2019   Pseudo R-squ.:                  0.1788\n",
       "Time:                        23:40:29   Log-Likelihood:                -7675.2\n",
       "converged:                       True   LL-Null:                       -9346.0\n",
       "Covariance Type:            nonrobust   LLR p-value:                     0.000\n",
       "==========================================================================================\n",
       "                             coef    std err          z      P>|z|      [0.025      0.975]\n",
       "------------------------------------------------------------------------------------------\n",
       "LIMIT_BAL                 -0.6669      0.115     -5.794      0.000      -0.893      -0.441\n",
       "SEX                       -0.0998      0.041     -2.406      0.016      -0.181      -0.019\n",
       "AGE                        0.1518      0.101      1.503      0.133      -0.046       0.350\n",
       "PAY_0                      0.6132      0.058     10.606      0.000       0.500       0.727\n",
       "PAY_2                     -0.5521      0.097     -5.672      0.000      -0.743      -0.361\n",
       "PAY_3                     -0.1450      0.114     -1.272      0.203      -0.368       0.078\n",
       "PAY_4                     -0.2759      0.156     -1.766      0.077      -0.582       0.030\n",
       "PAY_5                     -0.2080      0.176     -1.183      0.237      -0.553       0.137\n",
       "PAY_6                      0.5380      0.155      3.481      0.000       0.235       0.841\n",
       "BILL_AMT1                 -0.7825      0.500     -1.566      0.117      -1.762       0.197\n",
       "BILL_AMT2                 -0.0258      0.755     -0.034      0.973      -1.507       1.455\n",
       "BILL_AMT3                  1.5494      0.749      2.068      0.039       0.081       3.018\n",
       "BILL_AMT4                  0.0813      0.733      0.111      0.912      -1.355       1.517\n",
       "BILL_AMT5                  0.0417      0.862      0.048      0.961      -1.648       1.731\n",
       "BILL_AMT6                 -0.1684      0.775     -0.217      0.828      -1.687       1.350\n",
       "PAY_AMT1                  -1.2954      0.322     -4.028      0.000      -1.926      -0.665\n",
       "PAY_AMT2                  -2.0115      0.395     -5.095      0.000      -2.785      -1.238\n",
       "PAY_AMT3                  -0.5552      0.308     -1.803      0.071      -1.159       0.048\n",
       "PAY_AMT4                  -0.5722      0.306     -1.872      0.061      -1.171       0.027\n",
       "PAY_AMT5                  -0.8231      0.297     -2.776      0.006      -1.404      -0.242\n",
       "PAY_AMT6                  -0.6911      0.270     -2.559      0.011      -1.220      -0.162\n",
       "GRAD                       1.4579      0.228      6.385      0.000       1.010       1.905\n",
       "UNI                        1.4595      0.227      6.428      0.000       1.015       1.904\n",
       "HS                         1.4009      0.231      6.076      0.000       0.949       1.853\n",
       "MARRIED                    0.1156      0.171      0.678      0.498      -0.219       0.450\n",
       "SINGLE                    -0.0443      0.171     -0.259      0.796      -0.380       0.291\n",
       "PAY_0_No_Transactions     -0.0445      0.125     -0.356      0.722      -0.290       0.201\n",
       "PAY_0_Pay_Duly             0.1583      0.121      1.303      0.193      -0.080       0.396\n",
       "PAY_0_Revolving_Credit    -0.9060      0.136     -6.684      0.000      -1.172      -0.640\n",
       "PAY_2_No_Transactions     -1.4969      0.233     -6.428      0.000      -1.953      -1.040\n",
       "PAY_2_Pay_Duly            -1.3561      0.224     -6.062      0.000      -1.795      -0.918\n",
       "PAY_2_Revolving_Credit    -0.8463      0.229     -3.700      0.000      -1.295      -0.398\n",
       "PAY_3_No_Transactions     -0.6681      0.278     -2.402      0.016      -1.213      -0.123\n",
       "PAY_3_Pay_Duly            -0.6530      0.253     -2.581      0.010      -1.149      -0.157\n",
       "PAY_3_Revolving_Credit    -0.6335      0.241     -2.627      0.009      -1.106      -0.161\n",
       "PAY_4_No_Transactions     -1.0250      0.354     -2.899      0.004      -1.718      -0.332\n",
       "PAY_4_Pay_Duly            -1.0151      0.334     -3.041      0.002      -1.670      -0.361\n",
       "PAY_4_Revolving_Credit    -0.9244      0.323     -2.859      0.004      -1.558      -0.291\n",
       "PAY_5_No_Transactions     -0.5952      0.392     -1.518      0.129      -1.364       0.173\n",
       "PAY_5_Pay_Duly            -0.8164      0.376     -2.171      0.030      -1.553      -0.079\n",
       "PAY_5_Revolving_Credit    -0.6476      0.366     -1.770      0.077      -1.365       0.070\n",
       "PAY_6_No_Transactions      1.0133      0.340      2.984      0.003       0.348       1.679\n",
       "PAY_6_Pay_Duly             0.9398      0.332      2.829      0.005       0.289       1.591\n",
       "PAY_6_Revolving_Credit     0.7534      0.324      2.326      0.020       0.119       1.388\n",
       "==========================================================================================\n",
       "\"\"\""
      ]
     },
     "execution_count": 57,
     "metadata": {},
     "output_type": "execute_result"
    }
   ],
   "source": [
    "glm = sm.Logit(y_train,X_train).fit()\n",
    "glm.summary()"
   ]
  },
  {
   "cell_type": "code",
   "execution_count": 58,
   "metadata": {},
   "outputs": [
    {
     "name": "stdout",
     "output_type": "stream",
     "text": [
      "              precision    recall  f1-score   support\n",
      "\n",
      "           0       0.84      0.95      0.89     13545\n",
      "           1       0.67      0.37      0.47      3951\n",
      "\n",
      "    accuracy                           0.82     17496\n",
      "   macro avg       0.75      0.66      0.68     17496\n",
      "weighted avg       0.80      0.82      0.80     17496\n",
      "\n"
     ]
    }
   ],
   "source": [
    "print(classification_report(y_train,list(glm.predict(X_train)>0.5)))"
   ]
  },
  {
   "cell_type": "markdown",
   "metadata": {},
   "source": [
    "The logisitc model with all features performs quite well on both the train and test set with an accuracy of about 0.8. We will now try removing all the insignificant features to see how that affects the model performance."
   ]
  },
  {
   "cell_type": "code",
   "execution_count": 109,
   "metadata": {},
   "outputs": [
    {
     "name": "stdout",
     "output_type": "stream",
     "text": [
      "Optimization terminated successfully.\n",
      "         Current function value: 0.438684\n",
      "         Iterations 7\n",
      "Optimization terminated successfully.\n",
      "         Current function value: 0.438684\n",
      "         Iterations 7\n",
      "Optimization terminated successfully.\n",
      "         Current function value: 0.438684\n",
      "         Iterations 7\n",
      "Optimization terminated successfully.\n",
      "         Current function value: 0.438685\n",
      "         Iterations 7\n",
      "Optimization terminated successfully.\n",
      "         Current function value: 0.438686\n",
      "         Iterations 7\n",
      "Optimization terminated successfully.\n",
      "         Current function value: 0.438689\n",
      "         Iterations 7\n",
      "Optimization terminated successfully.\n",
      "         Current function value: 0.438692\n",
      "         Iterations 7\n",
      "Optimization terminated successfully.\n",
      "         Current function value: 0.438733\n",
      "         Iterations 7\n",
      "Optimization terminated successfully.\n",
      "         Current function value: 0.438766\n",
      "         Iterations 7\n",
      "Optimization terminated successfully.\n",
      "         Current function value: 0.438815\n",
      "         Iterations 7\n",
      "Optimization terminated successfully.\n",
      "         Current function value: 0.438878\n",
      "         Iterations 7\n",
      "Optimization terminated successfully.\n",
      "         Current function value: 0.438953\n",
      "         Iterations 7\n",
      "Optimization terminated successfully.\n",
      "         Current function value: 0.439049\n",
      "         Iterations 7\n",
      "Optimization terminated successfully.\n",
      "         Current function value: 0.439148\n",
      "         Iterations 7\n",
      "Optimization terminated successfully.\n",
      "         Current function value: 0.439242\n",
      "         Iterations 7\n",
      "Optimization terminated successfully.\n",
      "         Current function value: 0.439370\n",
      "         Iterations 7\n",
      "Optimization terminated successfully.\n",
      "         Current function value: 0.439484\n",
      "         Iterations 7\n",
      "Optimization terminated successfully.\n",
      "         Current function value: 0.439636\n",
      "         Iterations 7\n",
      "Optimization terminated successfully.\n",
      "         Current function value: 0.439750\n",
      "         Iterations 7\n",
      "Optimization terminated successfully.\n",
      "         Current function value: 0.439934\n",
      "         Iterations 7\n",
      "Optimization terminated successfully.\n",
      "         Current function value: 0.440120\n",
      "         Iterations 7\n"
     ]
    },
    {
     "data": {
      "text/html": [
       "<table class=\"simpletable\">\n",
       "<caption>Logit Regression Results</caption>\n",
       "<tr>\n",
       "  <th>Dep. Variable:</th>           <td>Y</td>        <th>  No. Observations:  </th>  <td> 17496</td> \n",
       "</tr>\n",
       "<tr>\n",
       "  <th>Model:</th>                 <td>Logit</td>      <th>  Df Residuals:      </th>  <td> 17472</td> \n",
       "</tr>\n",
       "<tr>\n",
       "  <th>Method:</th>                 <td>MLE</td>       <th>  Df Model:          </th>  <td>    23</td> \n",
       "</tr>\n",
       "<tr>\n",
       "  <th>Date:</th>            <td>Wed, 20 Nov 2019</td> <th>  Pseudo R-squ.:     </th>  <td>0.1761</td> \n",
       "</tr>\n",
       "<tr>\n",
       "  <th>Time:</th>                <td>00:03:36</td>     <th>  Log-Likelihood:    </th> <td> -7700.3</td>\n",
       "</tr>\n",
       "<tr>\n",
       "  <th>converged:</th>             <td>True</td>       <th>  LL-Null:           </th> <td> -9346.0</td>\n",
       "</tr>\n",
       "<tr>\n",
       "  <th>Covariance Type:</th>     <td>nonrobust</td>    <th>  LLR p-value:       </th>  <td> 0.000</td> \n",
       "</tr>\n",
       "</table>\n",
       "<table class=\"simpletable\">\n",
       "<tr>\n",
       "             <td></td>               <th>coef</th>     <th>std err</th>      <th>z</th>      <th>P>|z|</th>  <th>[0.025</th>    <th>0.975]</th>  \n",
       "</tr>\n",
       "<tr>\n",
       "  <th>LIMIT_BAL</th>              <td>   -0.6990</td> <td>    0.113</td> <td>   -6.170</td> <td> 0.000</td> <td>   -0.921</td> <td>   -0.477</td>\n",
       "</tr>\n",
       "<tr>\n",
       "  <th>PAY_0</th>                  <td>    0.5690</td> <td>    0.037</td> <td>   15.303</td> <td> 0.000</td> <td>    0.496</td> <td>    0.642</td>\n",
       "</tr>\n",
       "<tr>\n",
       "  <th>PAY_2</th>                  <td>   -0.5810</td> <td>    0.079</td> <td>   -7.338</td> <td> 0.000</td> <td>   -0.736</td> <td>   -0.426</td>\n",
       "</tr>\n",
       "<tr>\n",
       "  <th>PAY_4</th>                  <td>   -0.2896</td> <td>    0.072</td> <td>   -4.034</td> <td> 0.000</td> <td>   -0.430</td> <td>   -0.149</td>\n",
       "</tr>\n",
       "<tr>\n",
       "  <th>PAY_6</th>                  <td>    0.2279</td> <td>    0.032</td> <td>    7.188</td> <td> 0.000</td> <td>    0.166</td> <td>    0.290</td>\n",
       "</tr>\n",
       "<tr>\n",
       "  <th>BILL_AMT3</th>              <td>    0.6680</td> <td>    0.183</td> <td>    3.660</td> <td> 0.000</td> <td>    0.310</td> <td>    1.026</td>\n",
       "</tr>\n",
       "<tr>\n",
       "  <th>PAY_AMT1</th>               <td>   -1.2364</td> <td>    0.295</td> <td>   -4.195</td> <td> 0.000</td> <td>   -1.814</td> <td>   -0.659</td>\n",
       "</tr>\n",
       "<tr>\n",
       "  <th>PAY_AMT2</th>               <td>   -2.2214</td> <td>    0.369</td> <td>   -6.027</td> <td> 0.000</td> <td>   -2.944</td> <td>   -1.499</td>\n",
       "</tr>\n",
       "<tr>\n",
       "  <th>PAY_AMT4</th>               <td>   -0.8717</td> <td>    0.278</td> <td>   -3.138</td> <td> 0.002</td> <td>   -1.416</td> <td>   -0.327</td>\n",
       "</tr>\n",
       "<tr>\n",
       "  <th>PAY_AMT5</th>               <td>   -0.7532</td> <td>    0.266</td> <td>   -2.827</td> <td> 0.005</td> <td>   -1.275</td> <td>   -0.231</td>\n",
       "</tr>\n",
       "<tr>\n",
       "  <th>PAY_AMT6</th>               <td>   -0.8021</td> <td>    0.268</td> <td>   -2.990</td> <td> 0.003</td> <td>   -1.328</td> <td>   -0.276</td>\n",
       "</tr>\n",
       "<tr>\n",
       "  <th>GRAD</th>                   <td>    1.4314</td> <td>    0.179</td> <td>    7.995</td> <td> 0.000</td> <td>    1.081</td> <td>    1.782</td>\n",
       "</tr>\n",
       "<tr>\n",
       "  <th>UNI</th>                    <td>    1.4280</td> <td>    0.178</td> <td>    8.036</td> <td> 0.000</td> <td>    1.080</td> <td>    1.776</td>\n",
       "</tr>\n",
       "<tr>\n",
       "  <th>HS</th>                     <td>    1.3923</td> <td>    0.182</td> <td>    7.637</td> <td> 0.000</td> <td>    1.035</td> <td>    1.750</td>\n",
       "</tr>\n",
       "<tr>\n",
       "  <th>MARRIED</th>                <td>    0.1903</td> <td>    0.042</td> <td>    4.524</td> <td> 0.000</td> <td>    0.108</td> <td>    0.273</td>\n",
       "</tr>\n",
       "<tr>\n",
       "  <th>PAY_0_Revolving_Credit</th> <td>   -1.0207</td> <td>    0.093</td> <td>  -10.994</td> <td> 0.000</td> <td>   -1.203</td> <td>   -0.839</td>\n",
       "</tr>\n",
       "<tr>\n",
       "  <th>PAY_2_No_Transactions</th>  <td>   -1.7729</td> <td>    0.187</td> <td>   -9.475</td> <td> 0.000</td> <td>   -2.140</td> <td>   -1.406</td>\n",
       "</tr>\n",
       "<tr>\n",
       "  <th>PAY_2_Pay_Duly</th>         <td>   -1.4833</td> <td>    0.176</td> <td>   -8.409</td> <td> 0.000</td> <td>   -1.829</td> <td>   -1.138</td>\n",
       "</tr>\n",
       "<tr>\n",
       "  <th>PAY_2_Revolving_Credit</th> <td>   -0.9115</td> <td>    0.186</td> <td>   -4.911</td> <td> 0.000</td> <td>   -1.275</td> <td>   -0.548</td>\n",
       "</tr>\n",
       "<tr>\n",
       "  <th>PAY_3_Revolving_Credit</th> <td>   -0.2508</td> <td>    0.075</td> <td>   -3.350</td> <td> 0.001</td> <td>   -0.398</td> <td>   -0.104</td>\n",
       "</tr>\n",
       "<tr>\n",
       "  <th>PAY_4_No_Transactions</th>  <td>   -1.2810</td> <td>    0.180</td> <td>   -7.101</td> <td> 0.000</td> <td>   -1.635</td> <td>   -0.927</td>\n",
       "</tr>\n",
       "<tr>\n",
       "  <th>PAY_4_Pay_Duly</th>         <td>   -1.3305</td> <td>    0.164</td> <td>   -8.104</td> <td> 0.000</td> <td>   -1.652</td> <td>   -1.009</td>\n",
       "</tr>\n",
       "<tr>\n",
       "  <th>PAY_4_Revolving_Credit</th> <td>   -1.0886</td> <td>    0.157</td> <td>   -6.918</td> <td> 0.000</td> <td>   -1.397</td> <td>   -0.780</td>\n",
       "</tr>\n",
       "<tr>\n",
       "  <th>PAY_6_No_Transactions</th>  <td>    0.2156</td> <td>    0.081</td> <td>    2.650</td> <td> 0.008</td> <td>    0.056</td> <td>    0.375</td>\n",
       "</tr>\n",
       "</table>"
      ],
      "text/plain": [
       "<class 'statsmodels.iolib.summary.Summary'>\n",
       "\"\"\"\n",
       "                           Logit Regression Results                           \n",
       "==============================================================================\n",
       "Dep. Variable:                      Y   No. Observations:                17496\n",
       "Model:                          Logit   Df Residuals:                    17472\n",
       "Method:                           MLE   Df Model:                           23\n",
       "Date:                Wed, 20 Nov 2019   Pseudo R-squ.:                  0.1761\n",
       "Time:                        00:03:36   Log-Likelihood:                -7700.3\n",
       "converged:                       True   LL-Null:                       -9346.0\n",
       "Covariance Type:            nonrobust   LLR p-value:                     0.000\n",
       "==========================================================================================\n",
       "                             coef    std err          z      P>|z|      [0.025      0.975]\n",
       "------------------------------------------------------------------------------------------\n",
       "LIMIT_BAL                 -0.6990      0.113     -6.170      0.000      -0.921      -0.477\n",
       "PAY_0                      0.5690      0.037     15.303      0.000       0.496       0.642\n",
       "PAY_2                     -0.5810      0.079     -7.338      0.000      -0.736      -0.426\n",
       "PAY_4                     -0.2896      0.072     -4.034      0.000      -0.430      -0.149\n",
       "PAY_6                      0.2279      0.032      7.188      0.000       0.166       0.290\n",
       "BILL_AMT3                  0.6680      0.183      3.660      0.000       0.310       1.026\n",
       "PAY_AMT1                  -1.2364      0.295     -4.195      0.000      -1.814      -0.659\n",
       "PAY_AMT2                  -2.2214      0.369     -6.027      0.000      -2.944      -1.499\n",
       "PAY_AMT4                  -0.8717      0.278     -3.138      0.002      -1.416      -0.327\n",
       "PAY_AMT5                  -0.7532      0.266     -2.827      0.005      -1.275      -0.231\n",
       "PAY_AMT6                  -0.8021      0.268     -2.990      0.003      -1.328      -0.276\n",
       "GRAD                       1.4314      0.179      7.995      0.000       1.081       1.782\n",
       "UNI                        1.4280      0.178      8.036      0.000       1.080       1.776\n",
       "HS                         1.3923      0.182      7.637      0.000       1.035       1.750\n",
       "MARRIED                    0.1903      0.042      4.524      0.000       0.108       0.273\n",
       "PAY_0_Revolving_Credit    -1.0207      0.093    -10.994      0.000      -1.203      -0.839\n",
       "PAY_2_No_Transactions     -1.7729      0.187     -9.475      0.000      -2.140      -1.406\n",
       "PAY_2_Pay_Duly            -1.4833      0.176     -8.409      0.000      -1.829      -1.138\n",
       "PAY_2_Revolving_Credit    -0.9115      0.186     -4.911      0.000      -1.275      -0.548\n",
       "PAY_3_Revolving_Credit    -0.2508      0.075     -3.350      0.001      -0.398      -0.104\n",
       "PAY_4_No_Transactions     -1.2810      0.180     -7.101      0.000      -1.635      -0.927\n",
       "PAY_4_Pay_Duly            -1.3305      0.164     -8.104      0.000      -1.652      -1.009\n",
       "PAY_4_Revolving_Credit    -1.0886      0.157     -6.918      0.000      -1.397      -0.780\n",
       "PAY_6_No_Transactions      0.2156      0.081      2.650      0.008       0.056       0.375\n",
       "==========================================================================================\n",
       "\"\"\""
      ]
     },
     "execution_count": 109,
     "metadata": {},
     "output_type": "execute_result"
    }
   ],
   "source": [
    "#remove the most insignificant attribute, and retrain\n",
    "train_log =  X_train.copy()\n",
    "glm = sm.Logit(y_train,train_log).fit()\n",
    "while max(glm.pvalues) > 0.01:\n",
    "    least =  glm.pvalues[glm.pvalues == max(glm.pvalues)].index[0]\n",
    "    train_log = train_log.drop(least,axis = 1)\n",
    "    glm = sm.Logit(y_train,train_log).fit()\n",
    "glm.summary()   "
   ]
  },
  {
   "cell_type": "code",
   "execution_count": 105,
   "metadata": {},
   "outputs": [
    {
     "name": "stdout",
     "output_type": "stream",
     "text": [
      "24 Columns left:\n",
      "Index(['LIMIT_BAL', 'PAY_0', 'PAY_2', 'PAY_4', 'PAY_6', 'BILL_AMT3',\n",
      "       'PAY_AMT1', 'PAY_AMT2', 'PAY_AMT4', 'PAY_AMT5', 'PAY_AMT6', 'GRAD',\n",
      "       'UNI', 'HS', 'MARRIED', 'PAY_0_Revolving_Credit',\n",
      "       'PAY_2_No_Transactions', 'PAY_2_Pay_Duly', 'PAY_2_Revolving_Credit',\n",
      "       'PAY_3_Revolving_Credit', 'PAY_4_No_Transactions', 'PAY_4_Pay_Duly',\n",
      "       'PAY_4_Revolving_Credit', 'PAY_6_No_Transactions'],\n",
      "      dtype='object')\n"
     ]
    }
   ],
   "source": [
    "count = len(glm.pvalues.index)\n",
    "print(str(count) + \" Columns left:\")\n",
    "print(glm.pvalues.index)"
   ]
  },
  {
   "cell_type": "code",
   "execution_count": 110,
   "metadata": {},
   "outputs": [
    {
     "name": "stdout",
     "output_type": "stream",
     "text": [
      "              precision    recall  f1-score   support\n",
      "\n",
      "           0       0.82      0.95      0.88      6659\n",
      "           1       0.68      0.34      0.46      2090\n",
      "\n",
      "    accuracy                           0.81      8749\n",
      "   macro avg       0.75      0.65      0.67      8749\n",
      "weighted avg       0.79      0.81      0.78      8749\n",
      "\n"
     ]
    }
   ],
   "source": [
    "print(classification_report(y_test,list(glm.predict(X_test[glm.pvalues.index])>0.5)))"
   ]
  },
  {
   "cell_type": "markdown",
   "metadata": {},
   "source": [
    "Since there is not much change to the model performance on both the train and test set when we reduce the features, we will use the reduced logistic regression model from this point onwards (Principle of Parsimony). \n",
    "\n",
    "We now Calculate the AUROC for the train set."
   ]
  },
  {
   "cell_type": "code",
   "execution_count": 108,
   "metadata": {},
   "outputs": [
    {
     "name": "stdout",
     "output_type": "stream",
     "text": [
      "Optimal Threshold: 0.21432968760597085\n"
     ]
    },
    {
     "data": {
      "image/png": "[encoded data removed]",
      "text/plain": [
       "<Figure size 432x288 with 1 Axes>"
      ]
     },
     "metadata": {
      "needs_background": "light"
     },
     "output_type": "display_data"
    },
    {
     "data": {
      "text/plain": [
       "0.7705999826781731"
      ]
     },
     "execution_count": 108,
     "metadata": {},
     "output_type": "execute_result"
    }
   ],
   "source": [
    "get_roc(glm, y_train, X_train[glm.pvalues.index], \"Logistic Regression\")"
   ]
  },
  {
   "cell_type": "markdown",
   "metadata": {},
   "source": [
    "Since the optimal cut off was found to be 0.21432968760597085 using the training data, we will use that as our cut off for our evaluation of the test set."
   ]
  },
  {
   "cell_type": "code",
   "execution_count": 112,
   "metadata": {
    "scrolled": true
   },
   "outputs": [
    {
     "name": "stdout",
     "output_type": "stream",
     "text": [
      "              precision    recall  f1-score   support\n",
      "\n",
      "           0       0.87      0.81      0.84      6659\n",
      "           1       0.50      0.61      0.55      2090\n",
      "\n",
      "    accuracy                           0.76      8749\n",
      "   macro avg       0.68      0.71      0.69      8749\n",
      "weighted avg       0.78      0.76      0.77      8749\n",
      "\n"
     ]
    }
   ],
   "source": [
    "print(classification_report(y_test,list(glm.predict(X_test[glm.pvalues.index])> 0.21432968760597085)))"
   ]
  },
  {
   "cell_type": "markdown",
   "metadata": {},
   "source": [
    "Unfortunately, the training accuracy has gone down when we used the optimal cutoff. However, accuracy may be misleading in a dataset like ours where most of the targets are non-defaults. \n",
    "\n",
    "The recall here is more important - detecting defaulters is more useful than detecting non-defaulters. With a higher recall, our model with lower cutoff is able to correctly catch more defaulters.\n",
    "\n",
    "\n",
    "Calculate the confusion matrices for both cut offs to better compare their performance."
   ]
  },
  {
   "cell_type": "code",
   "execution_count": 115,
   "metadata": {},
   "outputs": [
    {
     "name": "stdout",
     "output_type": "stream",
     "text": [
      "Of 2090 Defaulters, the Logistic Regression identified 1273\n"
     ]
    },
    {
     "data": {
      "text/html": [
       "<div>\n",
       "<style scoped>\n",
       "    .dataframe tbody tr th:only-of-type {\n",
       "        vertical-align: middle;\n",
       "    }\n",
       "\n",
       "    .dataframe tbody tr th {\n",
       "        vertical-align: top;\n",
       "    }\n",
       "\n",
       "    .dataframe thead th {\n",
       "        text-align: right;\n",
       "    }\n",
       "</style>\n",
       "<table border=\"1\" class=\"dataframe\">\n",
       "  <thead>\n",
       "    <tr style=\"text-align: right;\">\n",
       "      <th>Predicted</th>\n",
       "      <th>False</th>\n",
       "      <th>True</th>\n",
       "    </tr>\n",
       "    <tr>\n",
       "      <th>Actual</th>\n",
       "      <th></th>\n",
       "      <th></th>\n",
       "    </tr>\n",
       "  </thead>\n",
       "  <tbody>\n",
       "    <tr>\n",
       "      <td>0</td>\n",
       "      <td>5361</td>\n",
       "      <td>1298</td>\n",
       "    </tr>\n",
       "    <tr>\n",
       "      <td>1</td>\n",
       "      <td>817</td>\n",
       "      <td>1273</td>\n",
       "    </tr>\n",
       "  </tbody>\n",
       "</table>\n",
       "</div>"
      ],
      "text/plain": [
       "Predicted  False  True \n",
       "Actual                 \n",
       "0           5361   1298\n",
       "1            817   1273"
      ]
     },
     "execution_count": 115,
     "metadata": {},
     "output_type": "execute_result"
    }
   ],
   "source": [
    "confusion(y_test,glm.predict(X_test[glm.pvalues.index])>0.21432968760597085, \"Logistic Regression\")"
   ]
  },
  {
   "cell_type": "code",
   "execution_count": 116,
   "metadata": {},
   "outputs": [
    {
     "name": "stdout",
     "output_type": "stream",
     "text": [
      "Of 2090 Defaulters, the Logistic Regression identified 714\n"
     ]
    },
    {
     "data": {
      "text/html": [
       "<div>\n",
       "<style scoped>\n",
       "    .dataframe tbody tr th:only-of-type {\n",
       "        vertical-align: middle;\n",
       "    }\n",
       "\n",
       "    .dataframe tbody tr th {\n",
       "        vertical-align: top;\n",
       "    }\n",
       "\n",
       "    .dataframe thead th {\n",
       "        text-align: right;\n",
       "    }\n",
       "</style>\n",
       "<table border=\"1\" class=\"dataframe\">\n",
       "  <thead>\n",
       "    <tr style=\"text-align: right;\">\n",
       "      <th>Predicted</th>\n",
       "      <th>False</th>\n",
       "      <th>True</th>\n",
       "    </tr>\n",
       "    <tr>\n",
       "      <th>Actual</th>\n",
       "      <th></th>\n",
       "      <th></th>\n",
       "    </tr>\n",
       "  </thead>\n",
       "  <tbody>\n",
       "    <tr>\n",
       "      <td>0</td>\n",
       "      <td>6329</td>\n",
       "      <td>330</td>\n",
       "    </tr>\n",
       "    <tr>\n",
       "      <td>1</td>\n",
       "      <td>1376</td>\n",
       "      <td>714</td>\n",
       "    </tr>\n",
       "  </tbody>\n",
       "</table>\n",
       "</div>"
      ],
      "text/plain": [
       "Predicted  False  True \n",
       "Actual                 \n",
       "0           6329    330\n",
       "1           1376    714"
      ]
     },
     "execution_count": 116,
     "metadata": {},
     "output_type": "execute_result"
    }
   ],
   "source": [
    "confusion(y_test,glm.predict(X_test[glm.pvalues.index])>0.50, \"Logistic Regression\")"
   ]
  },
  {
   "cell_type": "markdown",
   "metadata": {},
   "source": [
    "It is evident that the lower cutoff is better able to detect defualts."
   ]
  },
  {
   "cell_type": "code",
   "execution_count": 117,
   "metadata": {},
   "outputs": [
    {
     "name": "stdout",
     "output_type": "stream",
     "text": [
      "Optimal Threshold: 0.2096696069036731\n"
     ]
    },
    {
     "data": {
      "image/png": "[encoded data removed]",
      "text/plain": [
       "<Figure size 432x288 with 1 Axes>"
      ]
     },
     "metadata": {
      "needs_background": "light"
     },
     "output_type": "display_data"
    }
   ],
   "source": [
    "auroc = get_roc(glm, y_test, X_test[glm.pvalues.index], \"Logistic Regression\")"
   ]
  },
  {
   "cell_type": "code",
   "execution_count": 119,
   "metadata": {},
   "outputs": [],
   "source": [
    "evaluation.loc[3] = [\"Logistic Regression\" , classification_report(y_test,list(glm.predict(X_test[glm.pvalues.index])> 0.21432968760597085)),auroc]"
   ]
  },
  {
   "cell_type": "markdown",
   "metadata": {
    "colab_type": "text",
    "id": "iCxBcin11EI8"
   },
   "source": [
    "### Support Vector Machine\n",
    "#### Theory\n",
    "Support vector machines attempt to find an optimal hyperplane that is able to separate the two classes in n-dimensional space. This is done by finding the hyperplane that maximises the distance between itself and support vectors (data points that lie closest to the decision boundary).\n",
    "\n",
    "<img src=\"https://upload.wikimedia.org/wikipedia/commons/thumb/7/72/SVM_margin.png/617px-SVM_margin.png\" width=\"340\" height=\"340\" align=\"center\"/> \n",
    "\n",
    "Given a training dataset of form (X,Y), where X is a vector of attributes of the sample, and where Y are either 1 or -1, each indicating the class to which the point X belongs. We want to find the \"maximum-margin hyperplane\" that divides the group of points X which Y = 1 from the group of points for which Y = -1, which is defined so that the distance between the hyperplane and the nearest point X from either group is maximized.\n",
    "\n",
    "Any hyperplane can be written as the set of points X satisfying\n",
    "\n",
    "<table><tr>\n",
    "<td>\n",
    "<img src=\"https://wikimedia.org/api/rest_v1/media/math/render/svg/90e0fa283c9e642c9c11b22da45efa30b06944a9\" width=\"140\" height=\"140\" align=\"left\"/> \n",
    "</td>\n",
    "</tr></table>\n",
    "\n",
    "where W is the (not necessarily normalized) normal vector to the hyperplane. This is much like Hesse normal form, except that W is not necessarily a unit vector. The parameter b/||W|| determines the offset of the hyperplane from the origin along the normal vector W.\n",
    "\n",
    "#### Margin\n",
    "A margin is a separation of line to the closest class points.\n",
    "Very importrant characteristic of SVM classifier. SVM to core tries to achieve a good margin.\n",
    "A good margin is one where this separation is larger for both the classes. Images below gives to visual example of good and bad margin. A good margin allows the points to be in their respective classes without crossing to other class.    \n",
    "\n",
    "<table><tr>\n",
    "<td> <img src=\"https://miro.medium.com/max/600/1*Ftns0ebfUHJDdpWt3Wvp-Q.png\" width=\"940\" height=\"940\" align=\"left\"//> </td>\n",
    "<td> <img src=\"https://miro.medium.com/max/600/1*NbGV1iEtNuklACNUv74w7A.png\" width=\"940\" height=\"940\" align=\"right\"/> </td>\n",
    "</tr></table>\n",
    "\n",
    "Our goal is to maximize the margin. Among all possible hyperplanes meeting the constraints,  we will choose the hyperplane with the smallest ‖w‖ because it is the one which will have the biggest margin.\n",
    "\n",
    "##### Hard Margin\n",
    "If the training data is linearly separable, we can select two parallel hyperplanes that separate the two classes of data, so that the distance between them is as large as possible. The region bounded by these two hyperplanes is called the \"margin\", and the maximum-margin hyperplane is the hyperplane that lies halfway between them. With a normalized or standardized dataset, these hyperplanes can be described by an equation and we can put this together to get the optimization problem:\n",
    "\n",
    " Minimize ||W|| subject to:\n",
    "<table><tr>   \n",
    "<td><img src=\"https://wikimedia.org/api/rest_v1/media/math/render/svg/94c99827acb10edd809df63bb86ca1366f01a8ac\" width=\"=240\" height=\"240\" align=\"right\"/>\n",
    "</td>\n",
    "</tr></table>\n",
    "\n",
    "##### Soft Margin\n",
    "Often, the data are not linearly separable. Thus, to extend SVM to cases in which the data are not linearly separable, we introduce the hinge loss function,\n",
    "<table><tr>   \n",
    "<td><img src=\"https://wikimedia.org/api/rest_v1/media/math/render/svg/f5f7d77f3d46cac51fbac58545aa1a1a183fdf7f\" width=\"=240\" height=\"240\" align=\"right\"/>\n",
    "</td>\n",
    "</tr></table>\n",
    "\n",
    "This function is zero if the constraint in (1) is satisfied, in other words, if Xlies on the correct side of the margin. For data on the wrong side of the margin, the function's value is proportional to the distance from the margin.\n",
    "\n",
    "We then wish to minimize\n",
    "<table><tr>   \n",
    "<td><img src=\"https://wikimedia.org/api/rest_v1/media/math/render/svg/579f80b069f186f5a0013b11f90f32833ff8c681\" width=\"=240\" height=\"240\" align=\"right\"/>\n",
    "</td>\n",
    "</tr></table>\n",
    "\n",
    "where the parameter lambda determines the trade-off between increasing the margin size and ensuring that the X lie on the correct side of the margin. Thus, for sufficiently small values of lambda , the second term in the loss function will become negligible, hence, it will behave similar to the hard-margin SVM, if the input data are linearly classifiable, but will still learn if a classification rule is viable or not.\n",
    "\n",
    "#### Computing SVM classifier\n",
    "We focus on the soft-margin classifier since, as noted above, choosing a sufficiently small value for lambda  yields the hard-margin classifier for linearly classifiable input data. The classical approach, which involves reducing (2) to a quadratic programming problem, is detailed below.\n",
    "\n",
    "##### Primal\n",
    "Minimizing (2) can be rewritten as a constrained optimization problem with a differentiable objective function in the following way.\n",
    "\n",
    "We can rewrite the optimization problem as follows\n",
    "<table><tr>   \n",
    "<td><img src=\"https://wikimedia.org/api/rest_v1/media/math/render/svg/71501a21527b0f375eb349fdaf95f33a78b1db6d\" width=\"=240\" height=\"240\" align=\"right\"/>\n",
    "</td>\n",
    "</tr></table>\n",
    "\n",
    "This is called the primal problem.\n",
    "\n",
    "##### Dual\n",
    "By solving for the Lagrangian dual of the above problem, one obtains the simplified problem\n",
    "<table><tr>   \n",
    "<td><img src=\"https://wikimedia.org/api/rest_v1/media/math/render/svg/9c89851fa2fcd9c920aa089a2a8d75784a84d623\" width=\"=240\" height=\"240\" align=\"center\"/>\n",
    "</td>\n",
    "</tr></table>\n",
    "<table><tr>   \n",
    "<td><img src=\"https://wikimedia.org/api/rest_v1/media/math/render/svg/2c83e8ce81ee25becb185682c98ed31c00c67995\" width=\"=240\" height=\"240\" align=\"center\"/>\n",
    "</td>\n",
    "</tr></table>\n",
    "This is called the dual problem. Since the dual maximization problem is a quadratic function of the C subject to linear constraints, it is efficiently solvable by quadratic programming algorithms.\n",
    "\n",
    "Here, the variables C are defined such that\n",
    "<table><tr>   \n",
    "<td><img src=\"https://wikimedia.org/api/rest_v1/media/math/render/svg/cf0866d87cbe878e13e6a06560af15b9a9cc6bb0\" width=\"=240\" height=\"240\" align=\"right\"/>\n",
    "</td>\n",
    "</tr></table>\n"
   ]
  },
  {
   "cell_type": "markdown",
   "metadata": {},
   "source": [
    "### Parameter Tuning\n"
   ]
  },
  {
   "cell_type": "markdown",
   "metadata": {},
   "source": [
    "#### Kernel\n",
    "For a dataset that is non-linearly separable, a way is to create nonlinear classifiers by applying the kernel trick to maximum-margin hyperplanes. The resulting algorithm is formally similar, except that every dot product is replaced by a nonlinear kernel function. This allows the algorithm to fit the maximum-margin hyperplane in a transformed feature space. The transformation may be nonlinear and the transformed space high-dimensional; although the classifier is a hyperplane in the transformed feature space, it may be nonlinear in the original input space.\n",
    "\n",
    "Generally, Linear Kernel is the best choice as SVM is already a linear model and has the lowest computational complexity. More often, if the dataset is not linearly separable, Radial Basis Function is the next most common kernel to be used."
   ]
  },
  {
   "cell_type": "markdown",
   "metadata": {},
   "source": [
    "#### Regularization (C value)\n",
    "The Regularization parameter (often termed as C parameter in python’s sklearn library) tells the SVM optimization how much you want to avoid misclassifying each training example.\n",
    "\n",
    "For large values of C, the optimization will choose a smaller-margin hyperplane if that hyperplane does a better job of getting all the training points classified correctly. Conversely, a very small value of C will cause the optimizer to look for a larger-margin separating hyperplane, even if that hyperplane misclassifies more points.             \n",
    "\n",
    "<table><tr>\n",
    "<td> <img src=\"https://miro.medium.com/max/600/1*1dwut8cWQ-39POHV48tv4w.png\" width=\"940\" height=\"940\" align=\"left\"//> </td>\n",
    "<td> <img src=\"https://miro.medium.com/max/600/1*gt_dkcA5p0ZTHjIpq1qnLQ.png\" width=\"940\" height=\"940\" align=\"right\"/> </td>\n",
    "</tr></table>\n",
    "<b>Left: low regularization value, right: high regularization value</b>\n",
    "\n",
    "\n",
    "The tradeoff is however, a larger value of C might result in overfitting of the model, which is undersirable as it does not generalise the model for other data sets. Consequently, a smaller value of C might result in too many misclassified data points, which means that the model is low in accuracy in the first place. Thus, choosing the right balance of the C value is important."
   ]
  },
  {
   "cell_type": "markdown",
   "metadata": {},
   "source": [
    "#### Gamma\n",
    "The gamma parameter defines how far the influence of a single training example reaches, with low values meaning ‘far’ and high values meaning ‘close’. In other words, with low gamma, points far away from plausible separation line are considered in the calculation for the separation line. Where as high gamma means the points close to plausible line are considered in the calculation.          \n",
    "\n",
    "<table><tr>\n",
    "<td> <img src=\"https://miro.medium.com/max/600/1*dGDQxV8j83VB90skHsXktw.png\" width=\"940\" height=\"940\" align=\"left\"//> </td>\n",
    "<td> <img src=\"https://miro.medium.com/max/600/1*ClmsnU_yb1YtIwAAr7krmg.png\" width=\"940\" height=\"940\" align=\"right\"/> </td>\n",
    "</tr></table>\n",
    "\n",
    "Similarly to regularization, there is a tradeoff between high and low values of Gamma. Higher values of Gamma may result in too strict rules and thus the model cannot find a linearly separable line. Whereas lower values of Gamma may result in including too much noise into the model by including further away points, which reduces the model accuracy. Thus, finding the right balance of Gamma is also important."
   ]
  },
  {
   "cell_type": "markdown",
   "metadata": {},
   "source": [
    "SVM is computationally expensive for a dataset with a lot of features. Therefore, it is neccessary at this stage to do some data reduction."
   ]
  },
  {
   "cell_type": "markdown",
   "metadata": {},
   "source": [
    "#### PCA\n",
    "We would like to reduce the dimensionality of our dataset before training an SVM on it. This can be done through Principle Component Analysis (PCA). The idea would be to reduce the number of features without loss of information."
   ]
  },
  {
   "cell_type": "markdown",
   "metadata": {},
   "source": [
    "#### 2 Component PCA\n",
    "First, we will visualize the information retained after performing a 2 component pca."
   ]
  },
  {
   "cell_type": "code",
   "execution_count": 69,
   "metadata": {},
   "outputs": [],
   "source": [
    "#perform pca\n",
    "from sklearn.decomposition import PCA\n",
    "pca = PCA(n_components=2)\n",
    "principalComponents =  pca.fit_transform(X_train)\n",
    "principalDf = pd.DataFrame(data = principalComponents\n",
    "             , columns = ['principal component 1', 'principal component 2'])"
   ]
  },
  {
   "cell_type": "code",
   "execution_count": 70,
   "metadata": {},
   "outputs": [
    {
     "name": "stdout",
     "output_type": "stream",
     "text": [
      "Explained variation per principal component: [0.295060096  0.1735291836]\n"
     ]
    }
   ],
   "source": [
    "#amount of information each principal component holds after projecting the data to a lower dimensional subspace.\n",
    "print('Explained variation per principal component: {}'.format(pca.explained_variance_ratio_))"
   ]
  },
  {
   "cell_type": "markdown",
   "metadata": {},
   "source": [
    "This shows that the information of principal component 1 retained is 28.4% and principal component 2 retained is 17.8%, both of which is quite low"
   ]
  },
  {
   "cell_type": "code",
   "execution_count": 71,
   "metadata": {},
   "outputs": [
    {
     "data": {
      "image/png": "[encoded data removed]",
      "text/plain": [
       "<Figure size 576x576 with 1 Axes>"
      ]
     },
     "metadata": {
      "needs_background": "light"
     },
     "output_type": "display_data"
    }
   ],
   "source": [
    "#visualizing pca\n",
    "pca_visualize_df = pd.concat([principalDf, y_train], axis = 1)\n",
    "fig = plt.figure(figsize = (8,8))\n",
    "ax = fig.add_subplot(1,1,1) \n",
    "ax.set_xlabel('Principal Component 1', fontsize = 15)\n",
    "ax.set_ylabel('Principal Component 2', fontsize = 15)\n",
    "ax.set_title('2 component PCA', fontsize = 20)\n",
    "targets = [1,0]\n",
    "colors = ['r', 'g']\n",
    "for target, color in zip(targets,colors):\n",
    "    indicesToKeep = pca_visualize_df['Y'] == target\n",
    "    ax.scatter(pca_visualize_df.loc[indicesToKeep, 'principal component 1']\n",
    "               , pca_visualize_df.loc[indicesToKeep, 'principal component 2']\n",
    "               , c = color\n",
    "               , s = 50)\n",
    "ax.legend(targets)\n",
    "ax.grid()"
   ]
  },
  {
   "cell_type": "markdown",
   "metadata": {},
   "source": [
    "As we can see, there is no clear linear separation for the target attributes for 2 pca components, justifying the above percentages. Nonetherless, we will continue to use PCA by finding the  optimmum number of PC components which retains 90% of information"
   ]
  },
  {
   "cell_type": "markdown",
   "metadata": {},
   "source": [
    "### Perform PCA to retain 90% of information\n",
    "perform PCA to reduce components so we can run SVM model"
   ]
  },
  {
   "cell_type": "code",
   "execution_count": 72,
   "metadata": {},
   "outputs": [],
   "source": [
    "#setting pca threshold to 90%\n",
    "pca = PCA(0.9)"
   ]
  },
  {
   "cell_type": "code",
   "execution_count": 73,
   "metadata": {},
   "outputs": [
    {
     "data": {
      "text/plain": [
       "PCA(copy=True, iterated_power='auto', n_components=0.9, random_state=None,\n",
       "    svd_solver='auto', tol=0.0, whiten=False)"
      ]
     },
     "execution_count": 73,
     "metadata": {},
     "output_type": "execute_result"
    }
   ],
   "source": [
    "pca.fit(X_train)"
   ]
  },
  {
   "cell_type": "code",
   "execution_count": 74,
   "metadata": {},
   "outputs": [
    {
     "name": "stdout",
     "output_type": "stream",
     "text": [
      "No. of components before pca: 44\n",
      "No. of components after pca: 13\n"
     ]
    }
   ],
   "source": [
    "#get number of components after pca\n",
    "print('No. of components before pca: {}'.format(len(X_train.columns)))\n",
    "print('No. of components after pca: {}'.format(pca.n_components_))"
   ]
  },
  {
   "cell_type": "markdown",
   "metadata": {},
   "source": [
    "As we can see, the number of components is reduced from 26 components to 13 components"
   ]
  },
  {
   "cell_type": "code",
   "execution_count": 75,
   "metadata": {},
   "outputs": [],
   "source": [
    "#perform pca on training and test attributes\n",
    "X_train_pca = pca.transform(X_train)\n",
    "X_test_pca = pca.transform(X_test)"
   ]
  },
  {
   "cell_type": "markdown",
   "metadata": {},
   "source": [
    "### Apply SVM model\n",
    "Next, we will used the reduced attributes train set to train our SVM model"
   ]
  },
  {
   "cell_type": "markdown",
   "metadata": {},
   "source": [
    "First, we train our SVM model without parameter tuning\n",
    "nor pca reduction"
   ]
  },
  {
   "cell_type": "code",
   "execution_count": 76,
   "metadata": {},
   "outputs": [
    {
     "data": {
      "text/plain": [
       "SVC(C=1.0, cache_size=200, class_weight=None, coef0=0.0,\n",
       "    decision_function_shape='ovr', degree=3, gamma='scale', kernel='rbf',\n",
       "    max_iter=-1, probability=True, random_state=None, shrinking=True, tol=0.001,\n",
       "    verbose=False)"
      ]
     },
     "execution_count": 76,
     "metadata": {},
     "output_type": "execute_result"
    }
   ],
   "source": [
    "from sklearn import svm\n",
    "#train svm model without standardization and no parameter tuning\n",
    "clf_original = svm.SVC(kernel = 'rbf', probability = True, gamma = 'scale')\n",
    "clf_original.fit(X_train, y_train)"
   ]
  },
  {
   "cell_type": "code",
   "execution_count": 77,
   "metadata": {},
   "outputs": [
    {
     "name": "stdout",
     "output_type": "stream",
     "text": [
      "Optimal Threshold: 0.15585444961401423\n"
     ]
    },
    {
     "data": {
      "image/png": "[encoded data removed]",
      "text/plain": [
       "<Figure size 432x288 with 1 Axes>"
      ]
     },
     "metadata": {
      "needs_background": "light"
     },
     "output_type": "display_data"
    },
    {
     "data": {
      "text/plain": [
       "0.7192717558206292"
      ]
     },
     "execution_count": 77,
     "metadata": {},
     "output_type": "execute_result"
    }
   ],
   "source": [
    "#plot roc for svm\n",
    "get_roc(clf_original, y_test, X_test, \"SVM original data RBF kernel\")"
   ]
  },
  {
   "cell_type": "code",
   "execution_count": 78,
   "metadata": {},
   "outputs": [
    {
     "name": "stdout",
     "output_type": "stream",
     "text": [
      "Of 2090 Defaulters, the SVM original data RBF kernel identified 749\n"
     ]
    },
    {
     "data": {
      "text/html": [
       "<div>\n",
       "<style scoped>\n",
       "    .dataframe tbody tr th:only-of-type {\n",
       "        vertical-align: middle;\n",
       "    }\n",
       "\n",
       "    .dataframe tbody tr th {\n",
       "        vertical-align: top;\n",
       "    }\n",
       "\n",
       "    .dataframe thead th {\n",
       "        text-align: right;\n",
       "    }\n",
       "</style>\n",
       "<table border=\"1\" class=\"dataframe\">\n",
       "  <thead>\n",
       "    <tr style=\"text-align: right;\">\n",
       "      <th>Predicted</th>\n",
       "      <th>0</th>\n",
       "      <th>1</th>\n",
       "    </tr>\n",
       "    <tr>\n",
       "      <th>Actual</th>\n",
       "      <th></th>\n",
       "      <th></th>\n",
       "    </tr>\n",
       "  </thead>\n",
       "  <tbody>\n",
       "    <tr>\n",
       "      <td>0</td>\n",
       "      <td>6304</td>\n",
       "      <td>355</td>\n",
       "    </tr>\n",
       "    <tr>\n",
       "      <td>1</td>\n",
       "      <td>1341</td>\n",
       "      <td>749</td>\n",
       "    </tr>\n",
       "  </tbody>\n",
       "</table>\n",
       "</div>"
      ],
      "text/plain": [
       "Predicted     0    1\n",
       "Actual              \n",
       "0          6304  355\n",
       "1          1341  749"
      ]
     },
     "execution_count": 78,
     "metadata": {},
     "output_type": "execute_result"
    }
   ],
   "source": [
    "#confusion matrix\n",
    "confusion(y_test,clf_original.predict(X_test), \"SVM original data RBF kernel\")"
   ]
  },
  {
   "cell_type": "code",
   "execution_count": 79,
   "metadata": {},
   "outputs": [
    {
     "name": "stdout",
     "output_type": "stream",
     "text": [
      "              precision    recall  f1-score   support\n",
      "\n",
      "           0       0.82      0.95      0.88      6659\n",
      "           1       0.68      0.36      0.47      2090\n",
      "\n",
      "    accuracy                           0.81      8749\n",
      "   macro avg       0.75      0.65      0.68      8749\n",
      "weighted avg       0.79      0.81      0.78      8749\n",
      "\n"
     ]
    }
   ],
   "source": [
    "print(classification_report(y_test, clf_original.predict(X_test)))"
   ]
  },
  {
   "cell_type": "markdown",
   "metadata": {},
   "source": [
    "Evidently, SVM model fit with no tuning or feature reduction with RBF kernal shows low performance. Now, we will fit SVM model with reduced standardized features and access accuracy"
   ]
  },
  {
   "cell_type": "markdown",
   "metadata": {},
   "source": [
    "note that the default values of gamma = 1/13 and c= 1"
   ]
  },
  {
   "cell_type": "code",
   "execution_count": 80,
   "metadata": {},
   "outputs": [
    {
     "ename": "KeyboardInterrupt",
     "evalue": "",
     "output_type": "error",
     "traceback": [
      "\u001b[1;31m---------------------------------------------------------------------------\u001b[0m",
      "\u001b[1;31mKeyboardInterrupt\u001b[0m                         Traceback (most recent call last)",
      "\u001b[1;32m<ipython-input-80-109cb92b88ad>\u001b[0m in \u001b[0;36m<module>\u001b[1;34m\u001b[0m\n\u001b[0;32m      1\u001b[0m \u001b[1;31m#train svm model with feature reduction and no parameter tuning\u001b[0m\u001b[1;33m\u001b[0m\u001b[1;33m\u001b[0m\u001b[1;33m\u001b[0m\u001b[0m\n\u001b[0;32m      2\u001b[0m \u001b[0mclf_reduced\u001b[0m \u001b[1;33m=\u001b[0m \u001b[0msvm\u001b[0m\u001b[1;33m.\u001b[0m\u001b[0mSVC\u001b[0m\u001b[1;33m(\u001b[0m\u001b[0mkernel\u001b[0m \u001b[1;33m=\u001b[0m \u001b[1;34m'rbf'\u001b[0m\u001b[1;33m,\u001b[0m \u001b[0mprobability\u001b[0m \u001b[1;33m=\u001b[0m \u001b[1;32mTrue\u001b[0m\u001b[1;33m,\u001b[0m \u001b[0mgamma\u001b[0m \u001b[1;33m=\u001b[0m \u001b[1;36m1\u001b[0m\u001b[1;33m/\u001b[0m\u001b[1;36m13\u001b[0m\u001b[1;33m,\u001b[0m \u001b[0mC\u001b[0m \u001b[1;33m=\u001b[0m \u001b[1;36m1\u001b[0m\u001b[1;33m)\u001b[0m\u001b[1;33m\u001b[0m\u001b[1;33m\u001b[0m\u001b[0m\n\u001b[1;32m----> 3\u001b[1;33m \u001b[0mclf_reduced\u001b[0m\u001b[1;33m.\u001b[0m\u001b[0mfit\u001b[0m\u001b[1;33m(\u001b[0m\u001b[0mX_train_pca\u001b[0m\u001b[1;33m,\u001b[0m \u001b[0my_train\u001b[0m\u001b[1;33m)\u001b[0m\u001b[1;33m\u001b[0m\u001b[1;33m\u001b[0m\u001b[0m\n\u001b[0m",
      "\u001b[1;32m~\\Anaconda3\\lib\\site-packages\\sklearn\\svm\\base.py\u001b[0m in \u001b[0;36mfit\u001b[1;34m(self, X, y, sample_weight)\u001b[0m\n\u001b[0;32m    207\u001b[0m \u001b[1;33m\u001b[0m\u001b[0m\n\u001b[0;32m    208\u001b[0m         \u001b[0mseed\u001b[0m \u001b[1;33m=\u001b[0m \u001b[0mrnd\u001b[0m\u001b[1;33m.\u001b[0m\u001b[0mrandint\u001b[0m\u001b[1;33m(\u001b[0m\u001b[0mnp\u001b[0m\u001b[1;33m.\u001b[0m\u001b[0miinfo\u001b[0m\u001b[1;33m(\u001b[0m\u001b[1;34m'i'\u001b[0m\u001b[1;33m)\u001b[0m\u001b[1;33m.\u001b[0m\u001b[0mmax\u001b[0m\u001b[1;33m)\u001b[0m\u001b[1;33m\u001b[0m\u001b[1;33m\u001b[0m\u001b[0m\n\u001b[1;32m--> 209\u001b[1;33m         \u001b[0mfit\u001b[0m\u001b[1;33m(\u001b[0m\u001b[0mX\u001b[0m\u001b[1;33m,\u001b[0m \u001b[0my\u001b[0m\u001b[1;33m,\u001b[0m \u001b[0msample_weight\u001b[0m\u001b[1;33m,\u001b[0m \u001b[0msolver_type\u001b[0m\u001b[1;33m,\u001b[0m \u001b[0mkernel\u001b[0m\u001b[1;33m,\u001b[0m \u001b[0mrandom_seed\u001b[0m\u001b[1;33m=\u001b[0m\u001b[0mseed\u001b[0m\u001b[1;33m)\u001b[0m\u001b[1;33m\u001b[0m\u001b[1;33m\u001b[0m\u001b[0m\n\u001b[0m\u001b[0;32m    210\u001b[0m         \u001b[1;31m# see comment on the other call to np.iinfo in this file\u001b[0m\u001b[1;33m\u001b[0m\u001b[1;33m\u001b[0m\u001b[1;33m\u001b[0m\u001b[0m\n\u001b[0;32m    211\u001b[0m \u001b[1;33m\u001b[0m\u001b[0m\n",
      "\u001b[1;32m~\\Anaconda3\\lib\\site-packages\\sklearn\\svm\\base.py\u001b[0m in \u001b[0;36m_dense_fit\u001b[1;34m(self, X, y, sample_weight, solver_type, kernel, random_seed)\u001b[0m\n\u001b[0;32m    266\u001b[0m                 \u001b[0mcache_size\u001b[0m\u001b[1;33m=\u001b[0m\u001b[0mself\u001b[0m\u001b[1;33m.\u001b[0m\u001b[0mcache_size\u001b[0m\u001b[1;33m,\u001b[0m \u001b[0mcoef0\u001b[0m\u001b[1;33m=\u001b[0m\u001b[0mself\u001b[0m\u001b[1;33m.\u001b[0m\u001b[0mcoef0\u001b[0m\u001b[1;33m,\u001b[0m\u001b[1;33m\u001b[0m\u001b[1;33m\u001b[0m\u001b[0m\n\u001b[0;32m    267\u001b[0m                 \u001b[0mgamma\u001b[0m\u001b[1;33m=\u001b[0m\u001b[0mself\u001b[0m\u001b[1;33m.\u001b[0m\u001b[0m_gamma\u001b[0m\u001b[1;33m,\u001b[0m \u001b[0mepsilon\u001b[0m\u001b[1;33m=\u001b[0m\u001b[0mself\u001b[0m\u001b[1;33m.\u001b[0m\u001b[0mepsilon\u001b[0m\u001b[1;33m,\u001b[0m\u001b[1;33m\u001b[0m\u001b[1;33m\u001b[0m\u001b[0m\n\u001b[1;32m--> 268\u001b[1;33m                 max_iter=self.max_iter, random_seed=random_seed)\n\u001b[0m\u001b[0;32m    269\u001b[0m \u001b[1;33m\u001b[0m\u001b[0m\n\u001b[0;32m    270\u001b[0m         \u001b[0mself\u001b[0m\u001b[1;33m.\u001b[0m\u001b[0m_warn_from_fit_status\u001b[0m\u001b[1;33m(\u001b[0m\u001b[1;33m)\u001b[0m\u001b[1;33m\u001b[0m\u001b[1;33m\u001b[0m\u001b[0m\n",
      "\u001b[1;31mKeyboardInterrupt\u001b[0m: "
     ]
    }
   ],
   "source": [
    "#train svm model with feature reduction and no parameter tuning\n",
    "clf_reduced = svm.SVC(kernel = 'rbf', probability = True, gamma = 1/13, C = 1)\n",
    "clf_reduced.fit(X_train_pca, y_train)"
   ]
  },
  {
   "cell_type": "code",
   "execution_count": null,
   "metadata": {},
   "outputs": [],
   "source": [
    "#plot roc for svm\n",
    "get_roc(clf_reduced, y_test, X_test_pca, \n",
    "        \"SVM reduced features no tuning RBF kernal\")"
   ]
  },
  {
   "cell_type": "code",
   "execution_count": null,
   "metadata": {},
   "outputs": [],
   "source": [
    "#confusion matrix\n",
    "confusion(y_test,clf_reduced.predict(X_test_pca), \"SVM reduced features no tuning RBF kernal\")"
   ]
  },
  {
   "cell_type": "code",
   "execution_count": null,
   "metadata": {},
   "outputs": [],
   "source": [
    "print(classification_report(y_test, clf_reduced.predict(X_test_pca)))"
   ]
  },
  {
   "cell_type": "markdown",
   "metadata": {},
   "source": [
    "As you can see, by reducing features through pca, Although the AUROC did not change much (0.001 increase), the number of correctly idendtified defaulters increased from 297 to 307, suggesting a better recall."
   ]
  },
  {
   "cell_type": "markdown",
   "metadata": {},
   "source": [
    "We will now try to find best parameters for SVM model"
   ]
  },
  {
   "cell_type": "code",
   "execution_count": null,
   "metadata": {},
   "outputs": [],
   "source": [
    "from sklearn.model_selection import GridSearchCV\n",
    "def svc_param_selection(X, y, nfolds):\n",
    "    Cs = [0.001, 0.01, 0.1, 1,10]\n",
    "    gammas = [0.001, 0.01, 0.1, 10]\n",
    "    param_grid = {'C': Cs, 'gamma' : gammas}\n",
    "    grid_search = GridSearchCV(svm.SVC(kernel='linear'), param_grid, cv=nfolds)\n",
    "    grid_search.fit(X, y)\n",
    "    grid_search.best_params_\n",
    "    return grid_search.best_params_\n",
    "svc_param_selection(X_train_pca, y_train,5)\n"
   ]
  },
  {
   "cell_type": "markdown",
   "metadata": {},
   "source": [
    "With 2 folds, it can be found that C = 10, and gamma = 0.01 will have the best svm model with RBF kernel"
   ]
  },
  {
   "cell_type": "code",
   "execution_count": null,
   "metadata": {},
   "outputs": [],
   "source": [
    "#train svm model with feature reduction and cost = 10, gamma = 0.01\n",
    "clf_reduced_tuned = svm.SVC(kernel = 'linear', probability = True, )\n",
    "clf_reduced_tuned.fit(X_train_pca, y_train)"
   ]
  },
  {
   "cell_type": "code",
   "execution_count": null,
   "metadata": {},
   "outputs": [],
   "source": [
    "auroc = get_roc(clf_reduced_tuned, y_test, X_test_pca, \n",
    "        \"SVM reduced features and tuning RBF kernel\")"
   ]
  },
  {
   "cell_type": "code",
   "execution_count": null,
   "metadata": {},
   "outputs": [],
   "source": [
    "#confusion matrix\n",
    "confusion(y_test,clf_reduced_tuned.predict(X_test_pca), \"SVM reduced features and tuning RBF kernal\")"
   ]
  },
  {
   "cell_type": "code",
   "execution_count": null,
   "metadata": {},
   "outputs": [],
   "source": [
    "print(classification_report(y_test, clf_reduced_tuned.predict(X_test_pca)))"
   ]
  },
  {
   "cell_type": "markdown",
   "metadata": {},
   "source": [
    "From this, we can conclude that fitting SVM model with PCA-reduced features but no parameter tuning is most accurate based on Recall value"
   ]
  },
  {
   "cell_type": "markdown",
   "metadata": {},
   "source": [
    "Thus, fitting an SVM with PCA-reduced features with default gamma = 1/13 and C = 1 with kernal = 'rbf' is the best model. However, this is only for rbf kernel."
   ]
  },
  {
   "cell_type": "code",
   "execution_count": null,
   "metadata": {},
   "outputs": [],
   "source": [
    "evaluation.loc[4] = ([\"SVM\" , \n",
    "                      classification_report(y_test, clf_reduced_tuned.predict(X_test), output_dict = True)[\"1\"][\"recall\"],\n",
    "                      auroc])"
   ]
  },
  {
   "cell_type": "markdown",
   "metadata": {},
   "source": [
    "### Neural Networks\n",
    "We will now use the train and test sets as defined above and attempt to implement a neural network model on the data\n",
    "\n",
    "#### Theory\n",
    "A neural network is comprised of many layers of perceptrons that take in a vector as input and outputs a value. The outputs from one layer of perceptrons are passed into the next layer of perceptrons as input, until we reach the output layer. Each perceptron combines its input via an activation function. \n",
    "\n",
    ".\n",
    "\n",
    "\n",
    "![image.png](https://www.researchgate.net/profile/Leslaw_Plonka/publication/260080460/figure/fig1/AS:340931325775876@1458295770470/A-simple-neural-network-diagram.png)\n",
    "\n",
    "\n",
    "The network is at first randomly initialised with random weights on all its layers. Training samples are then passed into the network and predictions are made. The training error (difference between the actual value and the predicted value) is used to recalibrate the neural network by changing the weights. The change in weights is found via gradient descent, and  then backpropogated through the neural network to update all layers.\n",
    "\n",
    "\n",
    "This process is repeated iteratively until the model converges (i.e. it cannot be improved further).\n",
    "\n",
    "#### Training\n",
    "Here we create an instance of our model, with 5 layers of 26 neurons each, identical to that of our training data. "
   ]
  },
  {
   "cell_type": "code",
   "execution_count": null,
   "metadata": {},
   "outputs": [],
   "source": [
    "from sklearn.neural_network import MLPClassifier"
   ]
  },
  {
   "cell_type": "code",
   "execution_count": null,
   "metadata": {
    "scrolled": true
   },
   "outputs": [],
   "source": [
    "mlp = MLPClassifier(hidden_layer_sizes=(26,26,26,26,26), activation = \"logistic\")"
   ]
  },
  {
   "cell_type": "code",
   "execution_count": null,
   "metadata": {},
   "outputs": [],
   "source": [
    "mlp.fit(X_train,y_train)"
   ]
  },
  {
   "cell_type": "code",
   "execution_count": null,
   "metadata": {},
   "outputs": [],
   "source": [
    "predictions = mlp.predict(X_test)"
   ]
  },
  {
   "cell_type": "code",
   "execution_count": null,
   "metadata": {},
   "outputs": [],
   "source": [
    "confusion(y_test,predictions,\"Neural Network (5x26)\")"
   ]
  },
  {
   "cell_type": "code",
   "execution_count": null,
   "metadata": {},
   "outputs": [],
   "source": [
    "auroc = get_roc(mlp, y_test, X_test, \"Neural Network (5x26)\")"
   ]
  },
  {
   "cell_type": "code",
   "execution_count": null,
   "metadata": {},
   "outputs": [],
   "source": [
    "print(classification_report(y_test,predictions))"
   ]
  },
  {
   "cell_type": "code",
   "execution_count": null,
   "metadata": {},
   "outputs": [],
   "source": [
    "evaluation.loc[5] = ([\"Neural Network\" , \n",
    "                      classification_report(y_test, mlp.predict(X_test), output_dict = True)[\"1\"][\"recall\"],\n",
    "                      auroc])\n",
    "\n",
    "evaluation"
   ]
  },
  {
   "cell_type": "markdown",
   "metadata": {},
   "source": [
    "### Deep Learning\n",
    "\n",
    "#### Theory\n",
    "\n"
   ]
  },
  {
   "cell_type": "code",
   "execution_count": null,
   "metadata": {},
   "outputs": [],
   "source": [
    "from numpy import loadtxt\n",
    "from keras.models import Sequential\n",
    "from keras.layers import Dense\n",
    "\n",
    "# define the keras model\n",
    "model = Sequential()\n",
    "model.add(Dense(12, input_dim=26, activation='relu'))\n",
    "model.add(Dense(8, activation='relu'))\n",
    "model.add(Dense(1, activation='sigmoid'))\n",
    "# compile the keras model\n",
    "model.compile(loss='binary_crossentropy', optimizer='adam', metrics=['accuracy'])\n",
    "# fit the keras model on the dataset\n",
    "model.fit(X_train, y_train, epochs=10, batch_size=10)\n"
   ]
  },
  {
   "cell_type": "code",
   "execution_count": null,
   "metadata": {},
   "outputs": [],
   "source": [
    "# evaluate the keras model\n",
    "#recall, accuracy = model.evaluate(df1, target)\n",
    "#print('Accuracy: %.2f' % (accuracy*100))\n",
    "#print('Recall: %.2f' % (recall*100))\n",
    "\n",
    "predictions = list(model.predict(X_test).ravel() > 0.5)\n",
    "print(classification_report(y_test,predictions))"
   ]
  }
 ],
 "metadata": {
  "colab": {
   "collapsed_sections": [],
   "name": "BT2101 disrudy ",
   "provenance": []
  },
  "kernelspec": {
   "display_name": "Python 3",
   "language": "python",
   "name": "python3"
  },
  "language_info": {
   "codemirror_mode": {
    "name": "ipython",
    "version": 3
   },
   "file_extension": ".py",
   "mimetype": "text/x-python",
   "name": "python",
   "nbconvert_exporter": "python",
   "pygments_lexer": "ipython3",
   "version": "3.7.3"
  }
 },
 "nbformat": 4,
 "nbformat_minor": 1
}
